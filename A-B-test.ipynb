{
 "cells": [
  {
   "cell_type": "markdown",
   "id": "dd4bb4d1",
   "metadata": {},
   "source": [
    "<div class=\"alert alert-info\">\n",
    "    <font size=\"5\"><b>A/B-тестирование</b></font>"
   ]
  },
  {
   "cell_type": "markdown",
   "id": "f40594d1",
   "metadata": {},
   "source": [
    "# Table of contents\n",
    "1. [Часть 1. Вводная информация и декомпозиция](#intro)\n",
    "\n",
    "2. [Часть 2. Проверка и подготовка данных](#paragraph1)\n",
    "3. [Часть 3. Анализ данных](#paragraph2)\n",
    "5. [Часть 4. Гипотезы](#paragraph3)\n",
    "5. [Часть 5. Выводы](#paragraph5)"
   ]
  },
  {
   "cell_type": "markdown",
   "id": "425446d0",
   "metadata": {},
   "source": [
    "## **Вводная информация**<a id=\"intro\"></a>\n"
   ]
  },
  {
   "cell_type": "markdown",
   "id": "9d398ed3",
   "metadata": {},
   "source": [
    "### Постановка задачи\n",
    "\n",
    "Задача — провести оценку результатов A/B-теста.\n",
    "\n",
    "- Оценить корректность проведения теста\n",
    "- Проанализировать результаты теста\n",
    "\n",
    "### Техническое задание\n",
    "\n",
    "- Название теста: `recommender_system_test`;\n",
    "- группы: А — контрольная, B — новая платёжная воронка;\n",
    "- дата запуска: 2020-12-07;\n",
    "- дата остановки набора новых пользователей: 2020-12-21;\n",
    "- дата остановки: 2021-01-04;\n",
    "- аудитория: 15% новых пользователей из региона EU;\n",
    "- назначение теста: тестирование изменений, связанных с внедрением улучшенной рекомендательной системы;\n",
    "- ожидаемое количество участников теста: 6000.\n",
    "- ожидаемый эффект: за 14 дней с момента регистрации пользователи покажут улучшение каждой метрики не менее, чем на 10%:\n",
    "    - конверсии в просмотр карточек товаров — событие `product_page`,\n",
    "    - просмотры корзины — `product_cart`,\n",
    "    - покупки — `purchase`."
   ]
  },
  {
   "cell_type": "markdown",
   "id": "9a6c8a76",
   "metadata": {},
   "source": [
    "### Описание данных\n",
    "\n",
    "`ab_project_marketing_events.csv` — календарь маркетинговых событий на 2020 год.\n",
    "\n",
    "Структура файла:\n",
    "\n",
    "- `name` — название маркетингового события;\n",
    "- `regions` — регионы, в которых будет проводиться рекламная кампания;\n",
    "- `start_dt` — дата начала кампании;\n",
    "- `finish_dt` — дата завершения кампании.\n",
    "\n",
    "`final_ab_new_users.csv` — пользователи, зарегистрировавшиеся с 7 по 21 декабря 2020 года.\n",
    "\n",
    "Структура файла:\n",
    "\n",
    "- `user_id` — идентификатор пользователя;\n",
    "- `first_date` — дата регистрации;\n",
    "- `region` — регион пользователя;\n",
    "- `device` — устройство, с которого происходила регистрация.\n",
    "\n",
    "`final_ab_events.csv` — действия новых пользователей в период с 7 декабря 2020 по 4 января 2021 года.\n",
    "\n",
    "Структура файла:\n",
    "\n",
    "- `user_id` — идентификатор пользователя;\n",
    "- `event_dt` — дата и время покупки;\n",
    "- `event_name` — тип события;\n",
    "- `details` — дополнительные данные о событии. Например, для покупок, `purchase,` в этом поле хранится стоимость покупки в долларах.\n",
    "\n",
    "`final_ab_participants.csv` — таблица участников тестов.\n",
    "\n",
    "Структура файла:\n",
    "\n",
    "- `user_id` — идентификатор пользователя;\n",
    "- `ab_test` — название теста;\n",
    "- `group` — группа пользователя."
   ]
  },
  {
   "cell_type": "markdown",
   "id": "5c023bb3",
   "metadata": {},
   "source": [
    "## **Проверка и подготовка данных**\n",
    "<a class=\"anchor\" id=\"paragraph1\"></a>"
   ]
  },
  {
   "cell_type": "markdown",
   "id": "eac2ace8",
   "metadata": {},
   "source": [
    "### Загрузка библиотек и датасетов"
   ]
  },
  {
   "cell_type": "code",
   "execution_count": 109,
   "id": "f3f8d179",
   "metadata": {},
   "outputs": [],
   "source": [
    "import pandas as pd\n",
    "import plotly.express as px\n",
    "import plotly.graph_objects as go\n",
    "import numpy as np\n",
    "import plotly.figure_factory as ff\n",
    "import seaborn as sns\n",
    "import matplotlib.pyplot as plt\n",
    "from plotly.subplots import make_subplots\n",
    "import datetime as dt\n",
    "from datetime import datetime, timedelta\n",
    "from scipy import stats as st\n",
    "import math as mth"
   ]
  },
  {
   "cell_type": "code",
   "execution_count": 110,
   "id": "2b8df210",
   "metadata": {},
   "outputs": [],
   "source": [
    "events = pd.read_csv('C:/Users/C/project/FINAL_AB/final_ab_events.csv')\n",
    "marketing = pd.read_csv('C:/Users/C/project/FINAL_AB/ab_project_marketing_events.csv')\n",
    "new_users = pd.read_csv('C:/Users/C/project/FINAL_AB/final_ab_new_users.csv')\n",
    "participants = pd.read_csv('C:/Users/C/project/FINAL_AB/final_ab_participants.csv')    "
   ]
  },
  {
   "cell_type": "markdown",
   "id": "ebb464ab",
   "metadata": {},
   "source": [
    "### Проверка данных"
   ]
  },
  {
   "cell_type": "code",
   "execution_count": 111,
   "id": "7b0d3844",
   "metadata": {},
   "outputs": [
    {
     "data": {
      "text/html": [
       "<div>\n",
       "<style scoped>\n",
       "    .dataframe tbody tr th:only-of-type {\n",
       "        vertical-align: middle;\n",
       "    }\n",
       "\n",
       "    .dataframe tbody tr th {\n",
       "        vertical-align: top;\n",
       "    }\n",
       "\n",
       "    .dataframe thead th {\n",
       "        text-align: right;\n",
       "    }\n",
       "</style>\n",
       "<table border=\"1\" class=\"dataframe\">\n",
       "  <thead>\n",
       "    <tr style=\"text-align: right;\">\n",
       "      <th></th>\n",
       "      <th>user_id</th>\n",
       "      <th>group</th>\n",
       "      <th>ab_test</th>\n",
       "    </tr>\n",
       "  </thead>\n",
       "  <tbody>\n",
       "    <tr>\n",
       "      <th>0</th>\n",
       "      <td>D1ABA3E2887B6A73</td>\n",
       "      <td>A</td>\n",
       "      <td>recommender_system_test</td>\n",
       "    </tr>\n",
       "    <tr>\n",
       "      <th>1</th>\n",
       "      <td>A7A3664BD6242119</td>\n",
       "      <td>A</td>\n",
       "      <td>recommender_system_test</td>\n",
       "    </tr>\n",
       "    <tr>\n",
       "      <th>2</th>\n",
       "      <td>DABC14FDDFADD29E</td>\n",
       "      <td>A</td>\n",
       "      <td>recommender_system_test</td>\n",
       "    </tr>\n",
       "    <tr>\n",
       "      <th>3</th>\n",
       "      <td>04988C5DF189632E</td>\n",
       "      <td>A</td>\n",
       "      <td>recommender_system_test</td>\n",
       "    </tr>\n",
       "    <tr>\n",
       "      <th>4</th>\n",
       "      <td>482F14783456D21B</td>\n",
       "      <td>B</td>\n",
       "      <td>recommender_system_test</td>\n",
       "    </tr>\n",
       "  </tbody>\n",
       "</table>\n",
       "</div>"
      ],
      "text/plain": [
       "            user_id group                  ab_test\n",
       "0  D1ABA3E2887B6A73     A  recommender_system_test\n",
       "1  A7A3664BD6242119     A  recommender_system_test\n",
       "2  DABC14FDDFADD29E     A  recommender_system_test\n",
       "3  04988C5DF189632E     A  recommender_system_test\n",
       "4  482F14783456D21B     B  recommender_system_test"
      ]
     },
     "metadata": {},
     "output_type": "display_data"
    },
    {
     "name": "stdout",
     "output_type": "stream",
     "text": [
      "<class 'pandas.core.frame.DataFrame'>\n",
      "RangeIndex: 18268 entries, 0 to 18267\n",
      "Data columns (total 3 columns):\n",
      " #   Column   Non-Null Count  Dtype \n",
      "---  ------   --------------  ----- \n",
      " 0   user_id  18268 non-null  object\n",
      " 1   group    18268 non-null  object\n",
      " 2   ab_test  18268 non-null  object\n",
      "dtypes: object(3)\n",
      "memory usage: 428.3+ KB\n"
     ]
    },
    {
     "data": {
      "text/plain": [
       "None"
      ]
     },
     "metadata": {},
     "output_type": "display_data"
    }
   ],
   "source": [
    "display(participants.head(5))\n",
    "display(participants.info())"
   ]
  },
  {
   "cell_type": "code",
   "execution_count": 112,
   "id": "7d8ba57c",
   "metadata": {
    "scrolled": false
   },
   "outputs": [
    {
     "data": {
      "text/html": [
       "<div>\n",
       "<style scoped>\n",
       "    .dataframe tbody tr th:only-of-type {\n",
       "        vertical-align: middle;\n",
       "    }\n",
       "\n",
       "    .dataframe tbody tr th {\n",
       "        vertical-align: top;\n",
       "    }\n",
       "\n",
       "    .dataframe thead th {\n",
       "        text-align: right;\n",
       "    }\n",
       "</style>\n",
       "<table border=\"1\" class=\"dataframe\">\n",
       "  <thead>\n",
       "    <tr style=\"text-align: right;\">\n",
       "      <th></th>\n",
       "      <th>user_id</th>\n",
       "    </tr>\n",
       "    <tr>\n",
       "      <th>group</th>\n",
       "      <th></th>\n",
       "    </tr>\n",
       "  </thead>\n",
       "  <tbody>\n",
       "    <tr>\n",
       "      <th>A</th>\n",
       "      <td>9173</td>\n",
       "    </tr>\n",
       "    <tr>\n",
       "      <th>B</th>\n",
       "      <td>8269</td>\n",
       "    </tr>\n",
       "  </tbody>\n",
       "</table>\n",
       "</div>"
      ],
      "text/plain": [
       "       user_id\n",
       "group         \n",
       "A         9173\n",
       "B         8269"
      ]
     },
     "metadata": {},
     "output_type": "display_data"
    },
    {
     "data": {
      "text/html": [
       "<div>\n",
       "<style scoped>\n",
       "    .dataframe tbody tr th:only-of-type {\n",
       "        vertical-align: middle;\n",
       "    }\n",
       "\n",
       "    .dataframe tbody tr th {\n",
       "        vertical-align: top;\n",
       "    }\n",
       "\n",
       "    .dataframe thead th {\n",
       "        text-align: right;\n",
       "    }\n",
       "</style>\n",
       "<table border=\"1\" class=\"dataframe\">\n",
       "  <thead>\n",
       "    <tr style=\"text-align: right;\">\n",
       "      <th></th>\n",
       "      <th>user_id</th>\n",
       "    </tr>\n",
       "    <tr>\n",
       "      <th>ab_test</th>\n",
       "      <th></th>\n",
       "    </tr>\n",
       "  </thead>\n",
       "  <tbody>\n",
       "    <tr>\n",
       "      <th>interface_eu_test</th>\n",
       "      <td>11567</td>\n",
       "    </tr>\n",
       "    <tr>\n",
       "      <th>recommender_system_test</th>\n",
       "      <td>6701</td>\n",
       "    </tr>\n",
       "  </tbody>\n",
       "</table>\n",
       "</div>"
      ],
      "text/plain": [
       "                         user_id\n",
       "ab_test                         \n",
       "interface_eu_test          11567\n",
       "recommender_system_test     6701"
      ]
     },
     "metadata": {},
     "output_type": "display_data"
    }
   ],
   "source": [
    "display(participants.groupby('group').agg({'user_id':'nunique'}))\n",
    "display(participants.groupby('ab_test').agg({'user_id':'nunique'}))"
   ]
  },
  {
   "cell_type": "code",
   "execution_count": 113,
   "id": "9970c626",
   "metadata": {
    "scrolled": true
   },
   "outputs": [
    {
     "data": {
      "text/html": [
       "<div>\n",
       "<style scoped>\n",
       "    .dataframe tbody tr th:only-of-type {\n",
       "        vertical-align: middle;\n",
       "    }\n",
       "\n",
       "    .dataframe tbody tr th {\n",
       "        vertical-align: top;\n",
       "    }\n",
       "\n",
       "    .dataframe thead th {\n",
       "        text-align: right;\n",
       "    }\n",
       "</style>\n",
       "<table border=\"1\" class=\"dataframe\">\n",
       "  <thead>\n",
       "    <tr style=\"text-align: right;\">\n",
       "      <th></th>\n",
       "      <th>user_id</th>\n",
       "    </tr>\n",
       "    <tr>\n",
       "      <th>group</th>\n",
       "      <th></th>\n",
       "    </tr>\n",
       "  </thead>\n",
       "  <tbody>\n",
       "    <tr>\n",
       "      <th>A</th>\n",
       "      <td>3824</td>\n",
       "    </tr>\n",
       "    <tr>\n",
       "      <th>B</th>\n",
       "      <td>2877</td>\n",
       "    </tr>\n",
       "  </tbody>\n",
       "</table>\n",
       "</div>"
      ],
      "text/plain": [
       "       user_id\n",
       "group         \n",
       "A         3824\n",
       "B         2877"
      ]
     },
     "metadata": {},
     "output_type": "display_data"
    }
   ],
   "source": [
    "sys_test = participants[participants['ab_test'] == 'recommender_system_test']\n",
    "display(sys_test.groupby('group').agg({'user_id':'nunique'}))"
   ]
  },
  {
   "cell_type": "markdown",
   "id": "27023e48",
   "metadata": {},
   "source": [
    "<div class=\"alert alert-info\" style=\"background:rgba(135, 206, 235, 0.05);color:#080808\">\n",
    "\n",
    "- В нашем тесте есть некоторый перекос в группах, пока что просто отметим это.\n",
    "- Количество в двух группах дает в сумме общее количество уникальных участников теста, что говорит о том, что нет участников, которые оказались в двух группах сразу.\n",
    "</div>"
   ]
  },
  {
   "cell_type": "code",
   "execution_count": 114,
   "id": "692b7cce",
   "metadata": {},
   "outputs": [
    {
     "name": "stdout",
     "output_type": "stream",
     "text": [
      "Для группы А\n"
     ]
    },
    {
     "data": {
      "text/html": [
       "<div>\n",
       "<style scoped>\n",
       "    .dataframe tbody tr th:only-of-type {\n",
       "        vertical-align: middle;\n",
       "    }\n",
       "\n",
       "    .dataframe tbody tr th {\n",
       "        vertical-align: top;\n",
       "    }\n",
       "\n",
       "    .dataframe thead th {\n",
       "        text-align: right;\n",
       "    }\n",
       "</style>\n",
       "<table border=\"1\" class=\"dataframe\">\n",
       "  <thead>\n",
       "    <tr style=\"text-align: right;\">\n",
       "      <th></th>\n",
       "      <th>user_id</th>\n",
       "    </tr>\n",
       "    <tr>\n",
       "      <th>group</th>\n",
       "      <th></th>\n",
       "    </tr>\n",
       "  </thead>\n",
       "  <tbody>\n",
       "    <tr>\n",
       "      <th>A</th>\n",
       "      <td>482</td>\n",
       "    </tr>\n",
       "    <tr>\n",
       "      <th>B</th>\n",
       "      <td>439</td>\n",
       "    </tr>\n",
       "  </tbody>\n",
       "</table>\n",
       "</div>"
      ],
      "text/plain": [
       "       user_id\n",
       "group         \n",
       "A          482\n",
       "B          439"
      ]
     },
     "metadata": {},
     "output_type": "display_data"
    },
    {
     "name": "stdout",
     "output_type": "stream",
     "text": [
      "\n",
      "Для группы B\n"
     ]
    },
    {
     "data": {
      "text/html": [
       "<div>\n",
       "<style scoped>\n",
       "    .dataframe tbody tr th:only-of-type {\n",
       "        vertical-align: middle;\n",
       "    }\n",
       "\n",
       "    .dataframe tbody tr th {\n",
       "        vertical-align: top;\n",
       "    }\n",
       "\n",
       "    .dataframe thead th {\n",
       "        text-align: right;\n",
       "    }\n",
       "</style>\n",
       "<table border=\"1\" class=\"dataframe\">\n",
       "  <thead>\n",
       "    <tr style=\"text-align: right;\">\n",
       "      <th></th>\n",
       "      <th>user_id</th>\n",
       "    </tr>\n",
       "    <tr>\n",
       "      <th>group</th>\n",
       "      <th></th>\n",
       "    </tr>\n",
       "  </thead>\n",
       "  <tbody>\n",
       "    <tr>\n",
       "      <th>A</th>\n",
       "      <td>337</td>\n",
       "    </tr>\n",
       "    <tr>\n",
       "      <th>B</th>\n",
       "      <td>344</td>\n",
       "    </tr>\n",
       "  </tbody>\n",
       "</table>\n",
       "</div>"
      ],
      "text/plain": [
       "       user_id\n",
       "group         \n",
       "A          337\n",
       "B          344"
      ]
     },
     "metadata": {},
     "output_type": "display_data"
    }
   ],
   "source": [
    "# Изучим как были распределены группы во втором исследовании\n",
    "# Возьмем отдельно людей из группы А и В, посмотрим как они были распределены в interface_eu_test\n",
    "sys_test_list = sys_test['user_id'].to_list()\n",
    "sys_test_a_list = sys_test[sys_test['group'] == 'A']['user_id'].to_list()\n",
    "sys_test_b_list = sys_test[sys_test['group'] == 'B']['user_id'].to_list()\n",
    "\n",
    "print('Для группы А')\n",
    "interface_test = participants[participants['ab_test'] == 'interface_eu_test']\n",
    "display(interface_test.query('user_id in @sys_test_a_list').groupby('group').agg({'user_id':'nunique'}))\n",
    "print('\\nДля группы B')\n",
    "display(interface_test.query('user_id in @sys_test_b_list').groupby('group').agg({'user_id':'nunique'}))"
   ]
  },
  {
   "cell_type": "markdown",
   "id": "f20d44f5",
   "metadata": {},
   "source": [
    "<div class=\"alert alert-info\" style=\"background:rgba(135, 206, 235, 0.05);color:#080808\">\n",
    "\n",
    "- Распределение достаточно равномерное, что означает, что, даже если существует влияние второго теста на тот, с которым мы работаем, оно будет одинаково для обеих групп. В таком случае нет оснований исключать пользователей, которые участвовали в обоих тестах.\n",
    "- На данном этапе количество участников выше 6000, что удовлетворяет ТЗ.\n",
    "</div>"
   ]
  },
  {
   "cell_type": "code",
   "execution_count": 115,
   "id": "79958a69",
   "metadata": {},
   "outputs": [],
   "source": [
    "# Убираю из датафрейма участников второго теста\n",
    "events_full = events\n",
    "events = events.query('user_id in @sys_test_list')"
   ]
  },
  {
   "cell_type": "code",
   "execution_count": 116,
   "id": "9907b70a",
   "metadata": {},
   "outputs": [
    {
     "data": {
      "text/html": [
       "<div>\n",
       "<style scoped>\n",
       "    .dataframe tbody tr th:only-of-type {\n",
       "        vertical-align: middle;\n",
       "    }\n",
       "\n",
       "    .dataframe tbody tr th {\n",
       "        vertical-align: top;\n",
       "    }\n",
       "\n",
       "    .dataframe thead th {\n",
       "        text-align: right;\n",
       "    }\n",
       "</style>\n",
       "<table border=\"1\" class=\"dataframe\">\n",
       "  <thead>\n",
       "    <tr style=\"text-align: right;\">\n",
       "      <th></th>\n",
       "      <th>user_id</th>\n",
       "      <th>event_dt</th>\n",
       "      <th>event_name</th>\n",
       "      <th>details</th>\n",
       "    </tr>\n",
       "  </thead>\n",
       "  <tbody>\n",
       "    <tr>\n",
       "      <th>5</th>\n",
       "      <td>831887FE7F2D6CBA</td>\n",
       "      <td>2020-12-07 06:50:29</td>\n",
       "      <td>purchase</td>\n",
       "      <td>4.99</td>\n",
       "    </tr>\n",
       "    <tr>\n",
       "      <th>17</th>\n",
       "      <td>3C5DD0288AC4FE23</td>\n",
       "      <td>2020-12-07 19:42:40</td>\n",
       "      <td>purchase</td>\n",
       "      <td>4.99</td>\n",
       "    </tr>\n",
       "    <tr>\n",
       "      <th>58</th>\n",
       "      <td>49EA242586C87836</td>\n",
       "      <td>2020-12-07 06:31:24</td>\n",
       "      <td>purchase</td>\n",
       "      <td>99.99</td>\n",
       "    </tr>\n",
       "    <tr>\n",
       "      <th>71</th>\n",
       "      <td>2B06EB547B7AAD08</td>\n",
       "      <td>2020-12-07 21:36:38</td>\n",
       "      <td>purchase</td>\n",
       "      <td>4.99</td>\n",
       "    </tr>\n",
       "    <tr>\n",
       "      <th>74</th>\n",
       "      <td>A640F31CAC7823A6</td>\n",
       "      <td>2020-12-07 18:48:26</td>\n",
       "      <td>purchase</td>\n",
       "      <td>4.99</td>\n",
       "    </tr>\n",
       "  </tbody>\n",
       "</table>\n",
       "</div>"
      ],
      "text/plain": [
       "             user_id             event_dt event_name  details\n",
       "5   831887FE7F2D6CBA  2020-12-07 06:50:29   purchase     4.99\n",
       "17  3C5DD0288AC4FE23  2020-12-07 19:42:40   purchase     4.99\n",
       "58  49EA242586C87836  2020-12-07 06:31:24   purchase    99.99\n",
       "71  2B06EB547B7AAD08  2020-12-07 21:36:38   purchase     4.99\n",
       "74  A640F31CAC7823A6  2020-12-07 18:48:26   purchase     4.99"
      ]
     },
     "metadata": {},
     "output_type": "display_data"
    },
    {
     "name": "stdout",
     "output_type": "stream",
     "text": [
      "<class 'pandas.core.frame.DataFrame'>\n",
      "Int64Index: 24698 entries, 5 to 440289\n",
      "Data columns (total 4 columns):\n",
      " #   Column      Non-Null Count  Dtype  \n",
      "---  ------      --------------  -----  \n",
      " 0   user_id     24698 non-null  object \n",
      " 1   event_dt    24698 non-null  object \n",
      " 2   event_name  24698 non-null  object \n",
      " 3   details     3331 non-null   float64\n",
      "dtypes: float64(1), object(3)\n",
      "memory usage: 964.8+ KB\n"
     ]
    },
    {
     "data": {
      "text/plain": [
       "None"
      ]
     },
     "metadata": {},
     "output_type": "display_data"
    }
   ],
   "source": [
    "display(events.head())\n",
    "display(events.info())"
   ]
  },
  {
   "cell_type": "code",
   "execution_count": 117,
   "id": "3148d835",
   "metadata": {},
   "outputs": [],
   "source": [
    "# Перевожу дату в datetime\n",
    "events['event_dt'] = pd.to_datetime(events['event_dt'])"
   ]
  },
  {
   "cell_type": "code",
   "execution_count": 118,
   "id": "46c3f845",
   "metadata": {
    "scrolled": false
   },
   "outputs": [
    {
     "data": {
      "text/html": [
       "<div>\n",
       "<style scoped>\n",
       "    .dataframe tbody tr th:only-of-type {\n",
       "        vertical-align: middle;\n",
       "    }\n",
       "\n",
       "    .dataframe tbody tr th {\n",
       "        vertical-align: top;\n",
       "    }\n",
       "\n",
       "    .dataframe thead th {\n",
       "        text-align: right;\n",
       "    }\n",
       "</style>\n",
       "<table border=\"1\" class=\"dataframe\">\n",
       "  <thead>\n",
       "    <tr style=\"text-align: right;\">\n",
       "      <th></th>\n",
       "      <th>user_id</th>\n",
       "    </tr>\n",
       "    <tr>\n",
       "      <th>event_name</th>\n",
       "      <th></th>\n",
       "    </tr>\n",
       "  </thead>\n",
       "  <tbody>\n",
       "    <tr>\n",
       "      <th>login</th>\n",
       "      <td>3675</td>\n",
       "    </tr>\n",
       "    <tr>\n",
       "      <th>product_cart</th>\n",
       "      <td>1079</td>\n",
       "    </tr>\n",
       "    <tr>\n",
       "      <th>product_page</th>\n",
       "      <td>2303</td>\n",
       "    </tr>\n",
       "    <tr>\n",
       "      <th>purchase</th>\n",
       "      <td>1128</td>\n",
       "    </tr>\n",
       "  </tbody>\n",
       "</table>\n",
       "</div>"
      ],
      "text/plain": [
       "              user_id\n",
       "event_name           \n",
       "login            3675\n",
       "product_cart     1079\n",
       "product_page     2303\n",
       "purchase         1128"
      ]
     },
     "execution_count": 118,
     "metadata": {},
     "output_type": "execute_result"
    }
   ],
   "source": [
    "# Проверка на дубликаты\n",
    "events.groupby('event_name').agg({'user_id' : 'nunique'})"
   ]
  },
  {
   "cell_type": "markdown",
   "id": "dc83c054",
   "metadata": {},
   "source": [
    "<div class=\"alert alert-info\" style=\"background:rgba(135, 206, 235, 0.05);color:#080808\">\n",
    "\n",
    "- Воронка есть, но количество уникальных пользователей, совершивших действие, очень мало. На это стоит обратить внимание.\n",
    "</div>"
   ]
  },
  {
   "cell_type": "code",
   "execution_count": 119,
   "id": "36b81927",
   "metadata": {
    "scrolled": true
   },
   "outputs": [
    {
     "data": {
      "text/plain": [
       "Timestamp('2020-12-07 00:05:57')"
      ]
     },
     "execution_count": 119,
     "metadata": {},
     "output_type": "execute_result"
    }
   ],
   "source": [
    "events['event_dt'].min()"
   ]
  },
  {
   "cell_type": "code",
   "execution_count": 120,
   "id": "e82c2db8",
   "metadata": {},
   "outputs": [
    {
     "data": {
      "text/plain": [
       "Timestamp('2020-12-30 12:42:57')"
      ]
     },
     "execution_count": 120,
     "metadata": {},
     "output_type": "execute_result"
    }
   ],
   "source": [
    "events['event_dt'].max()"
   ]
  },
  {
   "cell_type": "markdown",
   "id": "bac4a358",
   "metadata": {},
   "source": [
    "<div class=\"alert alert-info\" style=\"background:rgba(135, 206, 235, 0.05);color:#080808\">\n",
    "\n",
    "- Даты входят в рамки, указанные в ТЗ, но нет данных за последние 5 дней. Это надо будет учесть в дальнейшем.\n",
    "</div>"
   ]
  },
  {
   "cell_type": "code",
   "execution_count": 121,
   "id": "f87888c2",
   "metadata": {},
   "outputs": [
    {
     "data": {
      "text/plain": [
       "user_id       14534\n",
       "event_dt      14534\n",
       "event_name    14534\n",
       "details        3321\n",
       "dtype: int64"
      ]
     },
     "metadata": {},
     "output_type": "display_data"
    }
   ],
   "source": [
    "# Проверка на дубликаты в event_dt\n",
    "display(events[events.event_dt.duplicated(keep=False)].count())"
   ]
  },
  {
   "cell_type": "code",
   "execution_count": 122,
   "id": "43418dbe",
   "metadata": {
    "scrolled": false
   },
   "outputs": [
    {
     "data": {
      "text/html": [
       "<div>\n",
       "<style scoped>\n",
       "    .dataframe tbody tr th:only-of-type {\n",
       "        vertical-align: middle;\n",
       "    }\n",
       "\n",
       "    .dataframe tbody tr th {\n",
       "        vertical-align: top;\n",
       "    }\n",
       "\n",
       "    .dataframe thead th {\n",
       "        text-align: right;\n",
       "    }\n",
       "</style>\n",
       "<table border=\"1\" class=\"dataframe\">\n",
       "  <thead>\n",
       "    <tr style=\"text-align: right;\">\n",
       "      <th></th>\n",
       "      <th>user_id</th>\n",
       "      <th>event_dt</th>\n",
       "      <th>event_name</th>\n",
       "      <th>details</th>\n",
       "    </tr>\n",
       "  </thead>\n",
       "  <tbody>\n",
       "    <tr>\n",
       "      <th>252955</th>\n",
       "      <td>894A2506B3A50D03</td>\n",
       "      <td>2020-12-07 00:05:57</td>\n",
       "      <td>login</td>\n",
       "      <td>NaN</td>\n",
       "    </tr>\n",
       "    <tr>\n",
       "      <th>126644</th>\n",
       "      <td>894A2506B3A50D03</td>\n",
       "      <td>2020-12-07 00:05:57</td>\n",
       "      <td>product_page</td>\n",
       "      <td>NaN</td>\n",
       "    </tr>\n",
       "    <tr>\n",
       "      <th>713</th>\n",
       "      <td>8FC9D1BB3017BE66</td>\n",
       "      <td>2020-12-07 00:07:47</td>\n",
       "      <td>purchase</td>\n",
       "      <td>4.99</td>\n",
       "    </tr>\n",
       "    <tr>\n",
       "      <th>252916</th>\n",
       "      <td>8FC9D1BB3017BE66</td>\n",
       "      <td>2020-12-07 00:07:47</td>\n",
       "      <td>login</td>\n",
       "      <td>NaN</td>\n",
       "    </tr>\n",
       "    <tr>\n",
       "      <th>1221</th>\n",
       "      <td>4A55475E078F40DC</td>\n",
       "      <td>2020-12-07 00:14:01</td>\n",
       "      <td>purchase</td>\n",
       "      <td>9.99</td>\n",
       "    </tr>\n",
       "    <tr>\n",
       "      <th>254351</th>\n",
       "      <td>4A55475E078F40DC</td>\n",
       "      <td>2020-12-07 00:14:01</td>\n",
       "      <td>login</td>\n",
       "      <td>NaN</td>\n",
       "    </tr>\n",
       "    <tr>\n",
       "      <th>127162</th>\n",
       "      <td>20996AEF74602821</td>\n",
       "      <td>2020-12-07 00:16:00</td>\n",
       "      <td>product_page</td>\n",
       "      <td>NaN</td>\n",
       "    </tr>\n",
       "    <tr>\n",
       "      <th>253729</th>\n",
       "      <td>20996AEF74602821</td>\n",
       "      <td>2020-12-07 00:16:00</td>\n",
       "      <td>login</td>\n",
       "      <td>NaN</td>\n",
       "    </tr>\n",
       "    <tr>\n",
       "      <th>993</th>\n",
       "      <td>20996AEF74602821</td>\n",
       "      <td>2020-12-07 00:16:00</td>\n",
       "      <td>purchase</td>\n",
       "      <td>9.99</td>\n",
       "    </tr>\n",
       "    <tr>\n",
       "      <th>255395</th>\n",
       "      <td>115EBC1CA027854A</td>\n",
       "      <td>2020-12-07 00:25:02</td>\n",
       "      <td>login</td>\n",
       "      <td>NaN</td>\n",
       "    </tr>\n",
       "    <tr>\n",
       "      <th>128254</th>\n",
       "      <td>115EBC1CA027854A</td>\n",
       "      <td>2020-12-07 00:25:02</td>\n",
       "      <td>product_page</td>\n",
       "      <td>NaN</td>\n",
       "    </tr>\n",
       "    <tr>\n",
       "      <th>64080</th>\n",
       "      <td>AAB4D11666ADB943</td>\n",
       "      <td>2020-12-07 00:25:07</td>\n",
       "      <td>product_cart</td>\n",
       "      <td>NaN</td>\n",
       "    </tr>\n",
       "    <tr>\n",
       "      <th>254831</th>\n",
       "      <td>AAB4D11666ADB943</td>\n",
       "      <td>2020-12-07 00:25:07</td>\n",
       "      <td>login</td>\n",
       "      <td>NaN</td>\n",
       "    </tr>\n",
       "    <tr>\n",
       "      <th>352</th>\n",
       "      <td>F5B7DA8807EC1AF7</td>\n",
       "      <td>2020-12-07 00:31:08</td>\n",
       "      <td>purchase</td>\n",
       "      <td>9.99</td>\n",
       "    </tr>\n",
       "    <tr>\n",
       "      <th>251824</th>\n",
       "      <td>F5B7DA8807EC1AF7</td>\n",
       "      <td>2020-12-07 00:31:08</td>\n",
       "      <td>login</td>\n",
       "      <td>NaN</td>\n",
       "    </tr>\n",
       "    <tr>\n",
       "      <th>127831</th>\n",
       "      <td>6D399D5D2832CD40</td>\n",
       "      <td>2020-12-07 00:35:15</td>\n",
       "      <td>product_page</td>\n",
       "      <td>NaN</td>\n",
       "    </tr>\n",
       "    <tr>\n",
       "      <th>254751</th>\n",
       "      <td>6D399D5D2832CD40</td>\n",
       "      <td>2020-12-07 00:35:15</td>\n",
       "      <td>login</td>\n",
       "      <td>NaN</td>\n",
       "    </tr>\n",
       "    <tr>\n",
       "      <th>251886</th>\n",
       "      <td>8B480AD647CE1BDE</td>\n",
       "      <td>2020-12-07 00:44:12</td>\n",
       "      <td>login</td>\n",
       "      <td>NaN</td>\n",
       "    </tr>\n",
       "    <tr>\n",
       "      <th>63112</th>\n",
       "      <td>8B480AD647CE1BDE</td>\n",
       "      <td>2020-12-07 00:44:12</td>\n",
       "      <td>product_cart</td>\n",
       "      <td>NaN</td>\n",
       "    </tr>\n",
       "    <tr>\n",
       "      <th>125940</th>\n",
       "      <td>8B480AD647CE1BDE</td>\n",
       "      <td>2020-12-07 00:44:12</td>\n",
       "      <td>product_page</td>\n",
       "      <td>NaN</td>\n",
       "    </tr>\n",
       "  </tbody>\n",
       "</table>\n",
       "</div>"
      ],
      "text/plain": [
       "                 user_id            event_dt    event_name  details\n",
       "252955  894A2506B3A50D03 2020-12-07 00:05:57         login      NaN\n",
       "126644  894A2506B3A50D03 2020-12-07 00:05:57  product_page      NaN\n",
       "713     8FC9D1BB3017BE66 2020-12-07 00:07:47      purchase     4.99\n",
       "252916  8FC9D1BB3017BE66 2020-12-07 00:07:47         login      NaN\n",
       "1221    4A55475E078F40DC 2020-12-07 00:14:01      purchase     9.99\n",
       "254351  4A55475E078F40DC 2020-12-07 00:14:01         login      NaN\n",
       "127162  20996AEF74602821 2020-12-07 00:16:00  product_page      NaN\n",
       "253729  20996AEF74602821 2020-12-07 00:16:00         login      NaN\n",
       "993     20996AEF74602821 2020-12-07 00:16:00      purchase     9.99\n",
       "255395  115EBC1CA027854A 2020-12-07 00:25:02         login      NaN\n",
       "128254  115EBC1CA027854A 2020-12-07 00:25:02  product_page      NaN\n",
       "64080   AAB4D11666ADB943 2020-12-07 00:25:07  product_cart      NaN\n",
       "254831  AAB4D11666ADB943 2020-12-07 00:25:07         login      NaN\n",
       "352     F5B7DA8807EC1AF7 2020-12-07 00:31:08      purchase     9.99\n",
       "251824  F5B7DA8807EC1AF7 2020-12-07 00:31:08         login      NaN\n",
       "127831  6D399D5D2832CD40 2020-12-07 00:35:15  product_page      NaN\n",
       "254751  6D399D5D2832CD40 2020-12-07 00:35:15         login      NaN\n",
       "251886  8B480AD647CE1BDE 2020-12-07 00:44:12         login      NaN\n",
       "63112   8B480AD647CE1BDE 2020-12-07 00:44:12  product_cart      NaN\n",
       "125940  8B480AD647CE1BDE 2020-12-07 00:44:12  product_page      NaN"
      ]
     },
     "metadata": {},
     "output_type": "display_data"
    }
   ],
   "source": [
    "display(events[events.event_dt.duplicated(keep=False)].sort_values(by='event_dt').head(20))"
   ]
  },
  {
   "cell_type": "markdown",
   "id": "d707a567",
   "metadata": {},
   "source": [
    "<div class=\"alert alert-info\" style=\"background:rgba(135, 206, 235, 0.05);color:#080808\">\n",
    "\n",
    "- Есть большое число дубликатов, явно не являющихся совпадениями. Это выглядит как ошибка в момент записи логов или в какой-то другой этап работы с данными. Согласно этим данным, пользователи могут совершать от 2 до 4 действий одновременно.\n",
    "</div>"
   ]
  },
  {
   "cell_type": "code",
   "execution_count": 123,
   "id": "28c56eae",
   "metadata": {},
   "outputs": [
    {
     "data": {
      "text/plain": [
       "False    3331\n",
       "Name: details, dtype: int64"
      ]
     },
     "metadata": {},
     "output_type": "display_data"
    }
   ],
   "source": [
    "# Убедимся, что NaN в details относятся только к действиям, которые не являются покупкой\n",
    "display(events[events['event_name']=='purchase']['details'].isna().value_counts())"
   ]
  },
  {
   "cell_type": "code",
   "execution_count": 124,
   "id": "57ba8d87",
   "metadata": {
    "scrolled": false
   },
   "outputs": [
    {
     "data": {
      "text/plain": [
       "count    3331.000000\n",
       "mean       23.212756\n",
       "std        70.848522\n",
       "min         4.990000\n",
       "25%         4.990000\n",
       "50%         4.990000\n",
       "75%         9.990000\n",
       "max       499.990000\n",
       "Name: details, dtype: float64"
      ]
     },
     "metadata": {},
     "output_type": "display_data"
    },
    {
     "data": {
      "image/png": "[encoded data removed]",
      "text/plain": [
       "<Figure size 432x288 with 1 Axes>"
      ]
     },
     "metadata": {
      "needs_background": "light"
     },
     "output_type": "display_data"
    }
   ],
   "source": [
    "# Проверка details на выбросы и аномалии.\n",
    "display(events['details'].describe())\n",
    "events['details'].hist()\n",
    "plt.show()"
   ]
  },
  {
   "cell_type": "code",
   "execution_count": 125,
   "id": "126930a1",
   "metadata": {},
   "outputs": [
    {
     "data": {
      "text/plain": [
       "62"
      ]
     },
     "execution_count": 125,
     "metadata": {},
     "output_type": "execute_result"
    }
   ],
   "source": [
    "# 500 выглядит как выброс, посмотрим сколько таких значений\n",
    "len(events[events['details'] ==  499.990000])"
   ]
  },
  {
   "cell_type": "markdown",
   "id": "cf151fbc",
   "metadata": {},
   "source": [
    "<div class=\"alert alert-info\" style=\"background:rgba(135, 206, 235, 0.05);color:#080808\">\n",
    "\n",
    "- Есть 62/3331 значений 500, это около 2%, судя по всему это реальные данные, не ошибка, но это стоит отметить.\n",
    "</div>"
   ]
  },
  {
   "cell_type": "markdown",
   "id": "52cf877d",
   "metadata": {},
   "source": [
    "<div class=\"alert alert-info\" style=\"background:rgba(135, 206, 235, 0.05);color:#080808\">\n",
    "\n",
    "Выводы по events:\n",
    "\n",
    "- Пропусков нет, кроме цены у действий, которые не являются покупкой, что нормально.\n",
    "- Даты не до конца совпадают с тз, нет данных за последние 5 дней.\n",
    "- Судя по количеству действий, корзина не является обязательным действием для покупки.\n",
    "- Есть большое количество дубликатов вызваных, скорее всего, технической ошибкой. На это мы не можем повлиять, поэтому работаем с этими данными, но это обязательно должно быть отмечено в отчете.  \n",
    "</div>"
   ]
  },
  {
   "cell_type": "code",
   "execution_count": 126,
   "id": "7e1cc698",
   "metadata": {
    "scrolled": false
   },
   "outputs": [
    {
     "data": {
      "text/html": [
       "<div>\n",
       "<style scoped>\n",
       "    .dataframe tbody tr th:only-of-type {\n",
       "        vertical-align: middle;\n",
       "    }\n",
       "\n",
       "    .dataframe tbody tr th {\n",
       "        vertical-align: top;\n",
       "    }\n",
       "\n",
       "    .dataframe thead th {\n",
       "        text-align: right;\n",
       "    }\n",
       "</style>\n",
       "<table border=\"1\" class=\"dataframe\">\n",
       "  <thead>\n",
       "    <tr style=\"text-align: right;\">\n",
       "      <th></th>\n",
       "      <th>name</th>\n",
       "      <th>regions</th>\n",
       "      <th>start_dt</th>\n",
       "      <th>finish_dt</th>\n",
       "    </tr>\n",
       "  </thead>\n",
       "  <tbody>\n",
       "    <tr>\n",
       "      <th>0</th>\n",
       "      <td>Christmas&amp;New Year Promo</td>\n",
       "      <td>EU, N.America</td>\n",
       "      <td>2020-12-25</td>\n",
       "      <td>2021-01-03</td>\n",
       "    </tr>\n",
       "    <tr>\n",
       "      <th>1</th>\n",
       "      <td>St. Valentine's Day Giveaway</td>\n",
       "      <td>EU, CIS, APAC, N.America</td>\n",
       "      <td>2020-02-14</td>\n",
       "      <td>2020-02-16</td>\n",
       "    </tr>\n",
       "    <tr>\n",
       "      <th>2</th>\n",
       "      <td>St. Patric's Day Promo</td>\n",
       "      <td>EU, N.America</td>\n",
       "      <td>2020-03-17</td>\n",
       "      <td>2020-03-19</td>\n",
       "    </tr>\n",
       "    <tr>\n",
       "      <th>3</th>\n",
       "      <td>Easter Promo</td>\n",
       "      <td>EU, CIS, APAC, N.America</td>\n",
       "      <td>2020-04-12</td>\n",
       "      <td>2020-04-19</td>\n",
       "    </tr>\n",
       "    <tr>\n",
       "      <th>4</th>\n",
       "      <td>4th of July Promo</td>\n",
       "      <td>N.America</td>\n",
       "      <td>2020-07-04</td>\n",
       "      <td>2020-07-11</td>\n",
       "    </tr>\n",
       "    <tr>\n",
       "      <th>5</th>\n",
       "      <td>Black Friday Ads Campaign</td>\n",
       "      <td>EU, CIS, APAC, N.America</td>\n",
       "      <td>2020-11-26</td>\n",
       "      <td>2020-12-01</td>\n",
       "    </tr>\n",
       "    <tr>\n",
       "      <th>6</th>\n",
       "      <td>Chinese New Year Promo</td>\n",
       "      <td>APAC</td>\n",
       "      <td>2020-01-25</td>\n",
       "      <td>2020-02-07</td>\n",
       "    </tr>\n",
       "    <tr>\n",
       "      <th>7</th>\n",
       "      <td>Labor day (May 1st) Ads Campaign</td>\n",
       "      <td>EU, CIS, APAC</td>\n",
       "      <td>2020-05-01</td>\n",
       "      <td>2020-05-03</td>\n",
       "    </tr>\n",
       "    <tr>\n",
       "      <th>8</th>\n",
       "      <td>International Women's Day Promo</td>\n",
       "      <td>EU, CIS, APAC</td>\n",
       "      <td>2020-03-08</td>\n",
       "      <td>2020-03-10</td>\n",
       "    </tr>\n",
       "    <tr>\n",
       "      <th>9</th>\n",
       "      <td>Victory Day CIS (May 9th) Event</td>\n",
       "      <td>CIS</td>\n",
       "      <td>2020-05-09</td>\n",
       "      <td>2020-05-11</td>\n",
       "    </tr>\n",
       "    <tr>\n",
       "      <th>10</th>\n",
       "      <td>CIS New Year Gift Lottery</td>\n",
       "      <td>CIS</td>\n",
       "      <td>2020-12-30</td>\n",
       "      <td>2021-01-07</td>\n",
       "    </tr>\n",
       "    <tr>\n",
       "      <th>11</th>\n",
       "      <td>Dragon Boat Festival Giveaway</td>\n",
       "      <td>APAC</td>\n",
       "      <td>2020-06-25</td>\n",
       "      <td>2020-07-01</td>\n",
       "    </tr>\n",
       "    <tr>\n",
       "      <th>12</th>\n",
       "      <td>Single's Day Gift Promo</td>\n",
       "      <td>APAC</td>\n",
       "      <td>2020-11-11</td>\n",
       "      <td>2020-11-12</td>\n",
       "    </tr>\n",
       "    <tr>\n",
       "      <th>13</th>\n",
       "      <td>Chinese Moon Festival</td>\n",
       "      <td>APAC</td>\n",
       "      <td>2020-10-01</td>\n",
       "      <td>2020-10-07</td>\n",
       "    </tr>\n",
       "  </tbody>\n",
       "</table>\n",
       "</div>"
      ],
      "text/plain": [
       "                                name                   regions    start_dt  \\\n",
       "0           Christmas&New Year Promo             EU, N.America  2020-12-25   \n",
       "1       St. Valentine's Day Giveaway  EU, CIS, APAC, N.America  2020-02-14   \n",
       "2             St. Patric's Day Promo             EU, N.America  2020-03-17   \n",
       "3                       Easter Promo  EU, CIS, APAC, N.America  2020-04-12   \n",
       "4                  4th of July Promo                 N.America  2020-07-04   \n",
       "5          Black Friday Ads Campaign  EU, CIS, APAC, N.America  2020-11-26   \n",
       "6             Chinese New Year Promo                      APAC  2020-01-25   \n",
       "7   Labor day (May 1st) Ads Campaign             EU, CIS, APAC  2020-05-01   \n",
       "8    International Women's Day Promo             EU, CIS, APAC  2020-03-08   \n",
       "9    Victory Day CIS (May 9th) Event                       CIS  2020-05-09   \n",
       "10         CIS New Year Gift Lottery                       CIS  2020-12-30   \n",
       "11     Dragon Boat Festival Giveaway                      APAC  2020-06-25   \n",
       "12           Single's Day Gift Promo                      APAC  2020-11-11   \n",
       "13             Chinese Moon Festival                      APAC  2020-10-01   \n",
       "\n",
       "     finish_dt  \n",
       "0   2021-01-03  \n",
       "1   2020-02-16  \n",
       "2   2020-03-19  \n",
       "3   2020-04-19  \n",
       "4   2020-07-11  \n",
       "5   2020-12-01  \n",
       "6   2020-02-07  \n",
       "7   2020-05-03  \n",
       "8   2020-03-10  \n",
       "9   2020-05-11  \n",
       "10  2021-01-07  \n",
       "11  2020-07-01  \n",
       "12  2020-11-12  \n",
       "13  2020-10-07  "
      ]
     },
     "metadata": {},
     "output_type": "display_data"
    },
    {
     "name": "stdout",
     "output_type": "stream",
     "text": [
      "<class 'pandas.core.frame.DataFrame'>\n",
      "RangeIndex: 14 entries, 0 to 13\n",
      "Data columns (total 4 columns):\n",
      " #   Column     Non-Null Count  Dtype \n",
      "---  ------     --------------  ----- \n",
      " 0   name       14 non-null     object\n",
      " 1   regions    14 non-null     object\n",
      " 2   start_dt   14 non-null     object\n",
      " 3   finish_dt  14 non-null     object\n",
      "dtypes: object(4)\n",
      "memory usage: 576.0+ bytes\n"
     ]
    },
    {
     "data": {
      "text/plain": [
       "None"
      ]
     },
     "metadata": {},
     "output_type": "display_data"
    }
   ],
   "source": [
    "display(marketing)\n",
    "display(marketing.info())"
   ]
  },
  {
   "cell_type": "code",
   "execution_count": 127,
   "id": "7be464cd",
   "metadata": {},
   "outputs": [],
   "source": [
    "# Перевожу дату в datetime\n",
    "marketing['start_dt'] = pd.to_datetime(marketing['start_dt'])\n",
    "marketing['finish_dt'] = pd.to_datetime(marketing['finish_dt'])"
   ]
  },
  {
   "cell_type": "code",
   "execution_count": 128,
   "id": "2c891815",
   "metadata": {},
   "outputs": [],
   "source": [
    "# Добавляю, чтобы увидеть продолжительность промо\n",
    "marketing['delta'] = marketing['finish_dt'] - marketing['start_dt']"
   ]
  },
  {
   "cell_type": "code",
   "execution_count": 129,
   "id": "e672525d",
   "metadata": {
    "scrolled": false
   },
   "outputs": [],
   "source": [
    "marketing = marketing[marketing['finish_dt'] >= '2020-12-07']"
   ]
  },
  {
   "cell_type": "code",
   "execution_count": 130,
   "id": "ce7d7cf6",
   "metadata": {},
   "outputs": [
    {
     "data": {
      "text/html": [
       "<div>\n",
       "<style scoped>\n",
       "    .dataframe tbody tr th:only-of-type {\n",
       "        vertical-align: middle;\n",
       "    }\n",
       "\n",
       "    .dataframe tbody tr th {\n",
       "        vertical-align: top;\n",
       "    }\n",
       "\n",
       "    .dataframe thead th {\n",
       "        text-align: right;\n",
       "    }\n",
       "</style>\n",
       "<table border=\"1\" class=\"dataframe\">\n",
       "  <thead>\n",
       "    <tr style=\"text-align: right;\">\n",
       "      <th></th>\n",
       "      <th>name</th>\n",
       "      <th>regions</th>\n",
       "      <th>start_dt</th>\n",
       "      <th>finish_dt</th>\n",
       "      <th>delta</th>\n",
       "    </tr>\n",
       "  </thead>\n",
       "  <tbody>\n",
       "    <tr>\n",
       "      <th>0</th>\n",
       "      <td>Christmas&amp;New Year Promo</td>\n",
       "      <td>EU, N.America</td>\n",
       "      <td>2020-12-25</td>\n",
       "      <td>2021-01-03</td>\n",
       "      <td>9 days</td>\n",
       "    </tr>\n",
       "    <tr>\n",
       "      <th>10</th>\n",
       "      <td>CIS New Year Gift Lottery</td>\n",
       "      <td>CIS</td>\n",
       "      <td>2020-12-30</td>\n",
       "      <td>2021-01-07</td>\n",
       "      <td>8 days</td>\n",
       "    </tr>\n",
       "  </tbody>\n",
       "</table>\n",
       "</div>"
      ],
      "text/plain": [
       "                         name        regions   start_dt  finish_dt  delta\n",
       "0    Christmas&New Year Promo  EU, N.America 2020-12-25 2021-01-03 9 days\n",
       "10  CIS New Year Gift Lottery            CIS 2020-12-30 2021-01-07 8 days"
      ]
     },
     "metadata": {},
     "output_type": "display_data"
    }
   ],
   "source": [
    "display(marketing)"
   ]
  },
  {
   "cell_type": "code",
   "execution_count": 131,
   "id": "13d2d6bc",
   "metadata": {},
   "outputs": [],
   "source": [
    "#дата запуска: 2020-12-07\n",
    "#дата остановки набора новых пользователей: 2020-12-21"
   ]
  },
  {
   "cell_type": "markdown",
   "id": "25ad11dd",
   "metadata": {},
   "source": [
    "<div class=\"alert alert-info\" style=\"background:rgba(135, 206, 235, 0.05);color:#080808\">\n",
    "\n",
    "- Данные выглядят нормально. На данном этапе возникает выбор, либо урезать количество участников теста до тех, кто зарегистрировался до 2020-12-10 и ограничить тест 2020-12-24 (так, чтобы не было наслоения на Рождественское промо). Либо, можно взять всю имеющуюся дистанцию теста, ограничив зарегистрированными до 16, что дает нам 6 дней новых пользователей. Для принятия решения стоит изучить сколько мы потеряем, отбросив всех после 2020-12-10. Сделаю это после обработки оставшихся датасетов.\n",
    "</div>\n"
   ]
  },
  {
   "cell_type": "code",
   "execution_count": 132,
   "id": "36ac0a70",
   "metadata": {
    "scrolled": false
   },
   "outputs": [
    {
     "data": {
      "text/html": [
       "<div>\n",
       "<style scoped>\n",
       "    .dataframe tbody tr th:only-of-type {\n",
       "        vertical-align: middle;\n",
       "    }\n",
       "\n",
       "    .dataframe tbody tr th {\n",
       "        vertical-align: top;\n",
       "    }\n",
       "\n",
       "    .dataframe thead th {\n",
       "        text-align: right;\n",
       "    }\n",
       "</style>\n",
       "<table border=\"1\" class=\"dataframe\">\n",
       "  <thead>\n",
       "    <tr style=\"text-align: right;\">\n",
       "      <th></th>\n",
       "      <th>user_id</th>\n",
       "      <th>first_date</th>\n",
       "      <th>region</th>\n",
       "      <th>device</th>\n",
       "    </tr>\n",
       "  </thead>\n",
       "  <tbody>\n",
       "    <tr>\n",
       "      <th>0</th>\n",
       "      <td>D72A72121175D8BE</td>\n",
       "      <td>2020-12-07</td>\n",
       "      <td>EU</td>\n",
       "      <td>PC</td>\n",
       "    </tr>\n",
       "    <tr>\n",
       "      <th>13</th>\n",
       "      <td>E6DE857AFBDC6102</td>\n",
       "      <td>2020-12-07</td>\n",
       "      <td>EU</td>\n",
       "      <td>PC</td>\n",
       "    </tr>\n",
       "    <tr>\n",
       "      <th>20</th>\n",
       "      <td>DD4352CDCF8C3D57</td>\n",
       "      <td>2020-12-07</td>\n",
       "      <td>EU</td>\n",
       "      <td>Android</td>\n",
       "    </tr>\n",
       "    <tr>\n",
       "      <th>23</th>\n",
       "      <td>831887FE7F2D6CBA</td>\n",
       "      <td>2020-12-07</td>\n",
       "      <td>EU</td>\n",
       "      <td>Android</td>\n",
       "    </tr>\n",
       "    <tr>\n",
       "      <th>39</th>\n",
       "      <td>4CB179C7F847320B</td>\n",
       "      <td>2020-12-07</td>\n",
       "      <td>EU</td>\n",
       "      <td>iPhone</td>\n",
       "    </tr>\n",
       "  </tbody>\n",
       "</table>\n",
       "</div>"
      ],
      "text/plain": [
       "             user_id  first_date region   device\n",
       "0   D72A72121175D8BE  2020-12-07     EU       PC\n",
       "13  E6DE857AFBDC6102  2020-12-07     EU       PC\n",
       "20  DD4352CDCF8C3D57  2020-12-07     EU  Android\n",
       "23  831887FE7F2D6CBA  2020-12-07     EU  Android\n",
       "39  4CB179C7F847320B  2020-12-07     EU   iPhone"
      ]
     },
     "metadata": {},
     "output_type": "display_data"
    },
    {
     "name": "stdout",
     "output_type": "stream",
     "text": [
      "<class 'pandas.core.frame.DataFrame'>\n",
      "Int64Index: 6701 entries, 0 to 61715\n",
      "Data columns (total 4 columns):\n",
      " #   Column      Non-Null Count  Dtype \n",
      "---  ------      --------------  ----- \n",
      " 0   user_id     6701 non-null   object\n",
      " 1   first_date  6701 non-null   object\n",
      " 2   region      6701 non-null   object\n",
      " 3   device      6701 non-null   object\n",
      "dtypes: object(4)\n",
      "memory usage: 261.8+ KB\n"
     ]
    },
    {
     "data": {
      "text/plain": [
       "None"
      ]
     },
     "metadata": {},
     "output_type": "display_data"
    }
   ],
   "source": [
    "new_users = new_users.query('user_id in @sys_test_list')\n",
    "display(new_users.head(5))\n",
    "display(new_users.info())"
   ]
  },
  {
   "cell_type": "code",
   "execution_count": 133,
   "id": "6eb6f308",
   "metadata": {
    "scrolled": false
   },
   "outputs": [
    {
     "data": {
      "text/plain": [
       "Timestamp('2020-12-07 00:00:00')"
      ]
     },
     "metadata": {},
     "output_type": "display_data"
    },
    {
     "data": {
      "text/plain": [
       "Timestamp('2020-12-21 00:00:00')"
      ]
     },
     "metadata": {},
     "output_type": "display_data"
    }
   ],
   "source": [
    "# Перевожу дату в datetime\n",
    "new_users['first_date'] = pd.to_datetime(new_users['first_date'])\n",
    "display(new_users['first_date'].min())\n",
    "display(new_users['first_date'].max())"
   ]
  },
  {
   "cell_type": "markdown",
   "id": "97a7e00a",
   "metadata": {},
   "source": [
    "<div class=\"alert alert-info\" style=\"background:rgba(135, 206, 235, 0.05);color:#080808\">\n",
    "\n",
    "- Дата запуска: 2020-12-07; дата остановки набора новых пользователей: 2020-12-21; Все совпадает с ТЗ.\n",
    "- Позже данные придется сократить, либо до 2020-12-10, либо до 2020-12-16.\n",
    "</div>"
   ]
  },
  {
   "cell_type": "code",
   "execution_count": 134,
   "id": "c2feb53b",
   "metadata": {},
   "outputs": [
    {
     "data": {
      "text/html": [
       "<div>\n",
       "<style scoped>\n",
       "    .dataframe tbody tr th:only-of-type {\n",
       "        vertical-align: middle;\n",
       "    }\n",
       "\n",
       "    .dataframe tbody tr th {\n",
       "        vertical-align: top;\n",
       "    }\n",
       "\n",
       "    .dataframe thead th {\n",
       "        text-align: right;\n",
       "    }\n",
       "</style>\n",
       "<table border=\"1\" class=\"dataframe\">\n",
       "  <thead>\n",
       "    <tr style=\"text-align: right;\">\n",
       "      <th></th>\n",
       "      <th>user_id</th>\n",
       "    </tr>\n",
       "    <tr>\n",
       "      <th>region</th>\n",
       "      <th></th>\n",
       "    </tr>\n",
       "  </thead>\n",
       "  <tbody>\n",
       "    <tr>\n",
       "      <th>APAC</th>\n",
       "      <td>72</td>\n",
       "    </tr>\n",
       "    <tr>\n",
       "      <th>CIS</th>\n",
       "      <td>55</td>\n",
       "    </tr>\n",
       "    <tr>\n",
       "      <th>EU</th>\n",
       "      <td>6351</td>\n",
       "    </tr>\n",
       "    <tr>\n",
       "      <th>N.America</th>\n",
       "      <td>223</td>\n",
       "    </tr>\n",
       "  </tbody>\n",
       "</table>\n",
       "</div>"
      ],
      "text/plain": [
       "           user_id\n",
       "region            \n",
       "APAC            72\n",
       "CIS             55\n",
       "EU            6351\n",
       "N.America      223"
      ]
     },
     "metadata": {},
     "output_type": "display_data"
    },
    {
     "data": {
      "text/html": [
       "<div>\n",
       "<style scoped>\n",
       "    .dataframe tbody tr th:only-of-type {\n",
       "        vertical-align: middle;\n",
       "    }\n",
       "\n",
       "    .dataframe tbody tr th {\n",
       "        vertical-align: top;\n",
       "    }\n",
       "\n",
       "    .dataframe thead th {\n",
       "        text-align: right;\n",
       "    }\n",
       "</style>\n",
       "<table border=\"1\" class=\"dataframe\">\n",
       "  <thead>\n",
       "    <tr style=\"text-align: right;\">\n",
       "      <th></th>\n",
       "      <th>user_id</th>\n",
       "    </tr>\n",
       "    <tr>\n",
       "      <th>device</th>\n",
       "      <th></th>\n",
       "    </tr>\n",
       "  </thead>\n",
       "  <tbody>\n",
       "    <tr>\n",
       "      <th>Android</th>\n",
       "      <td>2983</td>\n",
       "    </tr>\n",
       "    <tr>\n",
       "      <th>Mac</th>\n",
       "      <td>633</td>\n",
       "    </tr>\n",
       "    <tr>\n",
       "      <th>PC</th>\n",
       "      <td>1707</td>\n",
       "    </tr>\n",
       "    <tr>\n",
       "      <th>iPhone</th>\n",
       "      <td>1378</td>\n",
       "    </tr>\n",
       "  </tbody>\n",
       "</table>\n",
       "</div>"
      ],
      "text/plain": [
       "         user_id\n",
       "device          \n",
       "Android     2983\n",
       "Mac          633\n",
       "PC          1707\n",
       "iPhone      1378"
      ]
     },
     "metadata": {},
     "output_type": "display_data"
    }
   ],
   "source": [
    "display(new_users.groupby('region').agg({'user_id':'nunique'}))\n",
    "display(new_users.groupby('device').agg({'user_id':'nunique'}))"
   ]
  },
  {
   "cell_type": "code",
   "execution_count": 135,
   "id": "2005992c",
   "metadata": {},
   "outputs": [],
   "source": [
    "# Убираю пользователей не из EU. Представителей других регионов около 2% всей выборки, при этом в ТЗ указано, что аудитория - \n",
    "# - только жители EU. Таким образом следуем ТЗ более строго не теряя большого числа участников.\n",
    "new_users = new_users[new_users['region'] == 'EU']\n",
    "sys_test_list = new_users['user_id'].to_list()"
   ]
  },
  {
   "cell_type": "markdown",
   "id": "e5222d48",
   "metadata": {},
   "source": [
    "<div class=\"alert alert-info\" style=\"background:rgba(135, 206, 235, 0.05);color:#080808\">\n",
    "\n",
    "- Убрал 350 пользователей из оставшихся регионов. В остальном датасет в порядке.\n",
    "</div>"
   ]
  },
  {
   "cell_type": "code",
   "execution_count": 136,
   "id": "9fce86bd",
   "metadata": {},
   "outputs": [
    {
     "name": "stdout",
     "output_type": "stream",
     "text": [
      "Доля привлеченных пользователей из EU: 10.82%\n"
     ]
    }
   ],
   "source": [
    "# Узнаем сколько пользователей из EU добавилось после 2020-12-07 \n",
    "total_users = len(events_full['user_id'].unique())\n",
    "new_users_from_EU = len(new_users)\n",
    "print(f'Доля привлеченных пользователей из EU: {(new_users_from_EU / total_users):.2%}', )"
   ]
  },
  {
   "cell_type": "markdown",
   "id": "4e62617c",
   "metadata": {},
   "source": [
    "<div class=\"alert alert-info\" style=\"background:rgba(135, 206, 235, 0.05);color:#080808\">\n",
    "\n",
    "<b> Общие замечания по проверке данных </b>\n",
    "    \n",
    "- На данный момент имеется 6351 пользователей до фильтрации по датам. Скорее всего число участников станет ниже 6000, указанных в ТЗ. Задача - постараться сохранить больше пользователей без значительных искажений данных, чтобы не сильно отходить от ТЗ.\n",
    "- Нет оснований считать, что другой тест значительно повлияет на наше исследование. Также нет дублирующихся участников в двух группах. Однако, есть перевес в количестве в одной из групп, примерно в 30%. Разница весомая, стоит обратится к этим данным после фильтрации по датам. Если разница не увеличится значительно, то мы сохраняем пользователей, так как, в первую очередь, сравниваем относительные показатели, а не абсолютные.\n",
    "- Необходимо изучить количество участников, если откинуть новогоднее промо. Принять решение, стоит ли этих участников убирать.\n",
    "- Последняя дата в датасете на 5 меньше указанной в ТЗ.\n",
    "- Привлечено почти 11% Европейцев. Это недостаточно для удовлетворения ТЗ, но не слишком мало.\n",
    "</div>"
   ]
  },
  {
   "cell_type": "markdown",
   "id": "cb9e0334",
   "metadata": {},
   "source": [
    "### Подготовка данных"
   ]
  },
  {
   "cell_type": "code",
   "execution_count": 137,
   "id": "e38eb3ad",
   "metadata": {},
   "outputs": [
    {
     "name": "stdout",
     "output_type": "stream",
     "text": [
      "Регистрация до 10 числа 1561\n",
      "Регистрация до 16 числа 4086\n"
     ]
    }
   ],
   "source": [
    "# Сравним 2 выборки, те кто имел лайфтайм 14 дней к 2020-12-24 и к 2020-12-30\n",
    "print('Регистрация до 10 числа', len(new_users[new_users['first_date'] <= '2020-12-10']))\n",
    "print('Регистрация до 16 числа', len(new_users[new_users['first_date'] <= '2020-12-16']))"
   ]
  },
  {
   "cell_type": "markdown",
   "id": "fcdd2c11",
   "metadata": {},
   "source": [
    "<div class=\"alert alert-info\" style=\"background:rgba(135, 206, 235, 0.05);color:#080808\">\n",
    "\n",
    "- Не учитывать тех, кто попадает на новогодние промо не оправдано, так как они составляют больше половины имеющихся участников.\n",
    "- Также важно отметить, что датасет содержит чуть больше 4 тысяч человек, что уже ниже указанных в ТЗ 6000.\n",
    "</div>"
   ]
  },
  {
   "cell_type": "code",
   "execution_count": 138,
   "id": "05ae1a1a",
   "metadata": {},
   "outputs": [],
   "source": [
    "# Последняя дата регистрации для нашего исследования = 2020-12-16\n",
    "new_users = new_users[new_users['first_date'] <= '2020-12-17']"
   ]
  },
  {
   "cell_type": "code",
   "execution_count": 139,
   "id": "96b0502d",
   "metadata": {},
   "outputs": [
    {
     "data": {
      "text/html": [
       "<div>\n",
       "<style scoped>\n",
       "    .dataframe tbody tr th:only-of-type {\n",
       "        vertical-align: middle;\n",
       "    }\n",
       "\n",
       "    .dataframe tbody tr th {\n",
       "        vertical-align: top;\n",
       "    }\n",
       "\n",
       "    .dataframe thead th {\n",
       "        text-align: right;\n",
       "    }\n",
       "</style>\n",
       "<table border=\"1\" class=\"dataframe\">\n",
       "  <thead>\n",
       "    <tr style=\"text-align: right;\">\n",
       "      <th></th>\n",
       "      <th>user_id</th>\n",
       "      <th>event_dt</th>\n",
       "      <th>event_name</th>\n",
       "      <th>details</th>\n",
       "    </tr>\n",
       "  </thead>\n",
       "  <tbody>\n",
       "    <tr>\n",
       "      <th>5</th>\n",
       "      <td>831887FE7F2D6CBA</td>\n",
       "      <td>2020-12-07 06:50:29</td>\n",
       "      <td>purchase</td>\n",
       "      <td>4.99</td>\n",
       "    </tr>\n",
       "    <tr>\n",
       "      <th>17</th>\n",
       "      <td>3C5DD0288AC4FE23</td>\n",
       "      <td>2020-12-07 19:42:40</td>\n",
       "      <td>purchase</td>\n",
       "      <td>4.99</td>\n",
       "    </tr>\n",
       "    <tr>\n",
       "      <th>58</th>\n",
       "      <td>49EA242586C87836</td>\n",
       "      <td>2020-12-07 06:31:24</td>\n",
       "      <td>purchase</td>\n",
       "      <td>99.99</td>\n",
       "    </tr>\n",
       "    <tr>\n",
       "      <th>71</th>\n",
       "      <td>2B06EB547B7AAD08</td>\n",
       "      <td>2020-12-07 21:36:38</td>\n",
       "      <td>purchase</td>\n",
       "      <td>4.99</td>\n",
       "    </tr>\n",
       "    <tr>\n",
       "      <th>74</th>\n",
       "      <td>A640F31CAC7823A6</td>\n",
       "      <td>2020-12-07 18:48:26</td>\n",
       "      <td>purchase</td>\n",
       "      <td>4.99</td>\n",
       "    </tr>\n",
       "    <tr>\n",
       "      <th>...</th>\n",
       "      <td>...</td>\n",
       "      <td>...</td>\n",
       "      <td>...</td>\n",
       "      <td>...</td>\n",
       "    </tr>\n",
       "    <tr>\n",
       "      <th>440239</th>\n",
       "      <td>D21F0D4FDCD82DB2</td>\n",
       "      <td>2020-12-29 02:17:00</td>\n",
       "      <td>login</td>\n",
       "      <td>NaN</td>\n",
       "    </tr>\n",
       "    <tr>\n",
       "      <th>440258</th>\n",
       "      <td>96BDD55846D1F7F6</td>\n",
       "      <td>2020-12-29 16:53:42</td>\n",
       "      <td>login</td>\n",
       "      <td>NaN</td>\n",
       "    </tr>\n",
       "    <tr>\n",
       "      <th>440267</th>\n",
       "      <td>553BAE96C6EB6240</td>\n",
       "      <td>2020-12-29 14:09:14</td>\n",
       "      <td>login</td>\n",
       "      <td>NaN</td>\n",
       "    </tr>\n",
       "    <tr>\n",
       "      <th>440281</th>\n",
       "      <td>DD4352CDCF8C3D57</td>\n",
       "      <td>2020-12-30 12:42:56</td>\n",
       "      <td>login</td>\n",
       "      <td>NaN</td>\n",
       "    </tr>\n",
       "    <tr>\n",
       "      <th>440289</th>\n",
       "      <td>75845C83258FBF73</td>\n",
       "      <td>2020-12-30 06:42:52</td>\n",
       "      <td>login</td>\n",
       "      <td>NaN</td>\n",
       "    </tr>\n",
       "  </tbody>\n",
       "</table>\n",
       "<p>24698 rows × 4 columns</p>\n",
       "</div>"
      ],
      "text/plain": [
       "                 user_id            event_dt event_name  details\n",
       "5       831887FE7F2D6CBA 2020-12-07 06:50:29   purchase     4.99\n",
       "17      3C5DD0288AC4FE23 2020-12-07 19:42:40   purchase     4.99\n",
       "58      49EA242586C87836 2020-12-07 06:31:24   purchase    99.99\n",
       "71      2B06EB547B7AAD08 2020-12-07 21:36:38   purchase     4.99\n",
       "74      A640F31CAC7823A6 2020-12-07 18:48:26   purchase     4.99\n",
       "...                  ...                 ...        ...      ...\n",
       "440239  D21F0D4FDCD82DB2 2020-12-29 02:17:00      login      NaN\n",
       "440258  96BDD55846D1F7F6 2020-12-29 16:53:42      login      NaN\n",
       "440267  553BAE96C6EB6240 2020-12-29 14:09:14      login      NaN\n",
       "440281  DD4352CDCF8C3D57 2020-12-30 12:42:56      login      NaN\n",
       "440289  75845C83258FBF73 2020-12-30 06:42:52      login      NaN\n",
       "\n",
       "[24698 rows x 4 columns]"
      ]
     },
     "execution_count": 139,
     "metadata": {},
     "output_type": "execute_result"
    }
   ],
   "source": [
    "events"
   ]
  },
  {
   "cell_type": "code",
   "execution_count": 140,
   "id": "6a0082ba",
   "metadata": {},
   "outputs": [
    {
     "data": {
      "text/html": [
       "<div>\n",
       "<style scoped>\n",
       "    .dataframe tbody tr th:only-of-type {\n",
       "        vertical-align: middle;\n",
       "    }\n",
       "\n",
       "    .dataframe tbody tr th {\n",
       "        vertical-align: top;\n",
       "    }\n",
       "\n",
       "    .dataframe thead th {\n",
       "        text-align: right;\n",
       "    }\n",
       "</style>\n",
       "<table border=\"1\" class=\"dataframe\">\n",
       "  <thead>\n",
       "    <tr style=\"text-align: right;\">\n",
       "      <th></th>\n",
       "      <th>user_id</th>\n",
       "      <th>first_date</th>\n",
       "      <th>region</th>\n",
       "      <th>device</th>\n",
       "    </tr>\n",
       "  </thead>\n",
       "  <tbody>\n",
       "    <tr>\n",
       "      <th>0</th>\n",
       "      <td>D72A72121175D8BE</td>\n",
       "      <td>2020-12-07</td>\n",
       "      <td>EU</td>\n",
       "      <td>PC</td>\n",
       "    </tr>\n",
       "    <tr>\n",
       "      <th>13</th>\n",
       "      <td>E6DE857AFBDC6102</td>\n",
       "      <td>2020-12-07</td>\n",
       "      <td>EU</td>\n",
       "      <td>PC</td>\n",
       "    </tr>\n",
       "    <tr>\n",
       "      <th>20</th>\n",
       "      <td>DD4352CDCF8C3D57</td>\n",
       "      <td>2020-12-07</td>\n",
       "      <td>EU</td>\n",
       "      <td>Android</td>\n",
       "    </tr>\n",
       "    <tr>\n",
       "      <th>23</th>\n",
       "      <td>831887FE7F2D6CBA</td>\n",
       "      <td>2020-12-07</td>\n",
       "      <td>EU</td>\n",
       "      <td>Android</td>\n",
       "    </tr>\n",
       "    <tr>\n",
       "      <th>39</th>\n",
       "      <td>4CB179C7F847320B</td>\n",
       "      <td>2020-12-07</td>\n",
       "      <td>EU</td>\n",
       "      <td>iPhone</td>\n",
       "    </tr>\n",
       "    <tr>\n",
       "      <th>...</th>\n",
       "      <td>...</td>\n",
       "      <td>...</td>\n",
       "      <td>...</td>\n",
       "      <td>...</td>\n",
       "    </tr>\n",
       "    <tr>\n",
       "      <th>57416</th>\n",
       "      <td>CB194C10D84C7E25</td>\n",
       "      <td>2020-12-13</td>\n",
       "      <td>EU</td>\n",
       "      <td>PC</td>\n",
       "    </tr>\n",
       "    <tr>\n",
       "      <th>57432</th>\n",
       "      <td>2816B43B4A070B95</td>\n",
       "      <td>2020-12-13</td>\n",
       "      <td>EU</td>\n",
       "      <td>Android</td>\n",
       "    </tr>\n",
       "    <tr>\n",
       "      <th>57433</th>\n",
       "      <td>AD21E668FC949228</td>\n",
       "      <td>2020-12-13</td>\n",
       "      <td>EU</td>\n",
       "      <td>Mac</td>\n",
       "    </tr>\n",
       "    <tr>\n",
       "      <th>57441</th>\n",
       "      <td>1FCFF602844AD352</td>\n",
       "      <td>2020-12-13</td>\n",
       "      <td>EU</td>\n",
       "      <td>Android</td>\n",
       "    </tr>\n",
       "    <tr>\n",
       "      <th>57443</th>\n",
       "      <td>677B05621B3FBF5D</td>\n",
       "      <td>2020-12-13</td>\n",
       "      <td>EU</td>\n",
       "      <td>Android</td>\n",
       "    </tr>\n",
       "  </tbody>\n",
       "</table>\n",
       "<p>4426 rows × 4 columns</p>\n",
       "</div>"
      ],
      "text/plain": [
       "                user_id first_date region   device\n",
       "0      D72A72121175D8BE 2020-12-07     EU       PC\n",
       "13     E6DE857AFBDC6102 2020-12-07     EU       PC\n",
       "20     DD4352CDCF8C3D57 2020-12-07     EU  Android\n",
       "23     831887FE7F2D6CBA 2020-12-07     EU  Android\n",
       "39     4CB179C7F847320B 2020-12-07     EU   iPhone\n",
       "...                 ...        ...    ...      ...\n",
       "57416  CB194C10D84C7E25 2020-12-13     EU       PC\n",
       "57432  2816B43B4A070B95 2020-12-13     EU  Android\n",
       "57433  AD21E668FC949228 2020-12-13     EU      Mac\n",
       "57441  1FCFF602844AD352 2020-12-13     EU  Android\n",
       "57443  677B05621B3FBF5D 2020-12-13     EU  Android\n",
       "\n",
       "[4426 rows x 4 columns]"
      ]
     },
     "execution_count": 140,
     "metadata": {},
     "output_type": "execute_result"
    }
   ],
   "source": [
    "new_users"
   ]
  },
  {
   "cell_type": "code",
   "execution_count": 141,
   "id": "061f4fc1",
   "metadata": {},
   "outputs": [],
   "source": [
    "# Сокращаю остальные датафреймы под это условие\n",
    "new_users_list = new_users[\"user_id\"].to_list()\n",
    "events = events.query('user_id in @new_users_list') "
   ]
  },
  {
   "cell_type": "code",
   "execution_count": 142,
   "id": "a3349498",
   "metadata": {},
   "outputs": [],
   "source": [
    "# Убираю колонку с тестом, так как он всего один\n",
    "sys_test = sys_test.drop(['ab_test'], axis=1)"
   ]
  },
  {
   "cell_type": "code",
   "execution_count": 143,
   "id": "b973d89e",
   "metadata": {},
   "outputs": [
    {
     "data": {
      "text/html": [
       "<div>\n",
       "<style scoped>\n",
       "    .dataframe tbody tr th:only-of-type {\n",
       "        vertical-align: middle;\n",
       "    }\n",
       "\n",
       "    .dataframe tbody tr th {\n",
       "        vertical-align: top;\n",
       "    }\n",
       "\n",
       "    .dataframe thead th {\n",
       "        text-align: right;\n",
       "    }\n",
       "</style>\n",
       "<table border=\"1\" class=\"dataframe\">\n",
       "  <thead>\n",
       "    <tr style=\"text-align: right;\">\n",
       "      <th></th>\n",
       "      <th>user_id</th>\n",
       "    </tr>\n",
       "    <tr>\n",
       "      <th>group</th>\n",
       "      <th></th>\n",
       "    </tr>\n",
       "  </thead>\n",
       "  <tbody>\n",
       "    <tr>\n",
       "      <th>A</th>\n",
       "      <td>3824</td>\n",
       "    </tr>\n",
       "    <tr>\n",
       "      <th>B</th>\n",
       "      <td>2877</td>\n",
       "    </tr>\n",
       "  </tbody>\n",
       "</table>\n",
       "</div>"
      ],
      "text/plain": [
       "       user_id\n",
       "group         \n",
       "A         3824\n",
       "B         2877"
      ]
     },
     "execution_count": 143,
     "metadata": {},
     "output_type": "execute_result"
    }
   ],
   "source": [
    "sys_test.groupby('group').agg({'user_id':'nunique'})"
   ]
  },
  {
   "cell_type": "markdown",
   "id": "40e0c06e",
   "metadata": {},
   "source": [
    "<div class=\"alert alert-info\" style=\"background:rgba(135, 206, 235, 0.05);color:#080808\">\n",
    "\n",
    "- Разница между группами около 30%, но при этом она стала меньше в абсолютных значениях.\n",
    "</div>"
   ]
  },
  {
   "cell_type": "code",
   "execution_count": 144,
   "id": "5f86d759",
   "metadata": {},
   "outputs": [
    {
     "data": {
      "text/html": [
       "<div>\n",
       "<style scoped>\n",
       "    .dataframe tbody tr th:only-of-type {\n",
       "        vertical-align: middle;\n",
       "    }\n",
       "\n",
       "    .dataframe tbody tr th {\n",
       "        vertical-align: top;\n",
       "    }\n",
       "\n",
       "    .dataframe thead th {\n",
       "        text-align: right;\n",
       "    }\n",
       "</style>\n",
       "<table border=\"1\" class=\"dataframe\">\n",
       "  <thead>\n",
       "    <tr style=\"text-align: right;\">\n",
       "      <th></th>\n",
       "      <th>user_id</th>\n",
       "    </tr>\n",
       "    <tr>\n",
       "      <th>event_name</th>\n",
       "      <th></th>\n",
       "    </tr>\n",
       "  </thead>\n",
       "  <tbody>\n",
       "    <tr>\n",
       "      <th>login</th>\n",
       "      <td>2155</td>\n",
       "    </tr>\n",
       "    <tr>\n",
       "      <th>product_cart</th>\n",
       "      <td>645</td>\n",
       "    </tr>\n",
       "    <tr>\n",
       "      <th>product_page</th>\n",
       "      <td>1327</td>\n",
       "    </tr>\n",
       "    <tr>\n",
       "      <th>purchase</th>\n",
       "      <td>645</td>\n",
       "    </tr>\n",
       "  </tbody>\n",
       "</table>\n",
       "</div>"
      ],
      "text/plain": [
       "              user_id\n",
       "event_name           \n",
       "login            2155\n",
       "product_cart      645\n",
       "product_page     1327\n",
       "purchase          645"
      ]
     },
     "execution_count": 144,
     "metadata": {},
     "output_type": "execute_result"
    }
   ],
   "source": [
    "events.groupby('event_name').agg({'user_id' : 'nunique'})"
   ]
  },
  {
   "cell_type": "markdown",
   "id": "2515c538",
   "metadata": {},
   "source": [
    "<div class=\"alert alert-info\" style=\"background:rgba(135, 206, 235, 0.05);color:#080808\">\n",
    "   \n",
    "- В воронке все еще значительно меньшей действий, чем участников, почти в 2 раза. Узнаем, как выглядит распределение на A и B после того, как мы оставим только активных юзеров.\n",
    "- Это значительная потеря в мощности теста, но мы не можем на это повлиять. Поскольку для нас важно узнать разницу в конверсии разных групп, пользователи не сделавшие действий не дают нам этих данных. Они могут быть здесь по 2 причинам. Либо логин не равен основной странице, и эти пользователи, например, заходили на главную и покидали сайт. Либо, данные этих пользователей некорректно занесло в логи и мы потеряли информацию об их действиях. В любом случае придется их отбросить.\n",
    "</div>"
   ]
  },
  {
   "cell_type": "code",
   "execution_count": 145,
   "id": "8110ab47",
   "metadata": {},
   "outputs": [
    {
     "data": {
      "text/plain": [
       "2155"
      ]
     },
     "execution_count": 145,
     "metadata": {},
     "output_type": "execute_result"
    }
   ],
   "source": [
    "# Формирую список тех id, с которыми будем работать\n",
    "id_list = set(events['user_id'].to_list())\n",
    "len(id_list)"
   ]
  },
  {
   "cell_type": "code",
   "execution_count": 146,
   "id": "451e5579",
   "metadata": {},
   "outputs": [],
   "source": [
    "sys_test = sys_test.query('user_id in @id_list')\n",
    "new_users = new_users.query('user_id in @id_list')"
   ]
  },
  {
   "cell_type": "code",
   "execution_count": 147,
   "id": "b42dd72e",
   "metadata": {},
   "outputs": [
    {
     "data": {
      "text/html": [
       "<div>\n",
       "<style scoped>\n",
       "    .dataframe tbody tr th:only-of-type {\n",
       "        vertical-align: middle;\n",
       "    }\n",
       "\n",
       "    .dataframe tbody tr th {\n",
       "        vertical-align: top;\n",
       "    }\n",
       "\n",
       "    .dataframe thead th {\n",
       "        text-align: right;\n",
       "    }\n",
       "</style>\n",
       "<table border=\"1\" class=\"dataframe\">\n",
       "  <thead>\n",
       "    <tr style=\"text-align: right;\">\n",
       "      <th></th>\n",
       "      <th>user_id</th>\n",
       "    </tr>\n",
       "    <tr>\n",
       "      <th>group</th>\n",
       "      <th></th>\n",
       "    </tr>\n",
       "  </thead>\n",
       "  <tbody>\n",
       "    <tr>\n",
       "      <th>A</th>\n",
       "      <td>1515</td>\n",
       "    </tr>\n",
       "    <tr>\n",
       "      <th>B</th>\n",
       "      <td>640</td>\n",
       "    </tr>\n",
       "  </tbody>\n",
       "</table>\n",
       "</div>"
      ],
      "text/plain": [
       "       user_id\n",
       "group         \n",
       "A         1515\n",
       "B          640"
      ]
     },
     "execution_count": 147,
     "metadata": {},
     "output_type": "execute_result"
    }
   ],
   "source": [
    "sys_test.groupby('group').agg({'user_id':'nunique'})"
   ]
  },
  {
   "cell_type": "markdown",
   "id": "206e7b72",
   "metadata": {},
   "source": [
    "<div class=\"alert alert-info\" style=\"background:rgba(135, 206, 235, 0.05);color:#080808\">\n",
    " \n",
    "- Данные отсортированы и готовы к исследовательскому анализу.\n",
    "- По итогам обработки данных стоит отметить большое количество недочетов, ошибок в данных и расхождений с ТЗ:\n",
    "    - 1) Невозможность сделать выборку более 6000 по ряду причин.\n",
    "    - 2) После вычета пользователей без действий остается 3675 пользователей, что уже почти в 2 раза ниже указанных в ТЗ.\n",
    "    - 3) В ТЗ говорится, что тест проведен до 2021-01-04, однако данные даны только до 2020-12-30, что сокращает количество пользователей с лайфтаймом в 14 дней и влияет на результаты исследования.\n",
    "    - 4) Привлечено было около 11% Европейцев, что несколько ниже заявленных в ТЗ 15%.\n",
    "    - 5) Количество пользователей в группе А превышает количество пользователей группы более чем в 2 раза, что тоже может сказаться на результатах исследования и говорит о неправильном распределении тестовых групп.\n",
    "    - 6) Чтобы не терять еще больше пользователей, в выборку попадают те, кто застал новогоднее промо. Это не критично, но важно это отметить и помнить во время исследования.\n",
    "- Таким образом, после обработки данных, из более чем 6000 участников остается 1917. Все вышеперечисленное вместе может значительно исказить результаты исследования. Те данные, которые остались после очистки, более валидны, хоть мы и потеряли более 60% пользователей и идем в разрез с ТЗ.\n",
    "</div>"
   ]
  },
  {
   "cell_type": "markdown",
   "id": "f8241501",
   "metadata": {},
   "source": [
    "## **Исследовательский анализ данных**\n",
    "<a class=\"anchor\" id=\"paragraph2\"></a>"
   ]
  },
  {
   "cell_type": "code",
   "execution_count": 148,
   "id": "34695356",
   "metadata": {},
   "outputs": [],
   "source": [
    "# Соберем все данные в один датасет для удобства работы\n",
    "new_users = new_users.merge(sys_test, on='user_id', how='left')\n",
    "events = events.merge(new_users, on='user_id', how='outer')\n",
    "events = events.drop(['region'], axis=1)"
   ]
  },
  {
   "cell_type": "code",
   "execution_count": 149,
   "id": "51e430a9",
   "metadata": {},
   "outputs": [],
   "source": [
    "# Убираем пользователей с лайфтаймом выше 14 дней\n",
    "events['date'] = pd.to_datetime(events['event_dt'].dt.date)\n",
    "events['delta'] = (events['date'] - events['first_date'])\n",
    "events = events[events['delta'] <= pd.Timedelta('14 days')]"
   ]
  },
  {
   "cell_type": "code",
   "execution_count": 150,
   "id": "3ff595ac",
   "metadata": {},
   "outputs": [
    {
     "data": {
      "image/png": "[encoded data removed]",
      "text/plain": [
       "<Figure size 1152x432 with 1 Axes>"
      ]
     },
     "metadata": {
      "needs_background": "light"
     },
     "output_type": "display_data"
    }
   ],
   "source": [
    "# Как число событий в выборках распределено по дням?\n",
    "temp_events = events.groupby(['group','date']).agg({'user_id':'count'}).reset_index()\n",
    "# задаем размер графика:\n",
    "plt.figure(figsize=(16, 6))\n",
    "\n",
    "# тут мы посмтроим два графика:\n",
    "plt.plot(temp_events.query('group == \"A\"')['date'], temp_events.query('group == \"A\"')['user_id'], label = \"Group A\")\n",
    "plt.plot(temp_events.query('group == \"B\"')['date'], temp_events.query('group == \"B\"')['user_id'], label = \"Group B\")\n",
    "\n",
    "# зададим корректное оформление:\n",
    "plt.xlabel('Дата')\n",
    "plt.ylabel('Количество событий')\n",
    "plt.title('Количество событий в день по группам теста')\n",
    "\n",
    "plt.legend()\n",
    "plt.grid()\n",
    "plt.show()"
   ]
  },
  {
   "cell_type": "code",
   "execution_count": 151,
   "id": "19cd72a5",
   "metadata": {},
   "outputs": [
    {
     "data": {
      "image/png": "[encoded data removed]",
      "text/plain": [
       "<Figure size 1152x432 with 1 Axes>"
      ]
     },
     "metadata": {
      "needs_background": "light"
     },
     "output_type": "display_data"
    }
   ],
   "source": [
    "# Как число покупок в выборках распределено по дням?\n",
    "purchase = events[events['event_name'] == 'purchase']\n",
    "# группируем данные для графика:\n",
    "temp_purchase = purchase.groupby(['group','date']).agg({'user_id':'count'}).reset_index()\n",
    "\n",
    "# задаем размер графика:\n",
    "plt.figure(figsize=(16, 6))\n",
    "\n",
    "# тут мы посмтроим два графика:\n",
    "plt.plot(temp_purchase.query('group == \"A\"')['date'], temp_purchase.query('group == \"A\"')['user_id'], label = \"Group A\")\n",
    "plt.plot(temp_purchase.query('group == \"B\"')['date'], temp_purchase.query('group == \"B\"')['user_id'], label = \"Group B\")\n",
    "\n",
    "# зададим корректное оформление:\n",
    "plt.xlabel('Дата')\n",
    "plt.ylabel('Количество покупок')\n",
    "plt.title('Количество покупок в день по группам теста')\n",
    "\n",
    "plt.legend()\n",
    "plt.grid()\n",
    "plt.show()"
   ]
  },
  {
   "cell_type": "code",
   "execution_count": 152,
   "id": "24b64ec2",
   "metadata": {
    "scrolled": false
   },
   "outputs": [
    {
     "name": "stdout",
     "output_type": "stream",
     "text": [
      "Количество событий с 13.12 по 17.12 = 5844\n"
     ]
    }
   ],
   "source": [
    "events_timed = events[(events['date'] >= '2020-12-13') & (events['date'] <= '2020-12-17')]\n",
    "print('Количество событий с 13.12 по 17.12 =', len(events_timed))"
   ]
  },
  {
   "cell_type": "code",
   "execution_count": 153,
   "id": "ff29950e",
   "metadata": {},
   "outputs": [
    {
     "name": "stdout",
     "output_type": "stream",
     "text": [
      "Количество дублированных событий с 13.12 по 17.12 = 3452\n"
     ]
    }
   ],
   "source": [
    "print('Количество дублированных событий с 13.12 по 17.12 =', len(events_timed[events_timed.event_dt.duplicated(keep=False)]))"
   ]
  },
  {
   "cell_type": "markdown",
   "id": "99da4998",
   "metadata": {},
   "source": [
    "<div class=\"alert alert-info\" style=\"background:rgba(135, 206, 235, 0.05);color:#080808\">\n",
    "\n",
    "- Распределение как покупок, так и действий в целом по дням достаточно равномерное, с тенденцией на снижение, за исключением одного длительного всплеска в группе В. Я связываю это с дубликатами, которые возникли еще на стадии подготовки данных, скорее всего произошла ошибка в логах и зарегистрировала больше действий, чем на самом деле их было предпринято.\n",
    "- Наблюдается довольно стабильный спад, начиная с 21.12. Судя по графику, промо 25 числа практически не оказало влияния.\n",
    "</div>"
   ]
  },
  {
   "cell_type": "code",
   "execution_count": 154,
   "id": "f3e427e1",
   "metadata": {},
   "outputs": [],
   "source": [
    "# Количество событий на пользователя одинаково распределены в выборках?\n",
    "events_grouped = (\n",
    "    events.groupby(['user_id', 'group'])\n",
    "    .agg({'event_name':'count'})\n",
    "    .rename(columns={'event_name' : 'count'})\n",
    "    .reset_index()\n",
    ")"
   ]
  },
  {
   "cell_type": "code",
   "execution_count": 155,
   "id": "95d2878d",
   "metadata": {
    "scrolled": true
   },
   "outputs": [
    {
     "name": "stdout",
     "output_type": "stream",
     "text": [
      "Группа А\n"
     ]
    },
    {
     "data": {
      "text/html": [
       "<div>\n",
       "<style scoped>\n",
       "    .dataframe tbody tr th:only-of-type {\n",
       "        vertical-align: middle;\n",
       "    }\n",
       "\n",
       "    .dataframe tbody tr th {\n",
       "        vertical-align: top;\n",
       "    }\n",
       "\n",
       "    .dataframe thead th {\n",
       "        text-align: right;\n",
       "    }\n",
       "</style>\n",
       "<table border=\"1\" class=\"dataframe\">\n",
       "  <thead>\n",
       "    <tr style=\"text-align: right;\">\n",
       "      <th></th>\n",
       "      <th>count</th>\n",
       "    </tr>\n",
       "  </thead>\n",
       "  <tbody>\n",
       "    <tr>\n",
       "      <th>count</th>\n",
       "      <td>1515.000000</td>\n",
       "    </tr>\n",
       "    <tr>\n",
       "      <th>mean</th>\n",
       "      <td>6.944554</td>\n",
       "    </tr>\n",
       "    <tr>\n",
       "      <th>std</th>\n",
       "      <td>3.865245</td>\n",
       "    </tr>\n",
       "    <tr>\n",
       "      <th>min</th>\n",
       "      <td>1.000000</td>\n",
       "    </tr>\n",
       "    <tr>\n",
       "      <th>25%</th>\n",
       "      <td>4.000000</td>\n",
       "    </tr>\n",
       "    <tr>\n",
       "      <th>50%</th>\n",
       "      <td>6.000000</td>\n",
       "    </tr>\n",
       "    <tr>\n",
       "      <th>75%</th>\n",
       "      <td>9.000000</td>\n",
       "    </tr>\n",
       "    <tr>\n",
       "      <th>max</th>\n",
       "      <td>24.000000</td>\n",
       "    </tr>\n",
       "  </tbody>\n",
       "</table>\n",
       "</div>"
      ],
      "text/plain": [
       "             count\n",
       "count  1515.000000\n",
       "mean      6.944554\n",
       "std       3.865245\n",
       "min       1.000000\n",
       "25%       4.000000\n",
       "50%       6.000000\n",
       "75%       9.000000\n",
       "max      24.000000"
      ]
     },
     "metadata": {},
     "output_type": "display_data"
    }
   ],
   "source": [
    "# Посмотрим на показатели describe для каждой группы\n",
    "print('Группа А')\n",
    "display(events_grouped[events_grouped['group'] == 'A'].describe())"
   ]
  },
  {
   "cell_type": "code",
   "execution_count": 156,
   "id": "b68986fe",
   "metadata": {},
   "outputs": [
    {
     "name": "stdout",
     "output_type": "stream",
     "text": [
      "Группа B\n"
     ]
    },
    {
     "data": {
      "text/html": [
       "<div>\n",
       "<style scoped>\n",
       "    .dataframe tbody tr th:only-of-type {\n",
       "        vertical-align: middle;\n",
       "    }\n",
       "\n",
       "    .dataframe tbody tr th {\n",
       "        vertical-align: top;\n",
       "    }\n",
       "\n",
       "    .dataframe thead th {\n",
       "        text-align: right;\n",
       "    }\n",
       "</style>\n",
       "<table border=\"1\" class=\"dataframe\">\n",
       "  <thead>\n",
       "    <tr style=\"text-align: right;\">\n",
       "      <th></th>\n",
       "      <th>count</th>\n",
       "    </tr>\n",
       "  </thead>\n",
       "  <tbody>\n",
       "    <tr>\n",
       "      <th>count</th>\n",
       "      <td>640.000000</td>\n",
       "    </tr>\n",
       "    <tr>\n",
       "      <th>mean</th>\n",
       "      <td>5.793750</td>\n",
       "    </tr>\n",
       "    <tr>\n",
       "      <th>std</th>\n",
       "      <td>3.464728</td>\n",
       "    </tr>\n",
       "    <tr>\n",
       "      <th>min</th>\n",
       "      <td>1.000000</td>\n",
       "    </tr>\n",
       "    <tr>\n",
       "      <th>25%</th>\n",
       "      <td>3.000000</td>\n",
       "    </tr>\n",
       "    <tr>\n",
       "      <th>50%</th>\n",
       "      <td>6.000000</td>\n",
       "    </tr>\n",
       "    <tr>\n",
       "      <th>75%</th>\n",
       "      <td>8.000000</td>\n",
       "    </tr>\n",
       "    <tr>\n",
       "      <th>max</th>\n",
       "      <td>24.000000</td>\n",
       "    </tr>\n",
       "  </tbody>\n",
       "</table>\n",
       "</div>"
      ],
      "text/plain": [
       "            count\n",
       "count  640.000000\n",
       "mean     5.793750\n",
       "std      3.464728\n",
       "min      1.000000\n",
       "25%      3.000000\n",
       "50%      6.000000\n",
       "75%      8.000000\n",
       "max     24.000000"
      ]
     },
     "metadata": {},
     "output_type": "display_data"
    }
   ],
   "source": [
    "print('Группа B')\n",
    "display(events_grouped[events_grouped['group'] == 'B'].describe())"
   ]
  },
  {
   "cell_type": "markdown",
   "id": "27c0739b",
   "metadata": {},
   "source": [
    "<div class=\"alert alert-info\" style=\"background:rgba(135, 206, 235, 0.05);color:#080808\">\n",
    "\n",
    "- Все действия выглядят приемлемо, медианы совпадают, максимум тоже, количество максимальных действий реалистично. Несоколько отличаются средние показатели.\n",
    "</div>"
   ]
  },
  {
   "cell_type": "code",
   "execution_count": 157,
   "id": "d8be3b89",
   "metadata": {},
   "outputs": [
    {
     "data": {
      "image/png": "[encoded data removed]",
      "text/plain": [
       "<Figure size 432x288 with 1 Axes>"
      ]
     },
     "metadata": {
      "needs_background": "light"
     },
     "output_type": "display_data"
    }
   ],
   "source": [
    "#price_spb_centr\n",
    "x = events_grouped[events_grouped['group'] == 'A']['count']\n",
    "y = events_grouped[events_grouped['group'] == 'B']['count']       \n",
    "bins = np.linspace(0, 22, 12)\n",
    "plt.title('Сравнение количества действий на одного пользователя')\n",
    "plt.ylim([10, 400])\n",
    "plt.hist(x, bins, alpha=1, color=\"#66A3D2\", edgecolor='k', label='Группа А')\n",
    "plt.hist(y, bins, alpha=0.7, color=\"#FFC373\", edgecolor='k', label='Группа B')\n",
    "plt.legend(loc='upper right')\n",
    "plt.show()"
   ]
  },
  {
   "cell_type": "markdown",
   "id": "d506133b",
   "metadata": {},
   "source": [
    "<div class=\"alert alert-info\" style=\"background:rgba(135, 206, 235, 0.05);color:#080808\">\n",
    "  \n",
    "- Благодаря графику мы увидели, что в группе А значительно больше пользователей делали более 10 действий. Речь не только об абсолютных показателях, но и об относительных, которые для нас наиболее важны. Также среди меньших действий на человека, лидирует тоже группа А, но уже не так ощутимо.\n",
    "</div>"
   ]
  },
  {
   "cell_type": "code",
   "execution_count": 158,
   "id": "8f7d2d2a",
   "metadata": {},
   "outputs": [],
   "source": [
    "# Создаем датасеты для воронок\n",
    "# Датасет для группы А\n",
    "funnel_a = (\n",
    "    events[events['group'] == 'A']\n",
    "    .groupby('event_name')\n",
    "    .agg({'user_id':'nunique'})\n",
    "    .rename(columns={'user_id':'count'})\n",
    "    .reindex(['login', 'product_page', 'product_cart', 'purchase'])\n",
    "    .reset_index()\n",
    ")\n",
    "\n",
    "# Поскольку переход в корзину необязателен, то конверсию считаю от первого действия, а не от предыдущего\n",
    "funnel_a['conversion'] = (\n",
    "    funnel_a['count'] / funnel_a['count'][0]\n",
    "    ).apply(lambda x: '{0:1.3}'.format(x))\n",
    "\n",
    "# Переименовываю для лучшей визуализации воронки\n",
    "funnel_a['event_name'] = funnel_a['event_name'].replace(\n",
    "    {'login' : 'Логин',\n",
    "     'product_page' : 'Предложения',\n",
    "     'product_cart' : 'Корзина', \n",
    "     'purchase' : 'Оплата'   \n",
    "})\n",
    "\n",
    "\n",
    "funnel_a['group'] = 'A'"
   ]
  },
  {
   "cell_type": "code",
   "execution_count": 159,
   "id": "0ea8fac5",
   "metadata": {},
   "outputs": [],
   "source": [
    "# Создаем датасеты для воронок\n",
    "# Датасет для группы А\n",
    "funnel_b = (\n",
    "    events[events['group'] == 'B']\n",
    "    .groupby('event_name')\n",
    "    .agg({'user_id':'nunique'})\n",
    "    .rename(columns={'user_id':'count'})\n",
    "    .reindex(['login', 'product_page', 'product_cart', 'purchase'])\n",
    "    .reset_index()\n",
    ")\n",
    "\n",
    "# Поскольку переход в корзину необязателен, то конверсию считаю от первого действия, а не от предыдущего\n",
    "funnel_b['conversion'] = (\n",
    "    funnel_b['count'] / funnel_b['count'][0]\n",
    "    ).apply(lambda x: '{0:1.3}'.format(x))\n",
    "\n",
    "# Переименовываю для лучшей визуализации воронки\n",
    "funnel_b['event_name'] = funnel_b['event_name'].replace(\n",
    "    {'login' : 'Логин',\n",
    "     'product_page' : 'Предложения',\n",
    "     'product_cart' : 'Корзина', \n",
    "     'purchase' : 'Оплата'\n",
    "})\n",
    "\n",
    "funnel_b['group'] = 'B'"
   ]
  },
  {
   "cell_type": "code",
   "execution_count": 160,
   "id": "b90adc23",
   "metadata": {},
   "outputs": [
    {
     "data": {
      "application/vnd.plotly.v1+json": {
       "config": {
        "plotlyServerURL": "https://plot.ly"
       },
       "data": [
        {
         "name": "Группа А",
         "textinfo": "value+percent initial",
         "type": "funnel",
         "x": [
          1515,
          962,
          458,
          462
         ],
         "y": [
          "Логин",
          "Предложения",
          "Корзина",
          "Оплата"
         ]
        },
        {
         "name": "Группа B",
         "textinfo": "value+percent initial",
         "textposition": "inside",
         "type": "funnel",
         "x": [
          639,
          365,
          187,
          183
         ],
         "y": [
          "Логин",
          "Предложения",
          "Корзина",
          "Оплата"
         ]
        }
       ],
       "layout": {
        "template": {
         "data": {
          "bar": [
           {
            "error_x": {
             "color": "#2a3f5f"
            },
            "error_y": {
             "color": "#2a3f5f"
            },
            "marker": {
             "line": {
              "color": "#E5ECF6",
              "width": 0.5
             },
             "pattern": {
              "fillmode": "overlay",
              "size": 10,
              "solidity": 0.2
             }
            },
            "type": "bar"
           }
          ],
          "barpolar": [
           {
            "marker": {
             "line": {
              "color": "#E5ECF6",
              "width": 0.5
             },
             "pattern": {
              "fillmode": "overlay",
              "size": 10,
              "solidity": 0.2
             }
            },
            "type": "barpolar"
           }
          ],
          "carpet": [
           {
            "aaxis": {
             "endlinecolor": "#2a3f5f",
             "gridcolor": "white",
             "linecolor": "white",
             "minorgridcolor": "white",
             "startlinecolor": "#2a3f5f"
            },
            "baxis": {
             "endlinecolor": "#2a3f5f",
             "gridcolor": "white",
             "linecolor": "white",
             "minorgridcolor": "white",
             "startlinecolor": "#2a3f5f"
            },
            "type": "carpet"
           }
          ],
          "choropleth": [
           {
            "colorbar": {
             "outlinewidth": 0,
             "ticks": ""
            },
            "type": "choropleth"
           }
          ],
          "contour": [
           {
            "colorbar": {
             "outlinewidth": 0,
             "ticks": ""
            },
            "colorscale": [
             [
              0,
              "#0d0887"
             ],
             [
              0.1111111111111111,
              "#46039f"
             ],
             [
              0.2222222222222222,
              "#7201a8"
             ],
             [
              0.3333333333333333,
              "#9c179e"
             ],
             [
              0.4444444444444444,
              "#bd3786"
             ],
             [
              0.5555555555555556,
              "#d8576b"
             ],
             [
              0.6666666666666666,
              "#ed7953"
             ],
             [
              0.7777777777777778,
              "#fb9f3a"
             ],
             [
              0.8888888888888888,
              "#fdca26"
             ],
             [
              1,
              "#f0f921"
             ]
            ],
            "type": "contour"
           }
          ],
          "contourcarpet": [
           {
            "colorbar": {
             "outlinewidth": 0,
             "ticks": ""
            },
            "type": "contourcarpet"
           }
          ],
          "heatmap": [
           {
            "colorbar": {
             "outlinewidth": 0,
             "ticks": ""
            },
            "colorscale": [
             [
              0,
              "#0d0887"
             ],
             [
              0.1111111111111111,
              "#46039f"
             ],
             [
              0.2222222222222222,
              "#7201a8"
             ],
             [
              0.3333333333333333,
              "#9c179e"
             ],
             [
              0.4444444444444444,
              "#bd3786"
             ],
             [
              0.5555555555555556,
              "#d8576b"
             ],
             [
              0.6666666666666666,
              "#ed7953"
             ],
             [
              0.7777777777777778,
              "#fb9f3a"
             ],
             [
              0.8888888888888888,
              "#fdca26"
             ],
             [
              1,
              "#f0f921"
             ]
            ],
            "type": "heatmap"
           }
          ],
          "heatmapgl": [
           {
            "colorbar": {
             "outlinewidth": 0,
             "ticks": ""
            },
            "colorscale": [
             [
              0,
              "#0d0887"
             ],
             [
              0.1111111111111111,
              "#46039f"
             ],
             [
              0.2222222222222222,
              "#7201a8"
             ],
             [
              0.3333333333333333,
              "#9c179e"
             ],
             [
              0.4444444444444444,
              "#bd3786"
             ],
             [
              0.5555555555555556,
              "#d8576b"
             ],
             [
              0.6666666666666666,
              "#ed7953"
             ],
             [
              0.7777777777777778,
              "#fb9f3a"
             ],
             [
              0.8888888888888888,
              "#fdca26"
             ],
             [
              1,
              "#f0f921"
             ]
            ],
            "type": "heatmapgl"
           }
          ],
          "histogram": [
           {
            "marker": {
             "pattern": {
              "fillmode": "overlay",
              "size": 10,
              "solidity": 0.2
             }
            },
            "type": "histogram"
           }
          ],
          "histogram2d": [
           {
            "colorbar": {
             "outlinewidth": 0,
             "ticks": ""
            },
            "colorscale": [
             [
              0,
              "#0d0887"
             ],
             [
              0.1111111111111111,
              "#46039f"
             ],
             [
              0.2222222222222222,
              "#7201a8"
             ],
             [
              0.3333333333333333,
              "#9c179e"
             ],
             [
              0.4444444444444444,
              "#bd3786"
             ],
             [
              0.5555555555555556,
              "#d8576b"
             ],
             [
              0.6666666666666666,
              "#ed7953"
             ],
             [
              0.7777777777777778,
              "#fb9f3a"
             ],
             [
              0.8888888888888888,
              "#fdca26"
             ],
             [
              1,
              "#f0f921"
             ]
            ],
            "type": "histogram2d"
           }
          ],
          "histogram2dcontour": [
           {
            "colorbar": {
             "outlinewidth": 0,
             "ticks": ""
            },
            "colorscale": [
             [
              0,
              "#0d0887"
             ],
             [
              0.1111111111111111,
              "#46039f"
             ],
             [
              0.2222222222222222,
              "#7201a8"
             ],
             [
              0.3333333333333333,
              "#9c179e"
             ],
             [
              0.4444444444444444,
              "#bd3786"
             ],
             [
              0.5555555555555556,
              "#d8576b"
             ],
             [
              0.6666666666666666,
              "#ed7953"
             ],
             [
              0.7777777777777778,
              "#fb9f3a"
             ],
             [
              0.8888888888888888,
              "#fdca26"
             ],
             [
              1,
              "#f0f921"
             ]
            ],
            "type": "histogram2dcontour"
           }
          ],
          "mesh3d": [
           {
            "colorbar": {
             "outlinewidth": 0,
             "ticks": ""
            },
            "type": "mesh3d"
           }
          ],
          "parcoords": [
           {
            "line": {
             "colorbar": {
              "outlinewidth": 0,
              "ticks": ""
             }
            },
            "type": "parcoords"
           }
          ],
          "pie": [
           {
            "automargin": true,
            "type": "pie"
           }
          ],
          "scatter": [
           {
            "marker": {
             "colorbar": {
              "outlinewidth": 0,
              "ticks": ""
             }
            },
            "type": "scatter"
           }
          ],
          "scatter3d": [
           {
            "line": {
             "colorbar": {
              "outlinewidth": 0,
              "ticks": ""
             }
            },
            "marker": {
             "colorbar": {
              "outlinewidth": 0,
              "ticks": ""
             }
            },
            "type": "scatter3d"
           }
          ],
          "scattercarpet": [
           {
            "marker": {
             "colorbar": {
              "outlinewidth": 0,
              "ticks": ""
             }
            },
            "type": "scattercarpet"
           }
          ],
          "scattergeo": [
           {
            "marker": {
             "colorbar": {
              "outlinewidth": 0,
              "ticks": ""
             }
            },
            "type": "scattergeo"
           }
          ],
          "scattergl": [
           {
            "marker": {
             "colorbar": {
              "outlinewidth": 0,
              "ticks": ""
             }
            },
            "type": "scattergl"
           }
          ],
          "scattermapbox": [
           {
            "marker": {
             "colorbar": {
              "outlinewidth": 0,
              "ticks": ""
             }
            },
            "type": "scattermapbox"
           }
          ],
          "scatterpolar": [
           {
            "marker": {
             "colorbar": {
              "outlinewidth": 0,
              "ticks": ""
             }
            },
            "type": "scatterpolar"
           }
          ],
          "scatterpolargl": [
           {
            "marker": {
             "colorbar": {
              "outlinewidth": 0,
              "ticks": ""
             }
            },
            "type": "scatterpolargl"
           }
          ],
          "scatterternary": [
           {
            "marker": {
             "colorbar": {
              "outlinewidth": 0,
              "ticks": ""
             }
            },
            "type": "scatterternary"
           }
          ],
          "surface": [
           {
            "colorbar": {
             "outlinewidth": 0,
             "ticks": ""
            },
            "colorscale": [
             [
              0,
              "#0d0887"
             ],
             [
              0.1111111111111111,
              "#46039f"
             ],
             [
              0.2222222222222222,
              "#7201a8"
             ],
             [
              0.3333333333333333,
              "#9c179e"
             ],
             [
              0.4444444444444444,
              "#bd3786"
             ],
             [
              0.5555555555555556,
              "#d8576b"
             ],
             [
              0.6666666666666666,
              "#ed7953"
             ],
             [
              0.7777777777777778,
              "#fb9f3a"
             ],
             [
              0.8888888888888888,
              "#fdca26"
             ],
             [
              1,
              "#f0f921"
             ]
            ],
            "type": "surface"
           }
          ],
          "table": [
           {
            "cells": {
             "fill": {
              "color": "#EBF0F8"
             },
             "line": {
              "color": "white"
             }
            },
            "header": {
             "fill": {
              "color": "#C8D4E3"
             },
             "line": {
              "color": "white"
             }
            },
            "type": "table"
           }
          ]
         },
         "layout": {
          "annotationdefaults": {
           "arrowcolor": "#2a3f5f",
           "arrowhead": 0,
           "arrowwidth": 1
          },
          "autotypenumbers": "strict",
          "coloraxis": {
           "colorbar": {
            "outlinewidth": 0,
            "ticks": ""
           }
          },
          "colorscale": {
           "diverging": [
            [
             0,
             "#8e0152"
            ],
            [
             0.1,
             "#c51b7d"
            ],
            [
             0.2,
             "#de77ae"
            ],
            [
             0.3,
             "#f1b6da"
            ],
            [
             0.4,
             "#fde0ef"
            ],
            [
             0.5,
             "#f7f7f7"
            ],
            [
             0.6,
             "#e6f5d0"
            ],
            [
             0.7,
             "#b8e186"
            ],
            [
             0.8,
             "#7fbc41"
            ],
            [
             0.9,
             "#4d9221"
            ],
            [
             1,
             "#276419"
            ]
           ],
           "sequential": [
            [
             0,
             "#0d0887"
            ],
            [
             0.1111111111111111,
             "#46039f"
            ],
            [
             0.2222222222222222,
             "#7201a8"
            ],
            [
             0.3333333333333333,
             "#9c179e"
            ],
            [
             0.4444444444444444,
             "#bd3786"
            ],
            [
             0.5555555555555556,
             "#d8576b"
            ],
            [
             0.6666666666666666,
             "#ed7953"
            ],
            [
             0.7777777777777778,
             "#fb9f3a"
            ],
            [
             0.8888888888888888,
             "#fdca26"
            ],
            [
             1,
             "#f0f921"
            ]
           ],
           "sequentialminus": [
            [
             0,
             "#0d0887"
            ],
            [
             0.1111111111111111,
             "#46039f"
            ],
            [
             0.2222222222222222,
             "#7201a8"
            ],
            [
             0.3333333333333333,
             "#9c179e"
            ],
            [
             0.4444444444444444,
             "#bd3786"
            ],
            [
             0.5555555555555556,
             "#d8576b"
            ],
            [
             0.6666666666666666,
             "#ed7953"
            ],
            [
             0.7777777777777778,
             "#fb9f3a"
            ],
            [
             0.8888888888888888,
             "#fdca26"
            ],
            [
             1,
             "#f0f921"
            ]
           ]
          },
          "colorway": [
           "#636efa",
           "#EF553B",
           "#00cc96",
           "#ab63fa",
           "#FFA15A",
           "#19d3f3",
           "#FF6692",
           "#B6E880",
           "#FF97FF",
           "#FECB52"
          ],
          "font": {
           "color": "#2a3f5f"
          },
          "geo": {
           "bgcolor": "white",
           "lakecolor": "white",
           "landcolor": "#E5ECF6",
           "showlakes": true,
           "showland": true,
           "subunitcolor": "white"
          },
          "hoverlabel": {
           "align": "left"
          },
          "hovermode": "closest",
          "mapbox": {
           "style": "light"
          },
          "paper_bgcolor": "white",
          "plot_bgcolor": "#E5ECF6",
          "polar": {
           "angularaxis": {
            "gridcolor": "white",
            "linecolor": "white",
            "ticks": ""
           },
           "bgcolor": "#E5ECF6",
           "radialaxis": {
            "gridcolor": "white",
            "linecolor": "white",
            "ticks": ""
           }
          },
          "scene": {
           "xaxis": {
            "backgroundcolor": "#E5ECF6",
            "gridcolor": "white",
            "gridwidth": 2,
            "linecolor": "white",
            "showbackground": true,
            "ticks": "",
            "zerolinecolor": "white"
           },
           "yaxis": {
            "backgroundcolor": "#E5ECF6",
            "gridcolor": "white",
            "gridwidth": 2,
            "linecolor": "white",
            "showbackground": true,
            "ticks": "",
            "zerolinecolor": "white"
           },
           "zaxis": {
            "backgroundcolor": "#E5ECF6",
            "gridcolor": "white",
            "gridwidth": 2,
            "linecolor": "white",
            "showbackground": true,
            "ticks": "",
            "zerolinecolor": "white"
           }
          },
          "shapedefaults": {
           "line": {
            "color": "#2a3f5f"
           }
          },
          "ternary": {
           "aaxis": {
            "gridcolor": "white",
            "linecolor": "white",
            "ticks": ""
           },
           "baxis": {
            "gridcolor": "white",
            "linecolor": "white",
            "ticks": ""
           },
           "bgcolor": "#E5ECF6",
           "caxis": {
            "gridcolor": "white",
            "linecolor": "white",
            "ticks": ""
           }
          },
          "title": {
           "x": 0.05
          },
          "xaxis": {
           "automargin": true,
           "gridcolor": "white",
           "linecolor": "white",
           "ticks": "",
           "title": {
            "standoff": 15
           },
           "zerolinecolor": "white",
           "zerolinewidth": 2
          },
          "yaxis": {
           "automargin": true,
           "gridcolor": "white",
           "linecolor": "white",
           "ticks": "",
           "title": {
            "standoff": 15
           },
           "zerolinecolor": "white",
           "zerolinewidth": 2
          }
         }
        },
        "title": {
         "text": "Воронка событий",
         "x": 0.49,
         "xanchor": "center",
         "y": 0.88,
         "yanchor": "top"
        }
       }
      },
      "text/html": [
       "<div>                            <div id=\"68785d24-1d20-49fb-8132-78f4c40b73c3\" class=\"plotly-graph-div\" style=\"height:525px; width:100%;\"></div>            <script type=\"text/javascript\">                require([\"plotly\"], function(Plotly) {                    window.PLOTLYENV=window.PLOTLYENV || {};                                    if (document.getElementById(\"68785d24-1d20-49fb-8132-78f4c40b73c3\")) {                    Plotly.newPlot(                        \"68785d24-1d20-49fb-8132-78f4c40b73c3\",                        [{\"name\":\"\\u0413\\u0440\\u0443\\u043f\\u043f\\u0430 \\u0410\",\"textinfo\":\"value+percent initial\",\"x\":[1515,962,458,462],\"y\":[\"\\u041b\\u043e\\u0433\\u0438\\u043d\",\"\\u041f\\u0440\\u0435\\u0434\\u043b\\u043e\\u0436\\u0435\\u043d\\u0438\\u044f\",\"\\u041a\\u043e\\u0440\\u0437\\u0438\\u043d\\u0430\",\"\\u041e\\u043f\\u043b\\u0430\\u0442\\u0430\"],\"type\":\"funnel\"},{\"name\":\"\\u0413\\u0440\\u0443\\u043f\\u043f\\u0430 B\",\"textinfo\":\"value+percent initial\",\"textposition\":\"inside\",\"x\":[639,365,187,183],\"y\":[\"\\u041b\\u043e\\u0433\\u0438\\u043d\",\"\\u041f\\u0440\\u0435\\u0434\\u043b\\u043e\\u0436\\u0435\\u043d\\u0438\\u044f\",\"\\u041a\\u043e\\u0440\\u0437\\u0438\\u043d\\u0430\",\"\\u041e\\u043f\\u043b\\u0430\\u0442\\u0430\"],\"type\":\"funnel\"}],                        {\"template\":{\"data\":{\"bar\":[{\"error_x\":{\"color\":\"#2a3f5f\"},\"error_y\":{\"color\":\"#2a3f5f\"},\"marker\":{\"line\":{\"color\":\"#E5ECF6\",\"width\":0.5},\"pattern\":{\"fillmode\":\"overlay\",\"size\":10,\"solidity\":0.2}},\"type\":\"bar\"}],\"barpolar\":[{\"marker\":{\"line\":{\"color\":\"#E5ECF6\",\"width\":0.5},\"pattern\":{\"fillmode\":\"overlay\",\"size\":10,\"solidity\":0.2}},\"type\":\"barpolar\"}],\"carpet\":[{\"aaxis\":{\"endlinecolor\":\"#2a3f5f\",\"gridcolor\":\"white\",\"linecolor\":\"white\",\"minorgridcolor\":\"white\",\"startlinecolor\":\"#2a3f5f\"},\"baxis\":{\"endlinecolor\":\"#2a3f5f\",\"gridcolor\":\"white\",\"linecolor\":\"white\",\"minorgridcolor\":\"white\",\"startlinecolor\":\"#2a3f5f\"},\"type\":\"carpet\"}],\"choropleth\":[{\"colorbar\":{\"outlinewidth\":0,\"ticks\":\"\"},\"type\":\"choropleth\"}],\"contour\":[{\"colorbar\":{\"outlinewidth\":0,\"ticks\":\"\"},\"colorscale\":[[0.0,\"#0d0887\"],[0.1111111111111111,\"#46039f\"],[0.2222222222222222,\"#7201a8\"],[0.3333333333333333,\"#9c179e\"],[0.4444444444444444,\"#bd3786\"],[0.5555555555555556,\"#d8576b\"],[0.6666666666666666,\"#ed7953\"],[0.7777777777777778,\"#fb9f3a\"],[0.8888888888888888,\"#fdca26\"],[1.0,\"#f0f921\"]],\"type\":\"contour\"}],\"contourcarpet\":[{\"colorbar\":{\"outlinewidth\":0,\"ticks\":\"\"},\"type\":\"contourcarpet\"}],\"heatmap\":[{\"colorbar\":{\"outlinewidth\":0,\"ticks\":\"\"},\"colorscale\":[[0.0,\"#0d0887\"],[0.1111111111111111,\"#46039f\"],[0.2222222222222222,\"#7201a8\"],[0.3333333333333333,\"#9c179e\"],[0.4444444444444444,\"#bd3786\"],[0.5555555555555556,\"#d8576b\"],[0.6666666666666666,\"#ed7953\"],[0.7777777777777778,\"#fb9f3a\"],[0.8888888888888888,\"#fdca26\"],[1.0,\"#f0f921\"]],\"type\":\"heatmap\"}],\"heatmapgl\":[{\"colorbar\":{\"outlinewidth\":0,\"ticks\":\"\"},\"colorscale\":[[0.0,\"#0d0887\"],[0.1111111111111111,\"#46039f\"],[0.2222222222222222,\"#7201a8\"],[0.3333333333333333,\"#9c179e\"],[0.4444444444444444,\"#bd3786\"],[0.5555555555555556,\"#d8576b\"],[0.6666666666666666,\"#ed7953\"],[0.7777777777777778,\"#fb9f3a\"],[0.8888888888888888,\"#fdca26\"],[1.0,\"#f0f921\"]],\"type\":\"heatmapgl\"}],\"histogram\":[{\"marker\":{\"pattern\":{\"fillmode\":\"overlay\",\"size\":10,\"solidity\":0.2}},\"type\":\"histogram\"}],\"histogram2d\":[{\"colorbar\":{\"outlinewidth\":0,\"ticks\":\"\"},\"colorscale\":[[0.0,\"#0d0887\"],[0.1111111111111111,\"#46039f\"],[0.2222222222222222,\"#7201a8\"],[0.3333333333333333,\"#9c179e\"],[0.4444444444444444,\"#bd3786\"],[0.5555555555555556,\"#d8576b\"],[0.6666666666666666,\"#ed7953\"],[0.7777777777777778,\"#fb9f3a\"],[0.8888888888888888,\"#fdca26\"],[1.0,\"#f0f921\"]],\"type\":\"histogram2d\"}],\"histogram2dcontour\":[{\"colorbar\":{\"outlinewidth\":0,\"ticks\":\"\"},\"colorscale\":[[0.0,\"#0d0887\"],[0.1111111111111111,\"#46039f\"],[0.2222222222222222,\"#7201a8\"],[0.3333333333333333,\"#9c179e\"],[0.4444444444444444,\"#bd3786\"],[0.5555555555555556,\"#d8576b\"],[0.6666666666666666,\"#ed7953\"],[0.7777777777777778,\"#fb9f3a\"],[0.8888888888888888,\"#fdca26\"],[1.0,\"#f0f921\"]],\"type\":\"histogram2dcontour\"}],\"mesh3d\":[{\"colorbar\":{\"outlinewidth\":0,\"ticks\":\"\"},\"type\":\"mesh3d\"}],\"parcoords\":[{\"line\":{\"colorbar\":{\"outlinewidth\":0,\"ticks\":\"\"}},\"type\":\"parcoords\"}],\"pie\":[{\"automargin\":true,\"type\":\"pie\"}],\"scatter\":[{\"marker\":{\"colorbar\":{\"outlinewidth\":0,\"ticks\":\"\"}},\"type\":\"scatter\"}],\"scatter3d\":[{\"line\":{\"colorbar\":{\"outlinewidth\":0,\"ticks\":\"\"}},\"marker\":{\"colorbar\":{\"outlinewidth\":0,\"ticks\":\"\"}},\"type\":\"scatter3d\"}],\"scattercarpet\":[{\"marker\":{\"colorbar\":{\"outlinewidth\":0,\"ticks\":\"\"}},\"type\":\"scattercarpet\"}],\"scattergeo\":[{\"marker\":{\"colorbar\":{\"outlinewidth\":0,\"ticks\":\"\"}},\"type\":\"scattergeo\"}],\"scattergl\":[{\"marker\":{\"colorbar\":{\"outlinewidth\":0,\"ticks\":\"\"}},\"type\":\"scattergl\"}],\"scattermapbox\":[{\"marker\":{\"colorbar\":{\"outlinewidth\":0,\"ticks\":\"\"}},\"type\":\"scattermapbox\"}],\"scatterpolar\":[{\"marker\":{\"colorbar\":{\"outlinewidth\":0,\"ticks\":\"\"}},\"type\":\"scatterpolar\"}],\"scatterpolargl\":[{\"marker\":{\"colorbar\":{\"outlinewidth\":0,\"ticks\":\"\"}},\"type\":\"scatterpolargl\"}],\"scatterternary\":[{\"marker\":{\"colorbar\":{\"outlinewidth\":0,\"ticks\":\"\"}},\"type\":\"scatterternary\"}],\"surface\":[{\"colorbar\":{\"outlinewidth\":0,\"ticks\":\"\"},\"colorscale\":[[0.0,\"#0d0887\"],[0.1111111111111111,\"#46039f\"],[0.2222222222222222,\"#7201a8\"],[0.3333333333333333,\"#9c179e\"],[0.4444444444444444,\"#bd3786\"],[0.5555555555555556,\"#d8576b\"],[0.6666666666666666,\"#ed7953\"],[0.7777777777777778,\"#fb9f3a\"],[0.8888888888888888,\"#fdca26\"],[1.0,\"#f0f921\"]],\"type\":\"surface\"}],\"table\":[{\"cells\":{\"fill\":{\"color\":\"#EBF0F8\"},\"line\":{\"color\":\"white\"}},\"header\":{\"fill\":{\"color\":\"#C8D4E3\"},\"line\":{\"color\":\"white\"}},\"type\":\"table\"}]},\"layout\":{\"annotationdefaults\":{\"arrowcolor\":\"#2a3f5f\",\"arrowhead\":0,\"arrowwidth\":1},\"autotypenumbers\":\"strict\",\"coloraxis\":{\"colorbar\":{\"outlinewidth\":0,\"ticks\":\"\"}},\"colorscale\":{\"diverging\":[[0,\"#8e0152\"],[0.1,\"#c51b7d\"],[0.2,\"#de77ae\"],[0.3,\"#f1b6da\"],[0.4,\"#fde0ef\"],[0.5,\"#f7f7f7\"],[0.6,\"#e6f5d0\"],[0.7,\"#b8e186\"],[0.8,\"#7fbc41\"],[0.9,\"#4d9221\"],[1,\"#276419\"]],\"sequential\":[[0.0,\"#0d0887\"],[0.1111111111111111,\"#46039f\"],[0.2222222222222222,\"#7201a8\"],[0.3333333333333333,\"#9c179e\"],[0.4444444444444444,\"#bd3786\"],[0.5555555555555556,\"#d8576b\"],[0.6666666666666666,\"#ed7953\"],[0.7777777777777778,\"#fb9f3a\"],[0.8888888888888888,\"#fdca26\"],[1.0,\"#f0f921\"]],\"sequentialminus\":[[0.0,\"#0d0887\"],[0.1111111111111111,\"#46039f\"],[0.2222222222222222,\"#7201a8\"],[0.3333333333333333,\"#9c179e\"],[0.4444444444444444,\"#bd3786\"],[0.5555555555555556,\"#d8576b\"],[0.6666666666666666,\"#ed7953\"],[0.7777777777777778,\"#fb9f3a\"],[0.8888888888888888,\"#fdca26\"],[1.0,\"#f0f921\"]]},\"colorway\":[\"#636efa\",\"#EF553B\",\"#00cc96\",\"#ab63fa\",\"#FFA15A\",\"#19d3f3\",\"#FF6692\",\"#B6E880\",\"#FF97FF\",\"#FECB52\"],\"font\":{\"color\":\"#2a3f5f\"},\"geo\":{\"bgcolor\":\"white\",\"lakecolor\":\"white\",\"landcolor\":\"#E5ECF6\",\"showlakes\":true,\"showland\":true,\"subunitcolor\":\"white\"},\"hoverlabel\":{\"align\":\"left\"},\"hovermode\":\"closest\",\"mapbox\":{\"style\":\"light\"},\"paper_bgcolor\":\"white\",\"plot_bgcolor\":\"#E5ECF6\",\"polar\":{\"angularaxis\":{\"gridcolor\":\"white\",\"linecolor\":\"white\",\"ticks\":\"\"},\"bgcolor\":\"#E5ECF6\",\"radialaxis\":{\"gridcolor\":\"white\",\"linecolor\":\"white\",\"ticks\":\"\"}},\"scene\":{\"xaxis\":{\"backgroundcolor\":\"#E5ECF6\",\"gridcolor\":\"white\",\"gridwidth\":2,\"linecolor\":\"white\",\"showbackground\":true,\"ticks\":\"\",\"zerolinecolor\":\"white\"},\"yaxis\":{\"backgroundcolor\":\"#E5ECF6\",\"gridcolor\":\"white\",\"gridwidth\":2,\"linecolor\":\"white\",\"showbackground\":true,\"ticks\":\"\",\"zerolinecolor\":\"white\"},\"zaxis\":{\"backgroundcolor\":\"#E5ECF6\",\"gridcolor\":\"white\",\"gridwidth\":2,\"linecolor\":\"white\",\"showbackground\":true,\"ticks\":\"\",\"zerolinecolor\":\"white\"}},\"shapedefaults\":{\"line\":{\"color\":\"#2a3f5f\"}},\"ternary\":{\"aaxis\":{\"gridcolor\":\"white\",\"linecolor\":\"white\",\"ticks\":\"\"},\"baxis\":{\"gridcolor\":\"white\",\"linecolor\":\"white\",\"ticks\":\"\"},\"bgcolor\":\"#E5ECF6\",\"caxis\":{\"gridcolor\":\"white\",\"linecolor\":\"white\",\"ticks\":\"\"}},\"title\":{\"x\":0.05},\"xaxis\":{\"automargin\":true,\"gridcolor\":\"white\",\"linecolor\":\"white\",\"ticks\":\"\",\"title\":{\"standoff\":15},\"zerolinecolor\":\"white\",\"zerolinewidth\":2},\"yaxis\":{\"automargin\":true,\"gridcolor\":\"white\",\"linecolor\":\"white\",\"ticks\":\"\",\"title\":{\"standoff\":15},\"zerolinecolor\":\"white\",\"zerolinewidth\":2}}},\"title\":{\"text\":\"\\u0412\\u043e\\u0440\\u043e\\u043d\\u043a\\u0430 \\u0441\\u043e\\u0431\\u044b\\u0442\\u0438\\u0439\",\"y\":0.88,\"x\":0.49,\"xanchor\":\"center\",\"yanchor\":\"top\"}},                        {\"responsive\": true}                    ).then(function(){\n",
       "                            \n",
       "var gd = document.getElementById('68785d24-1d20-49fb-8132-78f4c40b73c3');\n",
       "var x = new MutationObserver(function (mutations, observer) {{\n",
       "        var display = window.getComputedStyle(gd).display;\n",
       "        if (!display || display === 'none') {{\n",
       "            console.log([gd, 'removed!']);\n",
       "            Plotly.purge(gd);\n",
       "            observer.disconnect();\n",
       "        }}\n",
       "}});\n",
       "\n",
       "// Listen for the removal of the full notebook cells\n",
       "var notebookContainer = gd.closest('#notebook-container');\n",
       "if (notebookContainer) {{\n",
       "    x.observe(notebookContainer, {childList: true});\n",
       "}}\n",
       "\n",
       "// Listen for the clearing of the current output cell\n",
       "var outputEl = gd.closest('.output');\n",
       "if (outputEl) {{\n",
       "    x.observe(outputEl, {childList: true});\n",
       "}}\n",
       "\n",
       "                        })                };                });            </script>        </div>"
      ]
     },
     "metadata": {},
     "output_type": "display_data"
    }
   ],
   "source": [
    "# Создаю воронку событий с % конверсии от первого шага на обе группы\n",
    "fig = go.Figure()\n",
    "\n",
    "fig.add_trace(go.Funnel(\n",
    "    name = 'Группа А',\n",
    "    y = funnel_a['event_name'],\n",
    "    x = funnel_a['count'],\n",
    "    textinfo = \"value+percent initial\"))\n",
    "\n",
    "fig.add_trace(go.Funnel(\n",
    "    name = 'Группа B',\n",
    "    y = funnel_b['event_name'],\n",
    "    x = funnel_b['count'],\n",
    "    textposition = \"inside\",\n",
    "    textinfo = \"value+percent initial\"))\n",
    "\n",
    "fig.update_layout(\n",
    "    title={\n",
    "        'text': \"Воронка событий\",\n",
    "        'y':0.88,\n",
    "        'x':0.49,\n",
    "        'xanchor': 'center',\n",
    "        'yanchor': 'top'}\n",
    ")\n",
    "fig.show()\n"
   ]
  },
  {
   "cell_type": "markdown",
   "id": "1c1c02ee",
   "metadata": {},
   "source": [
    "<div class=\"alert alert-info\" style=\"background:rgba(135, 206, 235, 0.05);color:#080808\">\n",
    " \n",
    "- К сожалению, конверсия на каждом этапе ухудшилась или осталось той же.\n",
    "- Переход от регистрации/логина к предложениям - снижение на 6 процентных пунктов, это плохой показатель. Это было бы не так страшно, если бы были улучшения конверсии на других этапах, но они опустились на 1 процентный пункт. В итоге единственный положительный результат у группы В - конверсия из Предложения в Корзину, около 3.5 процентных пункта. \n",
    "- Нам это говорит о том, что изменения для группы В на данном этапе не имеют применения и от них стоит отказаться.\n",
    "</div>"
   ]
  },
  {
   "cell_type": "code",
   "execution_count": 161,
   "id": "e55b34c2",
   "metadata": {},
   "outputs": [],
   "source": [
    "# Создаю отдельную воронку, чтобы узнать потерю конверсии в процентах\n",
    "relative_funnel = funnel_a.drop(['count','group'], axis=1).rename(columns={'conversion':'conversion_a'})\n",
    "relative_funnel['conversion_a'] = relative_funnel['conversion_a'].astype(float)\n",
    "relative_funnel['conversion_b'] = funnel_b['conversion'].astype(float)"
   ]
  },
  {
   "cell_type": "code",
   "execution_count": 162,
   "id": "dd33120a",
   "metadata": {},
   "outputs": [],
   "source": [
    "relative_funnel['relative'] = (\n",
    "    (relative_funnel['conversion_b'] / relative_funnel['conversion_a'] - 1)\n",
    "    .apply(lambda x: '{0:1.2%}'.format(x))\n",
    ")"
   ]
  },
  {
   "cell_type": "code",
   "execution_count": 163,
   "id": "b778ec50",
   "metadata": {},
   "outputs": [
    {
     "data": {
      "text/html": [
       "<div>\n",
       "<style scoped>\n",
       "    .dataframe tbody tr th:only-of-type {\n",
       "        vertical-align: middle;\n",
       "    }\n",
       "\n",
       "    .dataframe tbody tr th {\n",
       "        vertical-align: top;\n",
       "    }\n",
       "\n",
       "    .dataframe thead th {\n",
       "        text-align: right;\n",
       "    }\n",
       "</style>\n",
       "<table border=\"1\" class=\"dataframe\">\n",
       "  <thead>\n",
       "    <tr style=\"text-align: right;\">\n",
       "      <th></th>\n",
       "      <th>event_name</th>\n",
       "      <th>conversion_a</th>\n",
       "      <th>conversion_b</th>\n",
       "      <th>relative</th>\n",
       "    </tr>\n",
       "  </thead>\n",
       "  <tbody>\n",
       "    <tr>\n",
       "      <th>0</th>\n",
       "      <td>Логин</td>\n",
       "      <td>1.000</td>\n",
       "      <td>1.000</td>\n",
       "      <td>0.00%</td>\n",
       "    </tr>\n",
       "    <tr>\n",
       "      <th>1</th>\n",
       "      <td>Предложения</td>\n",
       "      <td>0.635</td>\n",
       "      <td>0.571</td>\n",
       "      <td>-10.08%</td>\n",
       "    </tr>\n",
       "    <tr>\n",
       "      <th>2</th>\n",
       "      <td>Корзина</td>\n",
       "      <td>0.302</td>\n",
       "      <td>0.293</td>\n",
       "      <td>-2.98%</td>\n",
       "    </tr>\n",
       "    <tr>\n",
       "      <th>3</th>\n",
       "      <td>Оплата</td>\n",
       "      <td>0.305</td>\n",
       "      <td>0.286</td>\n",
       "      <td>-6.23%</td>\n",
       "    </tr>\n",
       "  </tbody>\n",
       "</table>\n",
       "</div>"
      ],
      "text/plain": [
       "    event_name  conversion_a  conversion_b relative\n",
       "0        Логин         1.000         1.000    0.00%\n",
       "1  Предложения         0.635         0.571  -10.08%\n",
       "2      Корзина         0.302         0.293   -2.98%\n",
       "3       Оплата         0.305         0.286   -6.23%"
      ]
     },
     "metadata": {},
     "output_type": "display_data"
    }
   ],
   "source": [
    "display(relative_funnel)"
   ]
  },
  {
   "cell_type": "markdown",
   "id": "5e85d63a",
   "metadata": {},
   "source": [
    "<div class=\"alert alert-info\" style=\"background:rgba(135, 206, 235, 0.05);color:#080808\">\n",
    " \n",
    "- Потеря конверсии в 10% на первом этапе, на этапе предложения, это очень плохой результат и он возможно не был бы катострафичным, если бы был значительный рост в оплате, как я и писал раньше. Проблема в том, что на оплате потеряно 6%, что тоже значительный показатель.\n",
    "</div>"
   ]
  },
  {
   "cell_type": "markdown",
   "id": "463b3850",
   "metadata": {},
   "source": [
    "<div class=\"alert alert-info\" style=\"background:rgba(135, 206, 235, 0.05);color:#080808\">\n",
    "\n",
    "<i>Какие особенности данных нужно учесть, прежде чем приступать к A/B-тестированию?</i>\n",
    "    \n",
    "    \n",
    "- Помимо тех, что на которых я акцентировал внимание во время проверки и подготовки данных, добавился всплеск активности у группы В на несколько дней, без значительного роста у группы А. С высокой долей вероятности, это объясняется технической ошибкой и может оказать влияние на результат теста.\n",
    "</div>"
   ]
  },
  {
   "cell_type": "markdown",
   "id": "a88e33b9",
   "metadata": {},
   "source": [
    "## **Проверка статистической разницы**\n",
    "<a class=\"anchor\" id=\"paragraph3\"></a>"
   ]
  },
  {
   "cell_type": "code",
   "execution_count": 164,
   "id": "f5e811f5",
   "metadata": {},
   "outputs": [],
   "source": [
    "# Функия для проверки статистически важной разницы между группами\n",
    "def stat_diff(stepA, stepB, groupA, groupB):\n",
    "    alpha = 0.05 \n",
    "\n",
    "    step = np.array([stepA, stepB])\n",
    "    leads = np.array([groupA, groupB])\n",
    "\n",
    "    p1 = step[0]/leads[0]\n",
    "    p2 = step[1]/leads[1]\n",
    "    difference = p1 - p2\n",
    "    p_combined = ((step[0] + step[1]) / (leads[0] + leads[1]))\n",
    "\n",
    "    z_value = difference / mth.sqrt(\n",
    "        p_combined * (1 - p_combined) * (1 / leads[0] + 1 / leads[1])\n",
    "    )\n",
    "\n",
    "    distr = st.norm(0, 1)  \n",
    "\n",
    "    p_value = (1 - distr.cdf(abs(z_value))) * 2\n",
    "\n",
    "    print('p-value: ', p_value)\n",
    "\n",
    "    if p_value < alpha: \n",
    "        print('Отвергаем нулевую гипотезу: между долями есть значимая разница')\n",
    "    else:\n",
    "        print('Не получилось отвергнуть нулевую гипотезу, нет оснований считать доли разными')"
   ]
  },
  {
   "cell_type": "code",
   "execution_count": 165,
   "id": "53bea7da",
   "metadata": {},
   "outputs": [],
   "source": [
    "a_total = funnel_a['count'].sum()\n",
    "b_total = funnel_b['count'].sum()"
   ]
  },
  {
   "cell_type": "code",
   "execution_count": 166,
   "id": "8966ef74",
   "metadata": {},
   "outputs": [
    {
     "name": "stdout",
     "output_type": "stream",
     "text": [
      "p-value:  0.2207301916369948\n",
      "Не получилось отвергнуть нулевую гипотезу, нет оснований считать доли разными\n"
     ]
    }
   ],
   "source": [
    "stat_diff(funnel_a['count'][1], funnel_b['count'][1], a_total, b_total)"
   ]
  },
  {
   "cell_type": "code",
   "execution_count": 167,
   "id": "09aea787",
   "metadata": {},
   "outputs": [
    {
     "name": "stdout",
     "output_type": "stream",
     "text": [
      "p-value:  0.9072156494559322\n",
      "Не получилось отвергнуть нулевую гипотезу, нет оснований считать доли разными\n"
     ]
    }
   ],
   "source": [
    "stat_diff(funnel_a['count'][2], funnel_b['count'][2], a_total, b_total)"
   ]
  },
  {
   "cell_type": "code",
   "execution_count": 168,
   "id": "48e48942",
   "metadata": {},
   "outputs": [
    {
     "name": "stdout",
     "output_type": "stream",
     "text": [
      "p-value:  0.7968211576512199\n",
      "Не получилось отвергнуть нулевую гипотезу, нет оснований считать доли разными\n"
     ]
    }
   ],
   "source": [
    "stat_diff(funnel_a['count'][3], funnel_b['count'][3], a_total, b_total)"
   ]
  },
  {
   "cell_type": "markdown",
   "id": "3c05c9fa",
   "metadata": {},
   "source": [
    "<div class=\"alert alert-info\" style=\"background:rgba(135, 206, 235, 0.05);color:#080808\">\n",
    "\n",
    "- Во всех трех этапах конверсии нет оснований считать доли разными, что дает возможность подвести итоги и сделать выводы о проделанном исследовании.\n",
    "</div>"
   ]
  },
  {
   "cell_type": "markdown",
   "id": "3cec87e0",
   "metadata": {},
   "source": [
    "## **Общие выводы**\n",
    "<a class=\"anchor\" id=\"paragraph5\"></a>"
   ]
  },
  {
   "cell_type": "markdown",
   "id": "13f04a64",
   "metadata": {},
   "source": [
    "<div class=\"alert alert-info\" style=\"background:rgba(135, 206, 235, 0.05);color:#080808\">\n",
    "\n",
    "- В данном исследовании было много ошибок в генерации логов и в формировании ТЗ. По этой причине некоторые решения принятые в процессе подготовки даннных могут быть спорными. На мой взгляд проведение такого AB-теста некорректно и является тратой ресурсов компании. Помимо этого потеря времени на проведение теста и потеря продаж, но это естественные элементы АВ-тестов, которые, на мой взгляд, должны закладываться в него.\n",
    "- Данные были сформированны некорректно: отсутствуют записи о действиях более 2500 тыс, отсутствуют 5 последних дней исследования, деление на группы с разницей в 30%. В купе это сильно искажает получаемые результаты, и если бы конечный результат не был бы однозначным (например приросто конверсии на 2%), то было бы трудно сделать вывод о результатах теста, так как, на более качественной выборке это может быть 6% дохода или 2% расхода.\n",
    "- В нашем случае вывод довольно однозначный, группа В не является прибыльной, а скорее всего, убыточной. Насколько убыточной, оценить трудно, в силу имеющихся данных, потери конверсии в продажи составили около 10%. Этого достаточно, чтобы отказаться от использования изменений, введенных для этой группы.\n",
    "</div>"
   ]
  }
 ],
 "metadata": {
  "ExecuteTimeLog": [
   {
    "duration": 1426,
    "start_time": "2022-09-20T19:35:35.796Z"
   },
   {
    "duration": 163,
    "start_time": "2022-09-20T19:35:37.224Z"
   },
   {
    "duration": 0,
    "start_time": "2022-09-20T19:35:37.389Z"
   },
   {
    "duration": 1459,
    "start_time": "2022-09-21T03:37:49.078Z"
   },
   {
    "duration": 2,
    "start_time": "2022-09-21T03:37:50.539Z"
   },
   {
    "duration": 169,
    "start_time": "2022-09-21T03:37:50.542Z"
   },
   {
    "duration": 0,
    "start_time": "2022-09-21T03:37:50.715Z"
   },
   {
    "duration": 0,
    "start_time": "2022-09-21T03:37:50.722Z"
   },
   {
    "duration": 0,
    "start_time": "2022-09-21T03:37:50.723Z"
   },
   {
    "duration": 0,
    "start_time": "2022-09-21T03:37:50.725Z"
   },
   {
    "duration": 0,
    "start_time": "2022-09-21T03:37:50.726Z"
   },
   {
    "duration": 0,
    "start_time": "2022-09-21T03:37:50.727Z"
   },
   {
    "duration": 0,
    "start_time": "2022-09-21T03:37:50.729Z"
   },
   {
    "duration": 0,
    "start_time": "2022-09-21T03:37:50.730Z"
   },
   {
    "duration": 0,
    "start_time": "2022-09-21T03:37:50.731Z"
   },
   {
    "duration": 0,
    "start_time": "2022-09-21T03:37:50.732Z"
   },
   {
    "duration": 0,
    "start_time": "2022-09-21T03:37:50.735Z"
   },
   {
    "duration": 0,
    "start_time": "2022-09-21T03:37:50.736Z"
   },
   {
    "duration": 0,
    "start_time": "2022-09-21T03:37:50.737Z"
   },
   {
    "duration": 0,
    "start_time": "2022-09-21T03:37:50.738Z"
   },
   {
    "duration": 0,
    "start_time": "2022-09-21T03:37:50.740Z"
   },
   {
    "duration": 0,
    "start_time": "2022-09-21T03:37:50.741Z"
   },
   {
    "duration": 0,
    "start_time": "2022-09-21T03:37:50.742Z"
   },
   {
    "duration": 0,
    "start_time": "2022-09-21T03:37:50.744Z"
   },
   {
    "duration": 1,
    "start_time": "2022-09-21T03:37:50.745Z"
   },
   {
    "duration": 0,
    "start_time": "2022-09-21T03:37:50.747Z"
   },
   {
    "duration": 0,
    "start_time": "2022-09-21T03:37:50.748Z"
   },
   {
    "duration": 0,
    "start_time": "2022-09-21T03:37:50.750Z"
   },
   {
    "duration": 0,
    "start_time": "2022-09-21T03:37:50.750Z"
   },
   {
    "duration": 0,
    "start_time": "2022-09-21T03:37:50.751Z"
   },
   {
    "duration": 0,
    "start_time": "2022-09-21T03:37:50.752Z"
   },
   {
    "duration": 0,
    "start_time": "2022-09-21T03:37:50.754Z"
   },
   {
    "duration": 0,
    "start_time": "2022-09-21T03:37:50.755Z"
   },
   {
    "duration": 0,
    "start_time": "2022-09-21T03:37:50.756Z"
   },
   {
    "duration": 0,
    "start_time": "2022-09-21T03:37:50.757Z"
   },
   {
    "duration": 0,
    "start_time": "2022-09-21T03:37:50.821Z"
   },
   {
    "duration": 0,
    "start_time": "2022-09-21T03:37:50.822Z"
   },
   {
    "duration": 0,
    "start_time": "2022-09-21T03:37:50.823Z"
   },
   {
    "duration": 0,
    "start_time": "2022-09-21T03:37:50.824Z"
   },
   {
    "duration": 0,
    "start_time": "2022-09-21T03:37:50.825Z"
   },
   {
    "duration": 0,
    "start_time": "2022-09-21T03:37:50.826Z"
   },
   {
    "duration": 0,
    "start_time": "2022-09-21T03:37:50.827Z"
   },
   {
    "duration": 0,
    "start_time": "2022-09-21T03:37:50.829Z"
   },
   {
    "duration": 0,
    "start_time": "2022-09-21T03:37:50.830Z"
   },
   {
    "duration": 0,
    "start_time": "2022-09-21T03:37:50.831Z"
   },
   {
    "duration": 0,
    "start_time": "2022-09-21T03:37:50.832Z"
   },
   {
    "duration": 0,
    "start_time": "2022-09-21T03:37:50.833Z"
   },
   {
    "duration": 0,
    "start_time": "2022-09-21T03:37:50.834Z"
   },
   {
    "duration": 0,
    "start_time": "2022-09-21T03:37:50.835Z"
   },
   {
    "duration": 0,
    "start_time": "2022-09-21T03:37:50.836Z"
   },
   {
    "duration": 0,
    "start_time": "2022-09-21T03:37:50.837Z"
   },
   {
    "duration": 0,
    "start_time": "2022-09-21T03:37:50.838Z"
   },
   {
    "duration": 0,
    "start_time": "2022-09-21T03:37:50.839Z"
   },
   {
    "duration": 0,
    "start_time": "2022-09-21T03:37:50.840Z"
   },
   {
    "duration": 0,
    "start_time": "2022-09-21T03:37:50.841Z"
   },
   {
    "duration": 0,
    "start_time": "2022-09-21T03:37:50.842Z"
   },
   {
    "duration": 0,
    "start_time": "2022-09-21T03:37:50.843Z"
   },
   {
    "duration": 0,
    "start_time": "2022-09-21T03:37:50.844Z"
   },
   {
    "duration": 0,
    "start_time": "2022-09-21T03:37:50.845Z"
   },
   {
    "duration": 0,
    "start_time": "2022-09-21T03:37:50.846Z"
   },
   {
    "duration": 0,
    "start_time": "2022-09-21T03:37:50.848Z"
   },
   {
    "duration": 0,
    "start_time": "2022-09-21T03:37:50.849Z"
   },
   {
    "duration": 3,
    "start_time": "2022-09-21T04:08:14.021Z"
   },
   {
    "duration": 1278,
    "start_time": "2022-09-21T04:08:20.643Z"
   },
   {
    "duration": 784,
    "start_time": "2022-09-21T04:08:21.923Z"
   },
   {
    "duration": 2,
    "start_time": "2022-09-21T04:08:22.709Z"
   },
   {
    "duration": 9,
    "start_time": "2022-09-21T04:08:22.714Z"
   },
   {
    "duration": 10,
    "start_time": "2022-09-21T04:08:22.724Z"
   },
   {
    "duration": 8,
    "start_time": "2022-09-21T04:08:22.736Z"
   },
   {
    "duration": 11,
    "start_time": "2022-09-21T04:08:22.746Z"
   },
   {
    "duration": 9,
    "start_time": "2022-09-21T04:08:22.759Z"
   },
   {
    "duration": 14,
    "start_time": "2022-09-21T04:08:22.770Z"
   },
   {
    "duration": 23,
    "start_time": "2022-09-21T04:08:22.786Z"
   },
   {
    "duration": 42,
    "start_time": "2022-09-21T04:08:22.811Z"
   },
   {
    "duration": 36,
    "start_time": "2022-09-21T04:08:22.855Z"
   },
   {
    "duration": 61,
    "start_time": "2022-09-21T04:08:22.894Z"
   },
   {
    "duration": 7,
    "start_time": "2022-09-21T04:08:22.957Z"
   },
   {
    "duration": 10,
    "start_time": "2022-09-21T04:08:22.966Z"
   },
   {
    "duration": 46,
    "start_time": "2022-09-21T04:08:22.978Z"
   },
   {
    "duration": 3,
    "start_time": "2022-09-21T04:08:23.026Z"
   },
   {
    "duration": 47,
    "start_time": "2022-09-21T04:08:23.031Z"
   },
   {
    "duration": 55,
    "start_time": "2022-09-21T04:08:23.080Z"
   },
   {
    "duration": 34,
    "start_time": "2022-09-21T04:08:23.136Z"
   },
   {
    "duration": 89,
    "start_time": "2022-09-21T04:08:23.171Z"
   },
   {
    "duration": 4,
    "start_time": "2022-09-21T04:08:23.262Z"
   },
   {
    "duration": 16,
    "start_time": "2022-09-21T04:08:23.267Z"
   },
   {
    "duration": 21,
    "start_time": "2022-09-21T04:08:23.284Z"
   },
   {
    "duration": 32,
    "start_time": "2022-09-21T04:08:23.307Z"
   },
   {
    "duration": 8,
    "start_time": "2022-09-21T04:08:23.341Z"
   },
   {
    "duration": 16,
    "start_time": "2022-09-21T04:08:23.351Z"
   },
   {
    "duration": 6,
    "start_time": "2022-09-21T04:08:23.369Z"
   },
   {
    "duration": 10,
    "start_time": "2022-09-21T04:08:23.377Z"
   },
   {
    "duration": 35,
    "start_time": "2022-09-21T04:08:23.389Z"
   },
   {
    "duration": 67,
    "start_time": "2022-09-21T04:08:23.425Z"
   },
   {
    "duration": 2,
    "start_time": "2022-09-21T04:08:23.495Z"
   },
   {
    "duration": 45,
    "start_time": "2022-09-21T04:08:23.499Z"
   },
   {
    "duration": 5,
    "start_time": "2022-09-21T04:08:23.546Z"
   },
   {
    "duration": 45,
    "start_time": "2022-09-21T04:08:23.553Z"
   },
   {
    "duration": 82,
    "start_time": "2022-09-21T04:08:23.600Z"
   },
   {
    "duration": 72,
    "start_time": "2022-09-21T04:08:23.684Z"
   },
   {
    "duration": 188,
    "start_time": "2022-09-21T04:08:23.758Z"
   },
   {
    "duration": 28,
    "start_time": "2022-09-21T04:08:23.948Z"
   },
   {
    "duration": 96,
    "start_time": "2022-09-21T04:08:23.980Z"
   },
   {
    "duration": 238,
    "start_time": "2022-09-21T04:08:24.078Z"
   },
   {
    "duration": 9,
    "start_time": "2022-09-21T04:08:24.320Z"
   },
   {
    "duration": 61,
    "start_time": "2022-09-21T04:08:24.331Z"
   },
   {
    "duration": 161,
    "start_time": "2022-09-21T04:08:24.394Z"
   },
   {
    "duration": 224,
    "start_time": "2022-09-21T04:08:24.557Z"
   },
   {
    "duration": 156,
    "start_time": "2022-09-21T04:08:24.783Z"
   },
   {
    "duration": 144,
    "start_time": "2022-09-21T04:08:24.941Z"
   },
   {
    "duration": 5,
    "start_time": "2022-09-21T04:08:25.087Z"
   },
   {
    "duration": 44,
    "start_time": "2022-09-21T04:08:25.094Z"
   },
   {
    "duration": 9,
    "start_time": "2022-09-21T04:08:25.140Z"
   },
   {
    "duration": 8,
    "start_time": "2022-09-21T04:08:25.150Z"
   },
   {
    "duration": 7,
    "start_time": "2022-09-21T04:08:25.160Z"
   },
   {
    "duration": 652,
    "start_time": "2022-09-21T04:08:25.169Z"
   },
   {
    "duration": 552,
    "start_time": "2022-09-21T04:08:25.822Z"
   },
   {
    "duration": 559,
    "start_time": "2022-09-21T04:08:26.375Z"
   },
   {
    "duration": 805,
    "start_time": "2022-09-21T04:08:26.936Z"
   },
   {
    "duration": 964,
    "start_time": "2022-09-21T04:08:27.743Z"
   },
   {
    "duration": 1034,
    "start_time": "2022-09-21T04:08:28.708Z"
   },
   {
    "duration": 892,
    "start_time": "2022-09-21T04:08:29.743Z"
   },
   {
    "duration": 18,
    "start_time": "2022-09-21T04:29:02.373Z"
   },
   {
    "duration": 21,
    "start_time": "2022-09-21T04:29:09.450Z"
   },
   {
    "duration": 12,
    "start_time": "2022-09-21T04:29:46.051Z"
   },
   {
    "duration": 29,
    "start_time": "2022-09-21T04:30:41.193Z"
   },
   {
    "duration": 19,
    "start_time": "2022-09-21T04:30:51.895Z"
   },
   {
    "duration": 1160,
    "start_time": "2022-09-21T04:35:05.209Z"
   },
   {
    "duration": 12,
    "start_time": "2022-09-21T04:35:55.229Z"
   },
   {
    "duration": 15,
    "start_time": "2022-09-21T04:36:09.093Z"
   },
   {
    "duration": 13,
    "start_time": "2022-09-21T04:36:13.166Z"
   },
   {
    "duration": 10,
    "start_time": "2022-09-21T04:36:16.880Z"
   },
   {
    "duration": 13,
    "start_time": "2022-09-21T04:36:19.277Z"
   },
   {
    "duration": 39,
    "start_time": "2022-09-21T04:38:11.842Z"
   },
   {
    "duration": 38,
    "start_time": "2022-09-21T04:40:21.383Z"
   },
   {
    "duration": 35,
    "start_time": "2022-09-21T04:40:25.983Z"
   },
   {
    "duration": 12,
    "start_time": "2022-09-21T04:40:32.808Z"
   },
   {
    "duration": 80,
    "start_time": "2022-09-21T04:41:18.543Z"
   },
   {
    "duration": 12,
    "start_time": "2022-09-21T04:41:20.412Z"
   },
   {
    "duration": 27,
    "start_time": "2022-09-21T04:42:47.239Z"
   },
   {
    "duration": 13,
    "start_time": "2022-09-21T04:43:07.906Z"
   },
   {
    "duration": 25,
    "start_time": "2022-09-21T04:43:16.354Z"
   },
   {
    "duration": 10,
    "start_time": "2022-09-21T04:43:43.325Z"
   },
   {
    "duration": 80,
    "start_time": "2022-09-21T04:43:45.123Z"
   },
   {
    "duration": 13,
    "start_time": "2022-09-21T04:43:45.430Z"
   },
   {
    "duration": 22,
    "start_time": "2022-09-21T04:46:02.003Z"
   },
   {
    "duration": 20,
    "start_time": "2022-09-21T04:46:52.080Z"
   },
   {
    "duration": 13,
    "start_time": "2022-09-21T04:47:14.024Z"
   },
   {
    "duration": 21,
    "start_time": "2022-09-21T04:47:30.534Z"
   },
   {
    "duration": 75,
    "start_time": "2022-09-21T04:47:38.224Z"
   },
   {
    "duration": 34,
    "start_time": "2022-09-21T04:47:41.371Z"
   },
   {
    "duration": 1299,
    "start_time": "2022-09-21T04:49:14.148Z"
   },
   {
    "duration": 276,
    "start_time": "2022-09-21T04:49:15.449Z"
   },
   {
    "duration": 2,
    "start_time": "2022-09-21T04:49:15.727Z"
   },
   {
    "duration": 9,
    "start_time": "2022-09-21T04:49:15.732Z"
   },
   {
    "duration": 12,
    "start_time": "2022-09-21T04:49:15.745Z"
   },
   {
    "duration": 9,
    "start_time": "2022-09-21T04:49:15.760Z"
   },
   {
    "duration": 11,
    "start_time": "2022-09-21T04:49:15.771Z"
   },
   {
    "duration": 8,
    "start_time": "2022-09-21T04:49:15.783Z"
   },
   {
    "duration": 30,
    "start_time": "2022-09-21T04:49:15.793Z"
   },
   {
    "duration": 27,
    "start_time": "2022-09-21T04:49:15.826Z"
   },
   {
    "duration": 37,
    "start_time": "2022-09-21T04:49:15.855Z"
   },
   {
    "duration": 48,
    "start_time": "2022-09-21T04:49:15.894Z"
   },
   {
    "duration": 44,
    "start_time": "2022-09-21T04:49:15.944Z"
   },
   {
    "duration": 30,
    "start_time": "2022-09-21T04:49:15.991Z"
   },
   {
    "duration": 7,
    "start_time": "2022-09-21T04:49:16.023Z"
   },
   {
    "duration": 24,
    "start_time": "2022-09-21T04:49:16.032Z"
   },
   {
    "duration": 4,
    "start_time": "2022-09-21T04:49:16.058Z"
   },
   {
    "duration": 77,
    "start_time": "2022-09-21T04:49:16.065Z"
   },
   {
    "duration": 35,
    "start_time": "2022-09-21T04:49:16.144Z"
   },
   {
    "duration": 49,
    "start_time": "2022-09-21T04:49:16.181Z"
   },
   {
    "duration": 67,
    "start_time": "2022-09-21T04:49:16.232Z"
   },
   {
    "duration": 4,
    "start_time": "2022-09-21T04:49:16.300Z"
   },
   {
    "duration": 6,
    "start_time": "2022-09-21T04:49:16.320Z"
   },
   {
    "duration": 14,
    "start_time": "2022-09-21T04:49:16.328Z"
   },
   {
    "duration": 32,
    "start_time": "2022-09-21T04:49:16.344Z"
   },
   {
    "duration": 9,
    "start_time": "2022-09-21T04:49:16.378Z"
   },
   {
    "duration": 34,
    "start_time": "2022-09-21T04:49:16.388Z"
   },
   {
    "duration": 7,
    "start_time": "2022-09-21T04:49:16.423Z"
   },
   {
    "duration": 17,
    "start_time": "2022-09-21T04:49:16.431Z"
   },
   {
    "duration": 12,
    "start_time": "2022-09-21T04:49:16.450Z"
   },
   {
    "duration": 120,
    "start_time": "2022-09-21T04:49:16.464Z"
   },
   {
    "duration": 3,
    "start_time": "2022-09-21T04:49:16.586Z"
   },
   {
    "duration": 37,
    "start_time": "2022-09-21T04:49:16.590Z"
   },
   {
    "duration": 6,
    "start_time": "2022-09-21T04:49:16.628Z"
   },
   {
    "duration": 44,
    "start_time": "2022-09-21T04:49:16.636Z"
   },
   {
    "duration": 91,
    "start_time": "2022-09-21T04:49:16.681Z"
   },
   {
    "duration": 80,
    "start_time": "2022-09-21T04:49:16.774Z"
   },
   {
    "duration": 189,
    "start_time": "2022-09-21T04:49:16.856Z"
   },
   {
    "duration": 28,
    "start_time": "2022-09-21T04:49:17.047Z"
   },
   {
    "duration": 103,
    "start_time": "2022-09-21T04:49:17.077Z"
   },
   {
    "duration": 258,
    "start_time": "2022-09-21T04:49:17.184Z"
   },
   {
    "duration": 9,
    "start_time": "2022-09-21T04:49:17.444Z"
   },
   {
    "duration": 78,
    "start_time": "2022-09-21T04:49:17.454Z"
   },
   {
    "duration": 145,
    "start_time": "2022-09-21T04:49:17.534Z"
   },
   {
    "duration": 228,
    "start_time": "2022-09-21T04:49:17.680Z"
   },
   {
    "duration": 149,
    "start_time": "2022-09-21T04:49:17.910Z"
   },
   {
    "duration": 145,
    "start_time": "2022-09-21T04:49:18.062Z"
   },
   {
    "duration": 15,
    "start_time": "2022-09-21T04:49:18.209Z"
   },
   {
    "duration": 30,
    "start_time": "2022-09-21T04:49:18.226Z"
   },
   {
    "duration": 11,
    "start_time": "2022-09-21T04:49:18.257Z"
   },
   {
    "duration": 8,
    "start_time": "2022-09-21T04:49:18.269Z"
   },
   {
    "duration": 16,
    "start_time": "2022-09-21T04:49:18.279Z"
   },
   {
    "duration": 628,
    "start_time": "2022-09-21T04:49:18.296Z"
   },
   {
    "duration": 570,
    "start_time": "2022-09-21T04:49:18.926Z"
   },
   {
    "duration": 587,
    "start_time": "2022-09-21T04:49:19.498Z"
   },
   {
    "duration": 789,
    "start_time": "2022-09-21T04:49:20.088Z"
   },
   {
    "duration": 984,
    "start_time": "2022-09-21T04:49:20.879Z"
   },
   {
    "duration": 965,
    "start_time": "2022-09-21T04:49:21.865Z"
   },
   {
    "duration": 889,
    "start_time": "2022-09-21T04:49:22.832Z"
   },
   {
    "duration": 117,
    "start_time": "2022-09-21T04:49:25.675Z"
   },
   {
    "duration": 25,
    "start_time": "2022-09-21T04:49:25.972Z"
   },
   {
    "duration": 7,
    "start_time": "2022-09-21T04:50:14.427Z"
   },
   {
    "duration": 81,
    "start_time": "2022-09-21T04:50:15.030Z"
   },
   {
    "duration": 26,
    "start_time": "2022-09-21T04:50:15.784Z"
   },
   {
    "duration": 131,
    "start_time": "2022-09-21T04:50:18.993Z"
   },
   {
    "duration": 24,
    "start_time": "2022-09-21T04:50:21.030Z"
   },
   {
    "duration": 1268,
    "start_time": "2022-09-21T04:50:34.450Z"
   },
   {
    "duration": 277,
    "start_time": "2022-09-21T04:50:35.720Z"
   },
   {
    "duration": 3,
    "start_time": "2022-09-21T04:50:35.998Z"
   },
   {
    "duration": 7,
    "start_time": "2022-09-21T04:50:36.003Z"
   },
   {
    "duration": 9,
    "start_time": "2022-09-21T04:50:36.011Z"
   },
   {
    "duration": 7,
    "start_time": "2022-09-21T04:50:36.022Z"
   },
   {
    "duration": 10,
    "start_time": "2022-09-21T04:50:36.031Z"
   },
   {
    "duration": 8,
    "start_time": "2022-09-21T04:50:36.043Z"
   },
   {
    "duration": 6,
    "start_time": "2022-09-21T04:50:36.053Z"
   },
   {
    "duration": 17,
    "start_time": "2022-09-21T04:50:36.062Z"
   },
   {
    "duration": 52,
    "start_time": "2022-09-21T04:50:36.081Z"
   },
   {
    "duration": 34,
    "start_time": "2022-09-21T04:50:36.135Z"
   },
   {
    "duration": 63,
    "start_time": "2022-09-21T04:50:36.171Z"
   },
   {
    "duration": 8,
    "start_time": "2022-09-21T04:50:36.236Z"
   },
   {
    "duration": 8,
    "start_time": "2022-09-21T04:50:36.246Z"
   },
   {
    "duration": 20,
    "start_time": "2022-09-21T04:50:36.256Z"
   },
   {
    "duration": 4,
    "start_time": "2022-09-21T04:50:36.278Z"
   },
   {
    "duration": 79,
    "start_time": "2022-09-21T04:50:36.284Z"
   },
   {
    "duration": 34,
    "start_time": "2022-09-21T04:50:36.365Z"
   },
   {
    "duration": 51,
    "start_time": "2022-09-21T04:50:36.401Z"
   },
   {
    "duration": 82,
    "start_time": "2022-09-21T04:50:36.454Z"
   },
   {
    "duration": 4,
    "start_time": "2022-09-21T04:50:36.538Z"
   },
   {
    "duration": 17,
    "start_time": "2022-09-21T04:50:36.544Z"
   },
   {
    "duration": 16,
    "start_time": "2022-09-21T04:50:36.563Z"
   },
   {
    "duration": 39,
    "start_time": "2022-09-21T04:50:36.581Z"
   },
   {
    "duration": 10,
    "start_time": "2022-09-21T04:50:36.622Z"
   },
   {
    "duration": 25,
    "start_time": "2022-09-21T04:50:36.634Z"
   },
   {
    "duration": 5,
    "start_time": "2022-09-21T04:50:36.663Z"
   },
   {
    "duration": 18,
    "start_time": "2022-09-21T04:50:36.670Z"
   },
   {
    "duration": 22,
    "start_time": "2022-09-21T04:50:36.690Z"
   },
   {
    "duration": 90,
    "start_time": "2022-09-21T04:50:36.714Z"
   },
   {
    "duration": 4,
    "start_time": "2022-09-21T04:50:36.806Z"
   },
   {
    "duration": 28,
    "start_time": "2022-09-21T04:50:36.812Z"
   },
   {
    "duration": 5,
    "start_time": "2022-09-21T04:50:36.842Z"
   },
   {
    "duration": 45,
    "start_time": "2022-09-21T04:50:36.849Z"
   },
   {
    "duration": 96,
    "start_time": "2022-09-21T04:50:36.896Z"
   },
   {
    "duration": 81,
    "start_time": "2022-09-21T04:50:36.994Z"
   },
   {
    "duration": 198,
    "start_time": "2022-09-21T04:50:37.077Z"
   },
   {
    "duration": 32,
    "start_time": "2022-09-21T04:50:37.276Z"
   },
   {
    "duration": 99,
    "start_time": "2022-09-21T04:50:37.310Z"
   },
   {
    "duration": 238,
    "start_time": "2022-09-21T04:50:37.421Z"
   },
   {
    "duration": 8,
    "start_time": "2022-09-21T04:50:37.661Z"
   },
   {
    "duration": 82,
    "start_time": "2022-09-21T04:50:37.671Z"
   },
   {
    "duration": 157,
    "start_time": "2022-09-21T04:50:37.755Z"
   },
   {
    "duration": 221,
    "start_time": "2022-09-21T04:50:37.920Z"
   },
   {
    "duration": 155,
    "start_time": "2022-09-21T04:50:38.144Z"
   },
   {
    "duration": 170,
    "start_time": "2022-09-21T04:50:38.301Z"
   },
   {
    "duration": 5,
    "start_time": "2022-09-21T04:50:38.473Z"
   },
   {
    "duration": 42,
    "start_time": "2022-09-21T04:50:38.480Z"
   },
   {
    "duration": 9,
    "start_time": "2022-09-21T04:50:38.523Z"
   },
   {
    "duration": 13,
    "start_time": "2022-09-21T04:50:38.534Z"
   },
   {
    "duration": 8,
    "start_time": "2022-09-21T04:50:38.549Z"
   },
   {
    "duration": 679,
    "start_time": "2022-09-21T04:50:38.559Z"
   },
   {
    "duration": 555,
    "start_time": "2022-09-21T04:50:39.240Z"
   },
   {
    "duration": 600,
    "start_time": "2022-09-21T04:50:39.797Z"
   },
   {
    "duration": 755,
    "start_time": "2022-09-21T04:50:40.399Z"
   },
   {
    "duration": 995,
    "start_time": "2022-09-21T04:50:41.156Z"
   },
   {
    "duration": 998,
    "start_time": "2022-09-21T04:50:42.153Z"
   },
   {
    "duration": 961,
    "start_time": "2022-09-21T04:50:43.152Z"
   },
   {
    "duration": 7,
    "start_time": "2022-09-21T04:50:44.120Z"
   },
   {
    "duration": 84,
    "start_time": "2022-09-21T04:50:44.128Z"
   },
   {
    "duration": 25,
    "start_time": "2022-09-21T04:50:44.221Z"
   },
   {
    "duration": 99,
    "start_time": "2022-09-21T04:50:44.248Z"
   },
   {
    "duration": 76,
    "start_time": "2022-09-21T04:50:52.095Z"
   },
   {
    "duration": 28,
    "start_time": "2022-09-21T04:50:52.495Z"
   },
   {
    "duration": 65,
    "start_time": "2022-09-21T04:51:10.698Z"
   },
   {
    "duration": 27,
    "start_time": "2022-09-21T04:51:11.108Z"
   },
   {
    "duration": 1259,
    "start_time": "2022-09-21T04:51:21.446Z"
   },
   {
    "duration": 274,
    "start_time": "2022-09-21T04:51:22.707Z"
   },
   {
    "duration": 3,
    "start_time": "2022-09-21T04:51:22.982Z"
   },
   {
    "duration": 16,
    "start_time": "2022-09-21T04:51:22.987Z"
   },
   {
    "duration": 11,
    "start_time": "2022-09-21T04:51:23.005Z"
   },
   {
    "duration": 8,
    "start_time": "2022-09-21T04:51:23.018Z"
   },
   {
    "duration": 10,
    "start_time": "2022-09-21T04:51:23.028Z"
   },
   {
    "duration": 11,
    "start_time": "2022-09-21T04:51:23.039Z"
   },
   {
    "duration": 10,
    "start_time": "2022-09-21T04:51:23.052Z"
   },
   {
    "duration": 17,
    "start_time": "2022-09-21T04:51:23.065Z"
   },
   {
    "duration": 44,
    "start_time": "2022-09-21T04:51:23.084Z"
   },
   {
    "duration": 33,
    "start_time": "2022-09-21T04:51:23.130Z"
   },
   {
    "duration": 67,
    "start_time": "2022-09-21T04:51:23.165Z"
   },
   {
    "duration": 7,
    "start_time": "2022-09-21T04:51:23.234Z"
   },
   {
    "duration": 20,
    "start_time": "2022-09-21T04:51:23.243Z"
   },
   {
    "duration": 48,
    "start_time": "2022-09-21T04:51:23.265Z"
   },
   {
    "duration": 22,
    "start_time": "2022-09-21T04:51:23.315Z"
   },
   {
    "duration": 49,
    "start_time": "2022-09-21T04:51:23.339Z"
   },
   {
    "duration": 33,
    "start_time": "2022-09-21T04:51:23.390Z"
   },
   {
    "duration": 33,
    "start_time": "2022-09-21T04:51:23.425Z"
   },
   {
    "duration": 76,
    "start_time": "2022-09-21T04:51:23.460Z"
   },
   {
    "duration": 3,
    "start_time": "2022-09-21T04:51:23.538Z"
   },
   {
    "duration": 20,
    "start_time": "2022-09-21T04:51:23.543Z"
   },
   {
    "duration": 28,
    "start_time": "2022-09-21T04:51:23.564Z"
   },
   {
    "duration": 53,
    "start_time": "2022-09-21T04:51:23.594Z"
   },
   {
    "duration": 7,
    "start_time": "2022-09-21T04:51:23.649Z"
   },
   {
    "duration": 20,
    "start_time": "2022-09-21T04:51:23.658Z"
   },
   {
    "duration": 35,
    "start_time": "2022-09-21T04:51:23.681Z"
   },
   {
    "duration": 21,
    "start_time": "2022-09-21T04:51:23.717Z"
   },
   {
    "duration": 30,
    "start_time": "2022-09-21T04:51:23.739Z"
   },
   {
    "duration": 98,
    "start_time": "2022-09-21T04:51:23.771Z"
   },
   {
    "duration": 3,
    "start_time": "2022-09-21T04:51:23.871Z"
   },
   {
    "duration": 46,
    "start_time": "2022-09-21T04:51:23.876Z"
   },
   {
    "duration": 25,
    "start_time": "2022-09-21T04:51:23.924Z"
   },
   {
    "duration": 45,
    "start_time": "2022-09-21T04:51:23.951Z"
   },
   {
    "duration": 76,
    "start_time": "2022-09-21T04:51:23.998Z"
   },
   {
    "duration": 73,
    "start_time": "2022-09-21T04:51:24.076Z"
   },
   {
    "duration": 186,
    "start_time": "2022-09-21T04:51:24.150Z"
   },
   {
    "duration": 29,
    "start_time": "2022-09-21T04:51:24.337Z"
   },
   {
    "duration": 104,
    "start_time": "2022-09-21T04:51:24.368Z"
   },
   {
    "duration": 243,
    "start_time": "2022-09-21T04:51:24.473Z"
   },
   {
    "duration": 10,
    "start_time": "2022-09-21T04:51:24.717Z"
   },
   {
    "duration": 67,
    "start_time": "2022-09-21T04:51:24.728Z"
   },
   {
    "duration": 153,
    "start_time": "2022-09-21T04:51:24.796Z"
   },
   {
    "duration": 228,
    "start_time": "2022-09-21T04:51:24.951Z"
   },
   {
    "duration": 166,
    "start_time": "2022-09-21T04:51:25.181Z"
   },
   {
    "duration": 143,
    "start_time": "2022-09-21T04:51:25.349Z"
   },
   {
    "duration": 5,
    "start_time": "2022-09-21T04:51:25.494Z"
   },
   {
    "duration": 42,
    "start_time": "2022-09-21T04:51:25.501Z"
   },
   {
    "duration": 8,
    "start_time": "2022-09-21T04:51:25.544Z"
   },
   {
    "duration": 11,
    "start_time": "2022-09-21T04:51:25.554Z"
   },
   {
    "duration": 11,
    "start_time": "2022-09-21T04:51:25.566Z"
   },
   {
    "duration": 605,
    "start_time": "2022-09-21T04:51:25.578Z"
   },
   {
    "duration": 516,
    "start_time": "2022-09-21T04:51:26.184Z"
   },
   {
    "duration": 605,
    "start_time": "2022-09-21T04:51:26.701Z"
   },
   {
    "duration": 750,
    "start_time": "2022-09-21T04:51:27.307Z"
   },
   {
    "duration": 1019,
    "start_time": "2022-09-21T04:51:28.059Z"
   },
   {
    "duration": 998,
    "start_time": "2022-09-21T04:51:29.081Z"
   },
   {
    "duration": 914,
    "start_time": "2022-09-21T04:51:30.081Z"
   },
   {
    "duration": 7,
    "start_time": "2022-09-21T04:51:30.997Z"
   },
   {
    "duration": 116,
    "start_time": "2022-09-21T04:51:31.005Z"
   },
   {
    "duration": 25,
    "start_time": "2022-09-21T04:51:32.333Z"
   },
   {
    "duration": 13,
    "start_time": "2022-09-21T04:51:39.254Z"
   },
   {
    "duration": 8,
    "start_time": "2022-09-21T04:52:14.452Z"
   },
   {
    "duration": 32,
    "start_time": "2022-09-21T04:52:51.872Z"
   },
   {
    "duration": 10,
    "start_time": "2022-09-21T04:52:52.042Z"
   },
   {
    "duration": 1247,
    "start_time": "2022-09-21T04:53:00.461Z"
   },
   {
    "duration": 272,
    "start_time": "2022-09-21T04:53:01.710Z"
   },
   {
    "duration": 3,
    "start_time": "2022-09-21T04:53:01.984Z"
   },
   {
    "duration": 25,
    "start_time": "2022-09-21T04:53:01.989Z"
   },
   {
    "duration": 14,
    "start_time": "2022-09-21T04:53:02.016Z"
   },
   {
    "duration": 23,
    "start_time": "2022-09-21T04:53:02.031Z"
   },
   {
    "duration": 24,
    "start_time": "2022-09-21T04:53:02.056Z"
   },
   {
    "duration": 17,
    "start_time": "2022-09-21T04:53:02.082Z"
   },
   {
    "duration": 34,
    "start_time": "2022-09-21T04:53:02.101Z"
   },
   {
    "duration": 73,
    "start_time": "2022-09-21T04:53:02.138Z"
   },
   {
    "duration": 53,
    "start_time": "2022-09-21T04:53:02.213Z"
   },
   {
    "duration": 54,
    "start_time": "2022-09-21T04:53:02.267Z"
   },
   {
    "duration": 83,
    "start_time": "2022-09-21T04:53:02.322Z"
   },
   {
    "duration": 14,
    "start_time": "2022-09-21T04:53:02.406Z"
   },
   {
    "duration": 22,
    "start_time": "2022-09-21T04:53:02.421Z"
   },
   {
    "duration": 35,
    "start_time": "2022-09-21T04:53:02.444Z"
   },
   {
    "duration": 19,
    "start_time": "2022-09-21T04:53:02.480Z"
   },
   {
    "duration": 71,
    "start_time": "2022-09-21T04:53:02.501Z"
   },
   {
    "duration": 35,
    "start_time": "2022-09-21T04:53:02.574Z"
   },
   {
    "duration": 37,
    "start_time": "2022-09-21T04:53:02.611Z"
   },
   {
    "duration": 88,
    "start_time": "2022-09-21T04:53:02.650Z"
   },
   {
    "duration": 4,
    "start_time": "2022-09-21T04:53:02.740Z"
   },
   {
    "duration": 15,
    "start_time": "2022-09-21T04:53:02.746Z"
   },
   {
    "duration": 10,
    "start_time": "2022-09-21T04:53:02.763Z"
   },
   {
    "duration": 53,
    "start_time": "2022-09-21T04:53:02.775Z"
   },
   {
    "duration": 8,
    "start_time": "2022-09-21T04:53:02.830Z"
   },
   {
    "duration": 13,
    "start_time": "2022-09-21T04:53:02.840Z"
   },
   {
    "duration": 5,
    "start_time": "2022-09-21T04:53:02.857Z"
   },
   {
    "duration": 23,
    "start_time": "2022-09-21T04:53:02.864Z"
   },
   {
    "duration": 13,
    "start_time": "2022-09-21T04:53:02.889Z"
   },
   {
    "duration": 85,
    "start_time": "2022-09-21T04:53:02.904Z"
   },
   {
    "duration": 3,
    "start_time": "2022-09-21T04:53:02.991Z"
   },
   {
    "duration": 40,
    "start_time": "2022-09-21T04:53:02.996Z"
   },
   {
    "duration": 11,
    "start_time": "2022-09-21T04:53:03.038Z"
   },
   {
    "duration": 43,
    "start_time": "2022-09-21T04:53:03.051Z"
   },
   {
    "duration": 94,
    "start_time": "2022-09-21T04:53:03.096Z"
   },
   {
    "duration": 72,
    "start_time": "2022-09-21T04:53:03.192Z"
   },
   {
    "duration": 189,
    "start_time": "2022-09-21T04:53:03.266Z"
   },
   {
    "duration": 27,
    "start_time": "2022-09-21T04:53:03.457Z"
   },
   {
    "duration": 102,
    "start_time": "2022-09-21T04:53:03.486Z"
   },
   {
    "duration": 243,
    "start_time": "2022-09-21T04:53:03.589Z"
   },
   {
    "duration": 10,
    "start_time": "2022-09-21T04:53:03.833Z"
   },
   {
    "duration": 79,
    "start_time": "2022-09-21T04:53:03.844Z"
   },
   {
    "duration": 145,
    "start_time": "2022-09-21T04:53:03.925Z"
   },
   {
    "duration": 224,
    "start_time": "2022-09-21T04:53:04.072Z"
   },
   {
    "duration": 153,
    "start_time": "2022-09-21T04:53:04.298Z"
   },
   {
    "duration": 157,
    "start_time": "2022-09-21T04:53:04.453Z"
   },
   {
    "duration": 11,
    "start_time": "2022-09-21T04:53:04.612Z"
   },
   {
    "duration": 29,
    "start_time": "2022-09-21T04:53:04.626Z"
   },
   {
    "duration": 8,
    "start_time": "2022-09-21T04:53:04.656Z"
   },
   {
    "duration": 15,
    "start_time": "2022-09-21T04:53:04.665Z"
   },
   {
    "duration": 13,
    "start_time": "2022-09-21T04:53:04.681Z"
   },
   {
    "duration": 613,
    "start_time": "2022-09-21T04:53:04.695Z"
   },
   {
    "duration": 572,
    "start_time": "2022-09-21T04:53:05.309Z"
   },
   {
    "duration": 563,
    "start_time": "2022-09-21T04:53:05.883Z"
   },
   {
    "duration": 821,
    "start_time": "2022-09-21T04:53:06.448Z"
   },
   {
    "duration": 960,
    "start_time": "2022-09-21T04:53:07.271Z"
   },
   {
    "duration": 998,
    "start_time": "2022-09-21T04:53:08.233Z"
   },
   {
    "duration": 892,
    "start_time": "2022-09-21T04:53:09.233Z"
   },
   {
    "duration": 31,
    "start_time": "2022-09-21T04:53:10.126Z"
   },
   {
    "duration": 10,
    "start_time": "2022-09-21T04:53:10.159Z"
   },
   {
    "duration": 90,
    "start_time": "2022-09-21T04:53:11.576Z"
   },
   {
    "duration": 25,
    "start_time": "2022-09-21T04:53:12.245Z"
   },
   {
    "duration": 12,
    "start_time": "2022-09-21T04:53:14.825Z"
   },
   {
    "duration": 77,
    "start_time": "2022-09-21T04:53:16.985Z"
   },
   {
    "duration": 21,
    "start_time": "2022-09-21T04:53:17.538Z"
   },
   {
    "duration": 17,
    "start_time": "2022-09-21T04:53:26.221Z"
   },
   {
    "duration": 1279,
    "start_time": "2022-09-21T04:53:42.654Z"
   },
   {
    "duration": 280,
    "start_time": "2022-09-21T04:53:43.935Z"
   },
   {
    "duration": 2,
    "start_time": "2022-09-21T04:53:44.218Z"
   },
   {
    "duration": 9,
    "start_time": "2022-09-21T04:53:44.222Z"
   },
   {
    "duration": 12,
    "start_time": "2022-09-21T04:53:44.234Z"
   },
   {
    "duration": 20,
    "start_time": "2022-09-21T04:53:44.248Z"
   },
   {
    "duration": 16,
    "start_time": "2022-09-21T04:53:44.270Z"
   },
   {
    "duration": 7,
    "start_time": "2022-09-21T04:53:44.288Z"
   },
   {
    "duration": 26,
    "start_time": "2022-09-21T04:53:44.297Z"
   },
   {
    "duration": 22,
    "start_time": "2022-09-21T04:53:44.326Z"
   },
   {
    "duration": 33,
    "start_time": "2022-09-21T04:53:44.350Z"
   },
   {
    "duration": 50,
    "start_time": "2022-09-21T04:53:44.385Z"
   },
   {
    "duration": 58,
    "start_time": "2022-09-21T04:53:44.437Z"
   },
   {
    "duration": 27,
    "start_time": "2022-09-21T04:53:44.498Z"
   },
   {
    "duration": 11,
    "start_time": "2022-09-21T04:53:44.527Z"
   },
   {
    "duration": 30,
    "start_time": "2022-09-21T04:53:44.540Z"
   },
   {
    "duration": 4,
    "start_time": "2022-09-21T04:53:44.572Z"
   },
   {
    "duration": 80,
    "start_time": "2022-09-21T04:53:44.578Z"
   },
   {
    "duration": 38,
    "start_time": "2022-09-21T04:53:44.661Z"
   },
   {
    "duration": 45,
    "start_time": "2022-09-21T04:53:44.701Z"
   },
   {
    "duration": 82,
    "start_time": "2022-09-21T04:53:44.748Z"
   },
   {
    "duration": 4,
    "start_time": "2022-09-21T04:53:44.832Z"
   },
   {
    "duration": 9,
    "start_time": "2022-09-21T04:53:44.838Z"
   },
   {
    "duration": 10,
    "start_time": "2022-09-21T04:53:44.848Z"
   },
   {
    "duration": 33,
    "start_time": "2022-09-21T04:53:44.860Z"
   },
   {
    "duration": 31,
    "start_time": "2022-09-21T04:53:44.895Z"
   },
   {
    "duration": 13,
    "start_time": "2022-09-21T04:53:44.927Z"
   },
   {
    "duration": 6,
    "start_time": "2022-09-21T04:53:44.941Z"
   },
   {
    "duration": 12,
    "start_time": "2022-09-21T04:53:44.949Z"
   },
   {
    "duration": 12,
    "start_time": "2022-09-21T04:53:44.963Z"
   },
   {
    "duration": 102,
    "start_time": "2022-09-21T04:53:44.977Z"
   },
   {
    "duration": 3,
    "start_time": "2022-09-21T04:53:45.081Z"
   },
   {
    "duration": 37,
    "start_time": "2022-09-21T04:53:45.086Z"
   },
   {
    "duration": 5,
    "start_time": "2022-09-21T04:53:45.125Z"
   },
   {
    "duration": 48,
    "start_time": "2022-09-21T04:53:45.132Z"
   },
   {
    "duration": 85,
    "start_time": "2022-09-21T04:53:45.182Z"
   },
   {
    "duration": 75,
    "start_time": "2022-09-21T04:53:45.269Z"
   },
   {
    "duration": 181,
    "start_time": "2022-09-21T04:53:45.346Z"
   },
   {
    "duration": 28,
    "start_time": "2022-09-21T04:53:45.529Z"
   },
   {
    "duration": 111,
    "start_time": "2022-09-21T04:53:45.559Z"
   },
   {
    "duration": 248,
    "start_time": "2022-09-21T04:53:45.675Z"
   },
   {
    "duration": 9,
    "start_time": "2022-09-21T04:53:45.925Z"
   },
   {
    "duration": 62,
    "start_time": "2022-09-21T04:53:45.936Z"
   },
   {
    "duration": 166,
    "start_time": "2022-09-21T04:53:46.001Z"
   },
   {
    "duration": 222,
    "start_time": "2022-09-21T04:53:46.169Z"
   },
   {
    "duration": 156,
    "start_time": "2022-09-21T04:53:46.393Z"
   },
   {
    "duration": 148,
    "start_time": "2022-09-21T04:53:46.551Z"
   },
   {
    "duration": 6,
    "start_time": "2022-09-21T04:53:46.701Z"
   },
   {
    "duration": 25,
    "start_time": "2022-09-21T04:53:46.721Z"
   },
   {
    "duration": 8,
    "start_time": "2022-09-21T04:53:46.748Z"
   },
   {
    "duration": 11,
    "start_time": "2022-09-21T04:53:46.757Z"
   },
   {
    "duration": 9,
    "start_time": "2022-09-21T04:53:46.770Z"
   },
   {
    "duration": 644,
    "start_time": "2022-09-21T04:53:46.781Z"
   },
   {
    "duration": 569,
    "start_time": "2022-09-21T04:53:47.427Z"
   },
   {
    "duration": 596,
    "start_time": "2022-09-21T04:53:47.998Z"
   },
   {
    "duration": 880,
    "start_time": "2022-09-21T04:53:48.596Z"
   },
   {
    "duration": 981,
    "start_time": "2022-09-21T04:53:49.478Z"
   },
   {
    "duration": 919,
    "start_time": "2022-09-21T04:53:50.461Z"
   },
   {
    "duration": 927,
    "start_time": "2022-09-21T04:53:51.382Z"
   },
   {
    "duration": 32,
    "start_time": "2022-09-21T04:53:52.311Z"
   },
   {
    "duration": 12,
    "start_time": "2022-09-21T04:53:52.345Z"
   },
   {
    "duration": 99,
    "start_time": "2022-09-21T04:53:52.359Z"
   },
   {
    "duration": 13,
    "start_time": "2022-09-21T04:54:03.441Z"
   },
   {
    "duration": 16,
    "start_time": "2022-09-21T04:54:14.753Z"
   },
   {
    "duration": 129,
    "start_time": "2022-09-21T04:54:15.872Z"
   },
   {
    "duration": 13,
    "start_time": "2022-09-21T04:54:18.084Z"
   },
   {
    "duration": 98,
    "start_time": "2022-09-21T04:54:19.075Z"
   },
   {
    "duration": 21,
    "start_time": "2022-09-21T04:54:19.493Z"
   },
   {
    "duration": 4,
    "start_time": "2022-09-21T04:54:39.614Z"
   },
   {
    "duration": 22,
    "start_time": "2022-09-21T04:54:42.242Z"
   },
   {
    "duration": 17,
    "start_time": "2022-09-21T04:54:51.332Z"
   },
   {
    "duration": 2,
    "start_time": "2022-09-21T04:55:03.694Z"
   },
   {
    "duration": 1291,
    "start_time": "2022-09-21T04:57:03.221Z"
   },
   {
    "duration": 266,
    "start_time": "2022-09-21T04:57:04.514Z"
   },
   {
    "duration": 2,
    "start_time": "2022-09-21T04:57:04.782Z"
   },
   {
    "duration": 10,
    "start_time": "2022-09-21T04:57:04.786Z"
   },
   {
    "duration": 13,
    "start_time": "2022-09-21T04:57:04.798Z"
   },
   {
    "duration": 15,
    "start_time": "2022-09-21T04:57:04.812Z"
   },
   {
    "duration": 13,
    "start_time": "2022-09-21T04:57:04.830Z"
   },
   {
    "duration": 15,
    "start_time": "2022-09-21T04:57:04.845Z"
   },
   {
    "duration": 7,
    "start_time": "2022-09-21T04:57:04.862Z"
   },
   {
    "duration": 27,
    "start_time": "2022-09-21T04:57:04.871Z"
   },
   {
    "duration": 36,
    "start_time": "2022-09-21T04:57:04.900Z"
   },
   {
    "duration": 34,
    "start_time": "2022-09-21T04:57:04.938Z"
   },
   {
    "duration": 59,
    "start_time": "2022-09-21T04:57:04.974Z"
   },
   {
    "duration": 8,
    "start_time": "2022-09-21T04:57:05.036Z"
   },
   {
    "duration": 21,
    "start_time": "2022-09-21T04:57:05.046Z"
   },
   {
    "duration": 22,
    "start_time": "2022-09-21T04:57:05.068Z"
   },
   {
    "duration": 4,
    "start_time": "2022-09-21T04:57:05.092Z"
   },
   {
    "duration": 72,
    "start_time": "2022-09-21T04:57:05.098Z"
   },
   {
    "duration": 35,
    "start_time": "2022-09-21T04:57:05.171Z"
   },
   {
    "duration": 45,
    "start_time": "2022-09-21T04:57:05.208Z"
   },
   {
    "duration": 82,
    "start_time": "2022-09-21T04:57:05.255Z"
   },
   {
    "duration": 4,
    "start_time": "2022-09-21T04:57:05.339Z"
   },
   {
    "duration": 11,
    "start_time": "2022-09-21T04:57:05.345Z"
   },
   {
    "duration": 11,
    "start_time": "2022-09-21T04:57:05.358Z"
   },
   {
    "duration": 50,
    "start_time": "2022-09-21T04:57:05.371Z"
   },
   {
    "duration": 9,
    "start_time": "2022-09-21T04:57:05.422Z"
   },
   {
    "duration": 12,
    "start_time": "2022-09-21T04:57:05.432Z"
   },
   {
    "duration": 5,
    "start_time": "2022-09-21T04:57:05.446Z"
   },
   {
    "duration": 26,
    "start_time": "2022-09-21T04:57:05.453Z"
   },
   {
    "duration": 26,
    "start_time": "2022-09-21T04:57:05.481Z"
   },
   {
    "duration": 75,
    "start_time": "2022-09-21T04:57:05.509Z"
   },
   {
    "duration": 3,
    "start_time": "2022-09-21T04:57:05.586Z"
   },
   {
    "duration": 52,
    "start_time": "2022-09-21T04:57:05.590Z"
   },
   {
    "duration": 5,
    "start_time": "2022-09-21T04:57:05.644Z"
   },
   {
    "duration": 50,
    "start_time": "2022-09-21T04:57:05.650Z"
   },
   {
    "duration": 76,
    "start_time": "2022-09-21T04:57:05.702Z"
   },
   {
    "duration": 83,
    "start_time": "2022-09-21T04:57:05.780Z"
   },
   {
    "duration": 186,
    "start_time": "2022-09-21T04:57:05.865Z"
   },
   {
    "duration": 28,
    "start_time": "2022-09-21T04:57:06.053Z"
   },
   {
    "duration": 100,
    "start_time": "2022-09-21T04:57:06.082Z"
   },
   {
    "duration": 243,
    "start_time": "2022-09-21T04:57:06.186Z"
   },
   {
    "duration": 9,
    "start_time": "2022-09-21T04:57:06.431Z"
   },
   {
    "duration": 62,
    "start_time": "2022-09-21T04:57:06.442Z"
   },
   {
    "duration": 163,
    "start_time": "2022-09-21T04:57:06.520Z"
   },
   {
    "duration": 236,
    "start_time": "2022-09-21T04:57:06.685Z"
   },
   {
    "duration": 152,
    "start_time": "2022-09-21T04:57:06.922Z"
   },
   {
    "duration": 147,
    "start_time": "2022-09-21T04:57:07.075Z"
   },
   {
    "duration": 5,
    "start_time": "2022-09-21T04:57:07.224Z"
   },
   {
    "duration": 25,
    "start_time": "2022-09-21T04:57:07.231Z"
   },
   {
    "duration": 7,
    "start_time": "2022-09-21T04:57:07.258Z"
   },
   {
    "duration": 10,
    "start_time": "2022-09-21T04:57:07.267Z"
   },
   {
    "duration": 9,
    "start_time": "2022-09-21T04:57:07.279Z"
   },
   {
    "duration": 582,
    "start_time": "2022-09-21T04:57:07.321Z"
   },
   {
    "duration": 562,
    "start_time": "2022-09-21T04:57:07.905Z"
   },
   {
    "duration": 566,
    "start_time": "2022-09-21T04:57:08.469Z"
   },
   {
    "duration": 798,
    "start_time": "2022-09-21T04:57:09.038Z"
   },
   {
    "duration": 905,
    "start_time": "2022-09-21T04:57:09.838Z"
   },
   {
    "duration": 948,
    "start_time": "2022-09-21T04:57:10.745Z"
   },
   {
    "duration": 903,
    "start_time": "2022-09-21T04:57:11.694Z"
   },
   {
    "duration": 36,
    "start_time": "2022-09-21T04:57:12.599Z"
   },
   {
    "duration": 93,
    "start_time": "2022-09-21T04:57:12.637Z"
   },
   {
    "duration": 88,
    "start_time": "2022-09-21T04:57:12.732Z"
   },
   {
    "duration": 180,
    "start_time": "2022-09-21T04:57:15.233Z"
   },
   {
    "duration": 19,
    "start_time": "2022-09-21T04:57:18.723Z"
   },
   {
    "duration": 110,
    "start_time": "2022-09-21T04:57:54.726Z"
   },
   {
    "duration": 176,
    "start_time": "2022-09-21T04:57:57.889Z"
   },
   {
    "duration": 846,
    "start_time": "2022-09-21T04:57:58.118Z"
   },
   {
    "duration": 895,
    "start_time": "2022-09-21T04:58:46.618Z"
   },
   {
    "duration": 1326,
    "start_time": "2022-09-21T04:59:21.386Z"
   },
   {
    "duration": 265,
    "start_time": "2022-09-21T04:59:22.715Z"
   },
   {
    "duration": 2,
    "start_time": "2022-09-21T04:59:22.982Z"
   },
   {
    "duration": 9,
    "start_time": "2022-09-21T04:59:22.987Z"
   },
   {
    "duration": 10,
    "start_time": "2022-09-21T04:59:22.997Z"
   },
   {
    "duration": 16,
    "start_time": "2022-09-21T04:59:23.008Z"
   },
   {
    "duration": 13,
    "start_time": "2022-09-21T04:59:23.025Z"
   },
   {
    "duration": 10,
    "start_time": "2022-09-21T04:59:23.040Z"
   },
   {
    "duration": 7,
    "start_time": "2022-09-21T04:59:23.051Z"
   },
   {
    "duration": 23,
    "start_time": "2022-09-21T04:59:23.059Z"
   },
   {
    "duration": 53,
    "start_time": "2022-09-21T04:59:23.084Z"
   },
   {
    "duration": 34,
    "start_time": "2022-09-21T04:59:23.139Z"
   },
   {
    "duration": 63,
    "start_time": "2022-09-21T04:59:23.176Z"
   },
   {
    "duration": 7,
    "start_time": "2022-09-21T04:59:23.240Z"
   },
   {
    "duration": 12,
    "start_time": "2022-09-21T04:59:23.249Z"
   },
   {
    "duration": 21,
    "start_time": "2022-09-21T04:59:23.262Z"
   },
   {
    "duration": 3,
    "start_time": "2022-09-21T04:59:23.285Z"
   },
   {
    "duration": 74,
    "start_time": "2022-09-21T04:59:23.290Z"
   },
   {
    "duration": 34,
    "start_time": "2022-09-21T04:59:23.366Z"
   },
   {
    "duration": 45,
    "start_time": "2022-09-21T04:59:23.402Z"
   },
   {
    "duration": 74,
    "start_time": "2022-09-21T04:59:23.449Z"
   },
   {
    "duration": 4,
    "start_time": "2022-09-21T04:59:23.525Z"
   },
   {
    "duration": 8,
    "start_time": "2022-09-21T04:59:23.531Z"
   },
   {
    "duration": 15,
    "start_time": "2022-09-21T04:59:23.541Z"
   },
   {
    "duration": 35,
    "start_time": "2022-09-21T04:59:23.557Z"
   },
   {
    "duration": 9,
    "start_time": "2022-09-21T04:59:23.594Z"
   },
   {
    "duration": 10,
    "start_time": "2022-09-21T04:59:23.621Z"
   },
   {
    "duration": 5,
    "start_time": "2022-09-21T04:59:23.633Z"
   },
   {
    "duration": 10,
    "start_time": "2022-09-21T04:59:23.639Z"
   },
   {
    "duration": 13,
    "start_time": "2022-09-21T04:59:23.651Z"
   },
   {
    "duration": 101,
    "start_time": "2022-09-21T04:59:23.666Z"
   },
   {
    "duration": 3,
    "start_time": "2022-09-21T04:59:23.769Z"
   },
   {
    "duration": 24,
    "start_time": "2022-09-21T04:59:23.774Z"
   },
   {
    "duration": 19,
    "start_time": "2022-09-21T04:59:23.800Z"
   },
   {
    "duration": 41,
    "start_time": "2022-09-21T04:59:23.822Z"
   },
   {
    "duration": 96,
    "start_time": "2022-09-21T04:59:23.865Z"
   },
   {
    "duration": 75,
    "start_time": "2022-09-21T04:59:23.963Z"
   },
   {
    "duration": 182,
    "start_time": "2022-09-21T04:59:24.040Z"
   },
   {
    "duration": 28,
    "start_time": "2022-09-21T04:59:24.224Z"
   },
   {
    "duration": 100,
    "start_time": "2022-09-21T04:59:24.256Z"
   },
   {
    "duration": 242,
    "start_time": "2022-09-21T04:59:24.357Z"
   },
   {
    "duration": 8,
    "start_time": "2022-09-21T04:59:24.601Z"
   },
   {
    "duration": 62,
    "start_time": "2022-09-21T04:59:24.621Z"
   },
   {
    "duration": 150,
    "start_time": "2022-09-21T04:59:24.685Z"
   },
   {
    "duration": 215,
    "start_time": "2022-09-21T04:59:24.836Z"
   },
   {
    "duration": 155,
    "start_time": "2022-09-21T04:59:25.053Z"
   },
   {
    "duration": 147,
    "start_time": "2022-09-21T04:59:25.209Z"
   },
   {
    "duration": 5,
    "start_time": "2022-09-21T04:59:25.358Z"
   },
   {
    "duration": 28,
    "start_time": "2022-09-21T04:59:25.365Z"
   },
   {
    "duration": 26,
    "start_time": "2022-09-21T04:59:25.394Z"
   },
   {
    "duration": 8,
    "start_time": "2022-09-21T04:59:25.423Z"
   },
   {
    "duration": 11,
    "start_time": "2022-09-21T04:59:25.432Z"
   },
   {
    "duration": 576,
    "start_time": "2022-09-21T04:59:25.444Z"
   },
   {
    "duration": 573,
    "start_time": "2022-09-21T04:59:26.023Z"
   },
   {
    "duration": 556,
    "start_time": "2022-09-21T04:59:26.598Z"
   },
   {
    "duration": 802,
    "start_time": "2022-09-21T04:59:27.157Z"
   },
   {
    "duration": 1003,
    "start_time": "2022-09-21T04:59:27.960Z"
   },
   {
    "duration": 1012,
    "start_time": "2022-09-21T04:59:28.965Z"
   },
   {
    "duration": 916,
    "start_time": "2022-09-21T04:59:29.979Z"
   },
   {
    "duration": 37,
    "start_time": "2022-09-21T04:59:30.896Z"
   },
   {
    "duration": 85,
    "start_time": "2022-09-21T04:59:30.935Z"
   },
   {
    "duration": 85,
    "start_time": "2022-09-21T04:59:31.022Z"
   },
   {
    "duration": 211,
    "start_time": "2022-09-21T04:59:31.120Z"
   },
   {
    "duration": 806,
    "start_time": "2022-09-21T04:59:31.333Z"
   },
   {
    "duration": 870,
    "start_time": "2022-09-21T04:59:32.141Z"
   },
   {
    "duration": 845,
    "start_time": "2022-09-21T04:59:33.013Z"
   },
   {
    "duration": 839,
    "start_time": "2022-09-21T04:59:33.859Z"
   },
   {
    "duration": 115,
    "start_time": "2022-09-21T05:24:05.655Z"
   },
   {
    "duration": 1226,
    "start_time": "2022-09-21T05:24:49.854Z"
   },
   {
    "duration": 271,
    "start_time": "2022-09-21T05:24:51.081Z"
   },
   {
    "duration": 3,
    "start_time": "2022-09-21T05:24:51.353Z"
   },
   {
    "duration": 12,
    "start_time": "2022-09-21T05:24:51.358Z"
   },
   {
    "duration": 10,
    "start_time": "2022-09-21T05:24:51.371Z"
   },
   {
    "duration": 10,
    "start_time": "2022-09-21T05:24:51.382Z"
   },
   {
    "duration": 12,
    "start_time": "2022-09-21T05:24:51.394Z"
   },
   {
    "duration": 7,
    "start_time": "2022-09-21T05:24:51.408Z"
   },
   {
    "duration": 10,
    "start_time": "2022-09-21T05:24:51.417Z"
   },
   {
    "duration": 22,
    "start_time": "2022-09-21T05:24:51.429Z"
   },
   {
    "duration": 34,
    "start_time": "2022-09-21T05:24:51.453Z"
   },
   {
    "duration": 50,
    "start_time": "2022-09-21T05:24:51.489Z"
   },
   {
    "duration": 43,
    "start_time": "2022-09-21T05:24:51.542Z"
   },
   {
    "duration": 7,
    "start_time": "2022-09-21T05:24:51.586Z"
   },
   {
    "duration": 7,
    "start_time": "2022-09-21T05:24:51.621Z"
   },
   {
    "duration": 39,
    "start_time": "2022-09-21T05:24:51.629Z"
   },
   {
    "duration": 4,
    "start_time": "2022-09-21T05:24:51.669Z"
   },
   {
    "duration": 51,
    "start_time": "2022-09-21T05:24:51.675Z"
   },
   {
    "duration": 34,
    "start_time": "2022-09-21T05:24:51.728Z"
   },
   {
    "duration": 34,
    "start_time": "2022-09-21T05:24:51.764Z"
   },
   {
    "duration": 87,
    "start_time": "2022-09-21T05:24:51.800Z"
   },
   {
    "duration": 3,
    "start_time": "2022-09-21T05:24:51.889Z"
   },
   {
    "duration": 26,
    "start_time": "2022-09-21T05:24:51.894Z"
   },
   {
    "duration": 8,
    "start_time": "2022-09-21T05:24:51.922Z"
   },
   {
    "duration": 53,
    "start_time": "2022-09-21T05:24:51.932Z"
   },
   {
    "duration": 10,
    "start_time": "2022-09-21T05:24:51.987Z"
   },
   {
    "duration": 13,
    "start_time": "2022-09-21T05:24:51.999Z"
   },
   {
    "duration": 8,
    "start_time": "2022-09-21T05:24:52.014Z"
   },
   {
    "duration": 15,
    "start_time": "2022-09-21T05:24:52.024Z"
   },
   {
    "duration": 26,
    "start_time": "2022-09-21T05:24:52.041Z"
   },
   {
    "duration": 81,
    "start_time": "2022-09-21T05:24:52.069Z"
   },
   {
    "duration": 3,
    "start_time": "2022-09-21T05:24:52.152Z"
   },
   {
    "duration": 33,
    "start_time": "2022-09-21T05:24:52.156Z"
   },
   {
    "duration": 5,
    "start_time": "2022-09-21T05:24:52.190Z"
   },
   {
    "duration": 54,
    "start_time": "2022-09-21T05:24:52.197Z"
   },
   {
    "duration": 74,
    "start_time": "2022-09-21T05:24:52.253Z"
   },
   {
    "duration": 69,
    "start_time": "2022-09-21T05:24:52.329Z"
   },
   {
    "duration": 190,
    "start_time": "2022-09-21T05:24:52.400Z"
   },
   {
    "duration": 39,
    "start_time": "2022-09-21T05:24:52.592Z"
   },
   {
    "duration": 108,
    "start_time": "2022-09-21T05:24:52.635Z"
   },
   {
    "duration": 246,
    "start_time": "2022-09-21T05:24:52.746Z"
   },
   {
    "duration": 9,
    "start_time": "2022-09-21T05:24:52.994Z"
   },
   {
    "duration": 72,
    "start_time": "2022-09-21T05:24:53.005Z"
   },
   {
    "duration": 146,
    "start_time": "2022-09-21T05:24:53.078Z"
   },
   {
    "duration": 224,
    "start_time": "2022-09-21T05:24:53.225Z"
   },
   {
    "duration": 155,
    "start_time": "2022-09-21T05:24:53.451Z"
   },
   {
    "duration": 150,
    "start_time": "2022-09-21T05:24:53.608Z"
   },
   {
    "duration": 5,
    "start_time": "2022-09-21T05:24:53.760Z"
   },
   {
    "duration": 27,
    "start_time": "2022-09-21T05:24:53.767Z"
   },
   {
    "duration": 26,
    "start_time": "2022-09-21T05:24:53.795Z"
   },
   {
    "duration": 10,
    "start_time": "2022-09-21T05:24:53.823Z"
   },
   {
    "duration": 8,
    "start_time": "2022-09-21T05:24:53.835Z"
   },
   {
    "duration": 593,
    "start_time": "2022-09-21T05:24:53.845Z"
   },
   {
    "duration": 557,
    "start_time": "2022-09-21T05:24:54.440Z"
   },
   {
    "duration": 600,
    "start_time": "2022-09-21T05:24:54.999Z"
   },
   {
    "duration": 844,
    "start_time": "2022-09-21T05:24:55.601Z"
   },
   {
    "duration": 913,
    "start_time": "2022-09-21T05:24:56.446Z"
   },
   {
    "duration": 908,
    "start_time": "2022-09-21T05:24:57.361Z"
   },
   {
    "duration": 978,
    "start_time": "2022-09-21T05:24:58.271Z"
   },
   {
    "duration": 30,
    "start_time": "2022-09-21T05:24:59.251Z"
   },
   {
    "duration": 91,
    "start_time": "2022-09-21T05:24:59.283Z"
   },
   {
    "duration": 90,
    "start_time": "2022-09-21T05:24:59.376Z"
   },
   {
    "duration": 196,
    "start_time": "2022-09-21T05:24:59.468Z"
   },
   {
    "duration": 834,
    "start_time": "2022-09-21T05:24:59.666Z"
   },
   {
    "duration": 904,
    "start_time": "2022-09-21T05:25:00.502Z"
   },
   {
    "duration": 869,
    "start_time": "2022-09-21T05:25:01.408Z"
   },
   {
    "duration": 924,
    "start_time": "2022-09-21T05:25:02.279Z"
   },
   {
    "duration": 259,
    "start_time": "2022-09-21T09:50:55.406Z"
   },
   {
    "duration": 168,
    "start_time": "2022-09-21T09:51:05.513Z"
   },
   {
    "duration": 276,
    "start_time": "2022-09-21T09:52:40.517Z"
   },
   {
    "duration": 1317,
    "start_time": "2022-09-21T09:53:25.750Z"
   },
   {
    "duration": 276,
    "start_time": "2022-09-21T09:53:27.070Z"
   },
   {
    "duration": 7,
    "start_time": "2022-09-21T09:53:27.348Z"
   },
   {
    "duration": 10,
    "start_time": "2022-09-21T09:53:27.358Z"
   },
   {
    "duration": 9,
    "start_time": "2022-09-21T09:53:27.369Z"
   },
   {
    "duration": 11,
    "start_time": "2022-09-21T09:53:27.380Z"
   },
   {
    "duration": 18,
    "start_time": "2022-09-21T09:53:27.393Z"
   },
   {
    "duration": 12,
    "start_time": "2022-09-21T09:53:27.414Z"
   },
   {
    "duration": 28,
    "start_time": "2022-09-21T09:53:27.428Z"
   },
   {
    "duration": 33,
    "start_time": "2022-09-21T09:53:27.459Z"
   },
   {
    "duration": 48,
    "start_time": "2022-09-21T09:53:27.494Z"
   },
   {
    "duration": 42,
    "start_time": "2022-09-21T09:53:27.543Z"
   },
   {
    "duration": 34,
    "start_time": "2022-09-21T09:53:27.587Z"
   },
   {
    "duration": 7,
    "start_time": "2022-09-21T09:53:27.623Z"
   },
   {
    "duration": 23,
    "start_time": "2022-09-21T09:53:27.631Z"
   },
   {
    "duration": 4,
    "start_time": "2022-09-21T09:53:27.656Z"
   },
   {
    "duration": 77,
    "start_time": "2022-09-21T09:53:27.661Z"
   },
   {
    "duration": 39,
    "start_time": "2022-09-21T09:53:27.740Z"
   },
   {
    "duration": 62,
    "start_time": "2022-09-21T09:53:27.781Z"
   },
   {
    "duration": 98,
    "start_time": "2022-09-21T09:53:27.845Z"
   },
   {
    "duration": 4,
    "start_time": "2022-09-21T09:53:27.945Z"
   },
   {
    "duration": 11,
    "start_time": "2022-09-21T09:53:27.951Z"
   },
   {
    "duration": 11,
    "start_time": "2022-09-21T09:53:27.965Z"
   },
   {
    "duration": 56,
    "start_time": "2022-09-21T09:53:27.978Z"
   },
   {
    "duration": 8,
    "start_time": "2022-09-21T09:53:28.036Z"
   },
   {
    "duration": 25,
    "start_time": "2022-09-21T09:53:28.046Z"
   },
   {
    "duration": 10,
    "start_time": "2022-09-21T09:53:28.073Z"
   },
   {
    "duration": 20,
    "start_time": "2022-09-21T09:53:28.089Z"
   },
   {
    "duration": 18,
    "start_time": "2022-09-21T09:53:28.111Z"
   },
   {
    "duration": 78,
    "start_time": "2022-09-21T09:53:28.131Z"
   },
   {
    "duration": 3,
    "start_time": "2022-09-21T09:53:28.211Z"
   },
   {
    "duration": 59,
    "start_time": "2022-09-21T09:53:28.221Z"
   },
   {
    "duration": 6,
    "start_time": "2022-09-21T09:53:28.283Z"
   },
   {
    "duration": 60,
    "start_time": "2022-09-21T09:53:28.291Z"
   },
   {
    "duration": 82,
    "start_time": "2022-09-21T09:53:28.353Z"
   },
   {
    "duration": 72,
    "start_time": "2022-09-21T09:53:28.437Z"
   },
   {
    "duration": 197,
    "start_time": "2022-09-21T09:53:28.511Z"
   },
   {
    "duration": 32,
    "start_time": "2022-09-21T09:53:28.711Z"
   },
   {
    "duration": 111,
    "start_time": "2022-09-21T09:53:28.745Z"
   },
   {
    "duration": 391,
    "start_time": "2022-09-21T09:53:28.861Z"
   },
   {
    "duration": 9,
    "start_time": "2022-09-21T09:53:29.254Z"
   },
   {
    "duration": 83,
    "start_time": "2022-09-21T09:53:29.265Z"
   },
   {
    "duration": 148,
    "start_time": "2022-09-21T09:53:29.350Z"
   },
   {
    "duration": 226,
    "start_time": "2022-09-21T09:53:29.500Z"
   },
   {
    "duration": 177,
    "start_time": "2022-09-21T09:53:29.728Z"
   },
   {
    "duration": 165,
    "start_time": "2022-09-21T09:53:29.910Z"
   },
   {
    "duration": 7,
    "start_time": "2022-09-21T09:53:30.077Z"
   },
   {
    "duration": 62,
    "start_time": "2022-09-21T09:53:30.086Z"
   },
   {
    "duration": 18,
    "start_time": "2022-09-21T09:53:30.150Z"
   },
   {
    "duration": 42,
    "start_time": "2022-09-21T09:53:30.171Z"
   },
   {
    "duration": 50,
    "start_time": "2022-09-21T09:53:30.215Z"
   },
   {
    "duration": 646,
    "start_time": "2022-09-21T09:53:30.267Z"
   },
   {
    "duration": 588,
    "start_time": "2022-09-21T09:53:30.921Z"
   },
   {
    "duration": 602,
    "start_time": "2022-09-21T09:53:31.521Z"
   },
   {
    "duration": 860,
    "start_time": "2022-09-21T09:53:32.125Z"
   },
   {
    "duration": 987,
    "start_time": "2022-09-21T09:53:32.988Z"
   },
   {
    "duration": 1007,
    "start_time": "2022-09-21T09:53:33.977Z"
   },
   {
    "duration": 1025,
    "start_time": "2022-09-21T09:53:34.987Z"
   },
   {
    "duration": 38,
    "start_time": "2022-09-21T09:53:36.014Z"
   },
   {
    "duration": 100,
    "start_time": "2022-09-21T09:53:36.053Z"
   },
   {
    "duration": 104,
    "start_time": "2022-09-21T09:53:36.155Z"
   },
   {
    "duration": 208,
    "start_time": "2022-09-21T09:53:36.261Z"
   },
   {
    "duration": 811,
    "start_time": "2022-09-21T09:53:36.471Z"
   },
   {
    "duration": 945,
    "start_time": "2022-09-21T09:53:37.285Z"
   },
   {
    "duration": 904,
    "start_time": "2022-09-21T09:53:38.232Z"
   },
   {
    "duration": 950,
    "start_time": "2022-09-21T09:53:39.138Z"
   },
   {
    "duration": 1371,
    "start_time": "2022-09-21T17:25:52.657Z"
   },
   {
    "duration": 659,
    "start_time": "2022-09-21T17:25:54.030Z"
   },
   {
    "duration": 7,
    "start_time": "2022-09-21T17:25:54.690Z"
   },
   {
    "duration": 15,
    "start_time": "2022-09-21T17:25:54.698Z"
   },
   {
    "duration": 17,
    "start_time": "2022-09-21T17:25:54.715Z"
   },
   {
    "duration": 8,
    "start_time": "2022-09-21T17:25:54.734Z"
   },
   {
    "duration": 8,
    "start_time": "2022-09-21T17:25:54.744Z"
   },
   {
    "duration": 5,
    "start_time": "2022-09-21T17:25:54.754Z"
   },
   {
    "duration": 15,
    "start_time": "2022-09-21T17:25:54.760Z"
   },
   {
    "duration": 34,
    "start_time": "2022-09-21T17:25:54.777Z"
   },
   {
    "duration": 33,
    "start_time": "2022-09-21T17:25:54.813Z"
   },
   {
    "duration": 52,
    "start_time": "2022-09-21T17:25:54.848Z"
   },
   {
    "duration": 9,
    "start_time": "2022-09-21T17:25:54.901Z"
   },
   {
    "duration": 21,
    "start_time": "2022-09-21T17:25:54.914Z"
   },
   {
    "duration": 24,
    "start_time": "2022-09-21T17:25:54.936Z"
   },
   {
    "duration": 13,
    "start_time": "2022-09-21T17:25:54.962Z"
   },
   {
    "duration": 53,
    "start_time": "2022-09-21T17:25:54.976Z"
   },
   {
    "duration": 30,
    "start_time": "2022-09-21T17:25:55.031Z"
   },
   {
    "duration": 37,
    "start_time": "2022-09-21T17:25:55.063Z"
   },
   {
    "duration": 63,
    "start_time": "2022-09-21T17:25:55.102Z"
   },
   {
    "duration": 3,
    "start_time": "2022-09-21T17:25:55.166Z"
   },
   {
    "duration": 7,
    "start_time": "2022-09-21T17:25:55.171Z"
   },
   {
    "duration": 24,
    "start_time": "2022-09-21T17:25:55.180Z"
   },
   {
    "duration": 30,
    "start_time": "2022-09-21T17:25:55.205Z"
   },
   {
    "duration": 8,
    "start_time": "2022-09-21T17:25:55.236Z"
   },
   {
    "duration": 11,
    "start_time": "2022-09-21T17:25:55.245Z"
   },
   {
    "duration": 5,
    "start_time": "2022-09-21T17:25:55.257Z"
   },
   {
    "duration": 8,
    "start_time": "2022-09-21T17:25:55.263Z"
   },
   {
    "duration": 38,
    "start_time": "2022-09-21T17:25:55.273Z"
   },
   {
    "duration": 71,
    "start_time": "2022-09-21T17:25:55.313Z"
   },
   {
    "duration": 3,
    "start_time": "2022-09-21T17:25:55.386Z"
   },
   {
    "duration": 31,
    "start_time": "2022-09-21T17:25:55.390Z"
   },
   {
    "duration": 6,
    "start_time": "2022-09-21T17:25:55.423Z"
   },
   {
    "duration": 41,
    "start_time": "2022-09-21T17:25:55.431Z"
   },
   {
    "duration": 85,
    "start_time": "2022-09-21T17:25:55.474Z"
   },
   {
    "duration": 75,
    "start_time": "2022-09-21T17:25:55.561Z"
   },
   {
    "duration": 168,
    "start_time": "2022-09-21T17:25:55.638Z"
   },
   {
    "duration": 30,
    "start_time": "2022-09-21T17:25:55.808Z"
   },
   {
    "duration": 90,
    "start_time": "2022-09-21T17:25:55.840Z"
   },
   {
    "duration": 219,
    "start_time": "2022-09-21T17:25:55.931Z"
   },
   {
    "duration": 7,
    "start_time": "2022-09-21T17:25:56.153Z"
   },
   {
    "duration": 62,
    "start_time": "2022-09-21T17:25:56.162Z"
   },
   {
    "duration": 196,
    "start_time": "2022-09-21T17:25:56.226Z"
   },
   {
    "duration": 126,
    "start_time": "2022-09-21T17:25:56.425Z"
   },
   {
    "duration": 145,
    "start_time": "2022-09-21T17:25:56.553Z"
   },
   {
    "duration": 131,
    "start_time": "2022-09-21T17:25:56.699Z"
   },
   {
    "duration": 4,
    "start_time": "2022-09-21T17:25:56.832Z"
   },
   {
    "duration": 22,
    "start_time": "2022-09-21T17:25:56.837Z"
   },
   {
    "duration": 7,
    "start_time": "2022-09-21T17:25:56.860Z"
   },
   {
    "duration": 6,
    "start_time": "2022-09-21T17:25:56.868Z"
   },
   {
    "duration": 26,
    "start_time": "2022-09-21T17:25:56.876Z"
   },
   {
    "duration": 607,
    "start_time": "2022-09-21T17:25:56.904Z"
   },
   {
    "duration": 538,
    "start_time": "2022-09-21T17:25:57.513Z"
   },
   {
    "duration": 515,
    "start_time": "2022-09-21T17:25:58.053Z"
   },
   {
    "duration": 734,
    "start_time": "2022-09-21T17:25:58.570Z"
   },
   {
    "duration": 868,
    "start_time": "2022-09-21T17:25:59.307Z"
   },
   {
    "duration": 850,
    "start_time": "2022-09-21T17:26:00.177Z"
   },
   {
    "duration": 847,
    "start_time": "2022-09-21T17:26:01.028Z"
   },
   {
    "duration": 34,
    "start_time": "2022-09-21T17:26:01.877Z"
   },
   {
    "duration": 68,
    "start_time": "2022-09-21T17:26:01.912Z"
   },
   {
    "duration": 87,
    "start_time": "2022-09-21T17:26:01.982Z"
   },
   {
    "duration": 177,
    "start_time": "2022-09-21T17:26:02.071Z"
   },
   {
    "duration": 645,
    "start_time": "2022-09-21T17:26:02.249Z"
   },
   {
    "duration": 865,
    "start_time": "2022-09-21T17:26:02.896Z"
   },
   {
    "duration": 789,
    "start_time": "2022-09-21T17:26:03.763Z"
   },
   {
    "duration": 894,
    "start_time": "2022-09-21T17:26:04.554Z"
   },
   {
    "duration": 1257,
    "start_time": "2022-09-21T21:31:16.893Z"
   },
   {
    "duration": 1606,
    "start_time": "2022-09-22T05:13:29.753Z"
   },
   {
    "duration": 2360,
    "start_time": "2022-09-22T05:13:31.361Z"
   },
   {
    "duration": 23,
    "start_time": "2022-09-22T05:13:40.727Z"
   },
   {
    "duration": 12,
    "start_time": "2022-09-22T05:13:50.823Z"
   },
   {
    "duration": 12,
    "start_time": "2022-09-22T05:14:04.959Z"
   },
   {
    "duration": 53,
    "start_time": "2022-09-22T05:14:46.501Z"
   },
   {
    "duration": 19,
    "start_time": "2022-09-22T05:14:56.152Z"
   },
   {
    "duration": 21,
    "start_time": "2022-09-22T05:15:58.935Z"
   },
   {
    "duration": 12,
    "start_time": "2022-09-22T05:16:05.927Z"
   },
   {
    "duration": 136,
    "start_time": "2022-09-22T05:16:15.811Z"
   },
   {
    "duration": 8,
    "start_time": "2022-09-22T05:16:17.066Z"
   },
   {
    "duration": 28,
    "start_time": "2022-09-22T05:16:17.338Z"
   },
   {
    "duration": 18,
    "start_time": "2022-09-22T05:16:17.533Z"
   },
   {
    "duration": 16,
    "start_time": "2022-09-22T05:35:21.142Z"
   },
   {
    "duration": 49,
    "start_time": "2022-09-22T09:19:23.875Z"
   },
   {
    "duration": 1537,
    "start_time": "2022-09-22T09:19:27.764Z"
   },
   {
    "duration": 2007,
    "start_time": "2022-09-22T09:19:29.304Z"
   },
   {
    "duration": 72,
    "start_time": "2022-09-22T09:19:31.313Z"
   },
   {
    "duration": 99,
    "start_time": "2022-09-22T09:19:31.386Z"
   },
   {
    "duration": 73,
    "start_time": "2022-09-22T09:22:02.563Z"
   },
   {
    "duration": 9,
    "start_time": "2022-09-22T09:22:08.332Z"
   },
   {
    "duration": 73,
    "start_time": "2022-09-22T09:23:01.825Z"
   },
   {
    "duration": 259,
    "start_time": "2022-09-22T09:23:10.716Z"
   },
   {
    "duration": 48,
    "start_time": "2022-09-22T09:23:46.912Z"
   },
   {
    "duration": 6,
    "start_time": "2022-09-22T09:25:03.436Z"
   },
   {
    "duration": 7,
    "start_time": "2022-09-22T09:25:15.590Z"
   },
   {
    "duration": 6,
    "start_time": "2022-09-22T09:25:19.939Z"
   },
   {
    "duration": 5,
    "start_time": "2022-09-22T09:25:21.710Z"
   },
   {
    "duration": 5,
    "start_time": "2022-09-22T09:26:43.880Z"
   },
   {
    "duration": 7,
    "start_time": "2022-09-22T09:26:44.367Z"
   },
   {
    "duration": 71,
    "start_time": "2022-09-22T10:01:19.407Z"
   },
   {
    "duration": 87,
    "start_time": "2022-09-22T10:01:39.999Z"
   },
   {
    "duration": 81,
    "start_time": "2022-09-22T10:01:44.836Z"
   },
   {
    "duration": 12,
    "start_time": "2022-09-22T10:02:47.954Z"
   },
   {
    "duration": 106,
    "start_time": "2022-09-22T10:02:52.851Z"
   },
   {
    "duration": 86,
    "start_time": "2022-09-22T10:03:05.462Z"
   },
   {
    "duration": 98,
    "start_time": "2022-09-22T10:03:08.490Z"
   },
   {
    "duration": 9,
    "start_time": "2022-09-22T10:06:29.225Z"
   },
   {
    "duration": 60,
    "start_time": "2022-09-22T10:06:34.665Z"
   },
   {
    "duration": 97,
    "start_time": "2022-09-22T10:06:48.175Z"
   },
   {
    "duration": 88,
    "start_time": "2022-09-22T10:06:56.963Z"
   },
   {
    "duration": 88,
    "start_time": "2022-09-22T10:07:04.297Z"
   },
   {
    "duration": 88,
    "start_time": "2022-09-22T10:07:14.432Z"
   },
   {
    "duration": 1531,
    "start_time": "2022-09-22T10:14:40.952Z"
   },
   {
    "duration": 20,
    "start_time": "2022-09-22T10:14:46.046Z"
   },
   {
    "duration": 180,
    "start_time": "2022-09-22T10:20:20.675Z"
   },
   {
    "duration": 141,
    "start_time": "2022-09-22T10:20:57.168Z"
   },
   {
    "duration": 15,
    "start_time": "2022-09-22T10:23:46.270Z"
   },
   {
    "duration": 6,
    "start_time": "2022-09-22T10:24:11.721Z"
   },
   {
    "duration": 6,
    "start_time": "2022-09-22T10:24:33.804Z"
   },
   {
    "duration": 18,
    "start_time": "2022-09-22T10:58:21.248Z"
   },
   {
    "duration": 5,
    "start_time": "2022-09-22T11:01:27.473Z"
   },
   {
    "duration": 4,
    "start_time": "2022-09-22T11:01:36.257Z"
   },
   {
    "duration": 10,
    "start_time": "2022-09-22T11:01:39.710Z"
   },
   {
    "duration": 11,
    "start_time": "2022-09-22T11:01:59.339Z"
   },
   {
    "duration": 15,
    "start_time": "2022-09-22T11:18:05.093Z"
   },
   {
    "duration": 16,
    "start_time": "2022-09-22T11:18:49.346Z"
   },
   {
    "duration": 13,
    "start_time": "2022-09-22T15:55:01.005Z"
   },
   {
    "duration": 29,
    "start_time": "2022-09-22T15:55:31.377Z"
   },
   {
    "duration": 7,
    "start_time": "2022-09-22T15:59:08.438Z"
   },
   {
    "duration": 12,
    "start_time": "2022-09-22T15:59:41.575Z"
   },
   {
    "duration": 19,
    "start_time": "2022-09-22T15:59:57.242Z"
   },
   {
    "duration": 1357,
    "start_time": "2022-09-22T16:01:52.930Z"
   },
   {
    "duration": 602,
    "start_time": "2022-09-22T16:01:54.289Z"
   },
   {
    "duration": 75,
    "start_time": "2022-09-22T16:01:54.892Z"
   },
   {
    "duration": 126,
    "start_time": "2022-09-22T16:01:54.969Z"
   },
   {
    "duration": 58,
    "start_time": "2022-09-22T16:01:55.097Z"
   },
   {
    "duration": 5,
    "start_time": "2022-09-22T16:01:55.156Z"
   },
   {
    "duration": 6,
    "start_time": "2022-09-22T16:01:55.163Z"
   },
   {
    "duration": 88,
    "start_time": "2022-09-22T16:01:55.171Z"
   },
   {
    "duration": 99,
    "start_time": "2022-09-22T16:01:55.260Z"
   },
   {
    "duration": 164,
    "start_time": "2022-09-22T16:01:55.360Z"
   },
   {
    "duration": 18,
    "start_time": "2022-09-22T16:01:55.526Z"
   },
   {
    "duration": 20,
    "start_time": "2022-09-22T16:01:55.546Z"
   },
   {
    "duration": 5,
    "start_time": "2022-09-22T16:01:55.568Z"
   },
   {
    "duration": 5,
    "start_time": "2022-09-22T16:01:55.575Z"
   },
   {
    "duration": 23,
    "start_time": "2022-09-22T16:01:55.581Z"
   },
   {
    "duration": 28,
    "start_time": "2022-09-22T16:01:55.606Z"
   },
   {
    "duration": 16,
    "start_time": "2022-09-22T16:01:55.635Z"
   },
   {
    "duration": 48,
    "start_time": "2022-09-22T16:01:55.653Z"
   },
   {
    "duration": 18,
    "start_time": "2022-09-22T16:01:55.702Z"
   },
   {
    "duration": 21,
    "start_time": "2022-09-22T16:01:58.167Z"
   },
   {
    "duration": 17,
    "start_time": "2022-09-22T16:12:08.009Z"
   },
   {
    "duration": 7,
    "start_time": "2022-09-22T16:16:22.561Z"
   },
   {
    "duration": 23,
    "start_time": "2022-09-22T16:16:48.094Z"
   },
   {
    "duration": 19,
    "start_time": "2022-09-22T16:17:38.112Z"
   },
   {
    "duration": 11,
    "start_time": "2022-09-22T16:21:11.852Z"
   },
   {
    "duration": 3,
    "start_time": "2022-09-22T16:21:19.567Z"
   },
   {
    "duration": 11,
    "start_time": "2022-09-22T16:21:21.836Z"
   },
   {
    "duration": 13,
    "start_time": "2022-09-22T16:22:56.069Z"
   },
   {
    "duration": 12,
    "start_time": "2022-09-22T16:24:51.393Z"
   },
   {
    "duration": 11,
    "start_time": "2022-09-22T16:25:12.784Z"
   },
   {
    "duration": 104,
    "start_time": "2022-09-22T16:25:34.684Z"
   },
   {
    "duration": 5,
    "start_time": "2022-09-22T16:25:42.509Z"
   },
   {
    "duration": 15,
    "start_time": "2022-09-22T16:28:45.059Z"
   },
   {
    "duration": 15,
    "start_time": "2022-09-22T16:29:07.457Z"
   },
   {
    "duration": 5,
    "start_time": "2022-09-22T16:29:24.068Z"
   },
   {
    "duration": 15,
    "start_time": "2022-09-22T16:29:24.336Z"
   },
   {
    "duration": 4,
    "start_time": "2022-09-22T16:29:28.203Z"
   },
   {
    "duration": 15,
    "start_time": "2022-09-22T16:29:28.506Z"
   },
   {
    "duration": 23,
    "start_time": "2022-09-22T16:31:32.732Z"
   },
   {
    "duration": 28,
    "start_time": "2022-09-22T16:31:54.273Z"
   },
   {
    "duration": 4,
    "start_time": "2022-09-22T16:52:03.395Z"
   },
   {
    "duration": 42,
    "start_time": "2022-09-22T16:52:10.660Z"
   },
   {
    "duration": 29,
    "start_time": "2022-09-22T16:52:27.867Z"
   },
   {
    "duration": 31,
    "start_time": "2022-09-22T16:52:40.753Z"
   },
   {
    "duration": 29,
    "start_time": "2022-09-22T20:08:08.693Z"
   },
   {
    "duration": 12,
    "start_time": "2022-09-22T20:08:38.706Z"
   },
   {
    "duration": 4,
    "start_time": "2022-09-22T20:08:48.418Z"
   },
   {
    "duration": 17,
    "start_time": "2022-09-22T20:13:49.153Z"
   },
   {
    "duration": 46,
    "start_time": "2022-09-22T20:14:53.572Z"
   },
   {
    "duration": 10,
    "start_time": "2022-09-22T20:14:55.663Z"
   },
   {
    "duration": 13,
    "start_time": "2022-09-22T20:14:56.301Z"
   },
   {
    "duration": 5,
    "start_time": "2022-09-22T20:15:06.330Z"
   },
   {
    "duration": 6,
    "start_time": "2022-09-22T20:15:06.628Z"
   },
   {
    "duration": 13,
    "start_time": "2022-09-22T20:15:17.432Z"
   },
   {
    "duration": 17,
    "start_time": "2022-09-22T20:15:19.162Z"
   },
   {
    "duration": 8,
    "start_time": "2022-09-22T20:16:29.013Z"
   },
   {
    "duration": 141,
    "start_time": "2022-09-22T20:16:40.604Z"
   },
   {
    "duration": 5,
    "start_time": "2022-09-22T20:16:44.505Z"
   },
   {
    "duration": 4,
    "start_time": "2022-09-22T20:20:05.861Z"
   },
   {
    "duration": 602,
    "start_time": "2022-09-22T20:20:05.867Z"
   },
   {
    "duration": 24,
    "start_time": "2022-09-22T20:20:06.471Z"
   },
   {
    "duration": 24,
    "start_time": "2022-09-22T20:20:06.497Z"
   },
   {
    "duration": 18,
    "start_time": "2022-09-22T20:20:06.523Z"
   },
   {
    "duration": 69,
    "start_time": "2022-09-22T20:20:06.543Z"
   },
   {
    "duration": 5,
    "start_time": "2022-09-22T20:20:06.614Z"
   },
   {
    "duration": 89,
    "start_time": "2022-09-22T20:20:06.621Z"
   },
   {
    "duration": 32,
    "start_time": "2022-09-22T20:20:06.713Z"
   },
   {
    "duration": 27,
    "start_time": "2022-09-22T20:20:06.748Z"
   },
   {
    "duration": 34,
    "start_time": "2022-09-22T20:20:06.778Z"
   },
   {
    "duration": 10,
    "start_time": "2022-09-22T20:20:06.815Z"
   },
   {
    "duration": 25,
    "start_time": "2022-09-22T20:20:06.828Z"
   },
   {
    "duration": 41,
    "start_time": "2022-09-22T20:20:06.855Z"
   },
   {
    "duration": 41,
    "start_time": "2022-09-22T20:20:06.898Z"
   },
   {
    "duration": 9,
    "start_time": "2022-09-22T20:20:06.941Z"
   },
   {
    "duration": 186,
    "start_time": "2022-09-22T20:20:06.951Z"
   },
   {
    "duration": 6,
    "start_time": "2022-09-22T20:20:07.139Z"
   },
   {
    "duration": 27,
    "start_time": "2022-09-22T20:20:07.146Z"
   },
   {
    "duration": 21,
    "start_time": "2022-09-22T20:20:07.175Z"
   },
   {
    "duration": 12,
    "start_time": "2022-09-22T20:20:07.198Z"
   },
   {
    "duration": 32,
    "start_time": "2022-09-22T20:20:07.212Z"
   },
   {
    "duration": 30,
    "start_time": "2022-09-22T20:20:19.376Z"
   },
   {
    "duration": 10,
    "start_time": "2022-09-22T20:20:32.303Z"
   },
   {
    "duration": 16,
    "start_time": "2022-09-22T20:22:24.692Z"
   },
   {
    "duration": 5,
    "start_time": "2022-09-22T20:45:06.712Z"
   },
   {
    "duration": 5,
    "start_time": "2022-09-22T20:45:22.515Z"
   },
   {
    "duration": 8,
    "start_time": "2022-09-22T20:45:26.270Z"
   },
   {
    "duration": 4,
    "start_time": "2022-09-22T20:45:43.412Z"
   },
   {
    "duration": 6,
    "start_time": "2022-09-22T20:45:46.537Z"
   },
   {
    "duration": 3,
    "start_time": "2022-09-22T20:45:46.785Z"
   },
   {
    "duration": 4,
    "start_time": "2022-09-22T20:45:46.959Z"
   },
   {
    "duration": 9,
    "start_time": "2022-09-22T20:45:47.478Z"
   },
   {
    "duration": 6,
    "start_time": "2022-09-22T20:53:53.174Z"
   },
   {
    "duration": 19,
    "start_time": "2022-09-22T20:54:53.690Z"
   },
   {
    "duration": 6,
    "start_time": "2022-09-22T20:56:20.235Z"
   },
   {
    "duration": 19,
    "start_time": "2022-09-22T21:48:39.483Z"
   },
   {
    "duration": 1301,
    "start_time": "2022-09-22T21:48:51.505Z"
   },
   {
    "duration": 610,
    "start_time": "2022-09-22T21:48:52.808Z"
   },
   {
    "duration": 23,
    "start_time": "2022-09-22T21:48:53.420Z"
   },
   {
    "duration": 24,
    "start_time": "2022-09-22T21:48:53.444Z"
   },
   {
    "duration": 26,
    "start_time": "2022-09-22T21:48:53.470Z"
   },
   {
    "duration": 27,
    "start_time": "2022-09-22T21:48:53.498Z"
   },
   {
    "duration": 4,
    "start_time": "2022-09-22T21:48:53.526Z"
   },
   {
    "duration": 74,
    "start_time": "2022-09-22T21:48:53.531Z"
   },
   {
    "duration": 24,
    "start_time": "2022-09-22T21:48:53.607Z"
   },
   {
    "duration": 17,
    "start_time": "2022-09-22T21:48:53.633Z"
   },
   {
    "duration": 14,
    "start_time": "2022-09-22T21:48:53.652Z"
   },
   {
    "duration": 30,
    "start_time": "2022-09-22T21:48:53.668Z"
   },
   {
    "duration": 6,
    "start_time": "2022-09-22T21:48:53.700Z"
   },
   {
    "duration": 11,
    "start_time": "2022-09-22T21:48:53.709Z"
   },
   {
    "duration": 15,
    "start_time": "2022-09-22T21:48:53.721Z"
   },
   {
    "duration": 8,
    "start_time": "2022-09-22T21:48:53.737Z"
   },
   {
    "duration": 177,
    "start_time": "2022-09-22T21:48:53.746Z"
   },
   {
    "duration": 5,
    "start_time": "2022-09-22T21:48:53.925Z"
   },
   {
    "duration": 20,
    "start_time": "2022-09-22T21:48:53.931Z"
   },
   {
    "duration": 4,
    "start_time": "2022-09-22T21:48:53.952Z"
   },
   {
    "duration": 7,
    "start_time": "2022-09-22T21:48:53.958Z"
   },
   {
    "duration": 29,
    "start_time": "2022-09-22T21:48:53.967Z"
   },
   {
    "duration": 11,
    "start_time": "2022-09-22T21:48:53.998Z"
   },
   {
    "duration": 77,
    "start_time": "2022-09-22T21:48:54.011Z"
   },
   {
    "duration": 0,
    "start_time": "2022-09-22T21:48:54.089Z"
   },
   {
    "duration": 0,
    "start_time": "2022-09-22T21:48:54.091Z"
   },
   {
    "duration": 0,
    "start_time": "2022-09-22T21:48:54.092Z"
   },
   {
    "duration": 2,
    "start_time": "2022-09-22T21:49:03.947Z"
   },
   {
    "duration": 25,
    "start_time": "2022-09-22T21:49:04.933Z"
   },
   {
    "duration": 9,
    "start_time": "2022-09-22T21:49:05.743Z"
   },
   {
    "duration": 23,
    "start_time": "2022-09-22T21:49:06.813Z"
   },
   {
    "duration": 5,
    "start_time": "2022-09-22T21:49:35.729Z"
   },
   {
    "duration": 1270,
    "start_time": "2022-09-22T21:52:55.332Z"
   },
   {
    "duration": 627,
    "start_time": "2022-09-22T21:52:56.605Z"
   },
   {
    "duration": 23,
    "start_time": "2022-09-22T21:52:57.233Z"
   },
   {
    "duration": 21,
    "start_time": "2022-09-22T21:52:57.258Z"
   },
   {
    "duration": 24,
    "start_time": "2022-09-22T21:52:57.281Z"
   },
   {
    "duration": 26,
    "start_time": "2022-09-22T21:52:57.307Z"
   },
   {
    "duration": 77,
    "start_time": "2022-09-22T21:52:57.335Z"
   },
   {
    "duration": 23,
    "start_time": "2022-09-22T21:52:57.414Z"
   },
   {
    "duration": 16,
    "start_time": "2022-09-22T21:52:57.439Z"
   },
   {
    "duration": 15,
    "start_time": "2022-09-22T21:52:57.457Z"
   },
   {
    "duration": 23,
    "start_time": "2022-09-22T21:52:57.473Z"
   },
   {
    "duration": 4,
    "start_time": "2022-09-22T21:52:57.497Z"
   },
   {
    "duration": 13,
    "start_time": "2022-09-22T21:52:57.503Z"
   },
   {
    "duration": 15,
    "start_time": "2022-09-22T21:52:57.518Z"
   },
   {
    "duration": 9,
    "start_time": "2022-09-22T21:52:57.534Z"
   },
   {
    "duration": 173,
    "start_time": "2022-09-22T21:52:57.545Z"
   },
   {
    "duration": 5,
    "start_time": "2022-09-22T21:52:57.720Z"
   },
   {
    "duration": 19,
    "start_time": "2022-09-22T21:52:57.727Z"
   },
   {
    "duration": 5,
    "start_time": "2022-09-22T21:52:57.747Z"
   },
   {
    "duration": 9,
    "start_time": "2022-09-22T21:52:57.753Z"
   },
   {
    "duration": 6,
    "start_time": "2022-09-22T21:52:57.764Z"
   },
   {
    "duration": 10,
    "start_time": "2022-09-22T21:52:57.794Z"
   },
   {
    "duration": 5,
    "start_time": "2022-09-22T21:52:57.805Z"
   },
   {
    "duration": 29,
    "start_time": "2022-09-22T21:52:57.812Z"
   },
   {
    "duration": 8,
    "start_time": "2022-09-22T21:52:57.843Z"
   },
   {
    "duration": 44,
    "start_time": "2022-09-22T21:52:57.853Z"
   },
   {
    "duration": 5,
    "start_time": "2022-09-22T21:52:57.898Z"
   },
   {
    "duration": 12,
    "start_time": "2022-09-22T21:54:20.905Z"
   },
   {
    "duration": 4,
    "start_time": "2022-09-22T21:54:27.867Z"
   },
   {
    "duration": 5,
    "start_time": "2022-09-22T21:54:43.721Z"
   },
   {
    "duration": 4,
    "start_time": "2022-09-22T21:54:46.084Z"
   },
   {
    "duration": 1182,
    "start_time": "2022-09-22T23:24:48.832Z"
   },
   {
    "duration": 538,
    "start_time": "2022-09-22T23:24:50.016Z"
   },
   {
    "duration": 20,
    "start_time": "2022-09-22T23:24:50.555Z"
   },
   {
    "duration": 19,
    "start_time": "2022-09-22T23:24:50.577Z"
   },
   {
    "duration": 11,
    "start_time": "2022-09-22T23:24:50.597Z"
   },
   {
    "duration": 26,
    "start_time": "2022-09-22T23:24:50.609Z"
   },
   {
    "duration": 63,
    "start_time": "2022-09-22T23:24:50.636Z"
   },
   {
    "duration": 23,
    "start_time": "2022-09-22T23:24:50.700Z"
   },
   {
    "duration": 12,
    "start_time": "2022-09-22T23:24:50.725Z"
   },
   {
    "duration": 14,
    "start_time": "2022-09-22T23:24:50.739Z"
   },
   {
    "duration": 3,
    "start_time": "2022-09-22T23:24:50.755Z"
   },
   {
    "duration": 7,
    "start_time": "2022-09-22T23:24:50.760Z"
   },
   {
    "duration": 31,
    "start_time": "2022-09-22T23:24:50.768Z"
   },
   {
    "duration": 18,
    "start_time": "2022-09-22T23:24:50.802Z"
   },
   {
    "duration": 12,
    "start_time": "2022-09-22T23:24:50.826Z"
   },
   {
    "duration": 156,
    "start_time": "2022-09-22T23:24:50.839Z"
   },
   {
    "duration": 5,
    "start_time": "2022-09-22T23:24:50.996Z"
   },
   {
    "duration": 20,
    "start_time": "2022-09-22T23:24:51.003Z"
   },
   {
    "duration": 5,
    "start_time": "2022-09-22T23:24:51.025Z"
   },
   {
    "duration": 7,
    "start_time": "2022-09-22T23:24:51.032Z"
   },
   {
    "duration": 6,
    "start_time": "2022-09-22T23:24:51.040Z"
   },
   {
    "duration": 11,
    "start_time": "2022-09-22T23:24:51.048Z"
   },
   {
    "duration": 13,
    "start_time": "2022-09-22T23:24:51.060Z"
   },
   {
    "duration": 28,
    "start_time": "2022-09-22T23:24:51.094Z"
   },
   {
    "duration": 7,
    "start_time": "2022-09-22T23:24:51.124Z"
   },
   {
    "duration": 17,
    "start_time": "2022-09-22T23:24:51.133Z"
   },
   {
    "duration": 4,
    "start_time": "2022-09-22T23:24:51.152Z"
   },
   {
    "duration": 37,
    "start_time": "2022-09-22T23:24:51.158Z"
   },
   {
    "duration": 98,
    "start_time": "2022-09-22T23:25:00.294Z"
   },
   {
    "duration": 11,
    "start_time": "2022-09-22T23:25:13.447Z"
   },
   {
    "duration": 14,
    "start_time": "2022-09-22T23:25:18.888Z"
   },
   {
    "duration": 9,
    "start_time": "2022-09-22T23:26:38.172Z"
   },
   {
    "duration": 11,
    "start_time": "2022-09-22T23:26:48.757Z"
   },
   {
    "duration": 56,
    "start_time": "2022-09-22T23:27:09.145Z"
   },
   {
    "duration": 58,
    "start_time": "2022-09-22T23:27:54.620Z"
   },
   {
    "duration": 59,
    "start_time": "2022-09-22T23:28:31.598Z"
   },
   {
    "duration": 65,
    "start_time": "2022-09-22T23:29:06.845Z"
   },
   {
    "duration": 66,
    "start_time": "2022-09-22T23:29:11.412Z"
   },
   {
    "duration": 59,
    "start_time": "2022-09-22T23:31:53.994Z"
   },
   {
    "duration": 56,
    "start_time": "2022-09-22T23:31:57.375Z"
   },
   {
    "duration": 66,
    "start_time": "2022-09-22T23:32:07.839Z"
   },
   {
    "duration": 67,
    "start_time": "2022-09-22T23:32:18.805Z"
   },
   {
    "duration": 61,
    "start_time": "2022-09-22T23:32:22.349Z"
   },
   {
    "duration": 92,
    "start_time": "2022-09-22T23:33:01.782Z"
   },
   {
    "duration": 66,
    "start_time": "2022-09-22T23:33:12.270Z"
   },
   {
    "duration": 73,
    "start_time": "2022-09-22T23:33:54.509Z"
   },
   {
    "duration": 67,
    "start_time": "2022-09-22T23:34:04.518Z"
   },
   {
    "duration": 50,
    "start_time": "2022-09-22T23:34:08.209Z"
   },
   {
    "duration": 72,
    "start_time": "2022-09-22T23:37:18.255Z"
   },
   {
    "duration": 20,
    "start_time": "2022-09-22T23:37:21.173Z"
   },
   {
    "duration": 27,
    "start_time": "2022-09-22T23:37:24.066Z"
   },
   {
    "duration": 7,
    "start_time": "2022-09-22T23:40:11.390Z"
   },
   {
    "duration": 13,
    "start_time": "2022-09-22T23:40:18.321Z"
   },
   {
    "duration": 15,
    "start_time": "2022-09-22T23:40:28.303Z"
   },
   {
    "duration": 25,
    "start_time": "2022-09-22T23:42:56.556Z"
   },
   {
    "duration": 6,
    "start_time": "2022-09-22T23:43:09.967Z"
   },
   {
    "duration": 14,
    "start_time": "2022-09-22T23:43:51.006Z"
   },
   {
    "duration": 76,
    "start_time": "2022-09-22T23:44:04.036Z"
   },
   {
    "duration": 7,
    "start_time": "2022-09-22T23:44:06.972Z"
   },
   {
    "duration": 3,
    "start_time": "2022-09-22T23:45:58.924Z"
   },
   {
    "duration": 5,
    "start_time": "2022-09-22T23:46:02.987Z"
   },
   {
    "duration": 9,
    "start_time": "2022-09-22T23:46:11.663Z"
   },
   {
    "duration": 99,
    "start_time": "2022-09-22T23:46:54.794Z"
   },
   {
    "duration": 20,
    "start_time": "2022-09-22T23:47:02.355Z"
   },
   {
    "duration": 9,
    "start_time": "2022-09-22T23:47:05.268Z"
   },
   {
    "duration": 23,
    "start_time": "2022-09-22T23:49:26.963Z"
   },
   {
    "duration": 9,
    "start_time": "2022-09-22T23:49:48.953Z"
   },
   {
    "duration": 16,
    "start_time": "2022-09-22T23:49:56.203Z"
   },
   {
    "duration": 12,
    "start_time": "2022-09-22T23:50:05.965Z"
   },
   {
    "duration": 4,
    "start_time": "2022-09-22T23:50:16.973Z"
   },
   {
    "duration": 9,
    "start_time": "2022-09-22T23:50:21.020Z"
   },
   {
    "duration": 13,
    "start_time": "2022-09-22T23:51:15.818Z"
   },
   {
    "duration": 32,
    "start_time": "2022-09-22T23:51:28.817Z"
   },
   {
    "duration": 13,
    "start_time": "2022-09-22T23:52:12.377Z"
   },
   {
    "duration": 9,
    "start_time": "2022-09-22T23:52:31.699Z"
   },
   {
    "duration": 2,
    "start_time": "2022-09-22T23:52:47.040Z"
   },
   {
    "duration": 10,
    "start_time": "2022-09-22T23:55:35.473Z"
   },
   {
    "duration": 15,
    "start_time": "2022-09-22T23:55:50.807Z"
   },
   {
    "duration": 1252,
    "start_time": "2022-09-22T23:57:31.489Z"
   },
   {
    "duration": 563,
    "start_time": "2022-09-22T23:57:32.743Z"
   },
   {
    "duration": 23,
    "start_time": "2022-09-22T23:57:33.308Z"
   },
   {
    "duration": 23,
    "start_time": "2022-09-22T23:57:33.333Z"
   },
   {
    "duration": 37,
    "start_time": "2022-09-22T23:57:33.359Z"
   },
   {
    "duration": 26,
    "start_time": "2022-09-22T23:57:33.398Z"
   },
   {
    "duration": 42,
    "start_time": "2022-09-22T23:57:33.426Z"
   },
   {
    "duration": 49,
    "start_time": "2022-09-22T23:57:33.470Z"
   },
   {
    "duration": 13,
    "start_time": "2022-09-22T23:57:33.520Z"
   },
   {
    "duration": 17,
    "start_time": "2022-09-22T23:57:43.002Z"
   },
   {
    "duration": 5,
    "start_time": "2022-09-23T00:00:21.176Z"
   },
   {
    "duration": 1241,
    "start_time": "2022-09-23T00:00:35.439Z"
   },
   {
    "duration": 595,
    "start_time": "2022-09-23T00:00:36.682Z"
   },
   {
    "duration": 23,
    "start_time": "2022-09-23T00:00:37.279Z"
   },
   {
    "duration": 21,
    "start_time": "2022-09-23T00:00:37.304Z"
   },
   {
    "duration": 11,
    "start_time": "2022-09-23T00:00:37.327Z"
   },
   {
    "duration": 33,
    "start_time": "2022-09-23T00:00:37.339Z"
   },
   {
    "duration": 60,
    "start_time": "2022-09-23T00:00:37.374Z"
   },
   {
    "duration": 23,
    "start_time": "2022-09-23T00:00:37.436Z"
   },
   {
    "duration": 12,
    "start_time": "2022-09-23T00:00:37.460Z"
   },
   {
    "duration": 34,
    "start_time": "2022-09-23T00:00:37.474Z"
   },
   {
    "duration": 4,
    "start_time": "2022-09-23T00:00:37.510Z"
   },
   {
    "duration": 14,
    "start_time": "2022-09-23T00:00:37.516Z"
   },
   {
    "duration": 16,
    "start_time": "2022-09-23T00:00:37.532Z"
   },
   {
    "duration": 15,
    "start_time": "2022-09-23T00:00:37.551Z"
   },
   {
    "duration": 7,
    "start_time": "2022-09-23T00:00:37.568Z"
   },
   {
    "duration": 158,
    "start_time": "2022-09-23T00:00:37.596Z"
   },
   {
    "duration": 6,
    "start_time": "2022-09-23T00:00:37.756Z"
   },
   {
    "duration": 20,
    "start_time": "2022-09-23T00:00:37.763Z"
   },
   {
    "duration": 12,
    "start_time": "2022-09-23T00:00:37.785Z"
   },
   {
    "duration": 7,
    "start_time": "2022-09-23T00:00:37.799Z"
   },
   {
    "duration": 7,
    "start_time": "2022-09-23T00:00:37.807Z"
   },
   {
    "duration": 11,
    "start_time": "2022-09-23T00:00:37.815Z"
   },
   {
    "duration": 7,
    "start_time": "2022-09-23T00:00:37.828Z"
   },
   {
    "duration": 28,
    "start_time": "2022-09-23T00:00:37.837Z"
   },
   {
    "duration": 9,
    "start_time": "2022-09-23T00:00:37.867Z"
   },
   {
    "duration": 19,
    "start_time": "2022-09-23T00:00:37.877Z"
   },
   {
    "duration": 5,
    "start_time": "2022-09-23T00:00:37.898Z"
   },
   {
    "duration": 68,
    "start_time": "2022-09-23T00:00:37.904Z"
   },
   {
    "duration": 6,
    "start_time": "2022-09-23T00:00:37.973Z"
   },
   {
    "duration": 5,
    "start_time": "2022-09-23T00:00:37.981Z"
   },
   {
    "duration": 149,
    "start_time": "2022-09-23T00:00:37.987Z"
   },
   {
    "duration": 4,
    "start_time": "2022-09-23T00:00:38.137Z"
   },
   {
    "duration": 14,
    "start_time": "2022-09-23T00:00:38.142Z"
   },
   {
    "duration": 40,
    "start_time": "2022-09-23T00:00:38.157Z"
   },
   {
    "duration": 6,
    "start_time": "2022-09-23T00:00:56.210Z"
   },
   {
    "duration": 15,
    "start_time": "2022-09-23T00:01:30.997Z"
   },
   {
    "duration": 10,
    "start_time": "2022-09-23T00:01:46.332Z"
   },
   {
    "duration": 15,
    "start_time": "2022-09-23T00:02:05.234Z"
   },
   {
    "duration": 12,
    "start_time": "2022-09-23T00:02:11.292Z"
   },
   {
    "duration": 14,
    "start_time": "2022-09-23T00:03:33.242Z"
   },
   {
    "duration": 6,
    "start_time": "2022-09-23T00:03:42.846Z"
   },
   {
    "duration": 13,
    "start_time": "2022-09-23T00:03:47.485Z"
   },
   {
    "duration": 11,
    "start_time": "2022-09-23T00:04:14.823Z"
   },
   {
    "duration": 13,
    "start_time": "2022-09-23T00:04:40.671Z"
   },
   {
    "duration": 16,
    "start_time": "2022-09-23T00:04:43.483Z"
   },
   {
    "duration": 12,
    "start_time": "2022-09-23T00:04:54.121Z"
   },
   {
    "duration": 16,
    "start_time": "2022-09-23T00:05:00.676Z"
   },
   {
    "duration": 5,
    "start_time": "2022-09-23T00:05:08.556Z"
   },
   {
    "duration": 5,
    "start_time": "2022-09-23T00:05:19.286Z"
   },
   {
    "duration": 5,
    "start_time": "2022-09-23T00:05:29.636Z"
   },
   {
    "duration": 6,
    "start_time": "2022-09-23T00:15:28.387Z"
   },
   {
    "duration": 7,
    "start_time": "2022-09-23T00:15:34.056Z"
   },
   {
    "duration": 15,
    "start_time": "2022-09-23T00:15:44.177Z"
   },
   {
    "duration": 8,
    "start_time": "2022-09-23T00:15:48.267Z"
   },
   {
    "duration": 3,
    "start_time": "2022-09-23T00:16:00.315Z"
   },
   {
    "duration": 12,
    "start_time": "2022-09-23T00:16:02.934Z"
   },
   {
    "duration": 4,
    "start_time": "2022-09-23T00:16:06.866Z"
   },
   {
    "duration": 4,
    "start_time": "2022-09-23T00:16:20.047Z"
   },
   {
    "duration": 4,
    "start_time": "2022-09-23T00:16:20.435Z"
   },
   {
    "duration": 12,
    "start_time": "2022-09-23T00:16:48.965Z"
   },
   {
    "duration": 4,
    "start_time": "2022-09-23T00:17:12.358Z"
   },
   {
    "duration": 4,
    "start_time": "2022-09-23T00:17:12.636Z"
   },
   {
    "duration": 12,
    "start_time": "2022-09-23T00:17:18.493Z"
   },
   {
    "duration": 14,
    "start_time": "2022-09-23T00:17:40.507Z"
   },
   {
    "duration": 1239,
    "start_time": "2022-09-23T00:18:58.425Z"
   },
   {
    "duration": 602,
    "start_time": "2022-09-23T00:18:59.666Z"
   },
   {
    "duration": 21,
    "start_time": "2022-09-23T00:19:00.270Z"
   },
   {
    "duration": 21,
    "start_time": "2022-09-23T00:19:00.293Z"
   },
   {
    "duration": 12,
    "start_time": "2022-09-23T00:19:00.316Z"
   },
   {
    "duration": 27,
    "start_time": "2022-09-23T00:19:00.329Z"
   },
   {
    "duration": 70,
    "start_time": "2022-09-23T00:19:00.358Z"
   },
   {
    "duration": 24,
    "start_time": "2022-09-23T00:19:01.414Z"
   },
   {
    "duration": 10,
    "start_time": "2022-09-23T00:19:30.669Z"
   },
   {
    "duration": 1256,
    "start_time": "2022-09-23T00:20:22.826Z"
   },
   {
    "duration": 609,
    "start_time": "2022-09-23T00:20:24.084Z"
   },
   {
    "duration": 22,
    "start_time": "2022-09-23T00:20:24.695Z"
   },
   {
    "duration": 21,
    "start_time": "2022-09-23T00:20:24.718Z"
   },
   {
    "duration": 11,
    "start_time": "2022-09-23T00:20:24.740Z"
   },
   {
    "duration": 55,
    "start_time": "2022-09-23T00:20:24.753Z"
   },
   {
    "duration": 49,
    "start_time": "2022-09-23T00:20:24.810Z"
   },
   {
    "duration": 42,
    "start_time": "2022-09-23T00:20:24.861Z"
   },
   {
    "duration": 13,
    "start_time": "2022-09-23T00:20:24.905Z"
   },
   {
    "duration": 21,
    "start_time": "2022-09-23T00:20:24.920Z"
   },
   {
    "duration": 4,
    "start_time": "2022-09-23T00:20:24.943Z"
   },
   {
    "duration": 9,
    "start_time": "2022-09-23T00:20:24.949Z"
   },
   {
    "duration": 12,
    "start_time": "2022-09-23T00:20:24.960Z"
   },
   {
    "duration": 16,
    "start_time": "2022-09-23T00:20:24.996Z"
   },
   {
    "duration": 10,
    "start_time": "2022-09-23T00:20:25.013Z"
   },
   {
    "duration": 171,
    "start_time": "2022-09-23T00:20:25.025Z"
   },
   {
    "duration": 6,
    "start_time": "2022-09-23T00:20:25.198Z"
   },
   {
    "duration": 21,
    "start_time": "2022-09-23T00:20:25.206Z"
   },
   {
    "duration": 5,
    "start_time": "2022-09-23T00:20:25.228Z"
   },
   {
    "duration": 7,
    "start_time": "2022-09-23T00:20:25.235Z"
   },
   {
    "duration": 13,
    "start_time": "2022-09-23T00:20:25.244Z"
   },
   {
    "duration": 12,
    "start_time": "2022-09-23T00:20:25.259Z"
   },
   {
    "duration": 3,
    "start_time": "2022-09-23T00:20:25.294Z"
   },
   {
    "duration": 31,
    "start_time": "2022-09-23T00:20:25.298Z"
   },
   {
    "duration": 10,
    "start_time": "2022-09-23T00:20:25.331Z"
   },
   {
    "duration": 22,
    "start_time": "2022-09-23T00:20:25.343Z"
   },
   {
    "duration": 5,
    "start_time": "2022-09-23T00:20:25.396Z"
   },
   {
    "duration": 64,
    "start_time": "2022-09-23T00:20:25.404Z"
   },
   {
    "duration": 7,
    "start_time": "2022-09-23T00:20:25.469Z"
   },
   {
    "duration": 21,
    "start_time": "2022-09-23T00:20:25.477Z"
   },
   {
    "duration": 145,
    "start_time": "2022-09-23T00:20:25.499Z"
   },
   {
    "duration": 3,
    "start_time": "2022-09-23T00:20:25.646Z"
   },
   {
    "duration": 14,
    "start_time": "2022-09-23T00:20:25.651Z"
   },
   {
    "duration": 10,
    "start_time": "2022-09-23T00:20:25.667Z"
   },
   {
    "duration": 7,
    "start_time": "2022-09-23T00:20:46.004Z"
   },
   {
    "duration": 9,
    "start_time": "2022-09-23T00:20:57.056Z"
   },
   {
    "duration": 10,
    "start_time": "2022-09-23T00:21:04.788Z"
   },
   {
    "duration": 10,
    "start_time": "2022-09-23T00:21:06.316Z"
   },
   {
    "duration": 3,
    "start_time": "2022-09-23T00:21:07.126Z"
   },
   {
    "duration": 4,
    "start_time": "2022-09-23T00:21:07.432Z"
   },
   {
    "duration": 14,
    "start_time": "2022-09-23T00:21:08.768Z"
   },
   {
    "duration": 13,
    "start_time": "2022-09-23T00:21:13.762Z"
   },
   {
    "duration": 5,
    "start_time": "2022-09-23T00:21:49.827Z"
   },
   {
    "duration": 7,
    "start_time": "2022-09-23T00:22:16.944Z"
   },
   {
    "duration": 9,
    "start_time": "2022-09-23T00:22:19.404Z"
   },
   {
    "duration": 10,
    "start_time": "2022-09-23T00:22:27.978Z"
   },
   {
    "duration": 13,
    "start_time": "2022-09-23T00:23:31.645Z"
   },
   {
    "duration": 75,
    "start_time": "2022-09-23T00:24:13.417Z"
   },
   {
    "duration": 2,
    "start_time": "2022-09-23T00:43:17.619Z"
   },
   {
    "duration": 8,
    "start_time": "2022-09-23T00:43:43.231Z"
   },
   {
    "duration": 13,
    "start_time": "2022-09-23T00:44:19.403Z"
   },
   {
    "duration": 4,
    "start_time": "2022-09-23T00:45:11.649Z"
   },
   {
    "duration": 13,
    "start_time": "2022-09-23T00:45:25.771Z"
   },
   {
    "duration": 14,
    "start_time": "2022-09-23T00:45:45.655Z"
   },
   {
    "duration": 3,
    "start_time": "2022-09-23T00:46:01.638Z"
   },
   {
    "duration": 10,
    "start_time": "2022-09-23T00:46:16.293Z"
   },
   {
    "duration": 13,
    "start_time": "2022-09-23T00:46:50.992Z"
   },
   {
    "duration": 9,
    "start_time": "2022-09-23T00:46:55.706Z"
   },
   {
    "duration": 14,
    "start_time": "2022-09-23T00:46:58.404Z"
   },
   {
    "duration": 10,
    "start_time": "2022-09-23T00:47:19.926Z"
   },
   {
    "duration": 12,
    "start_time": "2022-09-23T00:47:20.981Z"
   },
   {
    "duration": 13,
    "start_time": "2022-09-23T00:47:24.079Z"
   },
   {
    "duration": 12,
    "start_time": "2022-09-23T00:47:49.647Z"
   },
   {
    "duration": 12,
    "start_time": "2022-09-23T00:48:28.279Z"
   },
   {
    "duration": 20,
    "start_time": "2022-09-23T00:48:32.245Z"
   },
   {
    "duration": 9,
    "start_time": "2022-09-23T00:48:56.557Z"
   },
   {
    "duration": 8,
    "start_time": "2022-09-23T00:49:08.946Z"
   },
   {
    "duration": 10,
    "start_time": "2022-09-23T00:49:12.201Z"
   },
   {
    "duration": 17,
    "start_time": "2022-09-23T00:49:23.531Z"
   },
   {
    "duration": 9,
    "start_time": "2022-09-23T00:49:38.544Z"
   },
   {
    "duration": 12,
    "start_time": "2022-09-23T00:50:29.611Z"
   },
   {
    "duration": 1225,
    "start_time": "2022-09-23T00:51:11.945Z"
   },
   {
    "duration": 565,
    "start_time": "2022-09-23T00:51:13.172Z"
   },
   {
    "duration": 24,
    "start_time": "2022-09-23T00:51:13.738Z"
   },
   {
    "duration": 21,
    "start_time": "2022-09-23T00:51:13.763Z"
   },
   {
    "duration": 17,
    "start_time": "2022-09-23T00:51:13.786Z"
   },
   {
    "duration": 27,
    "start_time": "2022-09-23T00:51:13.804Z"
   },
   {
    "duration": 67,
    "start_time": "2022-09-23T00:51:13.832Z"
   },
   {
    "duration": 23,
    "start_time": "2022-09-23T00:51:13.900Z"
   },
   {
    "duration": 12,
    "start_time": "2022-09-23T00:51:13.925Z"
   },
   {
    "duration": 22,
    "start_time": "2022-09-23T00:51:13.938Z"
   },
   {
    "duration": 5,
    "start_time": "2022-09-23T00:51:13.962Z"
   },
   {
    "duration": 30,
    "start_time": "2022-09-23T00:51:13.968Z"
   },
   {
    "duration": 19,
    "start_time": "2022-09-23T00:51:14.000Z"
   },
   {
    "duration": 14,
    "start_time": "2022-09-23T00:51:14.022Z"
   },
   {
    "duration": 8,
    "start_time": "2022-09-23T00:51:14.037Z"
   },
   {
    "duration": 162,
    "start_time": "2022-09-23T00:51:14.046Z"
   },
   {
    "duration": 6,
    "start_time": "2022-09-23T00:51:14.210Z"
   },
   {
    "duration": 21,
    "start_time": "2022-09-23T00:51:14.218Z"
   },
   {
    "duration": 5,
    "start_time": "2022-09-23T00:51:14.241Z"
   },
   {
    "duration": 7,
    "start_time": "2022-09-23T00:51:14.247Z"
   },
   {
    "duration": 8,
    "start_time": "2022-09-23T00:51:14.256Z"
   },
   {
    "duration": 36,
    "start_time": "2022-09-23T00:51:14.265Z"
   },
   {
    "duration": 2,
    "start_time": "2022-09-23T00:51:14.303Z"
   },
   {
    "duration": 29,
    "start_time": "2022-09-23T00:51:14.307Z"
   },
   {
    "duration": 8,
    "start_time": "2022-09-23T00:51:14.338Z"
   },
   {
    "duration": 48,
    "start_time": "2022-09-23T00:51:14.348Z"
   },
   {
    "duration": 5,
    "start_time": "2022-09-23T00:51:14.397Z"
   },
   {
    "duration": 59,
    "start_time": "2022-09-23T00:51:14.403Z"
   },
   {
    "duration": 6,
    "start_time": "2022-09-23T00:51:14.464Z"
   },
   {
    "duration": 26,
    "start_time": "2022-09-23T00:51:14.471Z"
   },
   {
    "duration": 128,
    "start_time": "2022-09-23T00:51:14.498Z"
   },
   {
    "duration": 3,
    "start_time": "2022-09-23T00:51:14.628Z"
   },
   {
    "duration": 12,
    "start_time": "2022-09-23T00:51:14.632Z"
   },
   {
    "duration": 11,
    "start_time": "2022-09-23T00:51:14.645Z"
   },
   {
    "duration": 4,
    "start_time": "2022-09-23T00:51:14.658Z"
   },
   {
    "duration": 32,
    "start_time": "2022-09-23T00:51:14.664Z"
   },
   {
    "duration": 11,
    "start_time": "2022-09-23T00:51:14.698Z"
   },
   {
    "duration": 14,
    "start_time": "2022-09-23T00:51:14.711Z"
   },
   {
    "duration": 6,
    "start_time": "2022-09-23T00:51:14.726Z"
   },
   {
    "duration": 18,
    "start_time": "2022-09-23T00:51:14.733Z"
   },
   {
    "duration": 14,
    "start_time": "2022-09-23T00:51:14.754Z"
   },
   {
    "duration": 31,
    "start_time": "2022-09-23T01:10:24.935Z"
   },
   {
    "duration": 24,
    "start_time": "2022-09-23T01:10:39.412Z"
   },
   {
    "duration": 1271,
    "start_time": "2022-09-23T01:10:49.087Z"
   },
   {
    "duration": 582,
    "start_time": "2022-09-23T01:10:50.360Z"
   },
   {
    "duration": 22,
    "start_time": "2022-09-23T01:10:50.943Z"
   },
   {
    "duration": 30,
    "start_time": "2022-09-23T01:10:50.966Z"
   },
   {
    "duration": 14,
    "start_time": "2022-09-23T01:10:50.999Z"
   },
   {
    "duration": 30,
    "start_time": "2022-09-23T01:10:51.015Z"
   },
   {
    "duration": 72,
    "start_time": "2022-09-23T01:10:51.047Z"
   },
   {
    "duration": 27,
    "start_time": "2022-09-23T01:10:51.120Z"
   },
   {
    "duration": 14,
    "start_time": "2022-09-23T01:10:51.149Z"
   },
   {
    "duration": 42,
    "start_time": "2022-09-23T01:10:51.165Z"
   },
   {
    "duration": 5,
    "start_time": "2022-09-23T01:10:51.209Z"
   },
   {
    "duration": 5,
    "start_time": "2022-09-23T01:10:51.216Z"
   },
   {
    "duration": 14,
    "start_time": "2022-09-23T01:10:51.223Z"
   },
   {
    "duration": 12,
    "start_time": "2022-09-23T01:10:51.240Z"
   },
   {
    "duration": 6,
    "start_time": "2022-09-23T01:10:51.254Z"
   },
   {
    "duration": 164,
    "start_time": "2022-09-23T01:10:51.262Z"
   },
   {
    "duration": 5,
    "start_time": "2022-09-23T01:10:51.428Z"
   },
   {
    "duration": 20,
    "start_time": "2022-09-23T01:10:51.434Z"
   },
   {
    "duration": 5,
    "start_time": "2022-09-23T01:10:51.455Z"
   },
   {
    "duration": 5,
    "start_time": "2022-09-23T01:10:51.461Z"
   },
   {
    "duration": 6,
    "start_time": "2022-09-23T01:10:51.468Z"
   },
   {
    "duration": 32,
    "start_time": "2022-09-23T01:10:51.475Z"
   },
   {
    "duration": 5,
    "start_time": "2022-09-23T01:10:51.508Z"
   },
   {
    "duration": 29,
    "start_time": "2022-09-23T01:10:51.515Z"
   },
   {
    "duration": 8,
    "start_time": "2022-09-23T01:10:51.546Z"
   },
   {
    "duration": 17,
    "start_time": "2022-09-23T01:10:51.555Z"
   },
   {
    "duration": 5,
    "start_time": "2022-09-23T01:10:51.595Z"
   },
   {
    "duration": 62,
    "start_time": "2022-09-23T01:10:51.602Z"
   },
   {
    "duration": 6,
    "start_time": "2022-09-23T01:10:51.666Z"
   },
   {
    "duration": 23,
    "start_time": "2022-09-23T01:10:51.674Z"
   },
   {
    "duration": 120,
    "start_time": "2022-09-23T01:10:51.698Z"
   },
   {
    "duration": 4,
    "start_time": "2022-09-23T01:10:51.819Z"
   },
   {
    "duration": 13,
    "start_time": "2022-09-23T01:10:51.824Z"
   },
   {
    "duration": 20,
    "start_time": "2022-09-23T01:10:51.838Z"
   },
   {
    "duration": 5,
    "start_time": "2022-09-23T01:10:51.859Z"
   },
   {
    "duration": 21,
    "start_time": "2022-09-23T01:10:51.865Z"
   },
   {
    "duration": 11,
    "start_time": "2022-09-23T01:10:51.888Z"
   },
   {
    "duration": 16,
    "start_time": "2022-09-23T01:10:51.901Z"
   },
   {
    "duration": 3,
    "start_time": "2022-09-23T01:10:51.919Z"
   },
   {
    "duration": 28,
    "start_time": "2022-09-23T01:10:51.924Z"
   },
   {
    "duration": 13,
    "start_time": "2022-09-23T01:10:51.955Z"
   },
   {
    "duration": 49069,
    "start_time": "2022-09-23T01:11:50.953Z"
   },
   {
    "duration": 11,
    "start_time": "2022-09-23T01:12:43.444Z"
   },
   {
    "duration": 12,
    "start_time": "2022-09-23T01:13:11.552Z"
   },
   {
    "duration": 20,
    "start_time": "2022-09-23T01:13:29.368Z"
   },
   {
    "duration": 21,
    "start_time": "2022-09-23T01:13:36.412Z"
   },
   {
    "duration": 6,
    "start_time": "2022-09-23T01:14:02.895Z"
   },
   {
    "duration": 25,
    "start_time": "2022-09-23T01:14:08.088Z"
   },
   {
    "duration": 7,
    "start_time": "2022-09-23T01:14:27.351Z"
   },
   {
    "duration": 23,
    "start_time": "2022-09-23T01:14:28.808Z"
   },
   {
    "duration": 9,
    "start_time": "2022-09-23T01:14:38.553Z"
   },
   {
    "duration": 24,
    "start_time": "2022-09-23T01:14:40.191Z"
   },
   {
    "duration": 1297,
    "start_time": "2022-09-23T01:14:52.789Z"
   },
   {
    "duration": 588,
    "start_time": "2022-09-23T01:14:54.087Z"
   },
   {
    "duration": 21,
    "start_time": "2022-09-23T01:14:54.677Z"
   },
   {
    "duration": 20,
    "start_time": "2022-09-23T01:14:54.700Z"
   },
   {
    "duration": 11,
    "start_time": "2022-09-23T01:14:54.722Z"
   },
   {
    "duration": 26,
    "start_time": "2022-09-23T01:14:54.735Z"
   },
   {
    "duration": 73,
    "start_time": "2022-09-23T01:14:54.762Z"
   },
   {
    "duration": 24,
    "start_time": "2022-09-23T01:14:54.838Z"
   },
   {
    "duration": 33,
    "start_time": "2022-09-23T01:14:54.863Z"
   },
   {
    "duration": 21,
    "start_time": "2022-09-23T01:14:54.898Z"
   },
   {
    "duration": 5,
    "start_time": "2022-09-23T01:14:54.920Z"
   },
   {
    "duration": 7,
    "start_time": "2022-09-23T01:14:54.926Z"
   },
   {
    "duration": 14,
    "start_time": "2022-09-23T01:14:54.935Z"
   },
   {
    "duration": 14,
    "start_time": "2022-09-23T01:14:54.952Z"
   },
   {
    "duration": 28,
    "start_time": "2022-09-23T01:14:54.968Z"
   },
   {
    "duration": 159,
    "start_time": "2022-09-23T01:14:54.998Z"
   },
   {
    "duration": 7,
    "start_time": "2022-09-23T01:14:55.160Z"
   },
   {
    "duration": 31,
    "start_time": "2022-09-23T01:14:55.169Z"
   },
   {
    "duration": 5,
    "start_time": "2022-09-23T01:14:55.201Z"
   },
   {
    "duration": 10,
    "start_time": "2022-09-23T01:14:55.208Z"
   },
   {
    "duration": 8,
    "start_time": "2022-09-23T01:14:55.220Z"
   },
   {
    "duration": 17,
    "start_time": "2022-09-23T01:14:55.230Z"
   },
   {
    "duration": 4,
    "start_time": "2022-09-23T01:14:55.249Z"
   },
   {
    "duration": 48,
    "start_time": "2022-09-23T01:14:55.255Z"
   },
   {
    "duration": 8,
    "start_time": "2022-09-23T01:14:55.305Z"
   },
   {
    "duration": 19,
    "start_time": "2022-09-23T01:14:55.314Z"
   },
   {
    "duration": 5,
    "start_time": "2022-09-23T01:14:55.334Z"
   },
   {
    "duration": 87,
    "start_time": "2022-09-23T01:14:55.340Z"
   },
   {
    "duration": 6,
    "start_time": "2022-09-23T01:14:55.429Z"
   },
   {
    "duration": 7,
    "start_time": "2022-09-23T01:14:55.436Z"
   },
   {
    "duration": 147,
    "start_time": "2022-09-23T01:14:55.445Z"
   },
   {
    "duration": 4,
    "start_time": "2022-09-23T01:14:55.594Z"
   },
   {
    "duration": 12,
    "start_time": "2022-09-23T01:14:55.600Z"
   },
   {
    "duration": 13,
    "start_time": "2022-09-23T01:14:55.614Z"
   },
   {
    "duration": 5,
    "start_time": "2022-09-23T01:14:55.629Z"
   },
   {
    "duration": 13,
    "start_time": "2022-09-23T01:14:55.636Z"
   },
   {
    "duration": 15,
    "start_time": "2022-09-23T01:14:55.650Z"
   },
   {
    "duration": 50,
    "start_time": "2022-09-23T01:14:55.667Z"
   },
   {
    "duration": 8,
    "start_time": "2022-09-23T01:14:55.718Z"
   },
   {
    "duration": 12,
    "start_time": "2022-09-23T01:14:55.727Z"
   },
   {
    "duration": 0,
    "start_time": "2022-09-23T01:14:55.741Z"
   },
   {
    "duration": 0,
    "start_time": "2022-09-23T01:15:54.074Z"
   },
   {
    "duration": 0,
    "start_time": "2022-09-23T01:15:54.076Z"
   },
   {
    "duration": 387,
    "start_time": "2022-09-23T01:15:58.073Z"
   },
   {
    "duration": 14,
    "start_time": "2022-09-23T01:16:14.953Z"
   },
   {
    "duration": 28,
    "start_time": "2022-09-23T01:16:33.572Z"
   },
   {
    "duration": 14,
    "start_time": "2022-09-23T01:16:34.561Z"
   },
   {
    "duration": 1277,
    "start_time": "2022-09-23T01:16:52.864Z"
   },
   {
    "duration": 572,
    "start_time": "2022-09-23T01:16:54.143Z"
   },
   {
    "duration": 20,
    "start_time": "2022-09-23T01:16:54.717Z"
   },
   {
    "duration": 19,
    "start_time": "2022-09-23T01:16:54.739Z"
   },
   {
    "duration": 10,
    "start_time": "2022-09-23T01:16:54.759Z"
   },
   {
    "duration": 45,
    "start_time": "2022-09-23T01:16:54.770Z"
   },
   {
    "duration": 42,
    "start_time": "2022-09-23T01:16:54.817Z"
   },
   {
    "duration": 39,
    "start_time": "2022-09-23T01:16:54.860Z"
   },
   {
    "duration": 13,
    "start_time": "2022-09-23T01:16:54.900Z"
   },
   {
    "duration": 20,
    "start_time": "2022-09-23T01:16:54.915Z"
   },
   {
    "duration": 4,
    "start_time": "2022-09-23T01:16:54.937Z"
   },
   {
    "duration": 12,
    "start_time": "2022-09-23T01:16:54.942Z"
   },
   {
    "duration": 12,
    "start_time": "2022-09-23T01:16:54.955Z"
   },
   {
    "duration": 37,
    "start_time": "2022-09-23T01:16:54.969Z"
   },
   {
    "duration": 8,
    "start_time": "2022-09-23T01:16:55.008Z"
   },
   {
    "duration": 146,
    "start_time": "2022-09-23T01:16:55.017Z"
   },
   {
    "duration": 5,
    "start_time": "2022-09-23T01:16:55.165Z"
   },
   {
    "duration": 30,
    "start_time": "2022-09-23T01:16:55.172Z"
   },
   {
    "duration": 4,
    "start_time": "2022-09-23T01:16:55.204Z"
   },
   {
    "duration": 7,
    "start_time": "2022-09-23T01:16:55.210Z"
   },
   {
    "duration": 8,
    "start_time": "2022-09-23T01:16:55.218Z"
   },
   {
    "duration": 13,
    "start_time": "2022-09-23T01:16:55.227Z"
   },
   {
    "duration": 4,
    "start_time": "2022-09-23T01:16:55.241Z"
   },
   {
    "duration": 28,
    "start_time": "2022-09-23T01:16:55.246Z"
   },
   {
    "duration": 26,
    "start_time": "2022-09-23T01:16:55.275Z"
   },
   {
    "duration": 19,
    "start_time": "2022-09-23T01:16:55.302Z"
   },
   {
    "duration": 5,
    "start_time": "2022-09-23T01:16:55.322Z"
   },
   {
    "duration": 90,
    "start_time": "2022-09-23T01:16:55.331Z"
   },
   {
    "duration": 7,
    "start_time": "2022-09-23T01:16:55.423Z"
   },
   {
    "duration": 4,
    "start_time": "2022-09-23T01:16:55.432Z"
   },
   {
    "duration": 144,
    "start_time": "2022-09-23T01:16:55.438Z"
   },
   {
    "duration": 4,
    "start_time": "2022-09-23T01:16:55.584Z"
   },
   {
    "duration": 18,
    "start_time": "2022-09-23T01:16:55.589Z"
   },
   {
    "duration": 12,
    "start_time": "2022-09-23T01:16:55.609Z"
   },
   {
    "duration": 5,
    "start_time": "2022-09-23T01:16:55.623Z"
   },
   {
    "duration": 14,
    "start_time": "2022-09-23T01:16:55.630Z"
   },
   {
    "duration": 9,
    "start_time": "2022-09-23T01:16:55.646Z"
   },
   {
    "duration": 58,
    "start_time": "2022-09-23T01:16:55.657Z"
   },
   {
    "duration": 4,
    "start_time": "2022-09-23T01:16:55.716Z"
   },
   {
    "duration": 424,
    "start_time": "2022-09-23T01:16:55.722Z"
   },
   {
    "duration": 372,
    "start_time": "2022-09-23T01:21:26.114Z"
   },
   {
    "duration": 31,
    "start_time": "2022-09-23T01:25:05.845Z"
   },
   {
    "duration": 19,
    "start_time": "2022-09-23T01:25:14.783Z"
   },
   {
    "duration": 457,
    "start_time": "2022-09-23T01:25:48.785Z"
   },
   {
    "duration": 27,
    "start_time": "2022-09-23T01:25:53.050Z"
   },
   {
    "duration": 457,
    "start_time": "2022-09-23T01:25:54.863Z"
   },
   {
    "duration": 229,
    "start_time": "2022-09-23T01:29:57.995Z"
   },
   {
    "duration": 1515,
    "start_time": "2022-09-23T01:35:09.356Z"
   },
   {
    "duration": 591,
    "start_time": "2022-09-23T01:35:10.873Z"
   },
   {
    "duration": 21,
    "start_time": "2022-09-23T01:35:11.466Z"
   },
   {
    "duration": 19,
    "start_time": "2022-09-23T01:35:11.489Z"
   },
   {
    "duration": 10,
    "start_time": "2022-09-23T01:35:11.510Z"
   },
   {
    "duration": 26,
    "start_time": "2022-09-23T01:35:11.522Z"
   },
   {
    "duration": 70,
    "start_time": "2022-09-23T01:35:11.550Z"
   },
   {
    "duration": 23,
    "start_time": "2022-09-23T01:35:11.622Z"
   },
   {
    "duration": 12,
    "start_time": "2022-09-23T01:35:11.647Z"
   },
   {
    "duration": 35,
    "start_time": "2022-09-23T01:35:11.661Z"
   },
   {
    "duration": 5,
    "start_time": "2022-09-23T01:35:11.697Z"
   },
   {
    "duration": 6,
    "start_time": "2022-09-23T01:35:11.703Z"
   },
   {
    "duration": 9,
    "start_time": "2022-09-23T01:35:11.712Z"
   },
   {
    "duration": 13,
    "start_time": "2022-09-23T01:35:11.723Z"
   },
   {
    "duration": 7,
    "start_time": "2022-09-23T01:35:11.738Z"
   },
   {
    "duration": 168,
    "start_time": "2022-09-23T01:35:11.746Z"
   },
   {
    "duration": 6,
    "start_time": "2022-09-23T01:35:11.915Z"
   },
   {
    "duration": 20,
    "start_time": "2022-09-23T01:35:11.922Z"
   },
   {
    "duration": 4,
    "start_time": "2022-09-23T01:35:11.944Z"
   },
   {
    "duration": 7,
    "start_time": "2022-09-23T01:35:11.950Z"
   },
   {
    "duration": 6,
    "start_time": "2022-09-23T01:35:11.958Z"
   },
   {
    "duration": 35,
    "start_time": "2022-09-23T01:35:11.965Z"
   },
   {
    "duration": 4,
    "start_time": "2022-09-23T01:35:12.002Z"
   },
   {
    "duration": 31,
    "start_time": "2022-09-23T01:35:12.007Z"
   },
   {
    "duration": 9,
    "start_time": "2022-09-23T01:35:12.039Z"
   },
   {
    "duration": 17,
    "start_time": "2022-09-23T01:35:12.050Z"
   },
   {
    "duration": 26,
    "start_time": "2022-09-23T01:35:12.069Z"
   },
   {
    "duration": 70,
    "start_time": "2022-09-23T01:35:12.097Z"
   },
   {
    "duration": 7,
    "start_time": "2022-09-23T01:35:12.169Z"
   },
   {
    "duration": 5,
    "start_time": "2022-09-23T01:35:12.196Z"
   },
   {
    "duration": 146,
    "start_time": "2022-09-23T01:35:12.203Z"
   },
   {
    "duration": 4,
    "start_time": "2022-09-23T01:35:12.351Z"
   },
   {
    "duration": 12,
    "start_time": "2022-09-23T01:35:12.357Z"
   },
   {
    "duration": 26,
    "start_time": "2022-09-23T01:35:12.370Z"
   },
   {
    "duration": 5,
    "start_time": "2022-09-23T01:35:12.398Z"
   },
   {
    "duration": 12,
    "start_time": "2022-09-23T01:35:12.404Z"
   },
   {
    "duration": 8,
    "start_time": "2022-09-23T01:35:12.418Z"
   },
   {
    "duration": 25,
    "start_time": "2022-09-23T01:35:12.428Z"
   },
   {
    "duration": 4,
    "start_time": "2022-09-23T01:35:12.455Z"
   },
   {
    "duration": 45,
    "start_time": "2022-09-23T01:35:12.463Z"
   },
   {
    "duration": 478,
    "start_time": "2022-09-23T01:35:12.509Z"
   },
   {
    "duration": 353,
    "start_time": "2022-09-23T01:35:12.989Z"
   },
   {
    "duration": 441,
    "start_time": "2022-09-23T01:35:13.344Z"
   },
   {
    "duration": 221,
    "start_time": "2022-09-23T01:35:13.786Z"
   },
   {
    "duration": 24,
    "start_time": "2022-09-23T01:38:54.204Z"
   },
   {
    "duration": 64,
    "start_time": "2022-09-23T01:39:13.803Z"
   },
   {
    "duration": 67,
    "start_time": "2022-09-23T01:39:18.748Z"
   },
   {
    "duration": 62,
    "start_time": "2022-09-23T01:39:21.789Z"
   },
   {
    "duration": 55,
    "start_time": "2022-09-23T01:39:25.484Z"
   },
   {
    "duration": 1245,
    "start_time": "2022-09-23T01:42:11.492Z"
   },
   {
    "duration": 581,
    "start_time": "2022-09-23T01:42:12.738Z"
   },
   {
    "duration": 20,
    "start_time": "2022-09-23T01:42:13.321Z"
   },
   {
    "duration": 20,
    "start_time": "2022-09-23T01:42:13.343Z"
   },
   {
    "duration": 10,
    "start_time": "2022-09-23T01:42:13.365Z"
   },
   {
    "duration": 39,
    "start_time": "2022-09-23T01:42:13.377Z"
   },
   {
    "duration": 42,
    "start_time": "2022-09-23T01:42:13.417Z"
   },
   {
    "duration": 42,
    "start_time": "2022-09-23T01:42:13.461Z"
   },
   {
    "duration": 11,
    "start_time": "2022-09-23T01:42:13.505Z"
   },
   {
    "duration": 17,
    "start_time": "2022-09-23T01:42:13.518Z"
   },
   {
    "duration": 4,
    "start_time": "2022-09-23T01:42:13.537Z"
   },
   {
    "duration": 5,
    "start_time": "2022-09-23T01:42:13.543Z"
   },
   {
    "duration": 10,
    "start_time": "2022-09-23T01:42:13.550Z"
   },
   {
    "duration": 45,
    "start_time": "2022-09-23T01:42:13.561Z"
   },
   {
    "duration": 8,
    "start_time": "2022-09-23T01:42:13.608Z"
   },
   {
    "duration": 145,
    "start_time": "2022-09-23T01:42:13.617Z"
   },
   {
    "duration": 5,
    "start_time": "2022-09-23T01:42:13.764Z"
   },
   {
    "duration": 31,
    "start_time": "2022-09-23T01:42:13.771Z"
   },
   {
    "duration": 4,
    "start_time": "2022-09-23T01:42:13.804Z"
   },
   {
    "duration": 8,
    "start_time": "2022-09-23T01:42:13.809Z"
   },
   {
    "duration": 8,
    "start_time": "2022-09-23T01:42:13.818Z"
   },
   {
    "duration": 12,
    "start_time": "2022-09-23T01:42:13.828Z"
   },
   {
    "duration": 6,
    "start_time": "2022-09-23T01:42:13.842Z"
   },
   {
    "duration": 48,
    "start_time": "2022-09-23T01:42:13.850Z"
   },
   {
    "duration": 10,
    "start_time": "2022-09-23T01:42:13.900Z"
   },
   {
    "duration": 22,
    "start_time": "2022-09-23T01:42:13.912Z"
   },
   {
    "duration": 5,
    "start_time": "2022-09-23T01:42:13.936Z"
   },
   {
    "duration": 93,
    "start_time": "2022-09-23T01:42:13.942Z"
   },
   {
    "duration": 6,
    "start_time": "2022-09-23T01:42:14.037Z"
   },
   {
    "duration": 6,
    "start_time": "2022-09-23T01:42:14.044Z"
   },
   {
    "duration": 141,
    "start_time": "2022-09-23T01:42:14.051Z"
   },
   {
    "duration": 3,
    "start_time": "2022-09-23T01:42:14.194Z"
   },
   {
    "duration": 12,
    "start_time": "2022-09-23T01:42:14.198Z"
   },
   {
    "duration": 12,
    "start_time": "2022-09-23T01:42:14.212Z"
   },
   {
    "duration": 9,
    "start_time": "2022-09-23T01:42:14.225Z"
   },
   {
    "duration": 11,
    "start_time": "2022-09-23T01:42:14.235Z"
   },
   {
    "duration": 8,
    "start_time": "2022-09-23T01:42:14.248Z"
   },
   {
    "duration": 52,
    "start_time": "2022-09-23T01:42:14.258Z"
   },
   {
    "duration": 5,
    "start_time": "2022-09-23T01:42:14.312Z"
   },
   {
    "duration": 18,
    "start_time": "2022-09-23T01:42:14.320Z"
   },
   {
    "duration": 440,
    "start_time": "2022-09-23T01:42:14.340Z"
   },
   {
    "duration": 349,
    "start_time": "2022-09-23T01:42:14.782Z"
   },
   {
    "duration": 411,
    "start_time": "2022-09-23T01:42:15.133Z"
   },
   {
    "duration": 211,
    "start_time": "2022-09-23T01:42:15.545Z"
   },
   {
    "duration": 1290,
    "start_time": "2022-09-23T01:43:29.965Z"
   },
   {
    "duration": 591,
    "start_time": "2022-09-23T01:43:31.257Z"
   },
   {
    "duration": 23,
    "start_time": "2022-09-23T01:43:31.849Z"
   },
   {
    "duration": 26,
    "start_time": "2022-09-23T01:43:31.873Z"
   },
   {
    "duration": 11,
    "start_time": "2022-09-23T01:43:31.901Z"
   },
   {
    "duration": 31,
    "start_time": "2022-09-23T01:43:31.914Z"
   },
   {
    "duration": 69,
    "start_time": "2022-09-23T01:43:31.947Z"
   },
   {
    "duration": 31,
    "start_time": "2022-09-23T01:43:32.018Z"
   },
   {
    "duration": 13,
    "start_time": "2022-09-23T01:43:32.050Z"
   },
   {
    "duration": 38,
    "start_time": "2022-09-23T01:43:32.065Z"
   },
   {
    "duration": 5,
    "start_time": "2022-09-23T01:43:32.105Z"
   },
   {
    "duration": 7,
    "start_time": "2022-09-23T01:43:32.111Z"
   },
   {
    "duration": 15,
    "start_time": "2022-09-23T01:43:32.120Z"
   },
   {
    "duration": 16,
    "start_time": "2022-09-23T01:43:32.138Z"
   },
   {
    "duration": 7,
    "start_time": "2022-09-23T01:43:32.156Z"
   },
   {
    "duration": 179,
    "start_time": "2022-09-23T01:43:32.165Z"
   },
   {
    "duration": 6,
    "start_time": "2022-09-23T01:43:32.346Z"
   },
   {
    "duration": 22,
    "start_time": "2022-09-23T01:43:32.353Z"
   },
   {
    "duration": 20,
    "start_time": "2022-09-23T01:43:32.377Z"
   },
   {
    "duration": 8,
    "start_time": "2022-09-23T01:43:32.398Z"
   },
   {
    "duration": 6,
    "start_time": "2022-09-23T01:43:32.408Z"
   },
   {
    "duration": 19,
    "start_time": "2022-09-23T01:43:32.416Z"
   },
   {
    "duration": 10,
    "start_time": "2022-09-23T01:43:32.437Z"
   },
   {
    "duration": 30,
    "start_time": "2022-09-23T01:43:32.449Z"
   },
   {
    "duration": 20,
    "start_time": "2022-09-23T01:43:32.481Z"
   },
   {
    "duration": 21,
    "start_time": "2022-09-23T01:43:32.503Z"
   },
   {
    "duration": 5,
    "start_time": "2022-09-23T01:43:32.525Z"
   },
   {
    "duration": 92,
    "start_time": "2022-09-23T01:43:32.532Z"
   },
   {
    "duration": 7,
    "start_time": "2022-09-23T01:43:32.626Z"
   },
   {
    "duration": 9,
    "start_time": "2022-09-23T01:43:32.635Z"
   },
   {
    "duration": 146,
    "start_time": "2022-09-23T01:43:32.646Z"
   },
   {
    "duration": 4,
    "start_time": "2022-09-23T01:43:32.794Z"
   },
   {
    "duration": 11,
    "start_time": "2022-09-23T01:43:32.800Z"
   },
   {
    "duration": 16,
    "start_time": "2022-09-23T01:43:32.813Z"
   },
   {
    "duration": 11,
    "start_time": "2022-09-23T01:43:32.830Z"
   },
   {
    "duration": 13,
    "start_time": "2022-09-23T01:43:32.843Z"
   },
   {
    "duration": 9,
    "start_time": "2022-09-23T01:43:32.858Z"
   },
   {
    "duration": 29,
    "start_time": "2022-09-23T01:43:32.894Z"
   },
   {
    "duration": 5,
    "start_time": "2022-09-23T01:43:32.924Z"
   },
   {
    "duration": 19,
    "start_time": "2022-09-23T01:43:32.931Z"
   },
   {
    "duration": 477,
    "start_time": "2022-09-23T01:43:32.953Z"
   },
   {
    "duration": 363,
    "start_time": "2022-09-23T01:43:33.431Z"
   },
   {
    "duration": 430,
    "start_time": "2022-09-23T01:43:33.795Z"
   },
   {
    "duration": 223,
    "start_time": "2022-09-23T01:43:34.227Z"
   },
   {
    "duration": 4,
    "start_time": "2022-09-23T01:43:53.482Z"
   },
   {
    "duration": 1209,
    "start_time": "2022-09-23T01:43:57.432Z"
   },
   {
    "duration": 587,
    "start_time": "2022-09-23T01:43:58.643Z"
   },
   {
    "duration": 20,
    "start_time": "2022-09-23T01:43:59.231Z"
   },
   {
    "duration": 20,
    "start_time": "2022-09-23T01:43:59.253Z"
   },
   {
    "duration": 23,
    "start_time": "2022-09-23T01:43:59.274Z"
   },
   {
    "duration": 26,
    "start_time": "2022-09-23T01:43:59.298Z"
   },
   {
    "duration": 43,
    "start_time": "2022-09-23T01:43:59.326Z"
   },
   {
    "duration": 45,
    "start_time": "2022-09-23T01:43:59.371Z"
   },
   {
    "duration": 12,
    "start_time": "2022-09-23T01:43:59.418Z"
   },
   {
    "duration": 18,
    "start_time": "2022-09-23T01:43:59.433Z"
   },
   {
    "duration": 5,
    "start_time": "2022-09-23T01:43:59.453Z"
   },
   {
    "duration": 6,
    "start_time": "2022-09-23T01:43:59.460Z"
   },
   {
    "duration": 11,
    "start_time": "2022-09-23T01:43:59.495Z"
   },
   {
    "duration": 15,
    "start_time": "2022-09-23T01:43:59.507Z"
   },
   {
    "duration": 8,
    "start_time": "2022-09-23T01:43:59.524Z"
   },
   {
    "duration": 155,
    "start_time": "2022-09-23T01:43:59.533Z"
   },
   {
    "duration": 8,
    "start_time": "2022-09-23T01:43:59.690Z"
   },
   {
    "duration": 20,
    "start_time": "2022-09-23T01:43:59.700Z"
   },
   {
    "duration": 5,
    "start_time": "2022-09-23T01:43:59.722Z"
   },
   {
    "duration": 18,
    "start_time": "2022-09-23T01:43:59.728Z"
   },
   {
    "duration": 6,
    "start_time": "2022-09-23T01:43:59.748Z"
   },
   {
    "duration": 11,
    "start_time": "2022-09-23T01:43:59.755Z"
   },
   {
    "duration": 3,
    "start_time": "2022-09-23T01:43:59.768Z"
   },
   {
    "duration": 44,
    "start_time": "2022-09-23T01:43:59.772Z"
   },
   {
    "duration": 9,
    "start_time": "2022-09-23T01:43:59.817Z"
   },
   {
    "duration": 17,
    "start_time": "2022-09-23T01:43:59.827Z"
   },
   {
    "duration": 4,
    "start_time": "2022-09-23T01:43:59.846Z"
   },
   {
    "duration": 91,
    "start_time": "2022-09-23T01:43:59.853Z"
   },
   {
    "duration": 3,
    "start_time": "2022-09-23T01:43:59.946Z"
   },
   {
    "duration": 10,
    "start_time": "2022-09-23T01:43:59.950Z"
   },
   {
    "duration": 5,
    "start_time": "2022-09-23T01:43:59.961Z"
   },
   {
    "duration": 141,
    "start_time": "2022-09-23T01:43:59.968Z"
   },
   {
    "duration": 6,
    "start_time": "2022-09-23T01:44:00.111Z"
   },
   {
    "duration": 30,
    "start_time": "2022-09-23T01:44:00.119Z"
   },
   {
    "duration": 24,
    "start_time": "2022-09-23T01:44:00.151Z"
   },
   {
    "duration": 9,
    "start_time": "2022-09-23T01:44:00.177Z"
   },
   {
    "duration": 18,
    "start_time": "2022-09-23T01:44:00.188Z"
   },
   {
    "duration": 12,
    "start_time": "2022-09-23T01:44:00.208Z"
   },
   {
    "duration": 25,
    "start_time": "2022-09-23T01:44:00.222Z"
   },
   {
    "duration": 5,
    "start_time": "2022-09-23T01:44:00.248Z"
   },
   {
    "duration": 25,
    "start_time": "2022-09-23T01:44:00.254Z"
   },
   {
    "duration": 456,
    "start_time": "2022-09-23T01:44:00.280Z"
   },
   {
    "duration": 345,
    "start_time": "2022-09-23T01:44:00.738Z"
   },
   {
    "duration": 429,
    "start_time": "2022-09-23T01:44:01.085Z"
   },
   {
    "duration": 226,
    "start_time": "2022-09-23T01:44:01.515Z"
   },
   {
    "duration": 1281,
    "start_time": "2022-09-23T01:44:19.585Z"
   },
   {
    "duration": 577,
    "start_time": "2022-09-23T01:44:20.868Z"
   },
   {
    "duration": 21,
    "start_time": "2022-09-23T01:44:21.447Z"
   },
   {
    "duration": 28,
    "start_time": "2022-09-23T01:44:21.470Z"
   },
   {
    "duration": 11,
    "start_time": "2022-09-23T01:44:21.500Z"
   },
   {
    "duration": 27,
    "start_time": "2022-09-23T01:44:21.512Z"
   },
   {
    "duration": 67,
    "start_time": "2022-09-23T01:44:21.540Z"
   },
   {
    "duration": 24,
    "start_time": "2022-09-23T01:44:21.608Z"
   },
   {
    "duration": 12,
    "start_time": "2022-09-23T01:44:21.633Z"
   },
   {
    "duration": 20,
    "start_time": "2022-09-23T01:44:21.648Z"
   },
   {
    "duration": 4,
    "start_time": "2022-09-23T01:44:21.670Z"
   },
   {
    "duration": 5,
    "start_time": "2022-09-23T01:44:21.695Z"
   },
   {
    "duration": 12,
    "start_time": "2022-09-23T01:44:21.702Z"
   },
   {
    "duration": 14,
    "start_time": "2022-09-23T01:44:21.715Z"
   },
   {
    "duration": 7,
    "start_time": "2022-09-23T01:44:21.731Z"
   },
   {
    "duration": 169,
    "start_time": "2022-09-23T01:44:21.739Z"
   },
   {
    "duration": 6,
    "start_time": "2022-09-23T01:44:21.909Z"
   },
   {
    "duration": 18,
    "start_time": "2022-09-23T01:44:21.917Z"
   },
   {
    "duration": 5,
    "start_time": "2022-09-23T01:44:21.937Z"
   },
   {
    "duration": 6,
    "start_time": "2022-09-23T01:44:21.943Z"
   },
   {
    "duration": 11,
    "start_time": "2022-09-23T01:44:21.950Z"
   },
   {
    "duration": 33,
    "start_time": "2022-09-23T01:44:21.963Z"
   },
   {
    "duration": 2,
    "start_time": "2022-09-23T01:44:21.998Z"
   },
   {
    "duration": 40,
    "start_time": "2022-09-23T01:44:22.002Z"
   },
   {
    "duration": 8,
    "start_time": "2022-09-23T01:44:22.044Z"
   },
   {
    "duration": 29,
    "start_time": "2022-09-23T01:44:22.054Z"
   },
   {
    "duration": 5,
    "start_time": "2022-09-23T01:44:22.096Z"
   },
   {
    "duration": 66,
    "start_time": "2022-09-23T01:44:22.104Z"
   },
   {
    "duration": 23,
    "start_time": "2022-09-23T01:44:22.172Z"
   },
   {
    "duration": 4,
    "start_time": "2022-09-23T01:44:22.197Z"
   },
   {
    "duration": 140,
    "start_time": "2022-09-23T01:44:22.202Z"
   },
   {
    "duration": 3,
    "start_time": "2022-09-23T01:44:22.344Z"
   },
   {
    "duration": 13,
    "start_time": "2022-09-23T01:44:22.349Z"
   },
   {
    "duration": 11,
    "start_time": "2022-09-23T01:44:22.364Z"
   },
   {
    "duration": 20,
    "start_time": "2022-09-23T01:44:22.377Z"
   },
   {
    "duration": 15,
    "start_time": "2022-09-23T01:44:22.398Z"
   },
   {
    "duration": 11,
    "start_time": "2022-09-23T01:44:22.414Z"
   },
   {
    "duration": 25,
    "start_time": "2022-09-23T01:44:22.427Z"
   },
   {
    "duration": 4,
    "start_time": "2022-09-23T01:44:22.454Z"
   },
   {
    "duration": 38,
    "start_time": "2022-09-23T01:44:22.459Z"
   },
   {
    "duration": 466,
    "start_time": "2022-09-23T01:44:22.499Z"
   },
   {
    "duration": 352,
    "start_time": "2022-09-23T01:44:22.967Z"
   },
   {
    "duration": 430,
    "start_time": "2022-09-23T01:44:23.321Z"
   },
   {
    "duration": 226,
    "start_time": "2022-09-23T01:44:23.753Z"
   },
   {
    "duration": 1238,
    "start_time": "2022-09-23T01:44:58.938Z"
   },
   {
    "duration": 609,
    "start_time": "2022-09-23T01:45:00.178Z"
   },
   {
    "duration": 25,
    "start_time": "2022-09-23T01:45:00.788Z"
   },
   {
    "duration": 25,
    "start_time": "2022-09-23T01:45:00.815Z"
   },
   {
    "duration": 12,
    "start_time": "2022-09-23T01:45:00.842Z"
   },
   {
    "duration": 60,
    "start_time": "2022-09-23T01:45:00.856Z"
   },
   {
    "duration": 43,
    "start_time": "2022-09-23T01:45:00.918Z"
   },
   {
    "duration": 46,
    "start_time": "2022-09-23T01:45:00.962Z"
   },
   {
    "duration": 14,
    "start_time": "2022-09-23T01:45:01.009Z"
   },
   {
    "duration": 21,
    "start_time": "2022-09-23T01:45:01.024Z"
   },
   {
    "duration": 7,
    "start_time": "2022-09-23T01:45:01.047Z"
   },
   {
    "duration": 14,
    "start_time": "2022-09-23T01:45:01.056Z"
   },
   {
    "duration": 30,
    "start_time": "2022-09-23T01:45:01.071Z"
   },
   {
    "duration": 19,
    "start_time": "2022-09-23T01:45:01.105Z"
   },
   {
    "duration": 11,
    "start_time": "2022-09-23T01:45:01.126Z"
   },
   {
    "duration": 173,
    "start_time": "2022-09-23T01:45:01.139Z"
   },
   {
    "duration": 6,
    "start_time": "2022-09-23T01:45:01.314Z"
   },
   {
    "duration": 54,
    "start_time": "2022-09-23T01:45:01.322Z"
   },
   {
    "duration": 15,
    "start_time": "2022-09-23T01:45:01.378Z"
   },
   {
    "duration": 12,
    "start_time": "2022-09-23T01:45:01.394Z"
   },
   {
    "duration": 14,
    "start_time": "2022-09-23T01:45:01.408Z"
   },
   {
    "duration": 19,
    "start_time": "2022-09-23T01:45:01.423Z"
   },
   {
    "duration": 9,
    "start_time": "2022-09-23T01:45:01.443Z"
   },
   {
    "duration": 45,
    "start_time": "2022-09-23T01:45:01.453Z"
   },
   {
    "duration": 9,
    "start_time": "2022-09-23T01:45:01.499Z"
   },
   {
    "duration": 27,
    "start_time": "2022-09-23T01:45:01.510Z"
   },
   {
    "duration": 26,
    "start_time": "2022-09-23T01:45:01.538Z"
   },
   {
    "duration": 80,
    "start_time": "2022-09-23T01:45:01.566Z"
   },
   {
    "duration": 7,
    "start_time": "2022-09-23T01:45:01.648Z"
   },
   {
    "duration": 21,
    "start_time": "2022-09-23T01:45:01.657Z"
   },
   {
    "duration": 7,
    "start_time": "2022-09-23T01:45:01.680Z"
   },
   {
    "duration": 4,
    "start_time": "2022-09-23T01:45:01.695Z"
   },
   {
    "duration": 146,
    "start_time": "2022-09-23T01:45:01.701Z"
   },
   {
    "duration": 4,
    "start_time": "2022-09-23T01:45:01.849Z"
   },
   {
    "duration": 13,
    "start_time": "2022-09-23T01:45:01.854Z"
   },
   {
    "duration": 15,
    "start_time": "2022-09-23T01:45:01.868Z"
   },
   {
    "duration": 20,
    "start_time": "2022-09-23T01:45:01.885Z"
   },
   {
    "duration": 6,
    "start_time": "2022-09-23T01:45:01.907Z"
   },
   {
    "duration": 13,
    "start_time": "2022-09-23T01:45:01.914Z"
   },
   {
    "duration": 36,
    "start_time": "2022-09-23T01:45:01.928Z"
   },
   {
    "duration": 26,
    "start_time": "2022-09-23T01:45:01.967Z"
   },
   {
    "duration": 4,
    "start_time": "2022-09-23T01:45:01.994Z"
   },
   {
    "duration": 32,
    "start_time": "2022-09-23T01:45:02.000Z"
   },
   {
    "duration": 439,
    "start_time": "2022-09-23T01:45:02.033Z"
   },
   {
    "duration": 350,
    "start_time": "2022-09-23T01:45:02.473Z"
   },
   {
    "duration": 452,
    "start_time": "2022-09-23T01:45:02.825Z"
   },
   {
    "duration": 216,
    "start_time": "2022-09-23T01:45:03.279Z"
   },
   {
    "duration": 1218,
    "start_time": "2022-09-23T01:46:28.244Z"
   },
   {
    "duration": 589,
    "start_time": "2022-09-23T01:46:29.466Z"
   },
   {
    "duration": 23,
    "start_time": "2022-09-23T01:46:30.056Z"
   },
   {
    "duration": 21,
    "start_time": "2022-09-23T01:46:30.080Z"
   },
   {
    "duration": 11,
    "start_time": "2022-09-23T01:46:30.104Z"
   },
   {
    "duration": 27,
    "start_time": "2022-09-23T01:46:30.116Z"
   },
   {
    "duration": 62,
    "start_time": "2022-09-23T01:46:30.145Z"
   },
   {
    "duration": 23,
    "start_time": "2022-09-23T01:46:30.209Z"
   },
   {
    "duration": 12,
    "start_time": "2022-09-23T01:46:30.233Z"
   },
   {
    "duration": 31,
    "start_time": "2022-09-23T01:46:30.247Z"
   },
   {
    "duration": 4,
    "start_time": "2022-09-23T01:46:30.279Z"
   },
   {
    "duration": 23,
    "start_time": "2022-09-23T01:46:30.295Z"
   },
   {
    "duration": 15,
    "start_time": "2022-09-23T01:46:30.320Z"
   },
   {
    "duration": 14,
    "start_time": "2022-09-23T01:46:30.338Z"
   },
   {
    "duration": 7,
    "start_time": "2022-09-23T01:46:30.354Z"
   },
   {
    "duration": 147,
    "start_time": "2022-09-23T01:46:30.362Z"
   },
   {
    "duration": 5,
    "start_time": "2022-09-23T01:46:30.510Z"
   },
   {
    "duration": 43,
    "start_time": "2022-09-23T01:46:30.517Z"
   },
   {
    "duration": 5,
    "start_time": "2022-09-23T01:46:30.561Z"
   },
   {
    "duration": 10,
    "start_time": "2022-09-23T01:46:30.568Z"
   },
   {
    "duration": 15,
    "start_time": "2022-09-23T01:46:30.579Z"
   },
   {
    "duration": 17,
    "start_time": "2022-09-23T01:46:30.595Z"
   },
   {
    "duration": 6,
    "start_time": "2022-09-23T01:46:30.614Z"
   },
   {
    "duration": 35,
    "start_time": "2022-09-23T01:46:30.622Z"
   },
   {
    "duration": 9,
    "start_time": "2022-09-23T01:46:30.658Z"
   },
   {
    "duration": 35,
    "start_time": "2022-09-23T01:46:30.668Z"
   },
   {
    "duration": 7,
    "start_time": "2022-09-23T01:46:30.705Z"
   },
   {
    "duration": 70,
    "start_time": "2022-09-23T01:46:30.713Z"
   },
   {
    "duration": 11,
    "start_time": "2022-09-23T01:46:30.785Z"
   },
   {
    "duration": 25,
    "start_time": "2022-09-23T01:46:30.797Z"
   },
   {
    "duration": 8,
    "start_time": "2022-09-23T01:46:30.824Z"
   },
   {
    "duration": 10,
    "start_time": "2022-09-23T01:46:30.833Z"
   },
   {
    "duration": 112,
    "start_time": "2022-09-23T01:46:30.845Z"
   },
   {
    "duration": 5,
    "start_time": "2022-09-23T01:46:30.958Z"
   },
   {
    "duration": 7,
    "start_time": "2022-09-23T01:46:30.965Z"
   },
   {
    "duration": 22,
    "start_time": "2022-09-23T01:46:30.974Z"
   },
   {
    "duration": 16,
    "start_time": "2022-09-23T01:46:30.997Z"
   },
   {
    "duration": 5,
    "start_time": "2022-09-23T01:46:31.015Z"
   },
   {
    "duration": 26,
    "start_time": "2022-09-23T01:46:31.022Z"
   },
   {
    "duration": 25,
    "start_time": "2022-09-23T01:46:31.050Z"
   },
   {
    "duration": 37,
    "start_time": "2022-09-23T01:46:31.079Z"
   },
   {
    "duration": 7,
    "start_time": "2022-09-23T01:46:31.117Z"
   },
   {
    "duration": 19,
    "start_time": "2022-09-23T01:46:31.126Z"
   },
   {
    "duration": 446,
    "start_time": "2022-09-23T01:46:31.148Z"
   },
   {
    "duration": 340,
    "start_time": "2022-09-23T01:46:31.596Z"
   },
   {
    "duration": 420,
    "start_time": "2022-09-23T01:46:31.937Z"
   },
   {
    "duration": 225,
    "start_time": "2022-09-23T01:46:32.359Z"
   },
   {
    "duration": 1234,
    "start_time": "2022-09-23T01:49:16.151Z"
   },
   {
    "duration": 595,
    "start_time": "2022-09-23T01:49:17.387Z"
   },
   {
    "duration": 22,
    "start_time": "2022-09-23T01:49:17.984Z"
   },
   {
    "duration": 25,
    "start_time": "2022-09-23T01:49:18.007Z"
   },
   {
    "duration": 13,
    "start_time": "2022-09-23T01:49:18.034Z"
   },
   {
    "duration": 50,
    "start_time": "2022-09-23T01:49:18.048Z"
   },
   {
    "duration": 44,
    "start_time": "2022-09-23T01:49:18.101Z"
   },
   {
    "duration": 23,
    "start_time": "2022-09-23T01:49:18.147Z"
   },
   {
    "duration": 11,
    "start_time": "2022-09-23T01:49:34.551Z"
   },
   {
    "duration": 23,
    "start_time": "2022-09-23T01:49:34.749Z"
   },
   {
    "duration": 12,
    "start_time": "2022-09-23T01:49:43.818Z"
   },
   {
    "duration": 108,
    "start_time": "2022-09-23T01:50:20.738Z"
   },
   {
    "duration": 14,
    "start_time": "2022-09-23T01:50:28.048Z"
   },
   {
    "duration": 1295,
    "start_time": "2022-09-23T01:51:33.666Z"
   },
   {
    "duration": 568,
    "start_time": "2022-09-23T01:51:34.963Z"
   },
   {
    "duration": 23,
    "start_time": "2022-09-23T01:51:35.532Z"
   },
   {
    "duration": 21,
    "start_time": "2022-09-23T01:51:35.557Z"
   },
   {
    "duration": 23,
    "start_time": "2022-09-23T01:51:35.580Z"
   },
   {
    "duration": 25,
    "start_time": "2022-09-23T01:51:35.605Z"
   },
   {
    "duration": 63,
    "start_time": "2022-09-23T01:51:35.632Z"
   },
   {
    "duration": 25,
    "start_time": "2022-09-23T01:51:35.696Z"
   },
   {
    "duration": 24,
    "start_time": "2022-09-23T01:51:36.851Z"
   },
   {
    "duration": 12,
    "start_time": "2022-09-23T01:51:37.359Z"
   },
   {
    "duration": 15,
    "start_time": "2022-09-23T01:51:37.871Z"
   },
   {
    "duration": 15,
    "start_time": "2022-09-23T01:51:38.665Z"
   },
   {
    "duration": 17,
    "start_time": "2022-09-23T01:51:42.872Z"
   },
   {
    "duration": 10,
    "start_time": "2022-09-23T01:52:28.006Z"
   },
   {
    "duration": 22,
    "start_time": "2022-09-23T01:52:36.850Z"
   },
   {
    "duration": 19,
    "start_time": "2022-09-23T01:52:40.129Z"
   },
   {
    "duration": 16,
    "start_time": "2022-09-23T01:52:47.240Z"
   },
   {
    "duration": 21,
    "start_time": "2022-09-23T01:52:48.801Z"
   },
   {
    "duration": 1291,
    "start_time": "2022-09-23T01:53:04.098Z"
   },
   {
    "duration": 594,
    "start_time": "2022-09-23T01:53:05.391Z"
   },
   {
    "duration": 24,
    "start_time": "2022-09-23T01:53:05.987Z"
   },
   {
    "duration": 23,
    "start_time": "2022-09-23T01:53:06.012Z"
   },
   {
    "duration": 12,
    "start_time": "2022-09-23T01:53:06.037Z"
   },
   {
    "duration": 57,
    "start_time": "2022-09-23T01:53:06.050Z"
   },
   {
    "duration": 43,
    "start_time": "2022-09-23T01:53:06.108Z"
   },
   {
    "duration": 44,
    "start_time": "2022-09-23T01:53:06.153Z"
   },
   {
    "duration": 14,
    "start_time": "2022-09-23T01:53:06.199Z"
   },
   {
    "duration": 23,
    "start_time": "2022-09-23T01:53:06.215Z"
   },
   {
    "duration": 15,
    "start_time": "2022-09-23T01:53:07.602Z"
   },
   {
    "duration": 16,
    "start_time": "2022-09-23T01:53:08.031Z"
   },
   {
    "duration": 99,
    "start_time": "2022-09-23T01:53:09.334Z"
   },
   {
    "duration": 291,
    "start_time": "2022-09-23T01:53:24.896Z"
   },
   {
    "duration": 226,
    "start_time": "2022-09-23T02:07:28.715Z"
   },
   {
    "duration": 1252,
    "start_time": "2022-09-23T02:07:40.323Z"
   },
   {
    "duration": 597,
    "start_time": "2022-09-23T02:07:41.577Z"
   },
   {
    "duration": 23,
    "start_time": "2022-09-23T02:07:42.176Z"
   },
   {
    "duration": 21,
    "start_time": "2022-09-23T02:07:42.201Z"
   },
   {
    "duration": 12,
    "start_time": "2022-09-23T02:07:42.223Z"
   },
   {
    "duration": 29,
    "start_time": "2022-09-23T02:07:42.237Z"
   },
   {
    "duration": 45,
    "start_time": "2022-09-23T02:07:42.296Z"
   },
   {
    "duration": 26,
    "start_time": "2022-09-23T02:07:42.343Z"
   },
   {
    "duration": 33,
    "start_time": "2022-09-23T02:07:42.371Z"
   },
   {
    "duration": 16,
    "start_time": "2022-09-23T02:07:42.406Z"
   },
   {
    "duration": 15,
    "start_time": "2022-09-23T02:07:42.424Z"
   },
   {
    "duration": 16,
    "start_time": "2022-09-23T02:07:42.441Z"
   },
   {
    "duration": 344,
    "start_time": "2022-09-23T02:07:42.460Z"
   },
   {
    "duration": 5,
    "start_time": "2022-09-23T02:07:42.805Z"
   },
   {
    "duration": 9,
    "start_time": "2022-09-23T02:07:42.811Z"
   },
   {
    "duration": 26,
    "start_time": "2022-09-23T02:07:42.822Z"
   },
   {
    "duration": 19,
    "start_time": "2022-09-23T02:07:42.849Z"
   },
   {
    "duration": 32,
    "start_time": "2022-09-23T02:07:42.869Z"
   },
   {
    "duration": 149,
    "start_time": "2022-09-23T02:07:42.904Z"
   },
   {
    "duration": 5,
    "start_time": "2022-09-23T02:07:43.055Z"
   },
   {
    "duration": 33,
    "start_time": "2022-09-23T02:07:43.062Z"
   },
   {
    "duration": 5,
    "start_time": "2022-09-23T02:07:43.097Z"
   },
   {
    "duration": 7,
    "start_time": "2022-09-23T02:07:43.104Z"
   },
   {
    "duration": 8,
    "start_time": "2022-09-23T02:07:43.112Z"
   },
   {
    "duration": 14,
    "start_time": "2022-09-23T02:07:43.122Z"
   },
   {
    "duration": 4,
    "start_time": "2022-09-23T02:07:43.138Z"
   },
   {
    "duration": 29,
    "start_time": "2022-09-23T02:07:43.144Z"
   },
   {
    "duration": 9,
    "start_time": "2022-09-23T02:07:43.195Z"
   },
   {
    "duration": 19,
    "start_time": "2022-09-23T02:07:43.206Z"
   },
   {
    "duration": 5,
    "start_time": "2022-09-23T02:07:43.227Z"
   },
   {
    "duration": 258,
    "start_time": "2022-09-23T02:07:43.233Z"
   },
   {
    "duration": 60,
    "start_time": "2022-09-23T02:07:43.493Z"
   },
   {
    "duration": 7,
    "start_time": "2022-09-23T02:07:43.555Z"
   },
   {
    "duration": 7,
    "start_time": "2022-09-23T02:07:43.564Z"
   },
   {
    "duration": 6,
    "start_time": "2022-09-23T02:07:43.594Z"
   },
   {
    "duration": 8,
    "start_time": "2022-09-23T02:07:43.601Z"
   },
   {
    "duration": 126,
    "start_time": "2022-09-23T02:07:43.610Z"
   },
   {
    "duration": 3,
    "start_time": "2022-09-23T02:07:43.738Z"
   },
   {
    "duration": 6,
    "start_time": "2022-09-23T02:07:43.743Z"
   },
   {
    "duration": 11,
    "start_time": "2022-09-23T02:07:43.753Z"
   },
   {
    "duration": 35,
    "start_time": "2022-09-23T02:07:43.765Z"
   },
   {
    "duration": 6,
    "start_time": "2022-09-23T02:07:43.801Z"
   },
   {
    "duration": 15,
    "start_time": "2022-09-23T02:07:43.809Z"
   },
   {
    "duration": 9,
    "start_time": "2022-09-23T02:07:43.825Z"
   },
   {
    "duration": 40,
    "start_time": "2022-09-23T02:07:43.835Z"
   },
   {
    "duration": 6,
    "start_time": "2022-09-23T02:07:43.894Z"
   },
   {
    "duration": 28,
    "start_time": "2022-09-23T02:07:43.901Z"
   },
   {
    "duration": 15,
    "start_time": "2022-09-23T02:07:43.931Z"
   },
   {
    "duration": 0,
    "start_time": "2022-09-23T02:07:43.948Z"
   },
   {
    "duration": 0,
    "start_time": "2022-09-23T02:07:43.949Z"
   },
   {
    "duration": 0,
    "start_time": "2022-09-23T02:07:43.950Z"
   },
   {
    "duration": 83,
    "start_time": "2022-09-23T02:08:19.291Z"
   },
   {
    "duration": 10,
    "start_time": "2022-09-23T02:09:04.825Z"
   },
   {
    "duration": 34,
    "start_time": "2022-09-23T02:09:14.581Z"
   },
   {
    "duration": 1219,
    "start_time": "2022-09-23T02:09:40.917Z"
   },
   {
    "duration": 576,
    "start_time": "2022-09-23T02:09:42.138Z"
   },
   {
    "duration": 20,
    "start_time": "2022-09-23T02:09:42.716Z"
   },
   {
    "duration": 20,
    "start_time": "2022-09-23T02:09:42.738Z"
   },
   {
    "duration": 10,
    "start_time": "2022-09-23T02:09:42.760Z"
   },
   {
    "duration": 47,
    "start_time": "2022-09-23T02:09:42.772Z"
   },
   {
    "duration": 44,
    "start_time": "2022-09-23T02:09:42.822Z"
   },
   {
    "duration": 46,
    "start_time": "2022-09-23T02:09:42.868Z"
   },
   {
    "duration": 12,
    "start_time": "2022-09-23T02:09:42.916Z"
   },
   {
    "duration": 18,
    "start_time": "2022-09-23T02:09:42.931Z"
   },
   {
    "duration": 50,
    "start_time": "2022-09-23T02:09:42.950Z"
   },
   {
    "duration": 5,
    "start_time": "2022-09-23T02:09:43.002Z"
   },
   {
    "duration": 7,
    "start_time": "2022-09-23T02:09:43.008Z"
   },
   {
    "duration": 17,
    "start_time": "2022-09-23T02:09:43.016Z"
   },
   {
    "duration": 18,
    "start_time": "2022-09-23T02:09:43.035Z"
   },
   {
    "duration": 7,
    "start_time": "2022-09-23T02:09:43.054Z"
   },
   {
    "duration": 177,
    "start_time": "2022-09-23T02:09:43.062Z"
   },
   {
    "duration": 5,
    "start_time": "2022-09-23T02:09:43.241Z"
   },
   {
    "duration": 19,
    "start_time": "2022-09-23T02:09:43.247Z"
   },
   {
    "duration": 5,
    "start_time": "2022-09-23T02:09:43.267Z"
   },
   {
    "duration": 25,
    "start_time": "2022-09-23T02:09:43.273Z"
   },
   {
    "duration": 8,
    "start_time": "2022-09-23T02:09:43.300Z"
   },
   {
    "duration": 11,
    "start_time": "2022-09-23T02:09:43.310Z"
   },
   {
    "duration": 5,
    "start_time": "2022-09-23T02:09:43.323Z"
   },
   {
    "duration": 31,
    "start_time": "2022-09-23T02:09:43.329Z"
   },
   {
    "duration": 8,
    "start_time": "2022-09-23T02:09:43.361Z"
   },
   {
    "duration": 39,
    "start_time": "2022-09-23T02:09:43.370Z"
   },
   {
    "duration": 5,
    "start_time": "2022-09-23T02:09:43.412Z"
   },
   {
    "duration": 60,
    "start_time": "2022-09-23T02:09:43.418Z"
   },
   {
    "duration": 20,
    "start_time": "2022-09-23T02:09:43.479Z"
   },
   {
    "duration": 5,
    "start_time": "2022-09-23T02:09:43.500Z"
   },
   {
    "duration": 10,
    "start_time": "2022-09-23T02:09:43.506Z"
   },
   {
    "duration": 6,
    "start_time": "2022-09-23T02:09:43.517Z"
   },
   {
    "duration": 121,
    "start_time": "2022-09-23T02:09:43.524Z"
   },
   {
    "duration": 3,
    "start_time": "2022-09-23T02:09:43.647Z"
   },
   {
    "duration": 283,
    "start_time": "2022-09-23T02:09:43.651Z"
   },
   {
    "duration": 3,
    "start_time": "2022-09-23T02:09:43.936Z"
   },
   {
    "duration": 14,
    "start_time": "2022-09-23T02:09:43.941Z"
   },
   {
    "duration": 15,
    "start_time": "2022-09-23T02:09:43.956Z"
   },
   {
    "duration": 23,
    "start_time": "2022-09-23T02:09:43.973Z"
   },
   {
    "duration": 16,
    "start_time": "2022-09-23T02:09:43.998Z"
   },
   {
    "duration": 8,
    "start_time": "2022-09-23T02:09:44.015Z"
   },
   {
    "duration": 43,
    "start_time": "2022-09-23T02:09:44.025Z"
   },
   {
    "duration": 4,
    "start_time": "2022-09-23T02:09:44.070Z"
   },
   {
    "duration": 17,
    "start_time": "2022-09-23T02:09:44.094Z"
   },
   {
    "duration": 0,
    "start_time": "2022-09-23T02:09:44.112Z"
   },
   {
    "duration": 0,
    "start_time": "2022-09-23T02:09:44.113Z"
   },
   {
    "duration": 0,
    "start_time": "2022-09-23T02:09:44.115Z"
   },
   {
    "duration": 0,
    "start_time": "2022-09-23T02:09:44.116Z"
   },
   {
    "duration": 33,
    "start_time": "2022-09-23T02:10:21.768Z"
   },
   {
    "duration": 4,
    "start_time": "2022-09-23T02:10:22.456Z"
   },
   {
    "duration": 14,
    "start_time": "2022-09-23T02:10:23.941Z"
   },
   {
    "duration": 21,
    "start_time": "2022-09-23T02:10:28.160Z"
   },
   {
    "duration": 216,
    "start_time": "2022-09-23T02:11:16.042Z"
   },
   {
    "duration": 1205,
    "start_time": "2022-09-23T02:12:20.361Z"
   },
   {
    "duration": 605,
    "start_time": "2022-09-23T02:12:21.568Z"
   },
   {
    "duration": 23,
    "start_time": "2022-09-23T02:12:22.174Z"
   },
   {
    "duration": 23,
    "start_time": "2022-09-23T02:12:22.199Z"
   },
   {
    "duration": 12,
    "start_time": "2022-09-23T02:12:22.225Z"
   },
   {
    "duration": 62,
    "start_time": "2022-09-23T02:12:22.239Z"
   },
   {
    "duration": 41,
    "start_time": "2022-09-23T02:12:22.303Z"
   },
   {
    "duration": 25,
    "start_time": "2022-09-23T02:12:22.346Z"
   },
   {
    "duration": 14,
    "start_time": "2022-09-23T02:12:22.394Z"
   },
   {
    "duration": 21,
    "start_time": "2022-09-23T02:12:22.410Z"
   },
   {
    "duration": 6,
    "start_time": "2022-09-23T02:12:22.432Z"
   },
   {
    "duration": 8,
    "start_time": "2022-09-23T02:12:22.439Z"
   },
   {
    "duration": 12,
    "start_time": "2022-09-23T02:12:22.448Z"
   },
   {
    "duration": 44,
    "start_time": "2022-09-23T02:12:22.463Z"
   },
   {
    "duration": 8,
    "start_time": "2022-09-23T02:12:22.508Z"
   },
   {
    "duration": 160,
    "start_time": "2022-09-23T02:12:22.518Z"
   },
   {
    "duration": 6,
    "start_time": "2022-09-23T02:12:22.680Z"
   },
   {
    "duration": 18,
    "start_time": "2022-09-23T02:12:22.695Z"
   },
   {
    "duration": 5,
    "start_time": "2022-09-23T02:12:22.715Z"
   },
   {
    "duration": 9,
    "start_time": "2022-09-23T02:12:22.721Z"
   },
   {
    "duration": 6,
    "start_time": "2022-09-23T02:12:22.732Z"
   },
   {
    "duration": 16,
    "start_time": "2022-09-23T02:12:22.739Z"
   },
   {
    "duration": 5,
    "start_time": "2022-09-23T02:12:22.756Z"
   },
   {
    "duration": 56,
    "start_time": "2022-09-23T02:12:22.762Z"
   },
   {
    "duration": 12,
    "start_time": "2022-09-23T02:12:22.820Z"
   },
   {
    "duration": 21,
    "start_time": "2022-09-23T02:12:22.834Z"
   },
   {
    "duration": 5,
    "start_time": "2022-09-23T02:12:22.856Z"
   },
   {
    "duration": 93,
    "start_time": "2022-09-23T02:12:22.863Z"
   },
   {
    "duration": 7,
    "start_time": "2022-09-23T02:12:22.958Z"
   },
   {
    "duration": 5,
    "start_time": "2022-09-23T02:12:22.967Z"
   },
   {
    "duration": 76,
    "start_time": "2022-09-23T02:12:22.974Z"
   },
   {
    "duration": 0,
    "start_time": "2022-09-23T02:12:23.052Z"
   },
   {
    "duration": 0,
    "start_time": "2022-09-23T02:12:23.054Z"
   },
   {
    "duration": 0,
    "start_time": "2022-09-23T02:12:23.055Z"
   },
   {
    "duration": 0,
    "start_time": "2022-09-23T02:12:23.057Z"
   },
   {
    "duration": 0,
    "start_time": "2022-09-23T02:12:23.058Z"
   },
   {
    "duration": 0,
    "start_time": "2022-09-23T02:12:23.060Z"
   },
   {
    "duration": 0,
    "start_time": "2022-09-23T02:12:23.061Z"
   },
   {
    "duration": 0,
    "start_time": "2022-09-23T02:12:23.063Z"
   },
   {
    "duration": 0,
    "start_time": "2022-09-23T02:12:23.064Z"
   },
   {
    "duration": 0,
    "start_time": "2022-09-23T02:12:23.065Z"
   },
   {
    "duration": 0,
    "start_time": "2022-09-23T02:12:23.067Z"
   },
   {
    "duration": 1,
    "start_time": "2022-09-23T02:12:23.068Z"
   },
   {
    "duration": 1,
    "start_time": "2022-09-23T02:12:23.069Z"
   },
   {
    "duration": 122,
    "start_time": "2022-09-23T02:12:30.081Z"
   },
   {
    "duration": 4,
    "start_time": "2022-09-23T02:12:30.857Z"
   },
   {
    "duration": 9,
    "start_time": "2022-09-23T02:12:31.029Z"
   },
   {
    "duration": 12,
    "start_time": "2022-09-23T02:12:31.695Z"
   },
   {
    "duration": 5,
    "start_time": "2022-09-23T02:12:32.443Z"
   },
   {
    "duration": 9,
    "start_time": "2022-09-23T02:12:32.617Z"
   },
   {
    "duration": 8,
    "start_time": "2022-09-23T02:12:32.798Z"
   },
   {
    "duration": 22,
    "start_time": "2022-09-23T02:12:33.593Z"
   },
   {
    "duration": 5,
    "start_time": "2022-09-23T02:12:33.818Z"
   },
   {
    "duration": 256,
    "start_time": "2022-09-23T02:12:33.962Z"
   },
   {
    "duration": 469,
    "start_time": "2022-09-23T02:12:34.473Z"
   },
   {
    "duration": 296,
    "start_time": "2022-09-23T02:12:34.944Z"
   },
   {
    "duration": 466,
    "start_time": "2022-09-23T02:12:35.242Z"
   },
   {
    "duration": 219,
    "start_time": "2022-09-23T02:12:35.710Z"
   },
   {
    "duration": 13,
    "start_time": "2022-09-23T02:13:03.998Z"
   },
   {
    "duration": 10,
    "start_time": "2022-09-23T02:14:37.115Z"
   },
   {
    "duration": 1224,
    "start_time": "2022-09-23T02:14:47.653Z"
   },
   {
    "duration": 583,
    "start_time": "2022-09-23T02:14:48.878Z"
   },
   {
    "duration": 23,
    "start_time": "2022-09-23T02:14:49.463Z"
   },
   {
    "duration": 27,
    "start_time": "2022-09-23T02:14:49.488Z"
   },
   {
    "duration": 12,
    "start_time": "2022-09-23T02:14:49.517Z"
   },
   {
    "duration": 27,
    "start_time": "2022-09-23T02:14:49.530Z"
   },
   {
    "duration": 71,
    "start_time": "2022-09-23T02:14:49.559Z"
   },
   {
    "duration": 23,
    "start_time": "2022-09-23T02:14:49.632Z"
   },
   {
    "duration": 13,
    "start_time": "2022-09-23T02:14:49.657Z"
   },
   {
    "duration": 35,
    "start_time": "2022-09-23T02:14:49.672Z"
   },
   {
    "duration": 4,
    "start_time": "2022-09-23T02:14:49.709Z"
   },
   {
    "duration": 6,
    "start_time": "2022-09-23T02:14:49.715Z"
   },
   {
    "duration": 11,
    "start_time": "2022-09-23T02:14:49.723Z"
   },
   {
    "duration": 14,
    "start_time": "2022-09-23T02:14:49.737Z"
   },
   {
    "duration": 7,
    "start_time": "2022-09-23T02:14:49.752Z"
   },
   {
    "duration": 174,
    "start_time": "2022-09-23T02:14:49.760Z"
   },
   {
    "duration": 5,
    "start_time": "2022-09-23T02:14:49.936Z"
   },
   {
    "duration": 18,
    "start_time": "2022-09-23T02:14:49.943Z"
   },
   {
    "duration": 5,
    "start_time": "2022-09-23T02:14:49.962Z"
   },
   {
    "duration": 30,
    "start_time": "2022-09-23T02:14:49.969Z"
   },
   {
    "duration": 6,
    "start_time": "2022-09-23T02:14:50.001Z"
   },
   {
    "duration": 14,
    "start_time": "2022-09-23T02:14:50.008Z"
   },
   {
    "duration": 5,
    "start_time": "2022-09-23T02:14:50.024Z"
   },
   {
    "duration": 34,
    "start_time": "2022-09-23T02:14:50.031Z"
   },
   {
    "duration": 31,
    "start_time": "2022-09-23T02:14:50.067Z"
   },
   {
    "duration": 21,
    "start_time": "2022-09-23T02:14:50.100Z"
   },
   {
    "duration": 6,
    "start_time": "2022-09-23T02:14:50.123Z"
   },
   {
    "duration": 91,
    "start_time": "2022-09-23T02:14:50.130Z"
   },
   {
    "duration": 7,
    "start_time": "2022-09-23T02:14:50.222Z"
   },
   {
    "duration": 2,
    "start_time": "2022-09-23T02:14:50.231Z"
   },
   {
    "duration": 12,
    "start_time": "2022-09-23T02:14:51.540Z"
   },
   {
    "duration": 14,
    "start_time": "2022-09-23T02:15:50.452Z"
   },
   {
    "duration": 12,
    "start_time": "2022-09-23T02:15:57.263Z"
   },
   {
    "duration": 5,
    "start_time": "2022-09-23T02:16:25.026Z"
   },
   {
    "duration": 10,
    "start_time": "2022-09-23T02:16:27.846Z"
   },
   {
    "duration": 9,
    "start_time": "2022-09-23T02:16:48.999Z"
   },
   {
    "duration": 122,
    "start_time": "2022-09-23T02:17:40.267Z"
   },
   {
    "duration": 15,
    "start_time": "2022-09-23T02:17:41.198Z"
   },
   {
    "duration": 4,
    "start_time": "2022-09-23T02:17:50.011Z"
   },
   {
    "duration": 10,
    "start_time": "2022-09-23T02:17:50.262Z"
   },
   {
    "duration": 13,
    "start_time": "2022-09-23T02:17:50.933Z"
   },
   {
    "duration": 6,
    "start_time": "2022-09-23T02:17:54.189Z"
   },
   {
    "duration": 9,
    "start_time": "2022-09-23T02:17:54.363Z"
   },
   {
    "duration": 10,
    "start_time": "2022-09-23T02:17:54.510Z"
   },
   {
    "duration": 25,
    "start_time": "2022-09-23T02:17:55.203Z"
   },
   {
    "duration": 5,
    "start_time": "2022-09-23T02:17:55.364Z"
   },
   {
    "duration": 281,
    "start_time": "2022-09-23T02:17:55.566Z"
   },
   {
    "duration": 460,
    "start_time": "2022-09-23T02:17:55.969Z"
   },
   {
    "duration": 283,
    "start_time": "2022-09-23T02:17:57.797Z"
   },
   {
    "duration": 11,
    "start_time": "2022-09-23T02:18:17.192Z"
   },
   {
    "duration": 1255,
    "start_time": "2022-09-23T02:19:17.731Z"
   },
   {
    "duration": 560,
    "start_time": "2022-09-23T02:19:18.988Z"
   },
   {
    "duration": 23,
    "start_time": "2022-09-23T02:19:19.549Z"
   },
   {
    "duration": 26,
    "start_time": "2022-09-23T02:19:19.574Z"
   },
   {
    "duration": 13,
    "start_time": "2022-09-23T02:19:19.603Z"
   },
   {
    "duration": 28,
    "start_time": "2022-09-23T02:19:19.617Z"
   },
   {
    "duration": 74,
    "start_time": "2022-09-23T02:19:19.646Z"
   },
   {
    "duration": 24,
    "start_time": "2022-09-23T02:19:19.721Z"
   },
   {
    "duration": 12,
    "start_time": "2022-09-23T02:19:19.747Z"
   },
   {
    "duration": 35,
    "start_time": "2022-09-23T02:19:19.761Z"
   },
   {
    "duration": 5,
    "start_time": "2022-09-23T02:19:19.797Z"
   },
   {
    "duration": 6,
    "start_time": "2022-09-23T02:19:19.804Z"
   },
   {
    "duration": 12,
    "start_time": "2022-09-23T02:19:19.811Z"
   },
   {
    "duration": 14,
    "start_time": "2022-09-23T02:19:19.826Z"
   },
   {
    "duration": 8,
    "start_time": "2022-09-23T02:19:19.841Z"
   },
   {
    "duration": 178,
    "start_time": "2022-09-23T02:19:19.850Z"
   },
   {
    "duration": 7,
    "start_time": "2022-09-23T02:19:20.029Z"
   },
   {
    "duration": 20,
    "start_time": "2022-09-23T02:19:20.038Z"
   },
   {
    "duration": 4,
    "start_time": "2022-09-23T02:19:20.060Z"
   },
   {
    "duration": 31,
    "start_time": "2022-09-23T02:19:20.066Z"
   },
   {
    "duration": 7,
    "start_time": "2022-09-23T02:19:20.098Z"
   },
   {
    "duration": 11,
    "start_time": "2022-09-23T02:19:20.107Z"
   },
   {
    "duration": 3,
    "start_time": "2022-09-23T02:19:20.120Z"
   },
   {
    "duration": 29,
    "start_time": "2022-09-23T02:19:20.125Z"
   },
   {
    "duration": 41,
    "start_time": "2022-09-23T02:19:20.157Z"
   },
   {
    "duration": 21,
    "start_time": "2022-09-23T02:19:20.200Z"
   },
   {
    "duration": 6,
    "start_time": "2022-09-23T02:19:20.223Z"
   },
   {
    "duration": 87,
    "start_time": "2022-09-23T02:19:20.231Z"
   },
   {
    "duration": 7,
    "start_time": "2022-09-23T02:19:20.320Z"
   },
   {
    "duration": 5,
    "start_time": "2022-09-23T02:19:20.329Z"
   },
   {
    "duration": 12,
    "start_time": "2022-09-23T02:19:21.567Z"
   },
   {
    "duration": 14,
    "start_time": "2022-09-23T02:19:33.013Z"
   },
   {
    "duration": 15,
    "start_time": "2022-09-23T02:20:13.802Z"
   },
   {
    "duration": 72,
    "start_time": "2022-09-23T02:20:48.298Z"
   },
   {
    "duration": 72,
    "start_time": "2022-09-23T02:20:50.942Z"
   },
   {
    "duration": 16,
    "start_time": "2022-09-23T02:20:54.055Z"
   },
   {
    "duration": 127,
    "start_time": "2022-09-23T02:22:02.859Z"
   },
   {
    "duration": 16,
    "start_time": "2022-09-23T02:22:05.460Z"
   },
   {
    "duration": 18,
    "start_time": "2022-09-23T02:22:09.329Z"
   },
   {
    "duration": 16,
    "start_time": "2022-09-23T02:22:10.921Z"
   },
   {
    "duration": 15,
    "start_time": "2022-09-23T02:22:21.611Z"
   },
   {
    "duration": 1244,
    "start_time": "2022-09-23T02:22:26.598Z"
   },
   {
    "duration": 605,
    "start_time": "2022-09-23T02:22:27.844Z"
   },
   {
    "duration": 21,
    "start_time": "2022-09-23T02:22:28.451Z"
   },
   {
    "duration": 22,
    "start_time": "2022-09-23T02:22:28.474Z"
   },
   {
    "duration": 11,
    "start_time": "2022-09-23T02:22:28.498Z"
   },
   {
    "duration": 26,
    "start_time": "2022-09-23T02:22:28.511Z"
   },
   {
    "duration": 71,
    "start_time": "2022-09-23T02:22:28.538Z"
   },
   {
    "duration": 23,
    "start_time": "2022-09-23T02:22:28.611Z"
   },
   {
    "duration": 12,
    "start_time": "2022-09-23T02:22:28.636Z"
   },
   {
    "duration": 16,
    "start_time": "2022-09-23T02:22:28.650Z"
   },
   {
    "duration": 28,
    "start_time": "2022-09-23T02:22:28.667Z"
   },
   {
    "duration": 4,
    "start_time": "2022-09-23T02:22:28.697Z"
   },
   {
    "duration": 11,
    "start_time": "2022-09-23T02:22:28.703Z"
   },
   {
    "duration": 14,
    "start_time": "2022-09-23T02:22:28.717Z"
   },
   {
    "duration": 7,
    "start_time": "2022-09-23T02:22:28.733Z"
   },
   {
    "duration": 166,
    "start_time": "2022-09-23T02:22:28.742Z"
   },
   {
    "duration": 5,
    "start_time": "2022-09-23T02:22:28.910Z"
   },
   {
    "duration": 17,
    "start_time": "2022-09-23T02:22:28.917Z"
   },
   {
    "duration": 4,
    "start_time": "2022-09-23T02:22:28.935Z"
   },
   {
    "duration": 7,
    "start_time": "2022-09-23T02:22:28.940Z"
   },
   {
    "duration": 7,
    "start_time": "2022-09-23T02:22:28.948Z"
   },
   {
    "duration": 40,
    "start_time": "2022-09-23T02:22:28.956Z"
   },
   {
    "duration": 4,
    "start_time": "2022-09-23T02:22:28.998Z"
   },
   {
    "duration": 30,
    "start_time": "2022-09-23T02:22:29.003Z"
   },
   {
    "duration": 9,
    "start_time": "2022-09-23T02:22:29.035Z"
   },
   {
    "duration": 21,
    "start_time": "2022-09-23T02:22:29.046Z"
   },
   {
    "duration": 5,
    "start_time": "2022-09-23T02:22:29.096Z"
   },
   {
    "duration": 69,
    "start_time": "2022-09-23T02:22:29.103Z"
   },
   {
    "duration": 21,
    "start_time": "2022-09-23T02:22:29.174Z"
   },
   {
    "duration": 6,
    "start_time": "2022-09-23T02:22:29.197Z"
   },
   {
    "duration": 12,
    "start_time": "2022-09-23T02:22:29.205Z"
   },
   {
    "duration": 15,
    "start_time": "2022-09-23T02:22:29.219Z"
   },
   {
    "duration": 16,
    "start_time": "2022-09-23T02:22:29.235Z"
   },
   {
    "duration": 10,
    "start_time": "2022-09-23T02:22:29.253Z"
   },
   {
    "duration": 152,
    "start_time": "2022-09-23T02:22:29.264Z"
   },
   {
    "duration": 4,
    "start_time": "2022-09-23T02:22:29.417Z"
   },
   {
    "duration": 18,
    "start_time": "2022-09-23T02:22:29.422Z"
   },
   {
    "duration": 12,
    "start_time": "2022-09-23T02:22:29.441Z"
   },
   {
    "duration": 4,
    "start_time": "2022-09-23T02:22:29.455Z"
   },
   {
    "duration": 12,
    "start_time": "2022-09-23T02:22:29.461Z"
   },
   {
    "duration": 11,
    "start_time": "2022-09-23T02:22:29.494Z"
   },
   {
    "duration": 26,
    "start_time": "2022-09-23T02:22:29.506Z"
   },
   {
    "duration": 5,
    "start_time": "2022-09-23T02:22:29.533Z"
   },
   {
    "duration": 299,
    "start_time": "2022-09-23T02:22:29.539Z"
   },
   {
    "duration": 464,
    "start_time": "2022-09-23T02:22:29.839Z"
   },
   {
    "duration": 292,
    "start_time": "2022-09-23T02:22:30.304Z"
   },
   {
    "duration": 438,
    "start_time": "2022-09-23T02:22:30.597Z"
   },
   {
    "duration": 218,
    "start_time": "2022-09-23T02:22:31.036Z"
   },
   {
    "duration": 19,
    "start_time": "2022-09-23T02:22:36.607Z"
   },
   {
    "duration": 1211,
    "start_time": "2022-09-23T02:23:26.838Z"
   },
   {
    "duration": 581,
    "start_time": "2022-09-23T02:23:28.051Z"
   },
   {
    "duration": 23,
    "start_time": "2022-09-23T02:23:28.634Z"
   },
   {
    "duration": 20,
    "start_time": "2022-09-23T02:23:28.659Z"
   },
   {
    "duration": 20,
    "start_time": "2022-09-23T02:23:28.680Z"
   },
   {
    "duration": 26,
    "start_time": "2022-09-23T02:23:28.702Z"
   },
   {
    "duration": 43,
    "start_time": "2022-09-23T02:23:28.729Z"
   },
   {
    "duration": 44,
    "start_time": "2022-09-23T02:23:28.774Z"
   },
   {
    "duration": 13,
    "start_time": "2022-09-23T02:23:28.820Z"
   },
   {
    "duration": 21,
    "start_time": "2022-09-23T02:23:28.835Z"
   },
   {
    "duration": 4,
    "start_time": "2022-09-23T02:23:28.858Z"
   },
   {
    "duration": 32,
    "start_time": "2022-09-23T02:23:28.863Z"
   },
   {
    "duration": 10,
    "start_time": "2022-09-23T02:23:28.897Z"
   },
   {
    "duration": 13,
    "start_time": "2022-09-23T02:23:28.909Z"
   },
   {
    "duration": 6,
    "start_time": "2022-09-23T02:23:28.924Z"
   },
   {
    "duration": 155,
    "start_time": "2022-09-23T02:23:28.932Z"
   },
   {
    "duration": 9,
    "start_time": "2022-09-23T02:23:29.089Z"
   },
   {
    "duration": 17,
    "start_time": "2022-09-23T02:23:29.100Z"
   },
   {
    "duration": 6,
    "start_time": "2022-09-23T02:23:29.118Z"
   },
   {
    "duration": 6,
    "start_time": "2022-09-23T02:23:29.125Z"
   },
   {
    "duration": 7,
    "start_time": "2022-09-23T02:23:29.132Z"
   },
   {
    "duration": 12,
    "start_time": "2022-09-23T02:23:29.140Z"
   },
   {
    "duration": 5,
    "start_time": "2022-09-23T02:23:29.153Z"
   },
   {
    "duration": 50,
    "start_time": "2022-09-23T02:23:29.159Z"
   },
   {
    "duration": 9,
    "start_time": "2022-09-23T02:23:29.210Z"
   },
   {
    "duration": 19,
    "start_time": "2022-09-23T02:23:29.220Z"
   },
   {
    "duration": 5,
    "start_time": "2022-09-23T02:23:29.240Z"
   },
   {
    "duration": 85,
    "start_time": "2022-09-23T02:23:29.247Z"
   },
   {
    "duration": 7,
    "start_time": "2022-09-23T02:23:29.333Z"
   },
   {
    "duration": 6,
    "start_time": "2022-09-23T02:23:29.341Z"
   },
   {
    "duration": 13,
    "start_time": "2022-09-23T02:23:29.348Z"
   },
   {
    "duration": 33,
    "start_time": "2022-09-23T02:23:29.362Z"
   },
   {
    "duration": 16,
    "start_time": "2022-09-23T02:23:29.396Z"
   },
   {
    "duration": 14,
    "start_time": "2022-09-23T02:23:40.639Z"
   },
   {
    "duration": 9,
    "start_time": "2022-09-23T02:23:56.217Z"
   },
   {
    "duration": 15,
    "start_time": "2022-09-23T02:24:00.155Z"
   },
   {
    "duration": 382,
    "start_time": "2022-09-23T02:24:42.449Z"
   },
   {
    "duration": 322,
    "start_time": "2022-09-23T02:24:55.164Z"
   },
   {
    "duration": 12,
    "start_time": "2022-09-23T02:24:57.608Z"
   },
   {
    "duration": 366,
    "start_time": "2022-09-23T02:24:59.889Z"
   },
   {
    "duration": 16,
    "start_time": "2022-09-23T02:25:03.921Z"
   },
   {
    "duration": 9,
    "start_time": "2022-09-23T02:25:26.193Z"
   },
   {
    "duration": 1229,
    "start_time": "2022-09-23T02:27:29.731Z"
   },
   {
    "duration": 598,
    "start_time": "2022-09-23T02:27:30.962Z"
   },
   {
    "duration": 22,
    "start_time": "2022-09-23T02:27:31.562Z"
   },
   {
    "duration": 25,
    "start_time": "2022-09-23T02:27:31.586Z"
   },
   {
    "duration": 12,
    "start_time": "2022-09-23T02:27:31.613Z"
   },
   {
    "duration": 28,
    "start_time": "2022-09-23T02:27:31.626Z"
   },
   {
    "duration": 70,
    "start_time": "2022-09-23T02:27:31.656Z"
   },
   {
    "duration": 23,
    "start_time": "2022-09-23T02:27:31.728Z"
   },
   {
    "duration": 13,
    "start_time": "2022-09-23T02:27:31.753Z"
   },
   {
    "duration": 38,
    "start_time": "2022-09-23T02:27:31.767Z"
   },
   {
    "duration": 5,
    "start_time": "2022-09-23T02:27:31.806Z"
   },
   {
    "duration": 10,
    "start_time": "2022-09-23T02:27:31.812Z"
   },
   {
    "duration": 19,
    "start_time": "2022-09-23T02:27:31.823Z"
   },
   {
    "duration": 16,
    "start_time": "2022-09-23T02:27:31.845Z"
   },
   {
    "duration": 9,
    "start_time": "2022-09-23T02:27:31.862Z"
   },
   {
    "duration": 142,
    "start_time": "2022-09-23T02:27:31.896Z"
   },
   {
    "duration": 6,
    "start_time": "2022-09-23T02:27:32.039Z"
   },
   {
    "duration": 21,
    "start_time": "2022-09-23T02:27:32.046Z"
   },
   {
    "duration": 4,
    "start_time": "2022-09-23T02:27:32.069Z"
   },
   {
    "duration": 21,
    "start_time": "2022-09-23T02:27:32.074Z"
   },
   {
    "duration": 7,
    "start_time": "2022-09-23T02:27:32.097Z"
   },
   {
    "duration": 14,
    "start_time": "2022-09-23T02:27:32.106Z"
   },
   {
    "duration": 8,
    "start_time": "2022-09-23T02:27:32.122Z"
   },
   {
    "duration": 34,
    "start_time": "2022-09-23T02:27:32.132Z"
   },
   {
    "duration": 9,
    "start_time": "2022-09-23T02:27:32.167Z"
   },
   {
    "duration": 19,
    "start_time": "2022-09-23T02:27:32.194Z"
   },
   {
    "duration": 5,
    "start_time": "2022-09-23T02:27:32.215Z"
   },
   {
    "duration": 86,
    "start_time": "2022-09-23T02:27:32.221Z"
   },
   {
    "duration": 6,
    "start_time": "2022-09-23T02:27:32.309Z"
   },
   {
    "duration": 13,
    "start_time": "2022-09-23T02:27:32.317Z"
   },
   {
    "duration": 126,
    "start_time": "2022-09-23T02:27:32.332Z"
   },
   {
    "duration": 4,
    "start_time": "2022-09-23T02:27:32.459Z"
   },
   {
    "duration": 14,
    "start_time": "2022-09-23T02:27:32.464Z"
   },
   {
    "duration": 20,
    "start_time": "2022-09-23T02:27:32.479Z"
   },
   {
    "duration": 5,
    "start_time": "2022-09-23T02:27:32.500Z"
   },
   {
    "duration": 10,
    "start_time": "2022-09-23T02:27:32.506Z"
   },
   {
    "duration": 9,
    "start_time": "2022-09-23T02:27:32.517Z"
   },
   {
    "duration": 25,
    "start_time": "2022-09-23T02:27:32.527Z"
   },
   {
    "duration": 4,
    "start_time": "2022-09-23T02:27:32.554Z"
   },
   {
    "duration": 302,
    "start_time": "2022-09-23T02:27:32.560Z"
   },
   {
    "duration": 432,
    "start_time": "2022-09-23T02:27:32.865Z"
   },
   {
    "duration": 259,
    "start_time": "2022-09-23T02:27:33.299Z"
   },
   {
    "duration": 411,
    "start_time": "2022-09-23T02:27:33.560Z"
   },
   {
    "duration": 206,
    "start_time": "2022-09-23T02:27:33.972Z"
   },
   {
    "duration": 1208,
    "start_time": "2022-09-23T02:29:31.859Z"
   },
   {
    "duration": 541,
    "start_time": "2022-09-23T02:29:33.068Z"
   },
   {
    "duration": 20,
    "start_time": "2022-09-23T02:29:33.611Z"
   },
   {
    "duration": 19,
    "start_time": "2022-09-23T02:29:33.633Z"
   },
   {
    "duration": 11,
    "start_time": "2022-09-23T02:29:33.653Z"
   },
   {
    "duration": 51,
    "start_time": "2022-09-23T02:29:33.666Z"
   },
   {
    "duration": 40,
    "start_time": "2022-09-23T02:29:33.719Z"
   },
   {
    "duration": 43,
    "start_time": "2022-09-23T02:29:33.761Z"
   },
   {
    "duration": 13,
    "start_time": "2022-09-23T02:29:33.805Z"
   },
   {
    "duration": 19,
    "start_time": "2022-09-23T02:29:33.819Z"
   },
   {
    "duration": 4,
    "start_time": "2022-09-23T02:29:33.840Z"
   },
   {
    "duration": 5,
    "start_time": "2022-09-23T02:29:33.845Z"
   },
   {
    "duration": 12,
    "start_time": "2022-09-23T02:29:33.852Z"
   },
   {
    "duration": 37,
    "start_time": "2022-09-23T02:29:33.867Z"
   },
   {
    "duration": 7,
    "start_time": "2022-09-23T02:29:33.905Z"
   },
   {
    "duration": 165,
    "start_time": "2022-09-23T02:29:33.913Z"
   },
   {
    "duration": 17,
    "start_time": "2022-09-23T02:29:34.080Z"
   },
   {
    "duration": 17,
    "start_time": "2022-09-23T02:29:34.099Z"
   },
   {
    "duration": 4,
    "start_time": "2022-09-23T02:29:34.118Z"
   },
   {
    "duration": 8,
    "start_time": "2022-09-23T02:29:34.124Z"
   },
   {
    "duration": 15,
    "start_time": "2022-09-23T02:29:34.133Z"
   },
   {
    "duration": 10,
    "start_time": "2022-09-23T02:29:34.149Z"
   },
   {
    "duration": 4,
    "start_time": "2022-09-23T02:29:34.161Z"
   },
   {
    "duration": 50,
    "start_time": "2022-09-23T02:29:34.166Z"
   },
   {
    "duration": 9,
    "start_time": "2022-09-23T02:29:34.218Z"
   },
   {
    "duration": 19,
    "start_time": "2022-09-23T02:29:34.229Z"
   },
   {
    "duration": 4,
    "start_time": "2022-09-23T02:29:34.250Z"
   },
   {
    "duration": 90,
    "start_time": "2022-09-23T02:29:34.256Z"
   },
   {
    "duration": 7,
    "start_time": "2022-09-23T02:29:34.347Z"
   },
   {
    "duration": 8,
    "start_time": "2022-09-23T02:29:34.356Z"
   },
   {
    "duration": 136,
    "start_time": "2022-09-23T02:29:34.365Z"
   },
   {
    "duration": 4,
    "start_time": "2022-09-23T02:29:34.502Z"
   },
   {
    "duration": 14,
    "start_time": "2022-09-23T02:29:34.507Z"
   },
   {
    "duration": 11,
    "start_time": "2022-09-23T02:29:34.523Z"
   },
   {
    "duration": 4,
    "start_time": "2022-09-23T02:29:34.536Z"
   },
   {
    "duration": 10,
    "start_time": "2022-09-23T02:29:34.541Z"
   },
   {
    "duration": 9,
    "start_time": "2022-09-23T02:29:34.552Z"
   },
   {
    "duration": 54,
    "start_time": "2022-09-23T02:29:34.563Z"
   },
   {
    "duration": 4,
    "start_time": "2022-09-23T02:29:34.618Z"
   },
   {
    "duration": 308,
    "start_time": "2022-09-23T02:29:34.624Z"
   },
   {
    "duration": 345,
    "start_time": "2022-09-23T02:29:34.937Z"
   },
   {
    "duration": 305,
    "start_time": "2022-09-23T02:29:35.284Z"
   },
   {
    "duration": 331,
    "start_time": "2022-09-23T02:29:35.591Z"
   },
   {
    "duration": 224,
    "start_time": "2022-09-23T02:29:35.924Z"
   },
   {
    "duration": 19,
    "start_time": "2022-09-23T02:30:52.034Z"
   },
   {
    "duration": 12,
    "start_time": "2022-09-23T02:31:02.356Z"
   },
   {
    "duration": 6,
    "start_time": "2022-09-23T02:31:28.148Z"
   },
   {
    "duration": 20,
    "start_time": "2022-09-23T02:31:33.625Z"
   },
   {
    "duration": 7,
    "start_time": "2022-09-23T02:31:44.442Z"
   },
   {
    "duration": 6,
    "start_time": "2022-09-23T02:32:09.276Z"
   },
   {
    "duration": 21,
    "start_time": "2022-09-23T02:32:11.591Z"
   },
   {
    "duration": 4,
    "start_time": "2022-09-23T02:32:23.106Z"
   },
   {
    "duration": 21,
    "start_time": "2022-09-23T02:32:24.192Z"
   },
   {
    "duration": 7,
    "start_time": "2022-09-23T02:32:32.280Z"
   },
   {
    "duration": 43,
    "start_time": "2022-09-23T02:33:55.358Z"
   },
   {
    "duration": 1264,
    "start_time": "2022-09-23T02:34:00.212Z"
   },
   {
    "duration": 579,
    "start_time": "2022-09-23T02:34:01.478Z"
   },
   {
    "duration": 21,
    "start_time": "2022-09-23T02:34:02.059Z"
   },
   {
    "duration": 23,
    "start_time": "2022-09-23T02:34:02.082Z"
   },
   {
    "duration": 11,
    "start_time": "2022-09-23T02:34:02.106Z"
   },
   {
    "duration": 26,
    "start_time": "2022-09-23T02:34:02.118Z"
   },
   {
    "duration": 67,
    "start_time": "2022-09-23T02:34:02.145Z"
   },
   {
    "duration": 23,
    "start_time": "2022-09-23T02:34:02.214Z"
   },
   {
    "duration": 12,
    "start_time": "2022-09-23T02:34:02.238Z"
   },
   {
    "duration": 19,
    "start_time": "2022-09-23T02:34:02.251Z"
   },
   {
    "duration": 24,
    "start_time": "2022-09-23T02:34:02.272Z"
   },
   {
    "duration": 4,
    "start_time": "2022-09-23T02:34:02.297Z"
   },
   {
    "duration": 13,
    "start_time": "2022-09-23T02:34:02.303Z"
   },
   {
    "duration": 14,
    "start_time": "2022-09-23T02:34:02.319Z"
   },
   {
    "duration": 7,
    "start_time": "2022-09-23T02:34:02.334Z"
   },
   {
    "duration": 156,
    "start_time": "2022-09-23T02:34:02.342Z"
   },
   {
    "duration": 6,
    "start_time": "2022-09-23T02:34:02.499Z"
   },
   {
    "duration": 28,
    "start_time": "2022-09-23T02:34:02.507Z"
   },
   {
    "duration": 9,
    "start_time": "2022-09-23T02:34:02.537Z"
   },
   {
    "duration": 8,
    "start_time": "2022-09-23T02:34:02.547Z"
   },
   {
    "duration": 13,
    "start_time": "2022-09-23T02:34:02.556Z"
   },
   {
    "duration": 15,
    "start_time": "2022-09-23T02:34:02.571Z"
   },
   {
    "duration": 10,
    "start_time": "2022-09-23T02:34:02.588Z"
   },
   {
    "duration": 37,
    "start_time": "2022-09-23T02:34:02.600Z"
   },
   {
    "duration": 8,
    "start_time": "2022-09-23T02:34:02.638Z"
   },
   {
    "duration": 22,
    "start_time": "2022-09-23T02:34:02.648Z"
   },
   {
    "duration": 8,
    "start_time": "2022-09-23T02:34:02.671Z"
   },
   {
    "duration": 67,
    "start_time": "2022-09-23T02:34:02.681Z"
   },
   {
    "duration": 6,
    "start_time": "2022-09-23T02:34:02.750Z"
   },
   {
    "duration": 3,
    "start_time": "2022-09-23T02:34:02.758Z"
   },
   {
    "duration": 144,
    "start_time": "2022-09-23T02:34:02.763Z"
   },
   {
    "duration": 3,
    "start_time": "2022-09-23T02:34:02.909Z"
   },
   {
    "duration": 21,
    "start_time": "2022-09-23T02:34:02.914Z"
   },
   {
    "duration": 13,
    "start_time": "2022-09-23T02:34:02.936Z"
   },
   {
    "duration": 9,
    "start_time": "2022-09-23T02:34:02.951Z"
   },
   {
    "duration": 16,
    "start_time": "2022-09-23T02:34:02.961Z"
   },
   {
    "duration": 20,
    "start_time": "2022-09-23T02:34:02.978Z"
   },
   {
    "duration": 1125,
    "start_time": "2022-09-23T02:34:03.000Z"
   },
   {
    "duration": 0,
    "start_time": "2022-09-23T02:34:04.127Z"
   },
   {
    "duration": 0,
    "start_time": "2022-09-23T02:34:04.129Z"
   },
   {
    "duration": 0,
    "start_time": "2022-09-23T02:34:04.130Z"
   },
   {
    "duration": 0,
    "start_time": "2022-09-23T02:34:04.131Z"
   },
   {
    "duration": 0,
    "start_time": "2022-09-23T02:34:04.132Z"
   },
   {
    "duration": 0,
    "start_time": "2022-09-23T02:34:04.133Z"
   },
   {
    "duration": 0,
    "start_time": "2022-09-23T02:34:04.134Z"
   },
   {
    "duration": 1192,
    "start_time": "2022-09-23T02:34:07.711Z"
   },
   {
    "duration": 22,
    "start_time": "2022-09-23T02:34:10.417Z"
   },
   {
    "duration": 4,
    "start_time": "2022-09-23T02:34:11.640Z"
   },
   {
    "duration": 7,
    "start_time": "2022-09-23T02:34:12.754Z"
   },
   {
    "duration": 1248,
    "start_time": "2022-09-23T02:34:51.800Z"
   },
   {
    "duration": 558,
    "start_time": "2022-09-23T02:34:53.049Z"
   },
   {
    "duration": 20,
    "start_time": "2022-09-23T02:34:53.609Z"
   },
   {
    "duration": 19,
    "start_time": "2022-09-23T02:34:53.631Z"
   },
   {
    "duration": 11,
    "start_time": "2022-09-23T02:34:53.652Z"
   },
   {
    "duration": 53,
    "start_time": "2022-09-23T02:34:53.664Z"
   },
   {
    "duration": 40,
    "start_time": "2022-09-23T02:34:53.719Z"
   },
   {
    "duration": 43,
    "start_time": "2022-09-23T02:34:53.761Z"
   },
   {
    "duration": 12,
    "start_time": "2022-09-23T02:34:53.806Z"
   },
   {
    "duration": 17,
    "start_time": "2022-09-23T02:34:53.821Z"
   },
   {
    "duration": 5,
    "start_time": "2022-09-23T02:34:53.839Z"
   },
   {
    "duration": 7,
    "start_time": "2022-09-23T02:34:53.845Z"
   },
   {
    "duration": 11,
    "start_time": "2022-09-23T02:34:53.853Z"
   },
   {
    "duration": 42,
    "start_time": "2022-09-23T02:34:53.866Z"
   },
   {
    "duration": 8,
    "start_time": "2022-09-23T02:34:53.909Z"
   },
   {
    "duration": 147,
    "start_time": "2022-09-23T02:34:53.919Z"
   },
   {
    "duration": 6,
    "start_time": "2022-09-23T02:34:54.068Z"
   },
   {
    "duration": 28,
    "start_time": "2022-09-23T02:34:54.076Z"
   },
   {
    "duration": 4,
    "start_time": "2022-09-23T02:34:54.105Z"
   },
   {
    "duration": 10,
    "start_time": "2022-09-23T02:34:54.110Z"
   },
   {
    "duration": 7,
    "start_time": "2022-09-23T02:34:54.122Z"
   },
   {
    "duration": 11,
    "start_time": "2022-09-23T02:34:54.131Z"
   },
   {
    "duration": 5,
    "start_time": "2022-09-23T02:34:54.143Z"
   },
   {
    "duration": 46,
    "start_time": "2022-09-23T02:34:54.149Z"
   },
   {
    "duration": 9,
    "start_time": "2022-09-23T02:34:54.196Z"
   },
   {
    "duration": 29,
    "start_time": "2022-09-23T02:34:54.206Z"
   },
   {
    "duration": 4,
    "start_time": "2022-09-23T02:34:54.237Z"
   },
   {
    "duration": 71,
    "start_time": "2022-09-23T02:34:54.244Z"
   },
   {
    "duration": 6,
    "start_time": "2022-09-23T02:34:54.317Z"
   },
   {
    "duration": 5,
    "start_time": "2022-09-23T02:34:54.324Z"
   },
   {
    "duration": 124,
    "start_time": "2022-09-23T02:34:54.331Z"
   },
   {
    "duration": 3,
    "start_time": "2022-09-23T02:34:54.457Z"
   },
   {
    "duration": 14,
    "start_time": "2022-09-23T02:34:54.461Z"
   },
   {
    "duration": 24,
    "start_time": "2022-09-23T02:34:54.476Z"
   },
   {
    "duration": 5,
    "start_time": "2022-09-23T02:34:54.501Z"
   },
   {
    "duration": 23,
    "start_time": "2022-09-23T02:34:54.507Z"
   },
   {
    "duration": 11,
    "start_time": "2022-09-23T02:34:54.531Z"
   },
   {
    "duration": 1135,
    "start_time": "2022-09-23T02:34:54.543Z"
   },
   {
    "duration": 0,
    "start_time": "2022-09-23T02:34:55.679Z"
   },
   {
    "duration": 0,
    "start_time": "2022-09-23T02:34:55.680Z"
   },
   {
    "duration": 0,
    "start_time": "2022-09-23T02:34:55.681Z"
   },
   {
    "duration": 0,
    "start_time": "2022-09-23T02:34:55.682Z"
   },
   {
    "duration": 0,
    "start_time": "2022-09-23T02:34:55.683Z"
   },
   {
    "duration": 0,
    "start_time": "2022-09-23T02:34:55.684Z"
   },
   {
    "duration": 0,
    "start_time": "2022-09-23T02:34:55.685Z"
   },
   {
    "duration": 24,
    "start_time": "2022-09-23T02:34:57.524Z"
   },
   {
    "duration": 5,
    "start_time": "2022-09-23T02:34:58.073Z"
   },
   {
    "duration": 6,
    "start_time": "2022-09-23T02:34:59.502Z"
   },
   {
    "duration": 21,
    "start_time": "2022-09-23T02:35:07.743Z"
   },
   {
    "duration": 23,
    "start_time": "2022-09-23T02:35:43.282Z"
   },
   {
    "duration": 17,
    "start_time": "2022-09-23T02:36:01.751Z"
   },
   {
    "duration": 32,
    "start_time": "2022-09-23T02:37:20.007Z"
   },
   {
    "duration": 28,
    "start_time": "2022-09-23T02:37:37.469Z"
   },
   {
    "duration": 76,
    "start_time": "2022-09-23T02:37:56.631Z"
   },
   {
    "duration": 75,
    "start_time": "2022-09-23T02:38:01.592Z"
   },
   {
    "duration": 78,
    "start_time": "2022-09-23T02:38:03.840Z"
   },
   {
    "duration": 18,
    "start_time": "2022-09-23T02:38:20.902Z"
   },
   {
    "duration": 25,
    "start_time": "2022-09-23T02:38:25.204Z"
   },
   {
    "duration": 13,
    "start_time": "2022-09-23T02:38:42.382Z"
   },
   {
    "duration": 21,
    "start_time": "2022-09-23T02:38:48.036Z"
   },
   {
    "duration": 19,
    "start_time": "2022-09-23T02:39:01.097Z"
   },
   {
    "duration": 22,
    "start_time": "2022-09-23T02:39:10.979Z"
   },
   {
    "duration": 1283,
    "start_time": "2022-09-23T02:39:18.967Z"
   },
   {
    "duration": 596,
    "start_time": "2022-09-23T02:39:20.252Z"
   },
   {
    "duration": 23,
    "start_time": "2022-09-23T02:39:20.850Z"
   },
   {
    "duration": 24,
    "start_time": "2022-09-23T02:39:20.875Z"
   },
   {
    "duration": 12,
    "start_time": "2022-09-23T02:39:20.901Z"
   },
   {
    "duration": 29,
    "start_time": "2022-09-23T02:39:20.915Z"
   },
   {
    "duration": 72,
    "start_time": "2022-09-23T02:39:20.946Z"
   },
   {
    "duration": 25,
    "start_time": "2022-09-23T02:39:21.019Z"
   },
   {
    "duration": 13,
    "start_time": "2022-09-23T02:39:21.046Z"
   },
   {
    "duration": 39,
    "start_time": "2022-09-23T02:39:21.061Z"
   },
   {
    "duration": 5,
    "start_time": "2022-09-23T02:39:21.102Z"
   },
   {
    "duration": 7,
    "start_time": "2022-09-23T02:39:21.109Z"
   },
   {
    "duration": 13,
    "start_time": "2022-09-23T02:39:21.117Z"
   },
   {
    "duration": 15,
    "start_time": "2022-09-23T02:39:21.132Z"
   },
   {
    "duration": 7,
    "start_time": "2022-09-23T02:39:21.149Z"
   },
   {
    "duration": 172,
    "start_time": "2022-09-23T02:39:21.157Z"
   },
   {
    "duration": 6,
    "start_time": "2022-09-23T02:39:21.330Z"
   },
   {
    "duration": 22,
    "start_time": "2022-09-23T02:39:21.337Z"
   },
   {
    "duration": 4,
    "start_time": "2022-09-23T02:39:21.361Z"
   },
   {
    "duration": 6,
    "start_time": "2022-09-23T02:39:21.367Z"
   },
   {
    "duration": 4,
    "start_time": "2022-09-23T02:39:21.395Z"
   },
   {
    "duration": 10,
    "start_time": "2022-09-23T02:39:21.401Z"
   },
   {
    "duration": 4,
    "start_time": "2022-09-23T02:39:21.413Z"
   },
   {
    "duration": 30,
    "start_time": "2022-09-23T02:39:21.418Z"
   },
   {
    "duration": 9,
    "start_time": "2022-09-23T02:39:21.449Z"
   },
   {
    "duration": 51,
    "start_time": "2022-09-23T02:39:21.460Z"
   },
   {
    "duration": 7,
    "start_time": "2022-09-23T02:39:21.513Z"
   },
   {
    "duration": 63,
    "start_time": "2022-09-23T02:39:21.521Z"
   },
   {
    "duration": 6,
    "start_time": "2022-09-23T02:39:21.596Z"
   },
   {
    "duration": 7,
    "start_time": "2022-09-23T02:39:21.604Z"
   },
   {
    "duration": 135,
    "start_time": "2022-09-23T02:39:21.613Z"
   },
   {
    "duration": 4,
    "start_time": "2022-09-23T02:39:21.750Z"
   },
   {
    "duration": 15,
    "start_time": "2022-09-23T02:39:21.755Z"
   },
   {
    "duration": 24,
    "start_time": "2022-09-23T02:39:21.772Z"
   },
   {
    "duration": 6,
    "start_time": "2022-09-23T02:39:21.797Z"
   },
   {
    "duration": 12,
    "start_time": "2022-09-23T02:39:21.804Z"
   },
   {
    "duration": 11,
    "start_time": "2022-09-23T02:39:21.817Z"
   },
   {
    "duration": 18,
    "start_time": "2022-09-23T02:39:21.830Z"
   },
   {
    "duration": 56,
    "start_time": "2022-09-23T02:39:21.850Z"
   },
   {
    "duration": 0,
    "start_time": "2022-09-23T02:39:21.908Z"
   },
   {
    "duration": 1,
    "start_time": "2022-09-23T02:39:21.908Z"
   },
   {
    "duration": 0,
    "start_time": "2022-09-23T02:39:21.910Z"
   },
   {
    "duration": 0,
    "start_time": "2022-09-23T02:39:21.912Z"
   },
   {
    "duration": 0,
    "start_time": "2022-09-23T02:39:21.913Z"
   },
   {
    "duration": 4,
    "start_time": "2022-09-23T02:39:38.674Z"
   },
   {
    "duration": 21,
    "start_time": "2022-09-23T02:39:55.698Z"
   },
   {
    "duration": 15,
    "start_time": "2022-09-23T02:40:03.751Z"
   },
   {
    "duration": 19,
    "start_time": "2022-09-23T02:40:07.063Z"
   },
   {
    "duration": 20,
    "start_time": "2022-09-23T02:40:14.923Z"
   },
   {
    "duration": 123,
    "start_time": "2022-09-23T02:40:26.161Z"
   },
   {
    "duration": 103,
    "start_time": "2022-09-23T02:40:33.864Z"
   },
   {
    "duration": 137,
    "start_time": "2022-09-23T02:40:38.447Z"
   },
   {
    "duration": 80,
    "start_time": "2022-09-23T02:40:41.467Z"
   },
   {
    "duration": 1208,
    "start_time": "2022-09-23T02:40:54.710Z"
   },
   {
    "duration": 555,
    "start_time": "2022-09-23T02:40:55.920Z"
   },
   {
    "duration": 27,
    "start_time": "2022-09-23T02:40:56.478Z"
   },
   {
    "duration": 25,
    "start_time": "2022-09-23T02:40:56.507Z"
   },
   {
    "duration": 12,
    "start_time": "2022-09-23T02:40:56.535Z"
   },
   {
    "duration": 52,
    "start_time": "2022-09-23T02:40:56.549Z"
   },
   {
    "duration": 41,
    "start_time": "2022-09-23T02:40:56.603Z"
   },
   {
    "duration": 22,
    "start_time": "2022-09-23T02:40:56.646Z"
   },
   {
    "duration": 31,
    "start_time": "2022-09-23T02:40:56.670Z"
   },
   {
    "duration": 15,
    "start_time": "2022-09-23T02:40:56.703Z"
   },
   {
    "duration": 5,
    "start_time": "2022-09-23T02:40:56.719Z"
   },
   {
    "duration": 6,
    "start_time": "2022-09-23T02:40:56.725Z"
   },
   {
    "duration": 10,
    "start_time": "2022-09-23T02:40:56.732Z"
   },
   {
    "duration": 13,
    "start_time": "2022-09-23T02:40:56.745Z"
   },
   {
    "duration": 39,
    "start_time": "2022-09-23T02:40:56.760Z"
   },
   {
    "duration": 143,
    "start_time": "2022-09-23T02:40:56.801Z"
   },
   {
    "duration": 5,
    "start_time": "2022-09-23T02:40:56.946Z"
   },
   {
    "duration": 17,
    "start_time": "2022-09-23T02:40:56.952Z"
   },
   {
    "duration": 4,
    "start_time": "2022-09-23T02:40:56.970Z"
   },
   {
    "duration": 4,
    "start_time": "2022-09-23T02:40:56.995Z"
   },
   {
    "duration": 7,
    "start_time": "2022-09-23T02:40:57.000Z"
   },
   {
    "duration": 11,
    "start_time": "2022-09-23T02:40:57.008Z"
   },
   {
    "duration": 5,
    "start_time": "2022-09-23T02:40:57.020Z"
   },
   {
    "duration": 28,
    "start_time": "2022-09-23T02:40:57.026Z"
   },
   {
    "duration": 7,
    "start_time": "2022-09-23T02:40:57.056Z"
   },
   {
    "duration": 43,
    "start_time": "2022-09-23T02:40:57.064Z"
   },
   {
    "duration": 4,
    "start_time": "2022-09-23T02:40:57.108Z"
   },
   {
    "duration": 61,
    "start_time": "2022-09-23T02:40:57.113Z"
   },
   {
    "duration": 23,
    "start_time": "2022-09-23T02:40:57.176Z"
   },
   {
    "duration": 6,
    "start_time": "2022-09-23T02:40:57.200Z"
   },
   {
    "duration": 117,
    "start_time": "2022-09-23T02:40:57.208Z"
   },
   {
    "duration": 4,
    "start_time": "2022-09-23T02:40:57.326Z"
   },
   {
    "duration": 13,
    "start_time": "2022-09-23T02:40:57.331Z"
   },
   {
    "duration": 12,
    "start_time": "2022-09-23T02:40:57.346Z"
   },
   {
    "duration": 5,
    "start_time": "2022-09-23T02:40:57.359Z"
   },
   {
    "duration": 33,
    "start_time": "2022-09-23T02:40:57.366Z"
   },
   {
    "duration": 10,
    "start_time": "2022-09-23T02:40:57.401Z"
   },
   {
    "duration": 19,
    "start_time": "2022-09-23T02:40:57.413Z"
   },
   {
    "duration": 27,
    "start_time": "2022-09-23T02:40:57.434Z"
   },
   {
    "duration": 0,
    "start_time": "2022-09-23T02:40:57.463Z"
   },
   {
    "duration": 0,
    "start_time": "2022-09-23T02:40:57.496Z"
   },
   {
    "duration": 0,
    "start_time": "2022-09-23T02:40:57.497Z"
   },
   {
    "duration": 0,
    "start_time": "2022-09-23T02:40:57.499Z"
   },
   {
    "duration": 0,
    "start_time": "2022-09-23T02:40:57.501Z"
   },
   {
    "duration": 73,
    "start_time": "2022-09-23T02:41:41.315Z"
   },
   {
    "duration": 75,
    "start_time": "2022-09-23T02:41:45.121Z"
   },
   {
    "duration": 74,
    "start_time": "2022-09-23T02:41:53.001Z"
   },
   {
    "duration": 13,
    "start_time": "2022-09-23T02:42:55.842Z"
   },
   {
    "duration": 9,
    "start_time": "2022-09-23T02:43:00.045Z"
   },
   {
    "duration": 6,
    "start_time": "2022-09-23T02:43:10.781Z"
   },
   {
    "duration": 7,
    "start_time": "2022-09-23T02:43:14.269Z"
   },
   {
    "duration": 1264,
    "start_time": "2022-09-23T02:43:26.425Z"
   },
   {
    "duration": 623,
    "start_time": "2022-09-23T02:43:27.691Z"
   },
   {
    "duration": 23,
    "start_time": "2022-09-23T02:43:28.315Z"
   },
   {
    "duration": 22,
    "start_time": "2022-09-23T02:43:28.339Z"
   },
   {
    "duration": 33,
    "start_time": "2022-09-23T02:43:28.363Z"
   },
   {
    "duration": 28,
    "start_time": "2022-09-23T02:43:28.398Z"
   },
   {
    "duration": 42,
    "start_time": "2022-09-23T02:43:28.428Z"
   },
   {
    "duration": 44,
    "start_time": "2022-09-23T02:43:28.472Z"
   },
   {
    "duration": 12,
    "start_time": "2022-09-23T02:43:28.518Z"
   },
   {
    "duration": 21,
    "start_time": "2022-09-23T02:43:28.532Z"
   },
   {
    "duration": 5,
    "start_time": "2022-09-23T02:43:28.554Z"
   },
   {
    "duration": 5,
    "start_time": "2022-09-23T02:43:28.561Z"
   },
   {
    "duration": 12,
    "start_time": "2022-09-23T02:43:28.595Z"
   },
   {
    "duration": 16,
    "start_time": "2022-09-23T02:43:28.609Z"
   },
   {
    "duration": 8,
    "start_time": "2022-09-23T02:43:28.627Z"
   },
   {
    "duration": 170,
    "start_time": "2022-09-23T02:43:28.636Z"
   },
   {
    "duration": 6,
    "start_time": "2022-09-23T02:43:28.807Z"
   },
   {
    "duration": 21,
    "start_time": "2022-09-23T02:43:28.815Z"
   },
   {
    "duration": 6,
    "start_time": "2022-09-23T02:43:28.838Z"
   },
   {
    "duration": 6,
    "start_time": "2022-09-23T02:43:28.846Z"
   },
   {
    "duration": 6,
    "start_time": "2022-09-23T02:43:28.854Z"
   },
   {
    "duration": 10,
    "start_time": "2022-09-23T02:43:28.894Z"
   },
   {
    "duration": 5,
    "start_time": "2022-09-23T02:43:28.905Z"
   },
   {
    "duration": 31,
    "start_time": "2022-09-23T02:43:28.911Z"
   },
   {
    "duration": 9,
    "start_time": "2022-09-23T02:43:28.943Z"
   },
   {
    "duration": 47,
    "start_time": "2022-09-23T02:43:28.954Z"
   },
   {
    "duration": 6,
    "start_time": "2022-09-23T02:43:29.002Z"
   },
   {
    "duration": 70,
    "start_time": "2022-09-23T02:43:29.010Z"
   },
   {
    "duration": 18,
    "start_time": "2022-09-23T02:43:29.081Z"
   },
   {
    "duration": 5,
    "start_time": "2022-09-23T02:43:29.101Z"
   },
   {
    "duration": 134,
    "start_time": "2022-09-23T02:43:29.108Z"
   },
   {
    "duration": 4,
    "start_time": "2022-09-23T02:43:29.243Z"
   },
   {
    "duration": 17,
    "start_time": "2022-09-23T02:43:29.248Z"
   },
   {
    "duration": 13,
    "start_time": "2022-09-23T02:43:29.266Z"
   },
   {
    "duration": 5,
    "start_time": "2022-09-23T02:43:29.296Z"
   },
   {
    "duration": 14,
    "start_time": "2022-09-23T02:43:29.303Z"
   },
   {
    "duration": 9,
    "start_time": "2022-09-23T02:43:29.318Z"
   },
   {
    "duration": 17,
    "start_time": "2022-09-23T02:43:29.329Z"
   },
   {
    "duration": 14,
    "start_time": "2022-09-23T02:43:29.348Z"
   },
   {
    "duration": 316,
    "start_time": "2022-09-23T02:43:29.364Z"
   },
   {
    "duration": 458,
    "start_time": "2022-09-23T02:43:29.684Z"
   },
   {
    "duration": 285,
    "start_time": "2022-09-23T02:43:30.143Z"
   },
   {
    "duration": 418,
    "start_time": "2022-09-23T02:43:30.429Z"
   },
   {
    "duration": 213,
    "start_time": "2022-09-23T02:43:30.849Z"
   },
   {
    "duration": 21,
    "start_time": "2022-09-23T02:43:40.961Z"
   },
   {
    "duration": 24,
    "start_time": "2022-09-23T02:43:51.601Z"
   },
   {
    "duration": 27,
    "start_time": "2022-09-23T02:44:20.277Z"
   },
   {
    "duration": 13,
    "start_time": "2022-09-23T02:44:37.475Z"
   },
   {
    "duration": 20,
    "start_time": "2022-09-23T02:44:41.419Z"
   },
   {
    "duration": 194,
    "start_time": "2022-09-23T02:44:45.980Z"
   },
   {
    "duration": 405,
    "start_time": "2022-09-23T02:44:48.996Z"
   },
   {
    "duration": 208,
    "start_time": "2022-09-23T02:44:49.403Z"
   },
   {
    "duration": 409,
    "start_time": "2022-09-23T02:44:52.160Z"
   },
   {
    "duration": 203,
    "start_time": "2022-09-23T02:44:52.665Z"
   },
   {
    "duration": 21,
    "start_time": "2022-09-23T02:49:00.227Z"
   },
   {
    "duration": 22,
    "start_time": "2022-09-23T02:49:53.709Z"
   },
   {
    "duration": 20,
    "start_time": "2022-09-23T02:50:27.825Z"
   },
   {
    "duration": 23,
    "start_time": "2022-09-23T02:50:33.928Z"
   },
   {
    "duration": 6,
    "start_time": "2022-09-23T02:50:55.801Z"
   },
   {
    "duration": 23,
    "start_time": "2022-09-23T02:51:00.946Z"
   },
   {
    "duration": 23,
    "start_time": "2022-09-23T02:51:08.202Z"
   },
   {
    "duration": 23,
    "start_time": "2022-09-23T02:51:30.673Z"
   },
   {
    "duration": 6,
    "start_time": "2022-09-23T02:52:21.344Z"
   },
   {
    "duration": 7,
    "start_time": "2022-09-23T02:52:25.159Z"
   },
   {
    "duration": 6,
    "start_time": "2022-09-23T02:52:27.765Z"
   },
   {
    "duration": 22,
    "start_time": "2022-09-23T02:52:38.528Z"
   },
   {
    "duration": 76,
    "start_time": "2022-09-23T02:53:05.816Z"
   },
   {
    "duration": 93,
    "start_time": "2022-09-23T02:53:08.963Z"
   },
   {
    "duration": 72,
    "start_time": "2022-09-23T02:53:10.770Z"
   },
   {
    "duration": 73,
    "start_time": "2022-09-23T02:53:16.258Z"
   },
   {
    "duration": 6,
    "start_time": "2022-09-23T02:53:20.106Z"
   },
   {
    "duration": 5,
    "start_time": "2022-09-23T02:53:29.325Z"
   },
   {
    "duration": 120,
    "start_time": "2022-09-23T02:59:31.919Z"
   },
   {
    "duration": 153,
    "start_time": "2022-09-23T03:03:56.622Z"
   },
   {
    "duration": 20,
    "start_time": "2022-09-23T03:05:12.782Z"
   },
   {
    "duration": 8,
    "start_time": "2022-09-23T03:05:43.727Z"
   },
   {
    "duration": 8,
    "start_time": "2022-09-23T03:05:47.043Z"
   },
   {
    "duration": 9,
    "start_time": "2022-09-23T03:05:56.631Z"
   },
   {
    "duration": 19,
    "start_time": "2022-09-23T03:06:07.465Z"
   },
   {
    "duration": 13,
    "start_time": "2022-09-23T03:06:41.512Z"
   },
   {
    "duration": 11,
    "start_time": "2022-09-23T03:06:45.924Z"
   },
   {
    "duration": 14,
    "start_time": "2022-09-23T03:07:38.066Z"
   },
   {
    "duration": 12,
    "start_time": "2022-09-23T03:07:41.450Z"
   },
   {
    "duration": 13,
    "start_time": "2022-09-23T03:07:50.515Z"
   },
   {
    "duration": 11,
    "start_time": "2022-09-23T03:07:56.718Z"
   },
   {
    "duration": 9,
    "start_time": "2022-09-23T03:08:45.822Z"
   },
   {
    "duration": 10,
    "start_time": "2022-09-23T03:08:51.906Z"
   },
   {
    "duration": 113,
    "start_time": "2022-09-23T03:09:13.179Z"
   },
   {
    "duration": 120,
    "start_time": "2022-09-23T03:09:26.962Z"
   },
   {
    "duration": 319,
    "start_time": "2022-09-23T03:11:46.916Z"
   },
   {
    "duration": 64,
    "start_time": "2022-09-23T03:11:55.250Z"
   },
   {
    "duration": 71,
    "start_time": "2022-09-23T03:13:09.110Z"
   },
   {
    "duration": 168,
    "start_time": "2022-09-23T03:13:33.770Z"
   },
   {
    "duration": 55,
    "start_time": "2022-09-23T03:15:36.859Z"
   },
   {
    "duration": 2,
    "start_time": "2022-09-23T03:15:44.027Z"
   },
   {
    "duration": 11,
    "start_time": "2022-09-23T03:15:47.794Z"
   },
   {
    "duration": 26,
    "start_time": "2022-09-23T03:16:07.960Z"
   },
   {
    "duration": 18,
    "start_time": "2022-09-23T03:16:22.792Z"
   },
   {
    "duration": 82,
    "start_time": "2022-09-23T03:16:32.150Z"
   },
   {
    "duration": 84,
    "start_time": "2022-09-23T03:16:45.664Z"
   },
   {
    "duration": 9,
    "start_time": "2022-09-23T03:20:27.132Z"
   },
   {
    "duration": 10,
    "start_time": "2022-09-23T03:20:30.798Z"
   },
   {
    "duration": 14,
    "start_time": "2022-09-23T03:21:18.138Z"
   },
   {
    "duration": 11,
    "start_time": "2022-09-23T03:21:18.707Z"
   },
   {
    "duration": 15,
    "start_time": "2022-09-23T03:21:25.788Z"
   },
   {
    "duration": 16428,
    "start_time": "2022-09-23T03:22:18.791Z"
   },
   {
    "duration": 7,
    "start_time": "2022-09-23T03:22:46.516Z"
   },
   {
    "duration": 11,
    "start_time": "2022-09-23T03:23:08.473Z"
   },
   {
    "duration": 20,
    "start_time": "2022-09-23T03:23:13.992Z"
   },
   {
    "duration": 34,
    "start_time": "2022-09-23T03:23:24.164Z"
   },
   {
    "duration": 39,
    "start_time": "2022-09-23T03:23:51.285Z"
   },
   {
    "duration": 432,
    "start_time": "2022-09-23T03:28:50.118Z"
   },
   {
    "duration": 219,
    "start_time": "2022-09-23T03:28:58.791Z"
   },
   {
    "duration": 14,
    "start_time": "2022-09-23T03:30:29.051Z"
   },
   {
    "duration": 42,
    "start_time": "2022-09-23T03:30:29.382Z"
   },
   {
    "duration": 219,
    "start_time": "2022-09-23T03:32:17.247Z"
   },
   {
    "duration": 205,
    "start_time": "2022-09-23T03:33:24.543Z"
   },
   {
    "duration": 1246,
    "start_time": "2022-09-23T03:33:46.107Z"
   },
   {
    "duration": 577,
    "start_time": "2022-09-23T03:33:47.355Z"
   },
   {
    "duration": 22,
    "start_time": "2022-09-23T03:33:47.934Z"
   },
   {
    "duration": 21,
    "start_time": "2022-09-23T03:33:47.958Z"
   },
   {
    "duration": 19,
    "start_time": "2022-09-23T03:33:47.980Z"
   },
   {
    "duration": 32,
    "start_time": "2022-09-23T03:33:48.001Z"
   },
   {
    "duration": 65,
    "start_time": "2022-09-23T03:33:48.034Z"
   },
   {
    "duration": 24,
    "start_time": "2022-09-23T03:33:48.101Z"
   },
   {
    "duration": 11,
    "start_time": "2022-09-23T03:33:48.127Z"
   },
   {
    "duration": 19,
    "start_time": "2022-09-23T03:33:48.140Z"
   },
   {
    "duration": 5,
    "start_time": "2022-09-23T03:33:48.161Z"
   },
   {
    "duration": 29,
    "start_time": "2022-09-23T03:33:48.167Z"
   },
   {
    "duration": 11,
    "start_time": "2022-09-23T03:33:48.199Z"
   },
   {
    "duration": 15,
    "start_time": "2022-09-23T03:33:48.212Z"
   },
   {
    "duration": 8,
    "start_time": "2022-09-23T03:33:48.228Z"
   },
   {
    "duration": 169,
    "start_time": "2022-09-23T03:33:48.237Z"
   },
   {
    "duration": 6,
    "start_time": "2022-09-23T03:33:48.407Z"
   },
   {
    "duration": 19,
    "start_time": "2022-09-23T03:33:48.414Z"
   },
   {
    "duration": 4,
    "start_time": "2022-09-23T03:33:48.435Z"
   },
   {
    "duration": 6,
    "start_time": "2022-09-23T03:33:48.441Z"
   },
   {
    "duration": 6,
    "start_time": "2022-09-23T03:33:48.449Z"
   },
   {
    "duration": 40,
    "start_time": "2022-09-23T03:33:48.456Z"
   },
   {
    "duration": 2,
    "start_time": "2022-09-23T03:33:48.498Z"
   },
   {
    "duration": 30,
    "start_time": "2022-09-23T03:33:48.502Z"
   },
   {
    "duration": 9,
    "start_time": "2022-09-23T03:33:48.534Z"
   },
   {
    "duration": 19,
    "start_time": "2022-09-23T03:33:48.545Z"
   },
   {
    "duration": 33,
    "start_time": "2022-09-23T03:33:48.566Z"
   },
   {
    "duration": 67,
    "start_time": "2022-09-23T03:33:48.601Z"
   },
   {
    "duration": 7,
    "start_time": "2022-09-23T03:33:48.669Z"
   },
   {
    "duration": 18,
    "start_time": "2022-09-23T03:33:48.678Z"
   },
   {
    "duration": 128,
    "start_time": "2022-09-23T03:33:48.698Z"
   },
   {
    "duration": 4,
    "start_time": "2022-09-23T03:33:48.828Z"
   },
   {
    "duration": 14,
    "start_time": "2022-09-23T03:33:48.834Z"
   },
   {
    "duration": 12,
    "start_time": "2022-09-23T03:33:48.850Z"
   },
   {
    "duration": 5,
    "start_time": "2022-09-23T03:33:48.863Z"
   },
   {
    "duration": 31,
    "start_time": "2022-09-23T03:33:48.869Z"
   },
   {
    "duration": 9,
    "start_time": "2022-09-23T03:33:48.902Z"
   },
   {
    "duration": 23,
    "start_time": "2022-09-23T03:33:48.912Z"
   },
   {
    "duration": 16,
    "start_time": "2022-09-23T03:33:48.937Z"
   },
   {
    "duration": 306,
    "start_time": "2022-09-23T03:33:48.956Z"
   },
   {
    "duration": 231,
    "start_time": "2022-09-23T03:33:49.264Z"
   },
   {
    "duration": 6,
    "start_time": "2022-09-23T03:33:49.496Z"
   },
   {
    "duration": 11,
    "start_time": "2022-09-23T03:33:49.503Z"
   },
   {
    "duration": 16,
    "start_time": "2022-09-23T03:33:49.515Z"
   },
   {
    "duration": 70,
    "start_time": "2022-09-23T03:33:49.533Z"
   },
   {
    "duration": 10,
    "start_time": "2022-09-23T03:46:22.413Z"
   },
   {
    "duration": 20,
    "start_time": "2022-09-23T03:46:25.933Z"
   },
   {
    "duration": 9,
    "start_time": "2022-09-23T03:48:14.362Z"
   },
   {
    "duration": 6,
    "start_time": "2022-09-23T03:48:17.267Z"
   },
   {
    "duration": 5,
    "start_time": "2022-09-23T03:48:20.611Z"
   },
   {
    "duration": 1222,
    "start_time": "2022-09-23T03:48:30.912Z"
   },
   {
    "duration": 7,
    "start_time": "2022-09-23T03:48:36.178Z"
   },
   {
    "duration": 9,
    "start_time": "2022-09-23T03:48:37.375Z"
   },
   {
    "duration": 12,
    "start_time": "2022-09-23T03:49:13.530Z"
   },
   {
    "duration": 13,
    "start_time": "2022-09-23T03:50:22.838Z"
   },
   {
    "duration": 11,
    "start_time": "2022-09-23T03:51:06.746Z"
   },
   {
    "duration": 12,
    "start_time": "2022-09-23T03:51:12.398Z"
   },
   {
    "duration": 74,
    "start_time": "2022-09-23T03:53:29.488Z"
   },
   {
    "duration": 9,
    "start_time": "2022-09-23T03:53:40.239Z"
   },
   {
    "duration": 9,
    "start_time": "2022-09-23T03:53:41.491Z"
   },
   {
    "duration": 9,
    "start_time": "2022-09-23T03:53:44.180Z"
   },
   {
    "duration": 9,
    "start_time": "2022-09-23T03:53:47.264Z"
   },
   {
    "duration": 1222,
    "start_time": "2022-09-23T03:53:47.724Z"
   },
   {
    "duration": 3,
    "start_time": "2022-09-23T03:53:54.864Z"
   },
   {
    "duration": 7,
    "start_time": "2022-09-23T03:53:57.994Z"
   },
   {
    "duration": 1350,
    "start_time": "2022-09-23T03:53:58.237Z"
   },
   {
    "duration": 10,
    "start_time": "2022-09-23T03:54:05.917Z"
   },
   {
    "duration": 10,
    "start_time": "2022-09-23T03:54:18.779Z"
   },
   {
    "duration": 8,
    "start_time": "2022-09-23T03:54:20.320Z"
   },
   {
    "duration": 14,
    "start_time": "2022-09-23T03:58:35.709Z"
   },
   {
    "duration": 6,
    "start_time": "2022-09-23T03:58:40.246Z"
   },
   {
    "duration": 9,
    "start_time": "2022-09-23T03:58:40.889Z"
   },
   {
    "duration": 7,
    "start_time": "2022-09-23T03:58:45.154Z"
   },
   {
    "duration": 13,
    "start_time": "2022-09-23T04:04:40.566Z"
   },
   {
    "duration": 4,
    "start_time": "2022-09-23T04:04:50.249Z"
   },
   {
    "duration": 7,
    "start_time": "2022-09-23T04:04:53.348Z"
   },
   {
    "duration": 4,
    "start_time": "2022-09-23T04:05:36.814Z"
   },
   {
    "duration": 7,
    "start_time": "2022-09-23T04:05:39.616Z"
   },
   {
    "duration": 298,
    "start_time": "2022-09-23T04:05:58.814Z"
   },
   {
    "duration": 4,
    "start_time": "2022-09-23T04:06:02.976Z"
   },
   {
    "duration": 7,
    "start_time": "2022-09-23T04:06:04.244Z"
   },
   {
    "duration": 7,
    "start_time": "2022-09-23T04:07:40.201Z"
   },
   {
    "duration": 11,
    "start_time": "2022-09-23T04:10:40.763Z"
   },
   {
    "duration": 10,
    "start_time": "2022-09-23T04:10:54.058Z"
   },
   {
    "duration": 9,
    "start_time": "2022-09-23T04:10:56.287Z"
   },
   {
    "duration": 14,
    "start_time": "2022-09-23T04:11:04.896Z"
   },
   {
    "duration": 12,
    "start_time": "2022-09-23T04:11:05.467Z"
   },
   {
    "duration": 17,
    "start_time": "2022-09-23T04:11:48.849Z"
   },
   {
    "duration": 20,
    "start_time": "2022-09-23T04:11:55.608Z"
   },
   {
    "duration": 26,
    "start_time": "2022-09-23T04:12:11.628Z"
   },
   {
    "duration": 13,
    "start_time": "2022-09-23T04:12:23.571Z"
   },
   {
    "duration": 12,
    "start_time": "2022-09-23T04:12:25.752Z"
   },
   {
    "duration": 13,
    "start_time": "2022-09-23T04:12:33.679Z"
   },
   {
    "duration": 14,
    "start_time": "2022-09-23T04:12:38.259Z"
   },
   {
    "duration": 14,
    "start_time": "2022-09-23T04:12:44.428Z"
   },
   {
    "duration": 13,
    "start_time": "2022-09-23T04:12:46.281Z"
   },
   {
    "duration": 5,
    "start_time": "2022-09-23T04:16:23.474Z"
   },
   {
    "duration": 7,
    "start_time": "2022-09-23T04:16:27.078Z"
   },
   {
    "duration": 1182,
    "start_time": "2022-09-23T04:16:36.012Z"
   },
   {
    "duration": 1231,
    "start_time": "2022-09-23T04:16:38.266Z"
   },
   {
    "duration": 22,
    "start_time": "2022-09-23T04:16:53.113Z"
   },
   {
    "duration": 20,
    "start_time": "2022-09-23T04:19:30.063Z"
   },
   {
    "duration": 14,
    "start_time": "2022-09-23T04:19:38.375Z"
   },
   {
    "duration": 6,
    "start_time": "2022-09-23T04:19:42.024Z"
   },
   {
    "duration": 13,
    "start_time": "2022-09-23T04:19:42.243Z"
   },
   {
    "duration": 13,
    "start_time": "2022-09-23T04:19:59.257Z"
   },
   {
    "duration": 9,
    "start_time": "2022-09-23T04:20:02.372Z"
   },
   {
    "duration": 13,
    "start_time": "2022-09-23T04:21:40.481Z"
   },
   {
    "duration": 6,
    "start_time": "2022-09-23T04:21:42.915Z"
   },
   {
    "duration": 18,
    "start_time": "2022-09-23T04:22:03.561Z"
   },
   {
    "duration": 14,
    "start_time": "2022-09-23T04:22:15.834Z"
   },
   {
    "duration": 7,
    "start_time": "2022-09-23T04:22:17.762Z"
   },
   {
    "duration": 1216,
    "start_time": "2022-09-23T04:22:52.320Z"
   },
   {
    "duration": 578,
    "start_time": "2022-09-23T04:22:53.538Z"
   },
   {
    "duration": 22,
    "start_time": "2022-09-23T04:22:54.117Z"
   },
   {
    "duration": 21,
    "start_time": "2022-09-23T04:22:54.141Z"
   },
   {
    "duration": 11,
    "start_time": "2022-09-23T04:22:54.164Z"
   },
   {
    "duration": 44,
    "start_time": "2022-09-23T04:22:54.177Z"
   },
   {
    "duration": 43,
    "start_time": "2022-09-23T04:22:54.222Z"
   },
   {
    "duration": 46,
    "start_time": "2022-09-23T04:22:54.266Z"
   },
   {
    "duration": 12,
    "start_time": "2022-09-23T04:22:54.314Z"
   },
   {
    "duration": 14,
    "start_time": "2022-09-23T04:22:54.328Z"
   },
   {
    "duration": 4,
    "start_time": "2022-09-23T04:22:54.344Z"
   },
   {
    "duration": 7,
    "start_time": "2022-09-23T04:22:54.350Z"
   },
   {
    "duration": 43,
    "start_time": "2022-09-23T04:22:54.359Z"
   },
   {
    "duration": 15,
    "start_time": "2022-09-23T04:22:54.405Z"
   },
   {
    "duration": 8,
    "start_time": "2022-09-23T04:22:54.421Z"
   },
   {
    "duration": 159,
    "start_time": "2022-09-23T04:22:54.430Z"
   },
   {
    "duration": 7,
    "start_time": "2022-09-23T04:22:54.591Z"
   },
   {
    "duration": 21,
    "start_time": "2022-09-23T04:22:54.599Z"
   },
   {
    "duration": 4,
    "start_time": "2022-09-23T04:22:54.622Z"
   },
   {
    "duration": 8,
    "start_time": "2022-09-23T04:22:54.627Z"
   },
   {
    "duration": 6,
    "start_time": "2022-09-23T04:22:54.636Z"
   },
   {
    "duration": 10,
    "start_time": "2022-09-23T04:22:54.643Z"
   },
   {
    "duration": 4,
    "start_time": "2022-09-23T04:22:54.655Z"
   },
   {
    "duration": 52,
    "start_time": "2022-09-23T04:22:54.661Z"
   },
   {
    "duration": 10,
    "start_time": "2022-09-23T04:22:54.715Z"
   },
   {
    "duration": 19,
    "start_time": "2022-09-23T04:22:54.727Z"
   },
   {
    "duration": 4,
    "start_time": "2022-09-23T04:22:54.748Z"
   },
   {
    "duration": 89,
    "start_time": "2022-09-23T04:22:54.754Z"
   },
   {
    "duration": 7,
    "start_time": "2022-09-23T04:22:54.844Z"
   },
   {
    "duration": 6,
    "start_time": "2022-09-23T04:22:54.852Z"
   },
   {
    "duration": 125,
    "start_time": "2022-09-23T04:22:54.859Z"
   },
   {
    "duration": 11,
    "start_time": "2022-09-23T04:22:54.986Z"
   },
   {
    "duration": 16,
    "start_time": "2022-09-23T04:22:54.998Z"
   },
   {
    "duration": 13,
    "start_time": "2022-09-23T04:22:55.015Z"
   },
   {
    "duration": 4,
    "start_time": "2022-09-23T04:22:55.030Z"
   },
   {
    "duration": 10,
    "start_time": "2022-09-23T04:22:55.036Z"
   },
   {
    "duration": 8,
    "start_time": "2022-09-23T04:22:55.048Z"
   },
   {
    "duration": 49,
    "start_time": "2022-09-23T04:22:55.058Z"
   },
   {
    "duration": 15,
    "start_time": "2022-09-23T04:22:55.109Z"
   },
   {
    "duration": 301,
    "start_time": "2022-09-23T04:22:55.125Z"
   },
   {
    "duration": 230,
    "start_time": "2022-09-23T04:22:55.430Z"
   },
   {
    "duration": 6,
    "start_time": "2022-09-23T04:22:55.661Z"
   },
   {
    "duration": 5,
    "start_time": "2022-09-23T04:22:55.669Z"
   },
   {
    "duration": 32,
    "start_time": "2022-09-23T04:22:55.675Z"
   },
   {
    "duration": 17,
    "start_time": "2022-09-23T04:22:55.708Z"
   },
   {
    "duration": 14,
    "start_time": "2022-09-23T04:22:55.727Z"
   },
   {
    "duration": 10,
    "start_time": "2022-09-23T04:22:55.742Z"
   },
   {
    "duration": 0,
    "start_time": "2022-09-23T04:22:55.753Z"
   },
   {
    "duration": 0,
    "start_time": "2022-09-23T04:22:55.754Z"
   },
   {
    "duration": 0,
    "start_time": "2022-09-23T04:22:55.756Z"
   },
   {
    "duration": 0,
    "start_time": "2022-09-23T04:22:55.756Z"
   },
   {
    "duration": 0,
    "start_time": "2022-09-23T04:22:55.758Z"
   },
   {
    "duration": 0,
    "start_time": "2022-09-23T04:22:55.758Z"
   },
   {
    "duration": 14,
    "start_time": "2022-09-23T04:23:00.653Z"
   },
   {
    "duration": 12,
    "start_time": "2022-09-23T04:23:01.250Z"
   },
   {
    "duration": 7,
    "start_time": "2022-09-23T04:23:05.004Z"
   },
   {
    "duration": 7,
    "start_time": "2022-09-23T04:23:11.464Z"
   },
   {
    "duration": 1116,
    "start_time": "2022-09-23T04:25:45.574Z"
   },
   {
    "duration": 11,
    "start_time": "2022-09-23T04:25:59.034Z"
   },
   {
    "duration": 12,
    "start_time": "2022-09-23T04:26:16.535Z"
   },
   {
    "duration": 379,
    "start_time": "2022-09-23T04:26:21.237Z"
   },
   {
    "duration": 11,
    "start_time": "2022-09-23T04:26:42.455Z"
   },
   {
    "duration": 45,
    "start_time": "2022-09-23T04:26:43.038Z"
   },
   {
    "duration": 7,
    "start_time": "2022-09-23T04:26:49.521Z"
   },
   {
    "duration": 44,
    "start_time": "2022-09-23T04:26:55.867Z"
   },
   {
    "duration": 7,
    "start_time": "2022-09-23T04:27:38.746Z"
   },
   {
    "duration": 15,
    "start_time": "2022-09-23T04:28:20.233Z"
   },
   {
    "duration": 13,
    "start_time": "2022-09-23T04:28:20.593Z"
   },
   {
    "duration": 72,
    "start_time": "2022-09-23T04:29:32.161Z"
   },
   {
    "duration": 49,
    "start_time": "2022-09-23T04:29:37.176Z"
   },
   {
    "duration": 7,
    "start_time": "2022-09-23T04:29:53.252Z"
   },
   {
    "duration": 14,
    "start_time": "2022-09-23T04:30:48.230Z"
   },
   {
    "duration": 13,
    "start_time": "2022-09-23T04:30:48.619Z"
   },
   {
    "duration": 76,
    "start_time": "2022-09-23T04:30:50.384Z"
   },
   {
    "duration": 8,
    "start_time": "2022-09-23T04:31:00.950Z"
   },
   {
    "duration": 10,
    "start_time": "2022-09-23T04:31:06.060Z"
   },
   {
    "duration": 52,
    "start_time": "2022-09-23T04:31:11.025Z"
   },
   {
    "duration": 1312,
    "start_time": "2022-09-23T04:32:19.662Z"
   },
   {
    "duration": 598,
    "start_time": "2022-09-23T04:32:20.976Z"
   },
   {
    "duration": 24,
    "start_time": "2022-09-23T04:32:21.575Z"
   },
   {
    "duration": 21,
    "start_time": "2022-09-23T04:32:21.601Z"
   },
   {
    "duration": 12,
    "start_time": "2022-09-23T04:32:21.624Z"
   },
   {
    "duration": 29,
    "start_time": "2022-09-23T04:32:21.637Z"
   },
   {
    "duration": 44,
    "start_time": "2022-09-23T04:32:21.694Z"
   },
   {
    "duration": 25,
    "start_time": "2022-09-23T04:32:21.740Z"
   },
   {
    "duration": 33,
    "start_time": "2022-09-23T04:32:21.766Z"
   },
   {
    "duration": 19,
    "start_time": "2022-09-23T04:32:21.802Z"
   },
   {
    "duration": 6,
    "start_time": "2022-09-23T04:32:21.822Z"
   },
   {
    "duration": 8,
    "start_time": "2022-09-23T04:32:21.829Z"
   },
   {
    "duration": 17,
    "start_time": "2022-09-23T04:32:21.838Z"
   },
   {
    "duration": 39,
    "start_time": "2022-09-23T04:32:21.857Z"
   },
   {
    "duration": 8,
    "start_time": "2022-09-23T04:32:21.898Z"
   },
   {
    "duration": 161,
    "start_time": "2022-09-23T04:32:21.908Z"
   },
   {
    "duration": 6,
    "start_time": "2022-09-23T04:32:22.070Z"
   },
   {
    "duration": 28,
    "start_time": "2022-09-23T04:32:22.077Z"
   },
   {
    "duration": 5,
    "start_time": "2022-09-23T04:32:22.107Z"
   },
   {
    "duration": 6,
    "start_time": "2022-09-23T04:32:22.113Z"
   },
   {
    "duration": 7,
    "start_time": "2022-09-23T04:32:22.121Z"
   },
   {
    "duration": 15,
    "start_time": "2022-09-23T04:32:22.129Z"
   },
   {
    "duration": 4,
    "start_time": "2022-09-23T04:32:22.145Z"
   },
   {
    "duration": 53,
    "start_time": "2022-09-23T04:32:22.151Z"
   },
   {
    "duration": 9,
    "start_time": "2022-09-23T04:32:22.206Z"
   },
   {
    "duration": 21,
    "start_time": "2022-09-23T04:32:22.217Z"
   },
   {
    "duration": 5,
    "start_time": "2022-09-23T04:32:22.240Z"
   },
   {
    "duration": 89,
    "start_time": "2022-09-23T04:32:22.248Z"
   },
   {
    "duration": 7,
    "start_time": "2022-09-23T04:32:22.339Z"
   },
   {
    "duration": 5,
    "start_time": "2022-09-23T04:32:22.348Z"
   },
   {
    "duration": 144,
    "start_time": "2022-09-23T04:32:22.355Z"
   },
   {
    "duration": 3,
    "start_time": "2022-09-23T04:32:22.501Z"
   },
   {
    "duration": 16,
    "start_time": "2022-09-23T04:32:22.506Z"
   },
   {
    "duration": 13,
    "start_time": "2022-09-23T04:32:22.523Z"
   },
   {
    "duration": 5,
    "start_time": "2022-09-23T04:32:22.537Z"
   },
   {
    "duration": 20,
    "start_time": "2022-09-23T04:32:22.544Z"
   },
   {
    "duration": 33,
    "start_time": "2022-09-23T04:32:22.566Z"
   },
   {
    "duration": 18,
    "start_time": "2022-09-23T04:32:22.601Z"
   },
   {
    "duration": 16,
    "start_time": "2022-09-23T04:32:22.621Z"
   },
   {
    "duration": 333,
    "start_time": "2022-09-23T04:32:22.639Z"
   },
   {
    "duration": 230,
    "start_time": "2022-09-23T04:32:22.974Z"
   },
   {
    "duration": 6,
    "start_time": "2022-09-23T04:32:23.206Z"
   },
   {
    "duration": 26,
    "start_time": "2022-09-23T04:32:23.213Z"
   },
   {
    "duration": 31,
    "start_time": "2022-09-23T04:32:23.241Z"
   },
   {
    "duration": 17,
    "start_time": "2022-09-23T04:32:23.273Z"
   },
   {
    "duration": 15,
    "start_time": "2022-09-23T04:32:23.291Z"
   },
   {
    "duration": 11,
    "start_time": "2022-09-23T04:32:23.308Z"
   },
   {
    "duration": 0,
    "start_time": "2022-09-23T04:32:23.320Z"
   },
   {
    "duration": 0,
    "start_time": "2022-09-23T04:32:23.321Z"
   },
   {
    "duration": 0,
    "start_time": "2022-09-23T04:32:23.322Z"
   },
   {
    "duration": 0,
    "start_time": "2022-09-23T04:32:23.323Z"
   },
   {
    "duration": 18,
    "start_time": "2022-09-23T04:32:29.714Z"
   },
   {
    "duration": 15,
    "start_time": "2022-09-23T04:32:30.085Z"
   },
   {
    "duration": 404,
    "start_time": "2022-09-23T04:32:30.451Z"
   },
   {
    "duration": 108,
    "start_time": "2022-09-23T04:33:50.439Z"
   },
   {
    "duration": 132,
    "start_time": "2022-09-23T04:34:07.970Z"
   },
   {
    "duration": 51,
    "start_time": "2022-09-23T04:34:13.411Z"
   },
   {
    "duration": 46,
    "start_time": "2022-09-23T04:36:59.189Z"
   },
   {
    "duration": 78,
    "start_time": "2022-09-23T04:37:09.299Z"
   },
   {
    "duration": 78,
    "start_time": "2022-09-23T04:37:17.248Z"
   },
   {
    "duration": 12,
    "start_time": "2022-09-23T04:37:30.442Z"
   },
   {
    "duration": 8,
    "start_time": "2022-09-23T04:37:41.492Z"
   },
   {
    "duration": 11,
    "start_time": "2022-09-23T04:37:55.240Z"
   },
   {
    "duration": 64,
    "start_time": "2022-09-23T04:38:13.259Z"
   },
   {
    "duration": 10,
    "start_time": "2022-09-23T04:38:18.049Z"
   },
   {
    "duration": 12,
    "start_time": "2022-09-23T04:38:42.353Z"
   },
   {
    "duration": 11,
    "start_time": "2022-09-23T04:39:06.859Z"
   },
   {
    "duration": 11,
    "start_time": "2022-09-23T04:39:10.577Z"
   },
   {
    "duration": 11,
    "start_time": "2022-09-23T04:39:26.906Z"
   },
   {
    "duration": 11,
    "start_time": "2022-09-23T04:39:40.611Z"
   },
   {
    "duration": 11,
    "start_time": "2022-09-23T04:39:51.400Z"
   },
   {
    "duration": 8,
    "start_time": "2022-09-23T04:40:44.275Z"
   },
   {
    "duration": 10,
    "start_time": "2022-09-23T04:40:59.188Z"
   },
   {
    "duration": 13,
    "start_time": "2022-09-23T04:42:15.122Z"
   },
   {
    "duration": 5,
    "start_time": "2022-09-23T04:42:29.931Z"
   },
   {
    "duration": 8,
    "start_time": "2022-09-23T04:42:33.047Z"
   },
   {
    "duration": 10,
    "start_time": "2022-09-23T04:42:59.480Z"
   },
   {
    "duration": 10,
    "start_time": "2022-09-23T04:43:01.903Z"
   },
   {
    "duration": 11,
    "start_time": "2022-09-23T04:43:02.867Z"
   },
   {
    "duration": 1258,
    "start_time": "2022-09-23T04:43:15.509Z"
   },
   {
    "duration": 605,
    "start_time": "2022-09-23T04:43:16.769Z"
   },
   {
    "duration": 22,
    "start_time": "2022-09-23T04:43:17.376Z"
   },
   {
    "duration": 22,
    "start_time": "2022-09-23T04:43:17.400Z"
   },
   {
    "duration": 11,
    "start_time": "2022-09-23T04:43:17.424Z"
   },
   {
    "duration": 26,
    "start_time": "2022-09-23T04:43:17.437Z"
   },
   {
    "duration": 70,
    "start_time": "2022-09-23T04:43:17.464Z"
   },
   {
    "duration": 24,
    "start_time": "2022-09-23T04:43:17.536Z"
   },
   {
    "duration": 12,
    "start_time": "2022-09-23T04:43:17.562Z"
   },
   {
    "duration": 16,
    "start_time": "2022-09-23T04:43:17.595Z"
   },
   {
    "duration": 5,
    "start_time": "2022-09-23T04:43:17.612Z"
   },
   {
    "duration": 5,
    "start_time": "2022-09-23T04:43:17.618Z"
   },
   {
    "duration": 13,
    "start_time": "2022-09-23T04:43:17.624Z"
   },
   {
    "duration": 14,
    "start_time": "2022-09-23T04:43:17.640Z"
   },
   {
    "duration": 40,
    "start_time": "2022-09-23T04:43:17.656Z"
   },
   {
    "duration": 155,
    "start_time": "2022-09-23T04:43:17.698Z"
   },
   {
    "duration": 6,
    "start_time": "2022-09-23T04:43:17.855Z"
   },
   {
    "duration": 20,
    "start_time": "2022-09-23T04:43:17.862Z"
   },
   {
    "duration": 5,
    "start_time": "2022-09-23T04:43:17.895Z"
   },
   {
    "duration": 7,
    "start_time": "2022-09-23T04:43:17.902Z"
   },
   {
    "duration": 18,
    "start_time": "2022-09-23T04:43:17.911Z"
   },
   {
    "duration": 14,
    "start_time": "2022-09-23T04:43:17.931Z"
   },
   {
    "duration": 4,
    "start_time": "2022-09-23T04:43:17.946Z"
   },
   {
    "duration": 29,
    "start_time": "2022-09-23T04:43:17.951Z"
   },
   {
    "duration": 19,
    "start_time": "2022-09-23T04:43:17.982Z"
   },
   {
    "duration": 21,
    "start_time": "2022-09-23T04:43:18.003Z"
   },
   {
    "duration": 6,
    "start_time": "2022-09-23T04:43:18.025Z"
   },
   {
    "duration": 94,
    "start_time": "2022-09-23T04:43:18.032Z"
   },
   {
    "duration": 6,
    "start_time": "2022-09-23T04:43:18.128Z"
   },
   {
    "duration": 4,
    "start_time": "2022-09-23T04:43:18.136Z"
   },
   {
    "duration": 136,
    "start_time": "2022-09-23T04:43:18.141Z"
   },
   {
    "duration": 4,
    "start_time": "2022-09-23T04:43:18.278Z"
   },
   {
    "duration": 13,
    "start_time": "2022-09-23T04:43:18.295Z"
   },
   {
    "duration": 13,
    "start_time": "2022-09-23T04:43:18.310Z"
   },
   {
    "duration": 6,
    "start_time": "2022-09-23T04:43:18.325Z"
   },
   {
    "duration": 9,
    "start_time": "2022-09-23T04:43:18.333Z"
   },
   {
    "duration": 10,
    "start_time": "2022-09-23T04:43:18.344Z"
   },
   {
    "duration": 56,
    "start_time": "2022-09-23T04:43:18.355Z"
   },
   {
    "duration": 16,
    "start_time": "2022-09-23T04:43:18.413Z"
   },
   {
    "duration": 308,
    "start_time": "2022-09-23T04:43:18.431Z"
   },
   {
    "duration": 225,
    "start_time": "2022-09-23T04:43:18.744Z"
   },
   {
    "duration": 7,
    "start_time": "2022-09-23T04:43:18.971Z"
   },
   {
    "duration": 18,
    "start_time": "2022-09-23T04:43:18.980Z"
   },
   {
    "duration": 14,
    "start_time": "2022-09-23T04:43:19.000Z"
   },
   {
    "duration": 12,
    "start_time": "2022-09-23T04:43:19.016Z"
   },
   {
    "duration": 11,
    "start_time": "2022-09-23T04:43:19.030Z"
   },
   {
    "duration": 13,
    "start_time": "2022-09-23T04:43:19.043Z"
   },
   {
    "duration": 44,
    "start_time": "2022-09-23T04:43:19.057Z"
   },
   {
    "duration": 383,
    "start_time": "2022-09-23T04:43:19.103Z"
   },
   {
    "duration": 11,
    "start_time": "2022-09-23T04:43:19.488Z"
   },
   {
    "duration": 11,
    "start_time": "2022-09-23T04:43:19.500Z"
   },
   {
    "duration": 73,
    "start_time": "2022-09-23T04:44:27.902Z"
   },
   {
    "duration": 10,
    "start_time": "2022-09-23T04:44:28.991Z"
   },
   {
    "duration": 10,
    "start_time": "2022-09-23T04:44:31.160Z"
   },
   {
    "duration": 9,
    "start_time": "2022-09-23T04:44:31.760Z"
   },
   {
    "duration": 1270,
    "start_time": "2022-09-23T04:44:38.013Z"
   },
   {
    "duration": 587,
    "start_time": "2022-09-23T04:44:39.285Z"
   },
   {
    "duration": 22,
    "start_time": "2022-09-23T04:44:39.874Z"
   },
   {
    "duration": 21,
    "start_time": "2022-09-23T04:44:39.898Z"
   },
   {
    "duration": 12,
    "start_time": "2022-09-23T04:44:39.920Z"
   },
   {
    "duration": 26,
    "start_time": "2022-09-23T04:44:39.934Z"
   },
   {
    "duration": 71,
    "start_time": "2022-09-23T04:44:39.962Z"
   },
   {
    "duration": 25,
    "start_time": "2022-09-23T04:44:40.035Z"
   },
   {
    "duration": 33,
    "start_time": "2022-09-23T04:44:40.062Z"
   },
   {
    "duration": 20,
    "start_time": "2022-09-23T04:44:40.098Z"
   },
   {
    "duration": 5,
    "start_time": "2022-09-23T04:44:40.120Z"
   },
   {
    "duration": 12,
    "start_time": "2022-09-23T04:44:40.126Z"
   },
   {
    "duration": 17,
    "start_time": "2022-09-23T04:44:40.140Z"
   },
   {
    "duration": 17,
    "start_time": "2022-09-23T04:44:40.159Z"
   },
   {
    "duration": 9,
    "start_time": "2022-09-23T04:44:40.196Z"
   },
   {
    "duration": 158,
    "start_time": "2022-09-23T04:44:40.207Z"
   },
   {
    "duration": 7,
    "start_time": "2022-09-23T04:44:40.367Z"
   },
   {
    "duration": 28,
    "start_time": "2022-09-23T04:44:40.376Z"
   },
   {
    "duration": 5,
    "start_time": "2022-09-23T04:44:40.406Z"
   },
   {
    "duration": 10,
    "start_time": "2022-09-23T04:44:40.413Z"
   },
   {
    "duration": 7,
    "start_time": "2022-09-23T04:44:40.425Z"
   },
   {
    "duration": 13,
    "start_time": "2022-09-23T04:44:40.433Z"
   },
   {
    "duration": 4,
    "start_time": "2022-09-23T04:44:40.448Z"
   },
   {
    "duration": 52,
    "start_time": "2022-09-23T04:44:40.454Z"
   },
   {
    "duration": 9,
    "start_time": "2022-09-23T04:44:40.508Z"
   },
   {
    "duration": 19,
    "start_time": "2022-09-23T04:44:40.519Z"
   },
   {
    "duration": 5,
    "start_time": "2022-09-23T04:44:40.540Z"
   },
   {
    "duration": 94,
    "start_time": "2022-09-23T04:44:40.548Z"
   },
   {
    "duration": 7,
    "start_time": "2022-09-23T04:44:40.644Z"
   },
   {
    "duration": 8,
    "start_time": "2022-09-23T04:44:40.652Z"
   },
   {
    "duration": 129,
    "start_time": "2022-09-23T04:44:40.663Z"
   },
   {
    "duration": 3,
    "start_time": "2022-09-23T04:44:40.795Z"
   },
   {
    "duration": 20,
    "start_time": "2022-09-23T04:44:40.799Z"
   },
   {
    "duration": 14,
    "start_time": "2022-09-23T04:44:40.821Z"
   },
   {
    "duration": 5,
    "start_time": "2022-09-23T04:44:40.837Z"
   },
   {
    "duration": 11,
    "start_time": "2022-09-23T04:44:40.844Z"
   },
   {
    "duration": 40,
    "start_time": "2022-09-23T04:44:40.856Z"
   },
   {
    "duration": 19,
    "start_time": "2022-09-23T04:44:40.898Z"
   },
   {
    "duration": 16,
    "start_time": "2022-09-23T04:44:40.919Z"
   },
   {
    "duration": 302,
    "start_time": "2022-09-23T04:44:40.937Z"
   },
   {
    "duration": 217,
    "start_time": "2022-09-23T04:44:41.241Z"
   },
   {
    "duration": 7,
    "start_time": "2022-09-23T04:44:41.460Z"
   },
   {
    "duration": 10,
    "start_time": "2022-09-23T04:44:41.469Z"
   },
   {
    "duration": 13,
    "start_time": "2022-09-23T04:44:41.496Z"
   },
   {
    "duration": 13,
    "start_time": "2022-09-23T04:44:41.511Z"
   },
   {
    "duration": 12,
    "start_time": "2022-09-23T04:44:41.526Z"
   },
   {
    "duration": 16,
    "start_time": "2022-09-23T04:44:41.540Z"
   },
   {
    "duration": 44,
    "start_time": "2022-09-23T04:44:41.557Z"
   },
   {
    "duration": 383,
    "start_time": "2022-09-23T04:44:41.603Z"
   },
   {
    "duration": 12,
    "start_time": "2022-09-23T04:44:41.987Z"
   },
   {
    "duration": 12,
    "start_time": "2022-09-23T04:44:42.000Z"
   },
   {
    "duration": 9,
    "start_time": "2022-09-23T04:45:02.126Z"
   },
   {
    "duration": 1270,
    "start_time": "2022-09-23T04:45:33.594Z"
   },
   {
    "duration": 592,
    "start_time": "2022-09-23T04:45:34.866Z"
   },
   {
    "duration": 22,
    "start_time": "2022-09-23T04:45:35.460Z"
   },
   {
    "duration": 22,
    "start_time": "2022-09-23T04:45:35.483Z"
   },
   {
    "duration": 11,
    "start_time": "2022-09-23T04:45:35.507Z"
   },
   {
    "duration": 29,
    "start_time": "2022-09-23T04:45:35.519Z"
   },
   {
    "duration": 68,
    "start_time": "2022-09-23T04:45:35.549Z"
   },
   {
    "duration": 25,
    "start_time": "2022-09-23T04:45:35.619Z"
   },
   {
    "duration": 13,
    "start_time": "2022-09-23T04:45:35.645Z"
   },
   {
    "duration": 39,
    "start_time": "2022-09-23T04:45:35.659Z"
   },
   {
    "duration": 4,
    "start_time": "2022-09-23T04:45:35.700Z"
   },
   {
    "duration": 10,
    "start_time": "2022-09-23T04:45:35.706Z"
   },
   {
    "duration": 12,
    "start_time": "2022-09-23T04:45:35.717Z"
   },
   {
    "duration": 14,
    "start_time": "2022-09-23T04:45:35.732Z"
   },
   {
    "duration": 7,
    "start_time": "2022-09-23T04:45:35.748Z"
   },
   {
    "duration": 167,
    "start_time": "2022-09-23T04:45:35.757Z"
   },
   {
    "duration": 5,
    "start_time": "2022-09-23T04:45:35.926Z"
   },
   {
    "duration": 25,
    "start_time": "2022-09-23T04:45:35.933Z"
   },
   {
    "duration": 5,
    "start_time": "2022-09-23T04:45:35.960Z"
   },
   {
    "duration": 9,
    "start_time": "2022-09-23T04:45:35.966Z"
   },
   {
    "duration": 22,
    "start_time": "2022-09-23T04:45:35.977Z"
   },
   {
    "duration": 14,
    "start_time": "2022-09-23T04:45:36.001Z"
   },
   {
    "duration": 5,
    "start_time": "2022-09-23T04:45:36.017Z"
   },
   {
    "duration": 34,
    "start_time": "2022-09-23T04:45:36.024Z"
   },
   {
    "duration": 9,
    "start_time": "2022-09-23T04:45:36.060Z"
   },
   {
    "duration": 39,
    "start_time": "2022-09-23T04:45:36.071Z"
   },
   {
    "duration": 5,
    "start_time": "2022-09-23T04:45:36.112Z"
   },
   {
    "duration": 55,
    "start_time": "2022-09-23T04:45:36.118Z"
   },
   {
    "duration": 24,
    "start_time": "2022-09-23T04:45:36.175Z"
   },
   {
    "duration": 9,
    "start_time": "2022-09-23T04:45:36.201Z"
   },
   {
    "duration": 123,
    "start_time": "2022-09-23T04:45:36.212Z"
   },
   {
    "duration": 4,
    "start_time": "2022-09-23T04:45:36.337Z"
   },
   {
    "duration": 14,
    "start_time": "2022-09-23T04:45:36.342Z"
   },
   {
    "duration": 15,
    "start_time": "2022-09-23T04:45:36.358Z"
   },
   {
    "duration": 22,
    "start_time": "2022-09-23T04:45:36.374Z"
   },
   {
    "duration": 16,
    "start_time": "2022-09-23T04:45:36.398Z"
   },
   {
    "duration": 9,
    "start_time": "2022-09-23T04:45:36.416Z"
   },
   {
    "duration": 18,
    "start_time": "2022-09-23T04:45:36.427Z"
   },
   {
    "duration": 16,
    "start_time": "2022-09-23T04:45:36.446Z"
   },
   {
    "duration": 312,
    "start_time": "2022-09-23T04:45:36.464Z"
   },
   {
    "duration": 225,
    "start_time": "2022-09-23T04:45:36.779Z"
   },
   {
    "duration": 6,
    "start_time": "2022-09-23T04:45:37.006Z"
   },
   {
    "duration": 10,
    "start_time": "2022-09-23T04:45:37.013Z"
   },
   {
    "duration": 18,
    "start_time": "2022-09-23T04:45:37.024Z"
   },
   {
    "duration": 14,
    "start_time": "2022-09-23T04:45:37.044Z"
   },
   {
    "duration": 43,
    "start_time": "2022-09-23T04:45:37.059Z"
   },
   {
    "duration": 16,
    "start_time": "2022-09-23T04:45:37.104Z"
   },
   {
    "duration": 12,
    "start_time": "2022-09-23T04:45:37.122Z"
   },
   {
    "duration": 404,
    "start_time": "2022-09-23T04:45:37.136Z"
   },
   {
    "duration": 8,
    "start_time": "2022-09-23T04:45:37.542Z"
   },
   {
    "duration": 51,
    "start_time": "2022-09-23T04:45:37.551Z"
   },
   {
    "duration": 9,
    "start_time": "2022-09-23T04:46:00.583Z"
   },
   {
    "duration": 1264,
    "start_time": "2022-09-23T04:46:06.808Z"
   },
   {
    "duration": 590,
    "start_time": "2022-09-23T04:46:08.074Z"
   },
   {
    "duration": 23,
    "start_time": "2022-09-23T04:46:08.665Z"
   },
   {
    "duration": 22,
    "start_time": "2022-09-23T04:46:08.690Z"
   },
   {
    "duration": 12,
    "start_time": "2022-09-23T04:46:08.714Z"
   },
   {
    "duration": 28,
    "start_time": "2022-09-23T04:46:08.728Z"
   },
   {
    "duration": 73,
    "start_time": "2022-09-23T04:46:08.757Z"
   },
   {
    "duration": 23,
    "start_time": "2022-09-23T04:46:08.832Z"
   },
   {
    "duration": 11,
    "start_time": "2022-09-23T04:46:08.857Z"
   },
   {
    "duration": 34,
    "start_time": "2022-09-23T04:46:08.870Z"
   },
   {
    "duration": 4,
    "start_time": "2022-09-23T04:46:08.906Z"
   },
   {
    "duration": 6,
    "start_time": "2022-09-23T04:46:08.911Z"
   },
   {
    "duration": 12,
    "start_time": "2022-09-23T04:46:08.919Z"
   },
   {
    "duration": 13,
    "start_time": "2022-09-23T04:46:08.933Z"
   },
   {
    "duration": 7,
    "start_time": "2022-09-23T04:46:08.948Z"
   },
   {
    "duration": 174,
    "start_time": "2022-09-23T04:46:08.957Z"
   },
   {
    "duration": 7,
    "start_time": "2022-09-23T04:46:09.133Z"
   },
   {
    "duration": 22,
    "start_time": "2022-09-23T04:46:09.142Z"
   },
   {
    "duration": 5,
    "start_time": "2022-09-23T04:46:09.166Z"
   },
   {
    "duration": 5,
    "start_time": "2022-09-23T04:46:09.196Z"
   },
   {
    "duration": 5,
    "start_time": "2022-09-23T04:46:09.203Z"
   },
   {
    "duration": 11,
    "start_time": "2022-09-23T04:46:09.210Z"
   },
   {
    "duration": 4,
    "start_time": "2022-09-23T04:46:09.223Z"
   },
   {
    "duration": 30,
    "start_time": "2022-09-23T04:46:09.228Z"
   },
   {
    "duration": 43,
    "start_time": "2022-09-23T04:46:09.260Z"
   },
   {
    "duration": 19,
    "start_time": "2022-09-23T04:46:09.305Z"
   },
   {
    "duration": 5,
    "start_time": "2022-09-23T04:46:09.326Z"
   },
   {
    "duration": 88,
    "start_time": "2022-09-23T04:46:09.332Z"
   },
   {
    "duration": 6,
    "start_time": "2022-09-23T04:46:09.422Z"
   },
   {
    "duration": 8,
    "start_time": "2022-09-23T04:46:09.429Z"
   },
   {
    "duration": 129,
    "start_time": "2022-09-23T04:46:09.438Z"
   },
   {
    "duration": 3,
    "start_time": "2022-09-23T04:46:09.569Z"
   },
   {
    "duration": 22,
    "start_time": "2022-09-23T04:46:09.574Z"
   },
   {
    "duration": 12,
    "start_time": "2022-09-23T04:46:09.597Z"
   },
   {
    "duration": 5,
    "start_time": "2022-09-23T04:46:09.610Z"
   },
   {
    "duration": 11,
    "start_time": "2022-09-23T04:46:09.616Z"
   },
   {
    "duration": 7,
    "start_time": "2022-09-23T04:46:09.629Z"
   },
   {
    "duration": 17,
    "start_time": "2022-09-23T04:46:09.638Z"
   },
   {
    "duration": 45,
    "start_time": "2022-09-23T04:46:09.656Z"
   },
   {
    "duration": 293,
    "start_time": "2022-09-23T04:46:09.702Z"
   },
   {
    "duration": 207,
    "start_time": "2022-09-23T04:46:09.998Z"
   },
   {
    "duration": 5,
    "start_time": "2022-09-23T04:46:10.207Z"
   },
   {
    "duration": 6,
    "start_time": "2022-09-23T04:46:10.214Z"
   },
   {
    "duration": 19,
    "start_time": "2022-09-23T04:46:10.221Z"
   },
   {
    "duration": 13,
    "start_time": "2022-09-23T04:46:10.242Z"
   },
   {
    "duration": 41,
    "start_time": "2022-09-23T04:46:10.257Z"
   },
   {
    "duration": 16,
    "start_time": "2022-09-23T04:46:10.301Z"
   },
   {
    "duration": 12,
    "start_time": "2022-09-23T04:46:10.319Z"
   },
   {
    "duration": 394,
    "start_time": "2022-09-23T04:46:10.333Z"
   },
   {
    "duration": 8,
    "start_time": "2022-09-23T04:46:10.728Z"
   },
   {
    "duration": 13,
    "start_time": "2022-09-23T04:46:10.738Z"
   },
   {
    "duration": 73,
    "start_time": "2022-09-23T04:50:09.662Z"
   },
   {
    "duration": 69,
    "start_time": "2022-09-23T04:50:13.566Z"
   },
   {
    "duration": 64,
    "start_time": "2022-09-23T04:50:19.838Z"
   },
   {
    "duration": 62,
    "start_time": "2022-09-23T04:51:43.139Z"
   },
   {
    "duration": 46,
    "start_time": "2022-09-23T04:52:25.880Z"
   },
   {
    "duration": 17,
    "start_time": "2022-09-23T04:53:01.824Z"
   },
   {
    "duration": 11,
    "start_time": "2022-09-23T04:53:11.772Z"
   },
   {
    "duration": 4,
    "start_time": "2022-09-23T04:53:57.757Z"
   },
   {
    "duration": 11,
    "start_time": "2022-09-23T04:54:00.352Z"
   },
   {
    "duration": 10,
    "start_time": "2022-09-23T04:55:33.234Z"
   },
   {
    "duration": 10,
    "start_time": "2022-09-23T04:56:48.092Z"
   },
   {
    "duration": 10,
    "start_time": "2022-09-23T04:57:13.386Z"
   },
   {
    "duration": 17,
    "start_time": "2022-09-23T04:57:34.825Z"
   },
   {
    "duration": 11,
    "start_time": "2022-09-23T04:57:48.199Z"
   },
   {
    "duration": 13,
    "start_time": "2022-09-23T04:58:00.866Z"
   },
   {
    "duration": 12,
    "start_time": "2022-09-23T04:58:05.205Z"
   },
   {
    "duration": 13,
    "start_time": "2022-09-23T04:58:07.190Z"
   },
   {
    "duration": 13,
    "start_time": "2022-09-23T04:58:09.522Z"
   },
   {
    "duration": 13,
    "start_time": "2022-09-23T04:58:11.402Z"
   },
   {
    "duration": 13,
    "start_time": "2022-09-23T04:58:13.227Z"
   },
   {
    "duration": 14,
    "start_time": "2022-09-23T04:58:15.964Z"
   },
   {
    "duration": 12,
    "start_time": "2022-09-23T04:58:18.442Z"
   },
   {
    "duration": 13,
    "start_time": "2022-09-23T04:58:21.030Z"
   },
   {
    "duration": 6,
    "start_time": "2022-09-23T05:19:18.280Z"
   },
   {
    "duration": 8,
    "start_time": "2022-09-23T05:26:37.421Z"
   },
   {
    "duration": 16,
    "start_time": "2022-09-23T05:26:50.927Z"
   },
   {
    "duration": 8,
    "start_time": "2022-09-23T05:26:56.560Z"
   },
   {
    "duration": 7,
    "start_time": "2022-09-23T05:26:57.926Z"
   },
   {
    "duration": 16,
    "start_time": "2022-09-23T05:27:15.597Z"
   },
   {
    "duration": 14,
    "start_time": "2022-09-23T05:27:15.766Z"
   },
   {
    "duration": 8,
    "start_time": "2022-09-23T05:27:17.334Z"
   },
   {
    "duration": 8,
    "start_time": "2022-09-23T05:27:18.056Z"
   },
   {
    "duration": 12,
    "start_time": "2022-09-23T05:27:55.754Z"
   },
   {
    "duration": 3,
    "start_time": "2022-09-23T05:28:02.119Z"
   },
   {
    "duration": 4,
    "start_time": "2022-09-23T05:28:05.290Z"
   },
   {
    "duration": 10,
    "start_time": "2022-09-23T05:28:29.584Z"
   },
   {
    "duration": 5,
    "start_time": "2022-09-23T05:28:32.877Z"
   },
   {
    "duration": 3,
    "start_time": "2022-09-23T05:28:37.193Z"
   },
   {
    "duration": 6,
    "start_time": "2022-09-23T05:29:16.976Z"
   },
   {
    "duration": 6,
    "start_time": "2022-09-23T05:29:19.460Z"
   },
   {
    "duration": 11,
    "start_time": "2022-09-23T05:29:51.580Z"
   },
   {
    "duration": 17,
    "start_time": "2022-09-23T05:30:05.714Z"
   },
   {
    "duration": 17,
    "start_time": "2022-09-23T05:30:13.916Z"
   },
   {
    "duration": 15,
    "start_time": "2022-09-23T05:30:21.220Z"
   },
   {
    "duration": 15,
    "start_time": "2022-09-23T05:30:27.376Z"
   },
   {
    "duration": 4,
    "start_time": "2022-09-23T05:30:29.890Z"
   },
   {
    "duration": 8,
    "start_time": "2022-09-23T05:30:32.141Z"
   },
   {
    "duration": 4,
    "start_time": "2022-09-23T05:30:53.266Z"
   },
   {
    "duration": 7,
    "start_time": "2022-09-23T05:30:53.526Z"
   },
   {
    "duration": 3,
    "start_time": "2022-09-23T05:31:08.539Z"
   },
   {
    "duration": 7,
    "start_time": "2022-09-23T05:31:13.035Z"
   },
   {
    "duration": 19,
    "start_time": "2022-09-23T05:32:07.187Z"
   },
   {
    "duration": 10,
    "start_time": "2022-09-23T05:32:18.727Z"
   },
   {
    "duration": 6,
    "start_time": "2022-09-23T05:32:34.899Z"
   },
   {
    "duration": 6,
    "start_time": "2022-09-23T05:32:51.693Z"
   },
   {
    "duration": 4,
    "start_time": "2022-09-23T05:32:53.654Z"
   },
   {
    "duration": 9,
    "start_time": "2022-09-23T05:32:57.216Z"
   },
   {
    "duration": 4,
    "start_time": "2022-09-23T05:33:32.071Z"
   },
   {
    "duration": 9,
    "start_time": "2022-09-23T05:33:32.976Z"
   },
   {
    "duration": 4,
    "start_time": "2022-09-23T05:33:38.180Z"
   },
   {
    "duration": 8,
    "start_time": "2022-09-23T05:33:39.318Z"
   },
   {
    "duration": 4,
    "start_time": "2022-09-23T05:33:43.743Z"
   },
   {
    "duration": 8,
    "start_time": "2022-09-23T05:33:44.339Z"
   },
   {
    "duration": 11,
    "start_time": "2022-09-23T05:44:40.513Z"
   },
   {
    "duration": 5,
    "start_time": "2022-09-23T05:45:38.470Z"
   },
   {
    "duration": 18,
    "start_time": "2022-09-23T05:45:38.819Z"
   },
   {
    "duration": 7,
    "start_time": "2022-09-23T05:45:45.840Z"
   },
   {
    "duration": 18,
    "start_time": "2022-09-23T05:46:02.080Z"
   },
   {
    "duration": 5,
    "start_time": "2022-09-23T05:46:10.611Z"
   },
   {
    "duration": 5,
    "start_time": "2022-09-23T05:46:15.847Z"
   },
   {
    "duration": 9,
    "start_time": "2022-09-23T06:01:12.719Z"
   },
   {
    "duration": 7,
    "start_time": "2022-09-23T06:01:23.487Z"
   },
   {
    "duration": 4,
    "start_time": "2022-09-23T06:01:37.459Z"
   },
   {
    "duration": 3,
    "start_time": "2022-09-23T06:01:58.220Z"
   },
   {
    "duration": 5,
    "start_time": "2022-09-23T06:02:36.699Z"
   },
   {
    "duration": 10,
    "start_time": "2022-09-23T06:03:21.733Z"
   },
   {
    "duration": 5,
    "start_time": "2022-09-23T06:03:23.306Z"
   },
   {
    "duration": 15,
    "start_time": "2022-09-23T06:03:24.626Z"
   },
   {
    "duration": 1270,
    "start_time": "2022-09-23T06:04:00.120Z"
   },
   {
    "duration": 597,
    "start_time": "2022-09-23T06:04:01.396Z"
   },
   {
    "duration": 23,
    "start_time": "2022-09-23T06:04:01.995Z"
   },
   {
    "duration": 22,
    "start_time": "2022-09-23T06:04:02.020Z"
   },
   {
    "duration": 11,
    "start_time": "2022-09-23T06:04:02.044Z"
   },
   {
    "duration": 58,
    "start_time": "2022-09-23T06:04:02.057Z"
   },
   {
    "duration": 45,
    "start_time": "2022-09-23T06:04:02.116Z"
   },
   {
    "duration": 48,
    "start_time": "2022-09-23T06:04:02.163Z"
   },
   {
    "duration": 14,
    "start_time": "2022-09-23T06:04:02.213Z"
   },
   {
    "duration": 22,
    "start_time": "2022-09-23T06:04:02.231Z"
   },
   {
    "duration": 5,
    "start_time": "2022-09-23T06:04:02.255Z"
   },
   {
    "duration": 11,
    "start_time": "2022-09-23T06:04:02.261Z"
   },
   {
    "duration": 12,
    "start_time": "2022-09-23T06:04:02.295Z"
   },
   {
    "duration": 16,
    "start_time": "2022-09-23T06:04:02.309Z"
   },
   {
    "duration": 9,
    "start_time": "2022-09-23T06:04:02.326Z"
   },
   {
    "duration": 167,
    "start_time": "2022-09-23T06:04:02.336Z"
   },
   {
    "duration": 5,
    "start_time": "2022-09-23T06:04:02.504Z"
   },
   {
    "duration": 26,
    "start_time": "2022-09-23T06:04:02.511Z"
   },
   {
    "duration": 17,
    "start_time": "2022-09-23T06:04:02.539Z"
   },
   {
    "duration": 16,
    "start_time": "2022-09-23T06:04:02.557Z"
   },
   {
    "duration": 25,
    "start_time": "2022-09-23T06:04:02.574Z"
   },
   {
    "duration": 35,
    "start_time": "2022-09-23T06:04:02.601Z"
   },
   {
    "duration": 14,
    "start_time": "2022-09-23T06:04:02.638Z"
   },
   {
    "duration": 58,
    "start_time": "2022-09-23T06:04:02.653Z"
   },
   {
    "duration": 8,
    "start_time": "2022-09-23T06:04:02.713Z"
   },
   {
    "duration": 32,
    "start_time": "2022-09-23T06:04:02.723Z"
   },
   {
    "duration": 11,
    "start_time": "2022-09-23T06:04:02.757Z"
   },
   {
    "duration": 88,
    "start_time": "2022-09-23T06:04:02.772Z"
   },
   {
    "duration": 8,
    "start_time": "2022-09-23T06:04:02.861Z"
   },
   {
    "duration": 20,
    "start_time": "2022-09-23T06:04:02.871Z"
   },
   {
    "duration": 138,
    "start_time": "2022-09-23T06:04:02.893Z"
   },
   {
    "duration": 4,
    "start_time": "2022-09-23T06:04:03.032Z"
   },
   {
    "duration": 21,
    "start_time": "2022-09-23T06:04:03.038Z"
   },
   {
    "duration": 19,
    "start_time": "2022-09-23T06:04:03.061Z"
   },
   {
    "duration": 11,
    "start_time": "2022-09-23T06:04:03.081Z"
   },
   {
    "duration": 22,
    "start_time": "2022-09-23T06:04:03.093Z"
   },
   {
    "duration": 10,
    "start_time": "2022-09-23T06:04:03.117Z"
   },
   {
    "duration": 31,
    "start_time": "2022-09-23T06:04:03.130Z"
   },
   {
    "duration": 18,
    "start_time": "2022-09-23T06:04:03.162Z"
   },
   {
    "duration": 293,
    "start_time": "2022-09-23T06:04:03.181Z"
   },
   {
    "duration": 220,
    "start_time": "2022-09-23T06:04:03.476Z"
   },
   {
    "duration": 6,
    "start_time": "2022-09-23T06:04:03.698Z"
   },
   {
    "duration": 12,
    "start_time": "2022-09-23T06:04:03.706Z"
   },
   {
    "duration": 21,
    "start_time": "2022-09-23T06:04:03.720Z"
   },
   {
    "duration": 18,
    "start_time": "2022-09-23T06:04:03.743Z"
   },
   {
    "duration": 20,
    "start_time": "2022-09-23T06:04:03.762Z"
   },
   {
    "duration": 23,
    "start_time": "2022-09-23T06:04:03.784Z"
   },
   {
    "duration": 19,
    "start_time": "2022-09-23T06:04:03.808Z"
   },
   {
    "duration": 206,
    "start_time": "2022-09-23T06:04:03.828Z"
   },
   {
    "duration": 6,
    "start_time": "2022-09-23T06:04:04.036Z"
   },
   {
    "duration": 17,
    "start_time": "2022-09-23T06:04:04.044Z"
   },
   {
    "duration": 35,
    "start_time": "2022-09-23T06:04:04.062Z"
   },
   {
    "duration": 13,
    "start_time": "2022-09-23T06:04:04.099Z"
   },
   {
    "duration": 21,
    "start_time": "2022-09-23T06:04:04.113Z"
   },
   {
    "duration": 13,
    "start_time": "2022-09-23T06:04:04.136Z"
   },
   {
    "duration": 17,
    "start_time": "2022-09-23T06:04:04.150Z"
   },
   {
    "duration": 16,
    "start_time": "2022-09-23T06:04:04.169Z"
   },
   {
    "duration": 7,
    "start_time": "2022-09-23T06:04:04.195Z"
   },
   {
    "duration": 9,
    "start_time": "2022-09-23T06:05:20.458Z"
   },
   {
    "duration": 1419,
    "start_time": "2022-09-23T06:54:14.710Z"
   },
   {
    "duration": 957,
    "start_time": "2022-09-23T06:54:16.131Z"
   },
   {
    "duration": 21,
    "start_time": "2022-09-23T06:54:17.090Z"
   },
   {
    "duration": 20,
    "start_time": "2022-09-23T06:54:17.114Z"
   },
   {
    "duration": 10,
    "start_time": "2022-09-23T06:54:17.136Z"
   },
   {
    "duration": 27,
    "start_time": "2022-09-23T06:54:17.147Z"
   },
   {
    "duration": 61,
    "start_time": "2022-09-23T06:54:17.176Z"
   },
   {
    "duration": 21,
    "start_time": "2022-09-23T06:54:17.239Z"
   },
   {
    "duration": 10,
    "start_time": "2022-09-23T06:54:17.261Z"
   },
   {
    "duration": 32,
    "start_time": "2022-09-23T06:54:17.273Z"
   },
   {
    "duration": 9,
    "start_time": "2022-09-23T06:54:17.306Z"
   },
   {
    "duration": 10,
    "start_time": "2022-09-23T06:54:17.316Z"
   },
   {
    "duration": 22,
    "start_time": "2022-09-23T06:54:17.327Z"
   },
   {
    "duration": 13,
    "start_time": "2022-09-23T06:54:17.351Z"
   },
   {
    "duration": 6,
    "start_time": "2022-09-23T06:54:17.366Z"
   },
   {
    "duration": 135,
    "start_time": "2022-09-23T06:54:17.374Z"
   },
   {
    "duration": 5,
    "start_time": "2022-09-23T06:54:17.511Z"
   },
   {
    "duration": 52,
    "start_time": "2022-09-23T06:54:17.517Z"
   },
   {
    "duration": 11,
    "start_time": "2022-09-23T06:54:17.570Z"
   },
   {
    "duration": 13,
    "start_time": "2022-09-23T06:54:17.582Z"
   },
   {
    "duration": 20,
    "start_time": "2022-09-23T06:54:17.597Z"
   },
   {
    "duration": 16,
    "start_time": "2022-09-23T06:54:17.619Z"
   },
   {
    "duration": 18,
    "start_time": "2022-09-23T06:54:17.637Z"
   },
   {
    "duration": 31,
    "start_time": "2022-09-23T06:54:17.656Z"
   },
   {
    "duration": 10,
    "start_time": "2022-09-23T06:54:17.688Z"
   },
   {
    "duration": 19,
    "start_time": "2022-09-23T06:54:17.700Z"
   },
   {
    "duration": 13,
    "start_time": "2022-09-23T06:54:17.721Z"
   },
   {
    "duration": 54,
    "start_time": "2022-09-23T06:54:17.738Z"
   },
   {
    "duration": 7,
    "start_time": "2022-09-23T06:54:17.794Z"
   },
   {
    "duration": 11,
    "start_time": "2022-09-23T06:54:17.803Z"
   },
   {
    "duration": 129,
    "start_time": "2022-09-23T06:54:17.816Z"
   },
   {
    "duration": 4,
    "start_time": "2022-09-23T06:54:17.947Z"
   },
   {
    "duration": 17,
    "start_time": "2022-09-23T06:54:17.953Z"
   },
   {
    "duration": 18,
    "start_time": "2022-09-23T06:54:17.971Z"
   },
   {
    "duration": 5,
    "start_time": "2022-09-23T06:54:17.990Z"
   },
   {
    "duration": 17,
    "start_time": "2022-09-23T06:54:17.997Z"
   },
   {
    "duration": 11,
    "start_time": "2022-09-23T06:54:18.015Z"
   },
   {
    "duration": 19,
    "start_time": "2022-09-23T06:54:18.033Z"
   },
   {
    "duration": 14,
    "start_time": "2022-09-23T06:54:18.054Z"
   },
   {
    "duration": 292,
    "start_time": "2022-09-23T06:54:18.070Z"
   },
   {
    "duration": 204,
    "start_time": "2022-09-23T06:54:18.364Z"
   },
   {
    "duration": 7,
    "start_time": "2022-09-23T06:54:18.570Z"
   },
   {
    "duration": 12,
    "start_time": "2022-09-23T06:54:18.578Z"
   },
   {
    "duration": 21,
    "start_time": "2022-09-23T06:54:18.591Z"
   },
   {
    "duration": 27,
    "start_time": "2022-09-23T06:54:18.613Z"
   },
   {
    "duration": 13,
    "start_time": "2022-09-23T06:54:18.641Z"
   },
   {
    "duration": 90,
    "start_time": "2022-09-23T06:54:18.656Z"
   },
   {
    "duration": 12,
    "start_time": "2022-09-23T06:54:18.747Z"
   },
   {
    "duration": 206,
    "start_time": "2022-09-23T06:54:18.760Z"
   },
   {
    "duration": 7,
    "start_time": "2022-09-23T06:54:18.968Z"
   },
   {
    "duration": 18,
    "start_time": "2022-09-23T06:54:18.976Z"
   },
   {
    "duration": 21,
    "start_time": "2022-09-23T06:54:18.996Z"
   },
   {
    "duration": 19,
    "start_time": "2022-09-23T06:54:19.019Z"
   },
   {
    "duration": 9,
    "start_time": "2022-09-23T06:54:19.039Z"
   },
   {
    "duration": 18,
    "start_time": "2022-09-23T06:54:19.049Z"
   },
   {
    "duration": 15,
    "start_time": "2022-09-23T06:54:19.068Z"
   },
   {
    "duration": 15,
    "start_time": "2022-09-23T06:54:19.084Z"
   },
   {
    "duration": 1322,
    "start_time": "2022-09-23T07:13:14.868Z"
   },
   {
    "duration": 598,
    "start_time": "2022-09-23T07:13:16.195Z"
   },
   {
    "duration": 23,
    "start_time": "2022-09-23T07:13:16.795Z"
   },
   {
    "duration": 22,
    "start_time": "2022-09-23T07:13:16.820Z"
   },
   {
    "duration": 13,
    "start_time": "2022-09-23T07:13:16.844Z"
   },
   {
    "duration": 59,
    "start_time": "2022-09-23T07:13:16.858Z"
   },
   {
    "duration": 45,
    "start_time": "2022-09-23T07:13:16.919Z"
   },
   {
    "duration": 42,
    "start_time": "2022-09-23T07:13:16.966Z"
   },
   {
    "duration": 14,
    "start_time": "2022-09-23T07:13:17.009Z"
   },
   {
    "duration": 22,
    "start_time": "2022-09-23T07:13:17.025Z"
   },
   {
    "duration": 4,
    "start_time": "2022-09-23T07:13:17.048Z"
   },
   {
    "duration": 6,
    "start_time": "2022-09-23T07:13:17.054Z"
   },
   {
    "duration": 40,
    "start_time": "2022-09-23T07:13:17.061Z"
   },
   {
    "duration": 15,
    "start_time": "2022-09-23T07:13:17.104Z"
   },
   {
    "duration": 8,
    "start_time": "2022-09-23T07:13:17.120Z"
   },
   {
    "duration": 152,
    "start_time": "2022-09-23T07:13:17.130Z"
   },
   {
    "duration": 13,
    "start_time": "2022-09-23T07:13:17.284Z"
   },
   {
    "duration": 22,
    "start_time": "2022-09-23T07:13:17.298Z"
   },
   {
    "duration": 5,
    "start_time": "2022-09-23T07:13:17.321Z"
   },
   {
    "duration": 7,
    "start_time": "2022-09-23T07:13:17.327Z"
   },
   {
    "duration": 7,
    "start_time": "2022-09-23T07:13:17.336Z"
   },
   {
    "duration": 12,
    "start_time": "2022-09-23T07:13:17.345Z"
   },
   {
    "duration": 5,
    "start_time": "2022-09-23T07:13:17.359Z"
   },
   {
    "duration": 51,
    "start_time": "2022-09-23T07:13:17.365Z"
   },
   {
    "duration": 8,
    "start_time": "2022-09-23T07:13:17.417Z"
   },
   {
    "duration": 18,
    "start_time": "2022-09-23T07:13:17.427Z"
   },
   {
    "duration": 4,
    "start_time": "2022-09-23T07:13:17.447Z"
   },
   {
    "duration": 89,
    "start_time": "2022-09-23T07:13:17.455Z"
   },
   {
    "duration": 6,
    "start_time": "2022-09-23T07:13:17.546Z"
   },
   {
    "duration": 6,
    "start_time": "2022-09-23T07:13:17.554Z"
   },
   {
    "duration": 137,
    "start_time": "2022-09-23T07:13:17.562Z"
   },
   {
    "duration": 5,
    "start_time": "2022-09-23T07:13:17.701Z"
   },
   {
    "duration": 13,
    "start_time": "2022-09-23T07:13:17.707Z"
   },
   {
    "duration": 13,
    "start_time": "2022-09-23T07:13:17.721Z"
   },
   {
    "duration": 5,
    "start_time": "2022-09-23T07:13:17.735Z"
   },
   {
    "duration": 13,
    "start_time": "2022-09-23T07:13:17.741Z"
   },
   {
    "duration": 9,
    "start_time": "2022-09-23T07:13:17.755Z"
   },
   {
    "duration": 46,
    "start_time": "2022-09-23T07:13:17.766Z"
   },
   {
    "duration": 16,
    "start_time": "2022-09-23T07:13:17.814Z"
   },
   {
    "duration": 325,
    "start_time": "2022-09-23T07:13:17.831Z"
   },
   {
    "duration": 238,
    "start_time": "2022-09-23T07:13:18.157Z"
   },
   {
    "duration": 7,
    "start_time": "2022-09-23T07:13:18.396Z"
   },
   {
    "duration": 9,
    "start_time": "2022-09-23T07:13:18.404Z"
   },
   {
    "duration": 16,
    "start_time": "2022-09-23T07:13:18.414Z"
   },
   {
    "duration": 13,
    "start_time": "2022-09-23T07:13:18.432Z"
   },
   {
    "duration": 12,
    "start_time": "2022-09-23T07:13:18.447Z"
   },
   {
    "duration": 17,
    "start_time": "2022-09-23T07:13:18.496Z"
   },
   {
    "duration": 14,
    "start_time": "2022-09-23T07:13:18.514Z"
   },
   {
    "duration": 216,
    "start_time": "2022-09-23T07:13:18.529Z"
   },
   {
    "duration": 7,
    "start_time": "2022-09-23T07:13:18.746Z"
   },
   {
    "duration": 8,
    "start_time": "2022-09-23T07:13:18.754Z"
   },
   {
    "duration": 10,
    "start_time": "2022-09-23T07:13:18.794Z"
   },
   {
    "duration": 25,
    "start_time": "2022-09-23T07:13:18.805Z"
   },
   {
    "duration": 8,
    "start_time": "2022-09-23T07:13:18.832Z"
   },
   {
    "duration": 6,
    "start_time": "2022-09-23T07:13:18.842Z"
   },
   {
    "duration": 48,
    "start_time": "2022-09-23T07:13:18.849Z"
   },
   {
    "duration": 8,
    "start_time": "2022-09-23T07:13:18.898Z"
   },
   {
    "duration": 10,
    "start_time": "2022-09-23T07:17:13.145Z"
   },
   {
    "duration": 20,
    "start_time": "2022-09-23T07:21:34.160Z"
   },
   {
    "duration": 10,
    "start_time": "2022-09-23T07:21:40.558Z"
   },
   {
    "duration": 10,
    "start_time": "2022-09-23T07:21:48.088Z"
   },
   {
    "duration": 116,
    "start_time": "2022-09-23T07:21:50.542Z"
   },
   {
    "duration": 282,
    "start_time": "2022-09-23T07:23:52.253Z"
   },
   {
    "duration": 280,
    "start_time": "2022-09-23T07:24:16.967Z"
   },
   {
    "duration": 273,
    "start_time": "2022-09-23T07:24:22.592Z"
   },
   {
    "duration": 258,
    "start_time": "2022-09-23T07:24:29.995Z"
   },
   {
    "duration": 143,
    "start_time": "2022-09-23T07:25:03.558Z"
   },
   {
    "duration": 132,
    "start_time": "2022-09-23T07:25:08.405Z"
   },
   {
    "duration": 269,
    "start_time": "2022-09-23T07:25:16.426Z"
   },
   {
    "duration": 112,
    "start_time": "2022-09-23T07:25:25.029Z"
   },
   {
    "duration": 114,
    "start_time": "2022-09-23T07:25:28.990Z"
   },
   {
    "duration": 138,
    "start_time": "2022-09-23T07:25:31.717Z"
   },
   {
    "duration": 167,
    "start_time": "2022-09-23T07:25:36.625Z"
   },
   {
    "duration": 155,
    "start_time": "2022-09-23T07:25:40.275Z"
   },
   {
    "duration": 183,
    "start_time": "2022-09-23T07:25:47.921Z"
   },
   {
    "duration": 159,
    "start_time": "2022-09-23T07:25:54.524Z"
   },
   {
    "duration": 144,
    "start_time": "2022-09-23T07:25:58.547Z"
   },
   {
    "duration": 154,
    "start_time": "2022-09-23T07:26:02.945Z"
   },
   {
    "duration": 162,
    "start_time": "2022-09-23T07:26:08.202Z"
   },
   {
    "duration": 270,
    "start_time": "2022-09-23T07:26:48.340Z"
   },
   {
    "duration": 168,
    "start_time": "2022-09-23T07:27:11.871Z"
   }
  ],
  "kernelspec": {
   "display_name": "Python 3 (ipykernel)",
   "language": "python",
   "name": "python3"
  },
  "language_info": {
   "codemirror_mode": {
    "name": "ipython",
    "version": 3
   },
   "file_extension": ".py",
   "mimetype": "text/x-python",
   "name": "python",
   "nbconvert_exporter": "python",
   "pygments_lexer": "ipython3",
   "version": "3.9.12"
  },
  "toc": {
   "base_numbering": 1,
   "nav_menu": {},
   "number_sections": true,
   "sideBar": true,
   "skip_h1_title": true,
   "title_cell": "Table of Contents",
   "title_sidebar": "Contents",
   "toc_cell": false,
   "toc_position": {
    "height": "calc(100% - 180px)",
    "left": "10px",
    "top": "150px",
    "width": "287px"
   },
   "toc_section_display": true,
   "toc_window_display": true
  }
 },
 "nbformat": 4,
 "nbformat_minor": 5
}
