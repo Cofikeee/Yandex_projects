{
 "cells": [
  {
   "cell_type": "markdown",
   "id": "dd4bb4d1",
   "metadata": {},
   "source": [
    "<div class=\"alert alert-info\">\n",
    "    <font size=\"5\"><b>Формирование модели монетизации в игре \"Космические братья\"</b></font>"
   ]
  },
  {
   "cell_type": "markdown",
   "id": "724de5ea",
   "metadata": {},
   "source": [
    "Презентация : https://disk.yandex.ru/i/U9hWsI7V1zCmpg"
   ]
  },
  {
   "cell_type": "markdown",
   "id": "f40594d1",
   "metadata": {},
   "source": [
    "# Table of contents\n",
    "1. [Вводная информация](#intro)\n",
    "2. [Часть 1. Проверка и подготовка данных](#paragraph1)\n",
    "3. [Часть 2. Анализ данных](#paragraph2)\n",
    "5. [Часть 3. Гипотезы](#paragraph3)\n",
    "5. [Часть 4. Формирование модели монетизации](#paragraph4)\n",
    "5. [Часть 5. Выводы и рекомендации](#paragraph5)"
   ]
  },
  {
   "cell_type": "markdown",
   "id": "425446d0",
   "metadata": {},
   "source": [
    "# Вводная информация<a name=\"intro\"></a>\n"
   ]
  },
  {
   "cell_type": "markdown",
   "id": "9d398ed3",
   "metadata": {},
   "source": [
    "### **Описание датасетов:**\n",
    "\n",
    "Основной датасет содержит данные о событиях, совершенных в мобильной игре «Космические братья». В ней пользователи строят свою космическую программу и пытаются преуспеть в нелёгком деле колонизации галактики.\n",
    "\n",
    "Основная монетизация игры — только планируется. Но предполагается, что в приложении будет происходить показ рекламы на экране с выбором типа объекта для постройки.\n",
    "\n",
    "В датасете представлены данные по игре пользователей на первом уровне. Завершение первого уровня требует от игрока выполнения одного из двух условий:\n",
    "\n",
    "- Победа над первым врагом\n",
    "- Реализация проекта - разработка орбитальной сборки спутников\n",
    "\n",
    "В датасете содержатся данные первых пользователей приложения — когорты пользователей, которые начали пользоваться приложением в период с 4 по 10 мая включительно.\n",
    "\n",
    "\n",
    "\n",
    "**Датасет *game_actions.csv*:**\n",
    "\n",
    "- `event_datetime` — время события;\n",
    "\n",
    "\n",
    "- `event` — одно из трёх событий:\n",
    "    1. `building` — объект построен,\n",
    "    2. `finished_stage_1` — первый уровень завершён,\n",
    "    3. `project` — проект завершён;\n",
    "    \n",
    "    \n",
    "- `building_type` — один из трёх типов здания:\n",
    "    1. `assembly_shop` — сборочный цех,\n",
    "    2. `spaceport` — космопорт,\n",
    "    3. `research_center` — исследовательский центр;\n",
    "    \n",
    "    \n",
    "- `user_id` — идентификатор пользователя;\n",
    "\n",
    "\n",
    "- `project_type` — тип реализованного проекта;\n",
    "\n",
    "**Датасет *ad_cost.csv* содержит колонки:**\n",
    "\n",
    "- `day` - день, в который был совершен клик по объявлению\n",
    "\n",
    "\n",
    "- `source` - источник трафика\n",
    "\n",
    "\n",
    "- `cost` - стоимость кликов\n",
    "\n",
    "**Датасет user_source.csv содержит колонки:**\n",
    "\n",
    "- `user_id` - идентификатор пользователя\n",
    "\n",
    "\n",
    "- `source` - источников, с которого пришёл пользователь, установивший приложение"
   ]
  },
  {
   "cell_type": "markdown",
   "id": "70f0254a",
   "metadata": {},
   "source": [
    "### Задача**:**\n",
    "\n",
    "**Сформировать модель монетизации игрового приложения.**\n",
    "\n",
    "1. Проведисти исследовательский анализ данных\n",
    "\n",
    "2. Проанализируйте влияние событий на совершение целевого события\n",
    "\n",
    "3. Проверка статистических гипотез"
   ]
  },
  {
   "cell_type": "markdown",
   "id": "5c023bb3",
   "metadata": {},
   "source": [
    "## Проверка и подготовка данных\n",
    "<a class=\"anchor\" id=\"paragraph1\"></a>"
   ]
  },
  {
   "cell_type": "markdown",
   "id": "eac2ace8",
   "metadata": {},
   "source": [
    "### Загрузка библиотек и датасетов. "
   ]
  },
  {
   "cell_type": "code",
   "execution_count": 2,
   "id": "91d727f3",
   "metadata": {},
   "outputs": [],
   "source": [
    "import pandas as pd\n",
    "import plotly.express as px\n",
    "import plotly.graph_objects as go\n",
    "import numpy as np\n",
    "import plotly.figure_factory as ff\n",
    "import seaborn as sns\n",
    "import matplotlib.pyplot as plt\n",
    "from plotly.subplots import make_subplots\n",
    "import datetime as dt\n",
    "import math\n",
    "from datetime import datetime, timedelta\n",
    "from scipy import stats as st"
   ]
  },
  {
   "cell_type": "code",
   "execution_count": 3,
   "id": "2b8df210",
   "metadata": {},
   "outputs": [],
   "source": [
    "try: \n",
    "    ad_cost = pd.read_csv('/datasets/ad_costs.csv')\n",
    "    game_actions = pd.read_csv('/datasets/game_actions.csv')\n",
    "    user_source = pd.read_csv('/datasets/user_source.csv')\n",
    "except FileNotFoundError:\n",
    "    ad_cost = pd.read_csv('C:/Users/C/project/final_project/ad_costs.csv')\n",
    "    game_actions = pd.read_csv('C:/Users/C/project/final_project/game_actions.csv')\n",
    "    user_source = pd.read_csv('C:/Users/C/project/final_project/user_source.csv')\n",
    "    "
   ]
  },
  {
   "cell_type": "markdown",
   "id": "29d56e14",
   "metadata": {},
   "source": [
    "### Функции для расчета и визуализации"
   ]
  },
  {
   "cell_type": "code",
   "execution_count": 4,
   "id": "906ae0ba",
   "metadata": {},
   "outputs": [],
   "source": [
    "def get_profiles(sessions, orders, ad_cost, event_names=[]):\n",
    "\n",
    "    # находим параметры первых посещений\n",
    "    profiles = (\n",
    "        sessions.sort_values(by=['user_id', 'event_datetime'])\n",
    "        .groupby('user_id')\n",
    "        .agg(\n",
    "            {\n",
    "                'event_datetime': 'first',\n",
    "                'source': 'first',\n",
    "                'lvlup' : 'first',\n",
    "                'condition' : 'first'\n",
    "            }\n",
    "        )\n",
    "        .rename(columns={'event_datetime': 'first_ts'})\n",
    "        .reset_index()\n",
    "    )\n",
    "\n",
    "    # для когортного анализа определяем дату первого посещения\n",
    "    profiles['day'] = profiles['first_ts'].dt.date\n",
    "    profiles['day'] = pd.to_datetime(profiles['day'])\n",
    "    # считаем количество уникальных пользователей\n",
    "    # с одинаковыми источником и датой привлечения\n",
    "    new_users = (\n",
    "        profiles.groupby(['day', 'source'])\n",
    "        .agg({'user_id': 'nunique'})\n",
    "        .rename(columns={'user_id': 'unique_users'})\n",
    "        .reset_index()\n",
    "    )\n",
    "\n",
    "    # объединяем траты на рекламу и число привлечённых пользователей\n",
    "    ad_cost = ad_cost.merge(new_users, on=['day', 'source'], how='left')\n",
    "\n",
    "    # делим рекламные расходы на число привлечённых пользователей\n",
    "    ad_cost['acquisition_cost'] = ad_cost['cost'] / ad_cost['unique_users']\n",
    "    \n",
    "    # добавляем стоимость привлечения в профили\n",
    "    profiles = profiles.merge(\n",
    "        ad_cost[['day', 'source', 'acquisition_cost']],\n",
    "        on=['day', 'source'],\n",
    "        how='left',\n",
    "    )\n",
    "\n",
    "    return profiles"
   ]
  },
  {
   "cell_type": "code",
   "execution_count": 5,
   "id": "decef2af",
   "metadata": {},
   "outputs": [],
   "source": [
    "# Функция для расчёта удержания\n",
    "\n",
    "def get_retention(\n",
    "    profiles,\n",
    "    sessions,\n",
    "    observation_date,\n",
    "    horizon_days,\n",
    "    dimensions=[],\n",
    "    ignore_horizon=False,\n",
    "):\n",
    "\n",
    "    # добавляем столбец payer в передаваемый dimensions список\n",
    "    #dimensions = ['payer'] + dimensions\n",
    "\n",
    "    # исключаем пользователей, не «доживших» до горизонта анализа\n",
    "    last_suitable_acquisition_date = observation_date\n",
    "    if not ignore_horizon:\n",
    "        last_suitable_acquisition_date = observation_date - timedelta(\n",
    "            days=horizon_days - 1\n",
    "        )\n",
    "    result_raw = profiles.query('day <= @last_suitable_acquisition_date')\n",
    "\n",
    "    # собираем «сырые» данные для расчёта удержания\n",
    "    result_raw = result_raw.merge(\n",
    "        sessions[['user_id', 'event_datetime']], on='user_id', how='left'\n",
    "    )\n",
    "    result_raw['lifetime'] = (\n",
    "        result_raw['event_datetime'] - result_raw['first_ts']\n",
    "    ).dt.days\n",
    "\n",
    "    # функция для группировки таблицы по желаемым признакам\n",
    "    def group_by_dimensions(df, dims, horizon_days):\n",
    "        result = df.pivot_table(\n",
    "            index=dims, columns='lifetime', values='user_id', aggfunc='nunique'\n",
    "        )\n",
    "        cohort_sizes = (\n",
    "            df.groupby(dims)\n",
    "            .agg({'user_id': 'nunique'})\n",
    "            .rename(columns={'user_id': 'cohort_size'})\n",
    "        )\n",
    "        result = cohort_sizes.merge(result, on=dims, how='left').fillna(0)\n",
    "        result = result.div(result['cohort_size'], axis=0)\n",
    "        result = result[['cohort_size'] + list(range(horizon_days))]\n",
    "        result['cohort_size'] = cohort_sizes\n",
    "        return result\n",
    "\n",
    "    # получаем таблицу удержания\n",
    "    result_grouped = group_by_dimensions(result_raw, dimensions, horizon_days)\n",
    "\n",
    "    # получаем таблицу динамики удержания\n",
    "    result_in_time = group_by_dimensions(\n",
    "        result_raw, dimensions + ['day'], horizon_days\n",
    "    )\n",
    "\n",
    "    # возвращаем обе таблицы и сырые данные\n",
    "    return result_raw, result_grouped, result_in_time "
   ]
  },
  {
   "cell_type": "code",
   "execution_count": 6,
   "id": "e16a55fc",
   "metadata": {},
   "outputs": [],
   "source": [
    "# Функция для визуализации удержания\n",
    "\n",
    "def plot_retention(retention, retention_history, horizon, window=14):\n",
    "\n",
    "    # задаём размер сетки для графиков\n",
    "    plt.figure(figsize=(15, 10))\n",
    "\n",
    "    # исключаем размеры когорт и удержание первого дня\n",
    "    retention = retention.drop(columns=['cohort_size', 0])\n",
    "    # в таблице динамики оставляем только нужный лайфтайм\n",
    "    retention_history = retention_history.drop(columns=['cohort_size'])[\n",
    "        [horizon - 1]\n",
    "    ]\n",
    "    \n",
    "    ax1 = plt.subplot(2, 2, 1)\n",
    "    retention.T.plot(\n",
    "        grid=True, ax=ax1\n",
    "    )\n",
    "    plt.legend()\n",
    "    plt.xlabel('Лайфтайм')\n",
    "    plt.title('Удержание пользователей')\n",
    "\n",
    "    \n",
    "    plt.tight_layout()\n",
    "    plt.show() "
   ]
  },
  {
   "cell_type": "code",
   "execution_count": 7,
   "id": "500763f8",
   "metadata": {},
   "outputs": [],
   "source": [
    "# Функция для расчёта LTV и ROI\n",
    "\n",
    "def get_ltv(\n",
    "    profiles,\n",
    "    purchases,\n",
    "    observation_date,\n",
    "    horizon_days,\n",
    "    dimensions=[],\n",
    "    ignore_horizon=False,\n",
    "):\n",
    "\n",
    "    # исключаем пользователей, не «доживших» до горизонта анализа\n",
    "    last_suitable_acquisition_date = observation_date\n",
    "    if not ignore_horizon:\n",
    "        last_suitable_acquisition_date = observation_date - timedelta(\n",
    "            days=horizon_days - 1\n",
    "        )\n",
    "    result_raw = profiles.query('day <= @last_suitable_acquisition_date')\n",
    "    # добавляем данные о покупках в профили\n",
    "    result_raw = result_raw.merge(\n",
    "        purchases[['user_id', 'event_datetime', 'revenue']], on='user_id', how='left'\n",
    "    )\n",
    "    # рассчитываем лайфтайм пользователя для каждой покупки\n",
    "    result_raw['lifetime'] = (\n",
    "        result_raw['event_datetime'] - result_raw['first_ts']\n",
    "    ).dt.days\n",
    "    # группируем по cohort, если в dimensions ничего нет\n",
    "    if len(dimensions) == 0:\n",
    "        result_raw['cohort'] = 'All users'\n",
    "        dimensions = dimensions + ['cohort']\n",
    "\n",
    "    # функция группировки по желаемым признакам\n",
    "    def group_by_dimensions(df, dims, horizon_days):\n",
    "        # строим «треугольную» таблицу выручки\n",
    "        result = df.pivot_table(\n",
    "            index=dims, columns='lifetime', values='revenue', aggfunc='sum'\n",
    "        )\n",
    "        # находим сумму выручки с накоплением\n",
    "        result = result.fillna(0).cumsum(axis=1)\n",
    "        # вычисляем размеры когорт\n",
    "        cohort_sizes = (\n",
    "            df.groupby(dims)\n",
    "            .agg({'user_id': 'nunique'})\n",
    "            .rename(columns={'user_id': 'cohort_size'})\n",
    "        )\n",
    "        # объединяем размеры когорт и таблицу выручки\n",
    "        result = cohort_sizes.merge(result, on=dims, how='left').fillna(0)\n",
    "        # считаем LTV: делим каждую «ячейку» в строке на размер когорты\n",
    "        result = result.div(result['cohort_size'], axis=0)\n",
    "        # исключаем все лайфтаймы, превышающие горизонт анализа\n",
    "        result = result[['cohort_size'] + list(range(horizon_days))]\n",
    "        # восстанавливаем размеры когорт\n",
    "        result['cohort_size'] = cohort_sizes\n",
    "\n",
    "        # собираем датафрейм с данными пользователей и значениями CAC, \n",
    "        # добавляя параметры из dimensions\n",
    "        cac = df[['user_id', 'acquisition_cost'] + dims].drop_duplicates()\n",
    "\n",
    "        # считаем средний CAC по параметрам из dimensions\n",
    "        cac = (\n",
    "            cac.groupby(dims)\n",
    "            .agg({'acquisition_cost': 'mean'})\n",
    "            .rename(columns={'acquisition_cost': 'cac'})\n",
    "        )\n",
    "\n",
    "        # считаем ROI: делим LTV на CAC\n",
    "        roi = result.div(cac['cac'], axis=0)\n",
    "\n",
    "        # удаляем строки с бесконечным ROI\n",
    "        roi = roi[~roi['cohort_size'].isin([np.inf])]\n",
    "\n",
    "        # восстанавливаем размеры когорт в таблице ROI\n",
    "        roi['cohort_size'] = cohort_sizes\n",
    "\n",
    "        # добавляем CAC в таблицу ROI\n",
    "        roi['cac'] = cac['cac']\n",
    "\n",
    "        # в финальной таблице оставляем размеры когорт, CAC\n",
    "        # и ROI в лайфтаймы, не превышающие горизонт анализа\n",
    "        roi = roi[['cohort_size', 'cac'] + list(range(horizon_days))]\n",
    "\n",
    "        # возвращаем таблицы LTV и ROI\n",
    "        return result, roi\n",
    "\n",
    "    # получаем таблицы LTV и ROI\n",
    "    result_grouped, roi_grouped = group_by_dimensions(\n",
    "        result_raw, dimensions, horizon_days\n",
    "    )\n",
    "\n",
    "    # для таблиц динамики убираем 'cohort' из dimensions\n",
    "    if 'cohort' in dimensions:\n",
    "        dimensions = []\n",
    "\n",
    "    # получаем таблицы динамики LTV и ROI\n",
    "    result_in_time, roi_in_time = group_by_dimensions(\n",
    "        result_raw, dimensions + ['day'], horizon_days\n",
    "    )\n",
    "\n",
    "    return (\n",
    "        result_raw,  # сырые данные\n",
    "        result_grouped,  # таблица LTV\n",
    "        result_in_time,  # таблица динамики LTV\n",
    "        roi_grouped,  # таблица ROI\n",
    "        roi_in_time,  # таблица динамики ROI\n",
    "    ) "
   ]
  },
  {
   "cell_type": "code",
   "execution_count": 8,
   "id": "bffb1219",
   "metadata": {},
   "outputs": [],
   "source": [
    "# Функция для сглаживания фрейма\n",
    "\n",
    "def filter_data(df, window):\n",
    "    # для каждого столбца применяем скользящее среднее\n",
    "    for column in df.columns.values:\n",
    "        df[column] = df[column].rolling(window).mean() \n",
    "    return df "
   ]
  },
  {
   "cell_type": "code",
   "execution_count": 9,
   "id": "c8114c1a",
   "metadata": {},
   "outputs": [],
   "source": [
    "# функция для визуализации LTV и ROI\n",
    "\n",
    "def plot_ltv_roi(ltv, ltv_history, roi, roi_history, horizon, window=14):\n",
    "\n",
    "    # задаём сетку отрисовки графиков\n",
    "    plt.figure(figsize=(20, 7))\n",
    "\n",
    "    # из таблицы ltv исключаем размеры когорт\n",
    "    ltv = ltv.drop(columns=['cohort_size'])\n",
    "    # в таблице динамики ltv оставляем только нужный лайфтайм\n",
    "    ltv_history = ltv_history.drop(columns=['cohort_size'])[[horizon - 1]]\n",
    "\n",
    "    # стоимость привлечения запишем в отдельный фрейм\n",
    "    cac_history = roi_history[['cac']]\n",
    "\n",
    "    # из таблицы roi исключаем размеры когорт и cac\n",
    "    roi = roi.drop(columns=['cohort_size', 'cac'])\n",
    "    # в таблице динамики roi оставляем только нужный лайфтайм\n",
    "    roi_history = roi_history.drop(columns=['cohort_size', 'cac'])[\n",
    "        [horizon - 1]\n",
    "    ]\n",
    "    colors=['C1', 'C2', 'C3', 'C4', 'C5', 'C6', 'C7', 'C8', 'C9', 'C10', 'm']\n",
    "\n",
    "    # график — кривые ltv\n",
    "    ax1 = plt.subplot(1, 2, 1)\n",
    "    ltv.T.plot(grid=True, ax=ax1, color=colors)\n",
    "    plt.legend()\n",
    "    plt.xlabel('Лайфтайм')\n",
    "    plt.title('LTV')\n",
    "\n",
    "    # график — кривые roi\n",
    "    ax4 = plt.subplot(1, 2, 2)\n",
    "    roi.T.plot(grid=True, ax=ax4, color=colors)\n",
    "    plt.axhline(y=1, color='red', linestyle='--', label='Уровень окупаемости')\n",
    "    plt.legend()\n",
    "    plt.xlabel('Лайфтайм')\n",
    "    plt.title('ROI')\n",
    "\n",
    "\n",
    "    plt.tight_layout()\n",
    "    plt.show() "
   ]
  },
  {
   "cell_type": "markdown",
   "id": "ebb464ab",
   "metadata": {},
   "source": [
    "### Проверка данных и подготовка данных."
   ]
  },
  {
   "cell_type": "code",
   "execution_count": 10,
   "id": "fb2ede27",
   "metadata": {},
   "outputs": [
    {
     "data": {
      "text/html": [
       "<div>\n",
       "<style scoped>\n",
       "    .dataframe tbody tr th:only-of-type {\n",
       "        vertical-align: middle;\n",
       "    }\n",
       "\n",
       "    .dataframe tbody tr th {\n",
       "        vertical-align: top;\n",
       "    }\n",
       "\n",
       "    .dataframe thead th {\n",
       "        text-align: right;\n",
       "    }\n",
       "</style>\n",
       "<table border=\"1\" class=\"dataframe\">\n",
       "  <thead>\n",
       "    <tr style=\"text-align: right;\">\n",
       "      <th></th>\n",
       "      <th>event_datetime</th>\n",
       "      <th>event</th>\n",
       "      <th>building_type</th>\n",
       "      <th>user_id</th>\n",
       "      <th>project_type</th>\n",
       "    </tr>\n",
       "  </thead>\n",
       "  <tbody>\n",
       "    <tr>\n",
       "      <th>0</th>\n",
       "      <td>2020-05-04 00:00:01</td>\n",
       "      <td>building</td>\n",
       "      <td>assembly_shop</td>\n",
       "      <td>55e92310-cb8e-4754-b622-597e124b03de</td>\n",
       "      <td>NaN</td>\n",
       "    </tr>\n",
       "    <tr>\n",
       "      <th>1</th>\n",
       "      <td>2020-05-04 00:00:03</td>\n",
       "      <td>building</td>\n",
       "      <td>assembly_shop</td>\n",
       "      <td>c07b1c10-f477-44dc-81dc-ec82254b1347</td>\n",
       "      <td>NaN</td>\n",
       "    </tr>\n",
       "    <tr>\n",
       "      <th>2</th>\n",
       "      <td>2020-05-04 00:00:16</td>\n",
       "      <td>building</td>\n",
       "      <td>assembly_shop</td>\n",
       "      <td>6edd42cc-e753-4ff6-a947-2107cd560710</td>\n",
       "      <td>NaN</td>\n",
       "    </tr>\n",
       "    <tr>\n",
       "      <th>3</th>\n",
       "      <td>2020-05-04 00:00:16</td>\n",
       "      <td>building</td>\n",
       "      <td>assembly_shop</td>\n",
       "      <td>92c69003-d60a-444a-827f-8cc51bf6bf4c</td>\n",
       "      <td>NaN</td>\n",
       "    </tr>\n",
       "    <tr>\n",
       "      <th>4</th>\n",
       "      <td>2020-05-04 00:00:35</td>\n",
       "      <td>building</td>\n",
       "      <td>assembly_shop</td>\n",
       "      <td>cdc6bb92-0ccb-4490-9866-ef142f09139d</td>\n",
       "      <td>NaN</td>\n",
       "    </tr>\n",
       "  </tbody>\n",
       "</table>\n",
       "</div>"
      ],
      "text/plain": [
       "        event_datetime     event  building_type  \\\n",
       "0  2020-05-04 00:00:01  building  assembly_shop   \n",
       "1  2020-05-04 00:00:03  building  assembly_shop   \n",
       "2  2020-05-04 00:00:16  building  assembly_shop   \n",
       "3  2020-05-04 00:00:16  building  assembly_shop   \n",
       "4  2020-05-04 00:00:35  building  assembly_shop   \n",
       "\n",
       "                                user_id project_type  \n",
       "0  55e92310-cb8e-4754-b622-597e124b03de          NaN  \n",
       "1  c07b1c10-f477-44dc-81dc-ec82254b1347          NaN  \n",
       "2  6edd42cc-e753-4ff6-a947-2107cd560710          NaN  \n",
       "3  92c69003-d60a-444a-827f-8cc51bf6bf4c          NaN  \n",
       "4  cdc6bb92-0ccb-4490-9866-ef142f09139d          NaN  "
      ]
     },
     "metadata": {},
     "output_type": "display_data"
    }
   ],
   "source": [
    "display(game_actions.head(5))"
   ]
  },
  {
   "cell_type": "code",
   "execution_count": 11,
   "id": "d72ee554",
   "metadata": {
    "scrolled": true
   },
   "outputs": [
    {
     "name": "stdout",
     "output_type": "stream",
     "text": [
      "<class 'pandas.core.frame.DataFrame'>\n",
      "RangeIndex: 135640 entries, 0 to 135639\n",
      "Data columns (total 5 columns):\n",
      " #   Column          Non-Null Count   Dtype \n",
      "---  ------          --------------   ----- \n",
      " 0   event_datetime  135640 non-null  object\n",
      " 1   event           135640 non-null  object\n",
      " 2   building_type   127957 non-null  object\n",
      " 3   user_id         135640 non-null  object\n",
      " 4   project_type    1866 non-null    object\n",
      "dtypes: object(5)\n",
      "memory usage: 5.2+ MB\n"
     ]
    }
   ],
   "source": [
    "game_actions.info()"
   ]
  },
  {
   "cell_type": "code",
   "execution_count": 12,
   "id": "6cc79832",
   "metadata": {
    "scrolled": true
   },
   "outputs": [
    {
     "data": {
      "text/plain": [
       "spaceport          59325\n",
       "assembly_shop      54494\n",
       "research_center    14138\n",
       "Name: building_type, dtype: int64"
      ]
     },
     "metadata": {},
     "output_type": "display_data"
    },
    {
     "data": {
      "text/plain": [
       "building            127957\n",
       "finished_stage_1      5817\n",
       "project               1866\n",
       "Name: event, dtype: int64"
      ]
     },
     "metadata": {},
     "output_type": "display_data"
    },
    {
     "data": {
      "text/plain": [
       "satellite_orbital_assembly    1866\n",
       "Name: project_type, dtype: int64"
      ]
     },
     "metadata": {},
     "output_type": "display_data"
    }
   ],
   "source": [
    "# Проверка на наличие дубликатов\n",
    "display(game_actions['building_type'].value_counts())\n",
    "display(game_actions['event'].value_counts())\n",
    "display(game_actions['project_type'].value_counts())"
   ]
  },
  {
   "cell_type": "code",
   "execution_count": 13,
   "id": "06a77702",
   "metadata": {},
   "outputs": [
    {
     "data": {
      "text/plain": [
       "Timestamp('2020-05-04 00:00:01')"
      ]
     },
     "metadata": {},
     "output_type": "display_data"
    },
    {
     "data": {
      "text/plain": [
       "Timestamp('2020-06-05 12:32:49')"
      ]
     },
     "metadata": {},
     "output_type": "display_data"
    }
   ],
   "source": [
    "# Перевожу время в datetime\n",
    "game_actions['event_datetime'] = pd.to_datetime(game_actions['event_datetime'])\n",
    "# Проверяю мин и макс значения дат\n",
    "display(game_actions['event_datetime'].min(), game_actions['event_datetime'].max())"
   ]
  },
  {
   "cell_type": "code",
   "execution_count": 14,
   "id": "e9266e47",
   "metadata": {},
   "outputs": [
    {
     "data": {
      "text/html": [
       "<div>\n",
       "<style scoped>\n",
       "    .dataframe tbody tr th:only-of-type {\n",
       "        vertical-align: middle;\n",
       "    }\n",
       "\n",
       "    .dataframe tbody tr th {\n",
       "        vertical-align: top;\n",
       "    }\n",
       "\n",
       "    .dataframe thead th {\n",
       "        text-align: right;\n",
       "    }\n",
       "</style>\n",
       "<table border=\"1\" class=\"dataframe\">\n",
       "  <thead>\n",
       "    <tr style=\"text-align: right;\">\n",
       "      <th></th>\n",
       "      <th>user_id</th>\n",
       "      <th>source</th>\n",
       "    </tr>\n",
       "  </thead>\n",
       "  <tbody>\n",
       "    <tr>\n",
       "      <th>0</th>\n",
       "      <td>0001f83c-c6ac-4621-b7f0-8a28b283ac30</td>\n",
       "      <td>facebook_ads</td>\n",
       "    </tr>\n",
       "    <tr>\n",
       "      <th>1</th>\n",
       "      <td>00151b4f-ba38-44a8-a650-d7cf130a0105</td>\n",
       "      <td>yandex_direct</td>\n",
       "    </tr>\n",
       "    <tr>\n",
       "      <th>2</th>\n",
       "      <td>001aaea6-3d14-43f1-8ca8-7f48820f17aa</td>\n",
       "      <td>youtube_channel_reklama</td>\n",
       "    </tr>\n",
       "    <tr>\n",
       "      <th>3</th>\n",
       "      <td>001d39dc-366c-4021-9604-6a3b9ff01e25</td>\n",
       "      <td>instagram_new_adverts</td>\n",
       "    </tr>\n",
       "    <tr>\n",
       "      <th>4</th>\n",
       "      <td>002f508f-67b6-479f-814b-b05f00d4e995</td>\n",
       "      <td>facebook_ads</td>\n",
       "    </tr>\n",
       "  </tbody>\n",
       "</table>\n",
       "</div>"
      ],
      "text/plain": [
       "                                user_id                   source\n",
       "0  0001f83c-c6ac-4621-b7f0-8a28b283ac30             facebook_ads\n",
       "1  00151b4f-ba38-44a8-a650-d7cf130a0105            yandex_direct\n",
       "2  001aaea6-3d14-43f1-8ca8-7f48820f17aa  youtube_channel_reklama\n",
       "3  001d39dc-366c-4021-9604-6a3b9ff01e25    instagram_new_adverts\n",
       "4  002f508f-67b6-479f-814b-b05f00d4e995             facebook_ads"
      ]
     },
     "metadata": {},
     "output_type": "display_data"
    }
   ],
   "source": [
    "display(user_source.head(5))"
   ]
  },
  {
   "cell_type": "code",
   "execution_count": 15,
   "id": "d9e286a3",
   "metadata": {
    "scrolled": true
   },
   "outputs": [
    {
     "data": {
      "text/plain": [
       "yandex_direct              4817\n",
       "instagram_new_adverts      3347\n",
       "facebook_ads               2726\n",
       "youtube_channel_reklama    2686\n",
       "Name: source, dtype: int64"
      ]
     },
     "metadata": {},
     "output_type": "display_data"
    }
   ],
   "source": [
    "# Проверка на наличие дубликатов\n",
    "display(user_source['source'].value_counts())"
   ]
  },
  {
   "cell_type": "code",
   "execution_count": 16,
   "id": "90bf8a0e",
   "metadata": {},
   "outputs": [
    {
     "data": {
      "text/html": [
       "<div>\n",
       "<style scoped>\n",
       "    .dataframe tbody tr th:only-of-type {\n",
       "        vertical-align: middle;\n",
       "    }\n",
       "\n",
       "    .dataframe tbody tr th {\n",
       "        vertical-align: top;\n",
       "    }\n",
       "\n",
       "    .dataframe thead th {\n",
       "        text-align: right;\n",
       "    }\n",
       "</style>\n",
       "<table border=\"1\" class=\"dataframe\">\n",
       "  <thead>\n",
       "    <tr style=\"text-align: right;\">\n",
       "      <th></th>\n",
       "      <th>source</th>\n",
       "      <th>day</th>\n",
       "      <th>cost</th>\n",
       "    </tr>\n",
       "  </thead>\n",
       "  <tbody>\n",
       "    <tr>\n",
       "      <th>0</th>\n",
       "      <td>facebook_ads</td>\n",
       "      <td>2020-05-03</td>\n",
       "      <td>935.882786</td>\n",
       "    </tr>\n",
       "    <tr>\n",
       "      <th>1</th>\n",
       "      <td>facebook_ads</td>\n",
       "      <td>2020-05-04</td>\n",
       "      <td>548.354480</td>\n",
       "    </tr>\n",
       "    <tr>\n",
       "      <th>2</th>\n",
       "      <td>facebook_ads</td>\n",
       "      <td>2020-05-05</td>\n",
       "      <td>260.185754</td>\n",
       "    </tr>\n",
       "    <tr>\n",
       "      <th>3</th>\n",
       "      <td>facebook_ads</td>\n",
       "      <td>2020-05-06</td>\n",
       "      <td>177.982200</td>\n",
       "    </tr>\n",
       "    <tr>\n",
       "      <th>4</th>\n",
       "      <td>facebook_ads</td>\n",
       "      <td>2020-05-07</td>\n",
       "      <td>111.766796</td>\n",
       "    </tr>\n",
       "    <tr>\n",
       "      <th>5</th>\n",
       "      <td>facebook_ads</td>\n",
       "      <td>2020-05-08</td>\n",
       "      <td>68.009276</td>\n",
       "    </tr>\n",
       "    <tr>\n",
       "      <th>6</th>\n",
       "      <td>facebook_ads</td>\n",
       "      <td>2020-05-09</td>\n",
       "      <td>38.723350</td>\n",
       "    </tr>\n",
       "    <tr>\n",
       "      <th>7</th>\n",
       "      <td>instagram_new_adverts</td>\n",
       "      <td>2020-05-03</td>\n",
       "      <td>943.204717</td>\n",
       "    </tr>\n",
       "    <tr>\n",
       "      <th>8</th>\n",
       "      <td>instagram_new_adverts</td>\n",
       "      <td>2020-05-04</td>\n",
       "      <td>502.925451</td>\n",
       "    </tr>\n",
       "    <tr>\n",
       "      <th>9</th>\n",
       "      <td>instagram_new_adverts</td>\n",
       "      <td>2020-05-05</td>\n",
       "      <td>313.970984</td>\n",
       "    </tr>\n",
       "    <tr>\n",
       "      <th>10</th>\n",
       "      <td>instagram_new_adverts</td>\n",
       "      <td>2020-05-06</td>\n",
       "      <td>173.071145</td>\n",
       "    </tr>\n",
       "    <tr>\n",
       "      <th>11</th>\n",
       "      <td>instagram_new_adverts</td>\n",
       "      <td>2020-05-07</td>\n",
       "      <td>109.915254</td>\n",
       "    </tr>\n",
       "    <tr>\n",
       "      <th>12</th>\n",
       "      <td>instagram_new_adverts</td>\n",
       "      <td>2020-05-08</td>\n",
       "      <td>71.578739</td>\n",
       "    </tr>\n",
       "    <tr>\n",
       "      <th>13</th>\n",
       "      <td>instagram_new_adverts</td>\n",
       "      <td>2020-05-09</td>\n",
       "      <td>46.775400</td>\n",
       "    </tr>\n",
       "    <tr>\n",
       "      <th>14</th>\n",
       "      <td>yandex_direct</td>\n",
       "      <td>2020-05-03</td>\n",
       "      <td>969.139394</td>\n",
       "    </tr>\n",
       "    <tr>\n",
       "      <th>15</th>\n",
       "      <td>yandex_direct</td>\n",
       "      <td>2020-05-04</td>\n",
       "      <td>554.651494</td>\n",
       "    </tr>\n",
       "    <tr>\n",
       "      <th>16</th>\n",
       "      <td>yandex_direct</td>\n",
       "      <td>2020-05-05</td>\n",
       "      <td>308.232990</td>\n",
       "    </tr>\n",
       "    <tr>\n",
       "      <th>17</th>\n",
       "      <td>yandex_direct</td>\n",
       "      <td>2020-05-06</td>\n",
       "      <td>180.917099</td>\n",
       "    </tr>\n",
       "    <tr>\n",
       "      <th>18</th>\n",
       "      <td>yandex_direct</td>\n",
       "      <td>2020-05-07</td>\n",
       "      <td>114.429338</td>\n",
       "    </tr>\n",
       "    <tr>\n",
       "      <th>19</th>\n",
       "      <td>yandex_direct</td>\n",
       "      <td>2020-05-08</td>\n",
       "      <td>62.961630</td>\n",
       "    </tr>\n",
       "    <tr>\n",
       "      <th>20</th>\n",
       "      <td>yandex_direct</td>\n",
       "      <td>2020-05-09</td>\n",
       "      <td>42.779505</td>\n",
       "    </tr>\n",
       "    <tr>\n",
       "      <th>21</th>\n",
       "      <td>youtube_channel_reklama</td>\n",
       "      <td>2020-05-03</td>\n",
       "      <td>454.224943</td>\n",
       "    </tr>\n",
       "    <tr>\n",
       "      <th>22</th>\n",
       "      <td>youtube_channel_reklama</td>\n",
       "      <td>2020-05-04</td>\n",
       "      <td>259.073224</td>\n",
       "    </tr>\n",
       "    <tr>\n",
       "      <th>23</th>\n",
       "      <td>youtube_channel_reklama</td>\n",
       "      <td>2020-05-05</td>\n",
       "      <td>147.041741</td>\n",
       "    </tr>\n",
       "    <tr>\n",
       "      <th>24</th>\n",
       "      <td>youtube_channel_reklama</td>\n",
       "      <td>2020-05-06</td>\n",
       "      <td>88.506074</td>\n",
       "    </tr>\n",
       "    <tr>\n",
       "      <th>25</th>\n",
       "      <td>youtube_channel_reklama</td>\n",
       "      <td>2020-05-07</td>\n",
       "      <td>55.740645</td>\n",
       "    </tr>\n",
       "    <tr>\n",
       "      <th>26</th>\n",
       "      <td>youtube_channel_reklama</td>\n",
       "      <td>2020-05-08</td>\n",
       "      <td>40.217907</td>\n",
       "    </tr>\n",
       "    <tr>\n",
       "      <th>27</th>\n",
       "      <td>youtube_channel_reklama</td>\n",
       "      <td>2020-05-09</td>\n",
       "      <td>23.314669</td>\n",
       "    </tr>\n",
       "  </tbody>\n",
       "</table>\n",
       "</div>"
      ],
      "text/plain": [
       "                     source         day        cost\n",
       "0              facebook_ads  2020-05-03  935.882786\n",
       "1              facebook_ads  2020-05-04  548.354480\n",
       "2              facebook_ads  2020-05-05  260.185754\n",
       "3              facebook_ads  2020-05-06  177.982200\n",
       "4              facebook_ads  2020-05-07  111.766796\n",
       "5              facebook_ads  2020-05-08   68.009276\n",
       "6              facebook_ads  2020-05-09   38.723350\n",
       "7     instagram_new_adverts  2020-05-03  943.204717\n",
       "8     instagram_new_adverts  2020-05-04  502.925451\n",
       "9     instagram_new_adverts  2020-05-05  313.970984\n",
       "10    instagram_new_adverts  2020-05-06  173.071145\n",
       "11    instagram_new_adverts  2020-05-07  109.915254\n",
       "12    instagram_new_adverts  2020-05-08   71.578739\n",
       "13    instagram_new_adverts  2020-05-09   46.775400\n",
       "14            yandex_direct  2020-05-03  969.139394\n",
       "15            yandex_direct  2020-05-04  554.651494\n",
       "16            yandex_direct  2020-05-05  308.232990\n",
       "17            yandex_direct  2020-05-06  180.917099\n",
       "18            yandex_direct  2020-05-07  114.429338\n",
       "19            yandex_direct  2020-05-08   62.961630\n",
       "20            yandex_direct  2020-05-09   42.779505\n",
       "21  youtube_channel_reklama  2020-05-03  454.224943\n",
       "22  youtube_channel_reklama  2020-05-04  259.073224\n",
       "23  youtube_channel_reklama  2020-05-05  147.041741\n",
       "24  youtube_channel_reklama  2020-05-06   88.506074\n",
       "25  youtube_channel_reklama  2020-05-07   55.740645\n",
       "26  youtube_channel_reklama  2020-05-08   40.217907\n",
       "27  youtube_channel_reklama  2020-05-09   23.314669"
      ]
     },
     "metadata": {},
     "output_type": "display_data"
    },
    {
     "name": "stdout",
     "output_type": "stream",
     "text": [
      "<class 'pandas.core.frame.DataFrame'>\n",
      "RangeIndex: 28 entries, 0 to 27\n",
      "Data columns (total 3 columns):\n",
      " #   Column  Non-Null Count  Dtype  \n",
      "---  ------  --------------  -----  \n",
      " 0   source  28 non-null     object \n",
      " 1   day     28 non-null     object \n",
      " 2   cost    28 non-null     float64\n",
      "dtypes: float64(1), object(2)\n",
      "memory usage: 800.0+ bytes\n"
     ]
    },
    {
     "data": {
      "text/plain": [
       "None"
      ]
     },
     "metadata": {},
     "output_type": "display_data"
    }
   ],
   "source": [
    "display(ad_cost)\n",
    "display(ad_cost.info())"
   ]
  },
  {
   "cell_type": "code",
   "execution_count": 17,
   "id": "2a56a15c",
   "metadata": {},
   "outputs": [],
   "source": [
    "# Перевожу время в datetime\n",
    "ad_cost['day'] = pd.to_datetime(ad_cost['day'])"
   ]
  },
  {
   "cell_type": "markdown",
   "id": "54ec456a",
   "metadata": {},
   "source": [
    "<div class=\"alert alert-info\" style=\"background:rgba(135, 206, 235, 0.05);color:#080808\">\n",
    "\n",
    "- Дубликатов нет.\n",
    "- Пропуски намеренные и действительно означают отсутствие значения.\n",
    "- Время было в формате object, перевел в datetime.\n",
    "</div>"
   ]
  },
  {
   "cell_type": "code",
   "execution_count": 18,
   "id": "f479b769",
   "metadata": {},
   "outputs": [],
   "source": [
    "# Добавляю источник привлечения для каждого пользователя\n",
    "game_actions = game_actions.merge(user_source, on='user_id', how='outer')"
   ]
  },
  {
   "cell_type": "code",
   "execution_count": 19,
   "id": "cca0ec9b",
   "metadata": {},
   "outputs": [],
   "source": [
    "# Добавляю дату первого действия для каждого клиента и дельту с этой датой для каждого действия\n",
    "first_action = (\n",
    "    game_actions.groupby('user_id')\n",
    "    .agg({'event_datetime': 'min'}, asindex=False)\n",
    "    .reset_index()\n",
    "    .sort_values(by='event_datetime')\n",
    ")\n",
    "first_action = first_action.rename(columns = {'event_datetime' : 'first_action'})"
   ]
  },
  {
   "cell_type": "code",
   "execution_count": 20,
   "id": "d81041fb",
   "metadata": {},
   "outputs": [],
   "source": [
    "# Добавляю эти даты в общие данные\n",
    "game_actions = game_actions.merge(first_action, on='user_id', how='left')"
   ]
  },
  {
   "cell_type": "code",
   "execution_count": 21,
   "id": "642a530c",
   "metadata": {},
   "outputs": [
    {
     "data": {
      "text/plain": [
       "2020-05-04    64226\n",
       "2020-05-05    34757\n",
       "2020-05-06    17399\n",
       "2020-05-07     9429\n",
       "2020-05-08     5121\n",
       "2020-05-09     3025\n",
       "2020-05-10     1683\n",
       "Name: first_action, dtype: int64"
      ]
     },
     "execution_count": 21,
     "metadata": {},
     "output_type": "execute_result"
    }
   ],
   "source": [
    "# Проверяю, что даты привлечения совпадают с датами рекламы.\n",
    "pd.to_datetime(game_actions['first_action']).dt.date.value_counts()"
   ]
  },
  {
   "cell_type": "markdown",
   "id": "5ddf82c1",
   "metadata": {},
   "source": [
    "<div class=\"alert alert-info\" style=\"background:rgba(135, 206, 235, 0.05);color:#080808\">\n",
    "\n",
    "- Все игроки сделали первое действие в течение недели. Так как реклама оплачивалась авансом есть смещение в 1 день.\n",
    "</div>"
   ]
  },
  {
   "cell_type": "code",
   "execution_count": 22,
   "id": "93611f2f",
   "metadata": {},
   "outputs": [],
   "source": [
    "# Добавляю один день к рекламе, таким образом деньги выплаченные авансом попадают на тот день, на который они были выделены.\n",
    "ad_cost['day'] = ad_cost['day'] + pd.Timedelta(days=1)"
   ]
  },
  {
   "cell_type": "code",
   "execution_count": 23,
   "id": "7ed891cc",
   "metadata": {
    "scrolled": true
   },
   "outputs": [
    {
     "data": {
      "text/plain": [
       "2020-05-05    4\n",
       "2020-05-09    4\n",
       "2020-05-06    4\n",
       "2020-05-10    4\n",
       "2020-05-07    4\n",
       "2020-05-04    4\n",
       "2020-05-08    4\n",
       "Name: day, dtype: int64"
      ]
     },
     "execution_count": 23,
     "metadata": {},
     "output_type": "execute_result"
    }
   ],
   "source": [
    "# Проверка, что даты совпадают с датами выше.\n",
    "ad_cost['day'].value_counts()"
   ]
  },
  {
   "cell_type": "code",
   "execution_count": 24,
   "id": "e9a87df1",
   "metadata": {
    "scrolled": false
   },
   "outputs": [],
   "source": [
    "# Добавляю колонку с дельтой времени в днях между первым действием и действием в строке.\n",
    "game_actions['time_delta'] = (game_actions['event_datetime'] - game_actions['first_action']).dt.days.astype(int)"
   ]
  },
  {
   "cell_type": "code",
   "execution_count": 25,
   "id": "361068ca",
   "metadata": {},
   "outputs": [],
   "source": [
    "# Создаю отдельный датафрейм с теми, кто перешел на следующий уровень.\n",
    "game_finished = game_actions[game_actions['event'] == 'finished_stage_1']"
   ]
  },
  {
   "cell_type": "code",
   "execution_count": 26,
   "id": "6eceef0e",
   "metadata": {},
   "outputs": [],
   "source": [
    "# Список с теми, кто перешел на следующий уровень через проект.\n",
    "game_finished_project_ids = game_actions[game_actions['project_type'] == 'satellite_orbital_assembly']['user_id'].to_list()\n",
    "# Список с теми, кто перешел на следующий уровень\n",
    "game_finished_ids = game_finished['user_id'].to_list()"
   ]
  },
  {
   "cell_type": "code",
   "execution_count": 27,
   "id": "556d4023",
   "metadata": {},
   "outputs": [],
   "source": [
    "# Отдельные датасеты с разными условиями лвл-апа\n",
    "game_finished_battle = game_finished.query('user_id not in @game_finished_project_ids')\n",
    "game_finished_project = game_finished.query('user_id in @game_finished_project_ids')"
   ]
  },
  {
   "cell_type": "code",
   "execution_count": 28,
   "id": "58fa9075",
   "metadata": {},
   "outputs": [
    {
     "name": "stdout",
     "output_type": "stream",
     "text": [
      "Проверка, что пользователи не переходили на следующий уровень больше 1 раза.\n",
      "True\n"
     ]
    }
   ],
   "source": [
    "print('Проверка, что пользователи не переходили на следующий уровень больше 1 раза.')\n",
    "print(len(game_finished) == game_finished['user_id'].nunique())"
   ]
  },
  {
   "cell_type": "code",
   "execution_count": 29,
   "id": "cb5e2db4",
   "metadata": {},
   "outputs": [
    {
     "name": "stdout",
     "output_type": "stream",
     "text": [
      "Проверка, что пользователь дважды не был привлечен рекламой.\n",
      "True\n"
     ]
    }
   ],
   "source": [
    "print('Проверка, что пользователь дважды не был привлечен рекламой.')\n",
    "print(len(user_source) == user_source['user_id'].nunique())"
   ]
  },
  {
   "cell_type": "code",
   "execution_count": 30,
   "id": "b6c3fb0e",
   "metadata": {},
   "outputs": [],
   "source": [
    "# Добавляю даты привлечения в таблицу с источниками привлечения.\n",
    "user_source = user_source.merge(first_action, on='user_id', how='outer')"
   ]
  },
  {
   "cell_type": "code",
   "execution_count": 31,
   "id": "48329d91",
   "metadata": {},
   "outputs": [
    {
     "data": {
      "text/plain": [
       "building_type\n",
       "assembly_shop         0\n",
       "research_center    5905\n",
       "spaceport           345\n",
       "dtype: int64"
      ]
     },
     "execution_count": 31,
     "metadata": {},
     "output_type": "execute_result"
    }
   ],
   "source": [
    "# Проверка, что каждый игрок построил хотя бы одно здание (в данном случае assembly_shop)\n",
    "game_actions.pivot_table(index='user_id', columns='building_type', values='event', aggfunc='count').isna().sum()"
   ]
  },
  {
   "cell_type": "markdown",
   "id": "1023d8a3",
   "metadata": {},
   "source": [
    "<div class=\"alert alert-info\" style=\"background:rgba(135, 206, 235, 0.05);color:#080808\">\n",
    "    \n",
    "- Все проверки указывают на то, что данные верны и можно приступать к анализу.\n",
    "- Каждый игрок хотя бы раз строил здание.\n",
    "- Расходы на рекламу сдвинуты на 1 день, чтобы выпадать на дату, в которую получаем прибыль с этой рекламы.\n",
    "</div>"
   ]
  },
  {
   "cell_type": "markdown",
   "id": "f8241501",
   "metadata": {},
   "source": [
    "## Исследовательский анализ данных\n",
    "<a class=\"anchor\" id=\"paragraph2\"></a>"
   ]
  },
  {
   "cell_type": "code",
   "execution_count": 32,
   "id": "ea31ef6b",
   "metadata": {},
   "outputs": [],
   "source": [
    "# Возьмем горизонт в 21 день, чтобы лайфтайм всех участников был сопоставим\n",
    "observation_date = datetime(2020, 6, 6).date()  # момент анализа\n",
    "horizon_days = 21  # горизонт анализа"
   ]
  },
  {
   "cell_type": "code",
   "execution_count": 33,
   "id": "a6fc383f",
   "metadata": {},
   "outputs": [],
   "source": [
    "# Предположим, что реклама появляется каждый раз при открытии окна постройки. Посчитаем потенциальную прибыль при таком подходе.\n",
    "# Сколько мы получаем с клиента, которому не показывается реклама\n",
    "default_no_ad_revenue = 0\n",
    "# Сколько мы получаем с клиента, которому показывается реклама\n",
    "default_ad_revenue = 0.07\n",
    "game_actions['revenue'] = default_no_ad_revenue\n",
    "game_actions.loc[game_actions['event'] == 'building', 'revenue'] = default_ad_revenue\n",
    "game_actions.loc[game_actions['event'] != 'building', 'revenue'] = default_no_ad_revenue"
   ]
  },
  {
   "cell_type": "code",
   "execution_count": 34,
   "id": "45354e67",
   "metadata": {},
   "outputs": [],
   "source": [
    "payments = game_actions[['user_id', 'event_datetime', 'revenue']]"
   ]
  },
  {
   "cell_type": "code",
   "execution_count": 35,
   "id": "37e2a7c3",
   "metadata": {},
   "outputs": [],
   "source": [
    "# Добавляю параметр лвл-ап\n",
    "game_finished['lvlup'] = True\n",
    "game_actions = game_actions.merge(game_finished[['user_id', 'lvlup']], on='user_id', how='outer')\n",
    "game_actions['lvlup'] = game_actions['lvlup'].fillna('False')"
   ]
  },
  {
   "cell_type": "code",
   "execution_count": 36,
   "id": "e5958070",
   "metadata": {
    "scrolled": true
   },
   "outputs": [],
   "source": [
    "# Добавляю условие лвл-апа\n",
    "game_finished_battle['condition_battle'] = 'battle'\n",
    "game_finished_project['condition_project'] = 'project'\n",
    "game_actions = game_actions.merge(game_finished_battle[['user_id', 'condition_battle']], on='user_id', how='left')\n",
    "game_actions = game_actions.merge(game_finished_project[['user_id', 'condition_project']], on='user_id', how='left')"
   ]
  },
  {
   "cell_type": "code",
   "execution_count": 37,
   "id": "5ff6e512",
   "metadata": {},
   "outputs": [],
   "source": [
    "conditions = [\n",
    "    (game_actions['condition_battle'] == 'battle'),\n",
    "    (game_actions['condition_project'] == 'project')\n",
    "]\n",
    "choices = ['battle', 'project']\n",
    "game_actions['condition'] = np.select(conditions, choices)\n",
    "game_actions = game_actions.drop(['condition_battle', 'condition_project'], axis=1)"
   ]
  },
  {
   "cell_type": "code",
   "execution_count": 38,
   "id": "c9f92fcc",
   "metadata": {},
   "outputs": [],
   "source": [
    "# Создаю профили\n",
    "profiles = get_profiles(game_actions, payments, ad_cost)"
   ]
  },
  {
   "cell_type": "code",
   "execution_count": 39,
   "id": "69309087",
   "metadata": {},
   "outputs": [],
   "source": [
    "lvlup_count = game_actions.groupby('lvlup').agg({'user_id' : 'nunique'}).reset_index()"
   ]
  },
  {
   "cell_type": "code",
   "execution_count": 54,
   "id": "f9f65aa8",
   "metadata": {},
   "outputs": [
    {
     "data": {
      "image/png": "[encoded data removed]",
      "text/plain": [
       "<Figure size 792x792 with 1 Axes>"
      ]
     },
     "metadata": {},
     "output_type": "display_data"
    }
   ],
   "source": [
    "# Распределение клиентов по лвл-апам\n",
    "fig = plt.gcf()\n",
    "fig.set_size_inches(11,11)\n",
    "ax2 = plt.subplot(1, 2, 1)\n",
    "total = sum(lvlup_count['user_id'])\n",
    "plt.pie(\n",
    "    x=lvlup_count['user_id'], labels=lvlup_count['lvlup'],\n",
    "    autopct=lambda p: '{:.0f}'.format(p * total / 100)\n",
    ")\n",
    "plt.title('Пользователь переходил на следующий уровень')\n",
    "plt.show()"
   ]
  },
  {
   "cell_type": "markdown",
   "id": "1bb0f88a",
   "metadata": {},
   "source": [
    "<div class=\"alert alert-info\" style=\"background:rgba(135, 206, 235, 0.05);color:#080808\">\n",
    "    \n",
    "- Общая конверсия в целевое действие - 42.8%. Показатель не слишком высокий, его можно улучшить, например, ускорив или упростив переход на следующий уровень.\n",
    "</div>"
   ]
  },
  {
   "cell_type": "code",
   "execution_count": 40,
   "id": "cf8de0f5",
   "metadata": {
    "scrolled": false
   },
   "outputs": [
    {
     "data": {
      "image/png": "[encoded data removed]",
      "text/plain": [
       "<Figure size 432x288 with 1 Axes>"
      ]
     },
     "metadata": {
      "needs_background": "light"
     },
     "output_type": "display_data"
    }
   ],
   "source": [
    "# Сравнение переходов на следующий уровень\n",
    "x = game_finished.query('user_id not in @game_finished_project_ids')['time_delta']\n",
    "y = game_finished.query('user_id in @game_finished_project_ids')['time_delta']\n",
    "bins = np.linspace(0, 30, 30)\n",
    "plt.title('Момент перехода на следующий уровень')\n",
    "plt.ylim([0, 700])\n",
    "plt.hist(x, bins, alpha=0.8, color=\"#FFC373\", edgecolor='k', label='Победа')\n",
    "plt.hist(y, bins, alpha=0.8, color=\"#66A3D2\", edgecolor='k', label='Проект')\n",
    "plt.xlabel('Дней')\n",
    "plt.ylabel('Количество игроков')\n",
    "plt.legend(loc='upper right')\n",
    "plt.show()"
   ]
  },
  {
   "cell_type": "markdown",
   "id": "ac96c917",
   "metadata": {},
   "source": [
    "<div class=\"alert alert-info\" style=\"background:rgba(135, 206, 235, 0.05);color:#080808\">\n",
    "    \n",
    "- На данном этапе гипотеза о том, что переход на следующий уровень через проект занимает больше времени выглядит убедительно. Мы к ней еще вернемся, однако уже сейчас можно сказать, что тем, кто повышал уровень через проект потребовалось минимум 5 дней на выполнение задачи. В то время как через победу кто-то успевал за 1 день. У этого есть свои плюсы и минусы, которые распишу в выводах.\n",
    "</div>"
   ]
  },
  {
   "cell_type": "code",
   "execution_count": 41,
   "id": "e9e70463",
   "metadata": {},
   "outputs": [
    {
     "data": {
      "text/plain": [
       "count    5817.000000\n",
       "mean       11.362214\n",
       "std         4.080387\n",
       "min         0.000000\n",
       "25%         9.000000\n",
       "50%        11.000000\n",
       "75%        14.000000\n",
       "max        30.000000\n",
       "Name: time_delta, dtype: float64"
      ]
     },
     "execution_count": 41,
     "metadata": {},
     "output_type": "execute_result"
    }
   ],
   "source": [
    "game_finished['time_delta'].describe()"
   ]
  },
  {
   "cell_type": "markdown",
   "id": "25eff839",
   "metadata": {},
   "source": [
    "<div class=\"alert alert-info\" style=\"background:rgba(135, 206, 235, 0.05);color:#080808\">\n",
    "\n",
    "- Среднее время перехода на следующий уровень - 11 дней. Одна из основных задач - целевое действие, то есть переход на следующий уровень, занимает довольно много времени. Возможно есть смысл ускорить время развития игроков (для этого не обязательно уменьшать количество действий в игре).\n",
    "\n",
    "</div>"
   ]
  },
  {
   "cell_type": "code",
   "execution_count": 42,
   "id": "fb99bf2f",
   "metadata": {},
   "outputs": [],
   "source": [
    "buildings_per_player = game_actions.groupby('user_id').agg({'building_type' : 'value_counts'})\n",
    "buildings_per_player = buildings_per_player.rename(columns = {'building_type' : 'amount'}).reset_index()"
   ]
  },
  {
   "cell_type": "markdown",
   "id": "99da4998",
   "metadata": {},
   "source": [
    "<div class=\"alert alert-info\" style=\"background:rgba(135, 206, 235, 0.05);color:#080808\">\n",
    "\n",
    "- Ниже сравнение количества построек для игроков с разными условиями перехода (или не перехода) на следующий уровень.\n",
    "\n",
    "</div>"
   ]
  },
  {
   "cell_type": "code",
   "execution_count": 43,
   "id": "a47796bb",
   "metadata": {},
   "outputs": [
    {
     "data": {
      "image/png": "[encoded data removed]",
      "text/plain": [
       "<Figure size 432x288 with 1 Axes>"
      ]
     },
     "metadata": {
      "needs_background": "light"
     },
     "output_type": "display_data"
    }
   ],
   "source": [
    "sns.boxplot(data=buildings_per_player, x=\"amount\", y=\"building_type\", order=['spaceport', 'assembly_shop', 'research_center'])\n",
    "plt.xlabel(\"Количество\")\n",
    "plt.ylabel(\"Вид постройки\")\n",
    "plt.title(\"Все игроки\")\n",
    "plt.show()"
   ]
  },
  {
   "cell_type": "code",
   "execution_count": 44,
   "id": "e72ec90c",
   "metadata": {},
   "outputs": [
    {
     "data": {
      "image/png": "[encoded data removed]",
      "text/plain": [
       "<Figure size 432x288 with 1 Axes>"
      ]
     },
     "metadata": {
      "needs_background": "light"
     },
     "output_type": "display_data"
    }
   ],
   "source": [
    "sns.boxplot(\n",
    "    data=buildings_per_player.query(\n",
    "        'user_id in @game_finished_project_ids'\n",
    "    ), x=\"amount\", y=\"building_type\", order=['spaceport', 'assembly_shop', 'research_center']\n",
    ")\n",
    "plt.xlabel(\"Количество\")\n",
    "plt.ylabel(\"Вид постройки\")\n",
    "plt.title(\"Лвл-ап через проект\")\n",
    "plt.show()"
   ]
  },
  {
   "cell_type": "code",
   "execution_count": 45,
   "id": "e59857bd",
   "metadata": {},
   "outputs": [
    {
     "data": {
      "image/png": "[encoded data removed]",
      "text/plain": [
       "<Figure size 432x288 with 1 Axes>"
      ]
     },
     "metadata": {
      "needs_background": "light"
     },
     "output_type": "display_data"
    }
   ],
   "source": [
    "sns.boxplot(\n",
    "    data=buildings_per_player.query(\n",
    "        'user_id not in @game_finished_project_ids & user_id in @game_finished_ids '\n",
    "    ), x=\"amount\", y=\"building_type\", order=['spaceport', 'assembly_shop', 'research_center']\n",
    ")\n",
    "plt.xlabel(\"Количество\")\n",
    "plt.ylabel(\"Вид постройки\")\n",
    "plt.title(\"Лвл-ап через победу\")\n",
    "plt.show()"
   ]
  },
  {
   "cell_type": "code",
   "execution_count": 46,
   "id": "86dd8827",
   "metadata": {},
   "outputs": [
    {
     "data": {
      "image/png": "[encoded data removed]",
      "text/plain": [
       "<Figure size 432x288 with 1 Axes>"
      ]
     },
     "metadata": {
      "needs_background": "light"
     },
     "output_type": "display_data"
    }
   ],
   "source": [
    "sns.boxplot(\n",
    "    data=buildings_per_player.query(\n",
    "        'user_id not in @game_finished_ids'\n",
    "    ), x=\"amount\", y=\"building_type\", order=['spaceport', 'assembly_shop', 'research_center']\n",
    ")\n",
    "plt.xlabel(\"Количество\")\n",
    "plt.ylabel(\"Вид постройки\")\n",
    "plt.title(\"Нет лвл-апа\")\n",
    "plt.show()"
   ]
  },
  {
   "cell_type": "markdown",
   "id": "2e867626",
   "metadata": {},
   "source": [
    "<div class=\"alert alert-info\" style=\"background:rgba(135, 206, 235, 0.05);color:#080808\">\n",
    "\n",
    "- Средние и медианные показатели по количеству построенных зданий меньше всего у тех, кто не перешел на следующий уровень. Что было ожидаемо.\n",
    "- Что интересно, медианные показатели у тех, кто получил лвл-ап через победу такие же, как и у тех, кто на следующий уровень не перешел.\n",
    "- Те кто сделал проект, строили гораздо больше, особеннно спейспортов.\n",
    "- Из этого напрашивается вывод, что, за более быстрый переход на следующий уровень через бой, мы платим меньшим количеством построек, то есть меньшим количеством показов рекламы.\n",
    "</div>"
   ]
  },
  {
   "cell_type": "markdown",
   "id": "a88e33b9",
   "metadata": {},
   "source": [
    "## Проверка гипотез \n",
    "<a class=\"anchor\" id=\"paragraph3\"></a>"
   ]
  },
  {
   "cell_type": "markdown",
   "id": "3c05c9fa",
   "metadata": {},
   "source": [
    "<div class=\"alert alert-info\" style=\"background:rgba(135, 206, 235, 0.05);color:#080808\">\n",
    "    \n",
    "<b>Гипотеза №1</b>\n",
    "    \n",
    "- Среднее время перехода на следующий уровень отличается в зависимости от способа.\n",
    "    \n",
    "<b>Альтернативная Гипотеза №1</b>\n",
    "    \n",
    "- Среднее время перехода на следующий уровень не отличается в зависимости от способа.\n",
    "    \n",
    "</div>"
   ]
  },
  {
   "cell_type": "code",
   "execution_count": 47,
   "id": "c4c6ed52",
   "metadata": {},
   "outputs": [
    {
     "name": "stdout",
     "output_type": "stream",
     "text": [
      "p-значение: 1.8882835392369192e-97\n",
      "Отвергаем нулевую гипотезу. Среднее время перехода на следующий уровень отличается в зависимости от способа.\n"
     ]
    }
   ],
   "source": [
    "alpha = 0.05\n",
    "\n",
    "results = st.ttest_ind(game_finished_project['time_delta'], game_finished_battle['time_delta'])\n",
    "\n",
    "print('p-значение:', results.pvalue)\n",
    "\n",
    "if results.pvalue < alpha:\n",
    "    print(\"Отвергаем нулевую гипотезу. Среднее время перехода на следующий уровень отличается в зависимости от способа.\")\n",
    "else:\n",
    "    print(\"Не получилось отвергнуть нулевую гипотезу. Нет оснований считать, что среднее время перехода на следующий уровень отличается в зависимости от способа.\")"
   ]
  },
  {
   "cell_type": "markdown",
   "id": "659152b9",
   "metadata": {},
   "source": [
    "<div class=\"alert alert-info\" style=\"background:rgba(135, 206, 235, 0.05);color:#080808\">\n",
    "    \n",
    "- Как и предполагалось, есть значительная разница в скорости перехода на следующий уровень между теми, кто победил в битве и теми, кто закончил проект. Скорее всего, благодаря этому, больше людей переходит на следующий уровень через победу, в то время, как больше построек приходится на тех, кто переходит через проект. Каждая когорта выполняет одну из двух основных задач - окупаемость рекламы и быстрый переход в целевое действие. Убедимся, что количество построек выше у проекта ниже.\n",
    "</div>"
   ]
  },
  {
   "cell_type": "markdown",
   "id": "92e7ca31",
   "metadata": {},
   "source": [
    "<div class=\"alert alert-info\" style=\"background:rgba(135, 206, 235, 0.05);color:#080808\">\n",
    "    \n",
    "<b>Гипотеза №2</b>\n",
    "    \n",
    "- Количество построек отличается в зависимости от способа перехода на следующий уровень.\n",
    "    \n",
    "<b>Альтернативная Гипотеза №2</b>\n",
    "    \n",
    "- Количество построек не отличается в зависимости от способа перехода на следующий уровень.\n",
    "    \n",
    "</div>"
   ]
  },
  {
   "cell_type": "code",
   "execution_count": 48,
   "id": "adbb17f8",
   "metadata": {},
   "outputs": [],
   "source": [
    "buildings_battle = (\n",
    "    buildings_per_player.query(\n",
    "        'user_id not in @game_finished_project_ids & user_id in @game_finished_ids'\n",
    "    ).groupby('user_id').agg({'amount' : 'sum'})\n",
    ")\n",
    "\n",
    "buildings_project = (\n",
    "    buildings_per_player.query(\n",
    "        'user_id in @game_finished_project_ids'\n",
    "    ).groupby('user_id').agg({'amount' : 'sum'})\n",
    ")"
   ]
  },
  {
   "cell_type": "code",
   "execution_count": 49,
   "id": "de13b5a0",
   "metadata": {
    "scrolled": false
   },
   "outputs": [
    {
     "name": "stdout",
     "output_type": "stream",
     "text": [
      "Количество построек, проект.\n",
      "\n",
      "Среднее: amount    12.64791\n",
      "dtype: float64\n",
      "\n",
      "Медианное: amount    12.0\n",
      "dtype: float64\n"
     ]
    }
   ],
   "source": [
    "print('Количество построек, проект.')\n",
    "print()\n",
    "print('Среднее:', buildings_project.mean())\n",
    "print()\n",
    "print('Медианное:', buildings_project.median())"
   ]
  },
  {
   "cell_type": "code",
   "execution_count": 50,
   "id": "f4bd800b",
   "metadata": {
    "scrolled": false
   },
   "outputs": [
    {
     "name": "stdout",
     "output_type": "stream",
     "text": [
      "Количество построек, бой.\n",
      "\n",
      "Среднее: amount    9.411541\n",
      "dtype: float64\n",
      "\n",
      "Медианное: amount    10.0\n",
      "dtype: float64\n"
     ]
    }
   ],
   "source": [
    "print('Количество построек, бой.')\n",
    "print()\n",
    "print('Среднее:', buildings_battle.mean())\n",
    "print()\n",
    "print('Медианное:', buildings_battle.median())"
   ]
  },
  {
   "cell_type": "code",
   "execution_count": 51,
   "id": "613ee870",
   "metadata": {},
   "outputs": [
    {
     "name": "stdout",
     "output_type": "stream",
     "text": [
      "p-значение: 0.0\n",
      "Отвергаем нулевую гипотезу. Количество построек отличается в зависимости от способа перехода на следующий уровень.\n"
     ]
    }
   ],
   "source": [
    "alpha = 0.05\n",
    "\n",
    "results = st.ttest_ind(buildings_battle['amount'], buildings_project['amount'])\n",
    "\n",
    "print('p-значение:', results.pvalue)\n",
    "\n",
    "if results.pvalue < alpha:\n",
    "    print(\"Отвергаем нулевую гипотезу. Количество построек отличается в зависимости от способа перехода на следующий уровень.\")\n",
    "else:\n",
    "    print(\"Не получилось отвергнуть нулевую гипотезу. Нет оснований считать, что количество построек отличается в зависимости от способа перехода на следующий уровень.\")"
   ]
  },
  {
   "cell_type": "markdown",
   "id": "d8b09f25",
   "metadata": {},
   "source": [
    "<div class=\"alert alert-info\" style=\"background:rgba(135, 206, 235, 0.05);color:#080808\">\n",
    "\n",
    "- Действительно, для проекта требуется больше построек и больше времени, поэтому количество построек у данной когорты значительно выше в среднем и по медиане. Это в свою очередь означает, что потенциальная прибыль с каждого такого игрока выше, чем с тех, кто выигрывают бои. С другой стороны, удержать таких пользователей может быть сложнее, так как целевое действие требует больше времени и количество рекламы до целевого действия значительно выше.\n",
    "</div>"
   ]
  },
  {
   "cell_type": "code",
   "execution_count": 52,
   "id": "198f75c4",
   "metadata": {},
   "outputs": [
    {
     "data": {
      "image/png": "[encoded data removed]",
      "text/plain": [
       "<Figure size 1080x720 with 1 Axes>"
      ]
     },
     "metadata": {
      "needs_background": "light"
     },
     "output_type": "display_data"
    }
   ],
   "source": [
    "# смотрим удержание с разбивкой по источнику\n",
    "dimensions = ['source']\n",
    "\n",
    "retention_raw, retention_grouped, retention_history = get_retention(\n",
    "    profiles, game_actions, observation_date, horizon_days, dimensions=dimensions\n",
    ")\n",
    "\n",
    "plot_retention(retention_grouped, retention_history, horizon_days) "
   ]
  },
  {
   "cell_type": "code",
   "execution_count": 53,
   "id": "ff6a6217",
   "metadata": {},
   "outputs": [
    {
     "data": {
      "image/png": "[encoded data removed]",
      "text/plain": [
       "<Figure size 1080x720 with 1 Axes>"
      ]
     },
     "metadata": {
      "needs_background": "light"
     },
     "output_type": "display_data"
    }
   ],
   "source": [
    "# смотрим удержание с разбивкой по лвл-апу\n",
    "dimensions = ['lvlup']\n",
    "\n",
    "retention_raw, retention_grouped, retention_history = get_retention(\n",
    "    profiles, game_actions, observation_date, horizon_days, dimensions=dimensions\n",
    ")\n",
    "\n",
    "plot_retention(retention_grouped, retention_history, horizon_days) "
   ]
  },
  {
   "cell_type": "code",
   "execution_count": 54,
   "id": "565c1272",
   "metadata": {},
   "outputs": [
    {
     "data": {
      "image/png": "[encoded data removed]",
      "text/plain": [
       "<Figure size 1080x720 with 1 Axes>"
      ]
     },
     "metadata": {
      "needs_background": "light"
     },
     "output_type": "display_data"
    }
   ],
   "source": [
    "# смотрим удержание с разбивкой по способу лвл-апа\n",
    "dimensions = ['condition']\n",
    "\n",
    "retention_raw, retention_grouped, retention_history = get_retention(\n",
    "    profiles, game_actions, observation_date, horizon_days, dimensions=dimensions\n",
    ")\n",
    "\n",
    "plot_retention(retention_grouped, retention_history, horizon_days) "
   ]
  },
  {
   "cell_type": "markdown",
   "id": "150d8866",
   "metadata": {},
   "source": [
    "<div class=\"alert alert-info\" style=\"background:rgba(135, 206, 235, 0.05);color:#080808\">\n",
    "\n",
    "- Показатели удержания среди тех, кто не получал лвл-ап и тех, кто получил его за победу очень близки. Выгодно выделяются те, кто делал проект. Скорее всего это связано с тем, что проект занимает больше времени, а также требует больше построек для выполнения задачи.\n",
    "- Показатели удержания для разных источников практически идентичны.\n",
    "- Важно учитывать, что это не чистый отток, так как после получения лвл-апа мы не видим действий пользователей.\n",
    "</div>"
   ]
  },
  {
   "cell_type": "markdown",
   "id": "304e5492",
   "metadata": {},
   "source": [
    "## Формирование модели монетизации.\n",
    "<a class=\"anchor\" id=\"paragraph4\"></a>"
   ]
  },
  {
   "cell_type": "markdown",
   "id": "6ee67866",
   "metadata": {},
   "source": [
    "<div class=\"alert alert-info\" style=\"background:rgba(135, 206, 235, 0.05);color:#080808\">\n",
    "    \n",
    "<b>Модель №1</b>\n",
    "\n",
    "- Модель монетизации предложенная маркетологами, где каждая постройка имеет показ рекламы с доходностью в 0.07 долларов. Таким образом я рассматриваю каждую постройку как доход в 0.07 долларов и строю графики ROI и LTV исходя из этих параметров.\n",
    "    \n",
    "</div>"
   ]
  },
  {
   "cell_type": "code",
   "execution_count": 55,
   "id": "3f730768",
   "metadata": {},
   "outputs": [
    {
     "data": {
      "image/png": "[encoded data removed]",
      "text/plain": [
       "<Figure size 1440x504 with 2 Axes>"
      ]
     },
     "metadata": {
      "needs_background": "light"
     },
     "output_type": "display_data"
    }
   ],
   "source": [
    "ltv_raw, ltv_grouped, ltv_history, roi_grouped, roi_history = get_ltv(\n",
    "    profiles, payments, observation_date, horizon_days)\n",
    "\n",
    "# строим графики\n",
    "plot_ltv_roi(ltv_grouped, ltv_history, roi_grouped, roi_history, horizon_days) "
   ]
  },
  {
   "cell_type": "markdown",
   "id": "96501607",
   "metadata": {},
   "source": [
    "<div class=\"alert alert-info\" style=\"background:rgba(135, 206, 235, 0.05);color:#080808\">\n",
    "    \n",
    "- Видно, что окупаемость наступает после 10 дня лайфтайма.\n",
    "- Рост после 15 дня практически прекращается.\n",
    "    \n",
    "</div>"
   ]
  },
  {
   "cell_type": "code",
   "execution_count": 56,
   "id": "5114c543",
   "metadata": {},
   "outputs": [
    {
     "data": {
      "image/png": "[encoded data removed]",
      "text/plain": [
       "<Figure size 1440x504 with 2 Axes>"
      ]
     },
     "metadata": {
      "needs_background": "light"
     },
     "output_type": "display_data"
    }
   ],
   "source": [
    "dimensions = ['source']\n",
    "\n",
    "ltv_raw, ltv_grouped, ltv_history, roi_grouped, roi_history = get_ltv(\n",
    "    profiles, payments, observation_date, horizon_days, dimensions=dimensions)\n",
    "\n",
    "# строим графики\n",
    "plot_ltv_roi(ltv_grouped, ltv_history, roi_grouped, roi_history, horizon_days) "
   ]
  },
  {
   "cell_type": "markdown",
   "id": "22ac490a",
   "metadata": {},
   "source": [
    "<div class=\"alert alert-info\" style=\"background:rgba(135, 206, 235, 0.05);color:#080808\">\n",
    "    \n",
    "- Facebook явно не окупается, находится в районе 0.8 ROI.\n",
    "- Яндекс директ и Youtube однозначные лидеры по доходности (выше 1.4 ROI).\n",
    "    \n",
    "</div>"
   ]
  },
  {
   "cell_type": "code",
   "execution_count": 57,
   "id": "adf23425",
   "metadata": {},
   "outputs": [
    {
     "data": {
      "image/png": "[encoded data removed]",
      "text/plain": [
       "<Figure size 1440x504 with 2 Axes>"
      ]
     },
     "metadata": {
      "needs_background": "light"
     },
     "output_type": "display_data"
    }
   ],
   "source": [
    "dimensions = ['lvlup']\n",
    "\n",
    "ltv_raw, ltv_grouped, ltv_history, roi_grouped, roi_history = get_ltv(\n",
    "    profiles, payments, observation_date, horizon_days, dimensions=dimensions)\n",
    "\n",
    "# строим графики\n",
    "plot_ltv_roi(ltv_grouped, ltv_history, roi_grouped, roi_history, horizon_days) "
   ]
  },
  {
   "cell_type": "code",
   "execution_count": 58,
   "id": "f0a00082",
   "metadata": {},
   "outputs": [
    {
     "data": {
      "image/png": "[encoded data removed]",
      "text/plain": [
       "<Figure size 1440x504 with 2 Axes>"
      ]
     },
     "metadata": {
      "needs_background": "light"
     },
     "output_type": "display_data"
    }
   ],
   "source": [
    "dimensions = ['condition']\n",
    "\n",
    "ltv_raw, ltv_grouped, ltv_history, roi_grouped, roi_history = get_ltv(\n",
    "    profiles, payments, observation_date, horizon_days, dimensions=dimensions)\n",
    "\n",
    "# строим графики\n",
    "plot_ltv_roi(ltv_grouped, ltv_history, roi_grouped, roi_history, horizon_days) "
   ]
  },
  {
   "cell_type": "markdown",
   "id": "429b1874",
   "metadata": {},
   "source": [
    "<div class=\"alert alert-info\" style=\"background:rgba(135, 206, 235, 0.05);color:#080808\">\n",
    "    \n",
    "- Нет убыточных показателей вне зависимости от лвл-апа. Однако, те кто получил уровень через проект значительно более выгоден разработчику (почти 1.6 ROI).\n",
    "    \n",
    "</div>"
   ]
  },
  {
   "cell_type": "markdown",
   "id": "a833c4b1",
   "metadata": {},
   "source": [
    "<div class=\"alert alert-info\" style=\"background:rgba(135, 206, 235, 0.05);color:#080808\">\n",
    "    \n",
    "<b>Модель №2</b>\n",
    "\n",
    "- Поскольку значительное сокращение показов рекламы приведет к тому, что вложения в привлечене клиентов не окупятся. В таком случае я считаю, что модель при которой сокращается около 10% показов рекламы, может иметь больший потенциал привлечения и удержания клиентов без значительного урона для доходности.\n",
    "- Модель: при первой постройке не происходит показа рекламы, при дальнейших постройках реклама показывается.\n",
    "    \n",
    "</div>"
   ]
  },
  {
   "cell_type": "code",
   "execution_count": 59,
   "id": "d2b64401",
   "metadata": {},
   "outputs": [],
   "source": [
    "payments_min = payments.groupby('user_id').agg({'event_datetime':'min'}).reset_index()"
   ]
  },
  {
   "cell_type": "code",
   "execution_count": 60,
   "id": "42046cec",
   "metadata": {},
   "outputs": [],
   "source": [
    "payments_after_first = (\n",
    "    pd.merge(payments, payments_min, on=['user_id','event_datetime'], how='outer', indicator=True)\n",
    "       .query(\"_merge != 'both'\")\n",
    "       .drop('_merge', axis=1)\n",
    "       .reset_index(drop=True)\n",
    ")"
   ]
  },
  {
   "cell_type": "code",
   "execution_count": 61,
   "id": "ff2a8a6e",
   "metadata": {},
   "outputs": [],
   "source": [
    "game_actions_after_first = game_actions.drop(columns = ['revenue'])\n",
    "game_actions_after_first = game_actions_after_first.merge(payments_after_first, on=['event_datetime', 'user_id'], how='outer')\n",
    "game_actions_after_first['revenue'] = game_actions_after_first['revenue'].fillna(0)"
   ]
  },
  {
   "cell_type": "code",
   "execution_count": 62,
   "id": "6382e444",
   "metadata": {},
   "outputs": [],
   "source": [
    "# Создаю профили\n",
    "profiles_after_first = get_profiles(game_actions_after_first, payments_after_first, ad_cost)"
   ]
  },
  {
   "cell_type": "code",
   "execution_count": 63,
   "id": "38dd1967",
   "metadata": {
    "scrolled": true
   },
   "outputs": [
    {
     "data": {
      "image/png": "[encoded data removed]",
      "text/plain": [
       "<Figure size 1440x504 with 2 Axes>"
      ]
     },
     "metadata": {
      "needs_background": "light"
     },
     "output_type": "display_data"
    }
   ],
   "source": [
    "ltv_raw, ltv_grouped, ltv_history, roi_grouped, roi_history = get_ltv(\n",
    "    profiles_after_first, payments_after_first, observation_date, horizon_days)\n",
    "\n",
    "# строим графики\n",
    "plot_ltv_roi(ltv_grouped, ltv_history, roi_grouped, roi_history, horizon_days) "
   ]
  },
  {
   "cell_type": "markdown",
   "id": "e017084c",
   "metadata": {},
   "source": [
    "<div class=\"alert alert-info\" style=\"background:rgba(135, 206, 235, 0.05);color:#080808\">\n",
    "    \n",
    "- Практически нулевая прибыль, однако все еще ROI выше 1.\n",
    "    \n",
    "</div>"
   ]
  },
  {
   "cell_type": "code",
   "execution_count": 64,
   "id": "20eb6a80",
   "metadata": {
    "scrolled": true
   },
   "outputs": [
    {
     "data": {
      "image/png": "[encoded data removed]",
      "text/plain": [
       "<Figure size 1440x504 with 2 Axes>"
      ]
     },
     "metadata": {
      "needs_background": "light"
     },
     "output_type": "display_data"
    }
   ],
   "source": [
    "dimensions = ['source']\n",
    "\n",
    "ltv_raw, ltv_grouped, ltv_history, roi_grouped, roi_history = get_ltv(\n",
    "    profiles_after_first, payments_after_first, observation_date, horizon_days, dimensions=dimensions)\n",
    "\n",
    "# строим графики\n",
    "plot_ltv_roi(ltv_grouped, ltv_history, roi_grouped, roi_history, horizon_days) "
   ]
  },
  {
   "cell_type": "markdown",
   "id": "23bc7f57",
   "metadata": {},
   "source": [
    "<div class=\"alert alert-info\" style=\"background:rgba(135, 206, 235, 0.05);color:#080808\">\n",
    "    \n",
    "- Instagram из нулевой прибыли в 1ой модели перешел в 0.9 ROI, то есть убыток.\n",
    "    \n",
    "</div>"
   ]
  },
  {
   "cell_type": "code",
   "execution_count": 65,
   "id": "1ea3ff90",
   "metadata": {},
   "outputs": [
    {
     "data": {
      "image/png": "[encoded data removed]",
      "text/plain": [
       "<Figure size 1440x504 with 2 Axes>"
      ]
     },
     "metadata": {
      "needs_background": "light"
     },
     "output_type": "display_data"
    }
   ],
   "source": [
    "dimensions = ['lvlup']\n",
    "\n",
    "ltv_raw, ltv_grouped, ltv_history, roi_grouped, roi_history = get_ltv(\n",
    "    profiles_after_first, payments_after_first, observation_date, horizon_days, dimensions=dimensions)\n",
    "\n",
    "# строим графики\n",
    "plot_ltv_roi(ltv_grouped, ltv_history, roi_grouped, roi_history, horizon_days) "
   ]
  },
  {
   "cell_type": "code",
   "execution_count": 66,
   "id": "d14372d5",
   "metadata": {},
   "outputs": [
    {
     "data": {
      "image/png": "[encoded data removed]",
      "text/plain": [
       "<Figure size 1440x504 with 2 Axes>"
      ]
     },
     "metadata": {
      "needs_background": "light"
     },
     "output_type": "display_data"
    }
   ],
   "source": [
    "dimensions = ['condition']\n",
    "\n",
    "ltv_raw, ltv_grouped, ltv_history, roi_grouped, roi_history = get_ltv(\n",
    "    profiles_after_first, payments_after_first, observation_date, horizon_days, dimensions=dimensions)\n",
    "\n",
    "# строим графики\n",
    "plot_ltv_roi(ltv_grouped, ltv_history, roi_grouped, roi_history, horizon_days) "
   ]
  },
  {
   "cell_type": "markdown",
   "id": "45c3d62d",
   "metadata": {},
   "source": [
    "<div class=\"alert alert-info\" style=\"background:rgba(135, 206, 235, 0.05);color:#080808\">\n",
    "    \n",
    "- При данной модели по настоящему прибыльными остались только пользователи, сделавшие проект. Остальные находятся в районе ROI равному 1.\n",
    "</div>"
   ]
  },
  {
   "cell_type": "markdown",
   "id": "bf2a3ea8",
   "metadata": {},
   "source": [
    "<div class=\"alert alert-info\" style=\"background:rgba(135, 206, 235, 0.05);color:#080808\">\n",
    "    \n",
    "- На данном этапе, если ввести рекламу при постройке каждого здания, то реклама будет с трудом окупаться. Исходя из поставленной задачи: не потерять слишком много клиентов, кто переходит на следующий уровень и окупить рекламу хотя бы в 0, данный подход удовлетворит обе задачи. Есть вероятность потерять часть игроков, особенно среди тех, кто делает проекты, так как они строят больше всего. С другой стороны, те кто получают уровень в бою не так ощутят рекламу, а они и есть те, кто получает уровень быстрее всего.\n",
    "- Таким образом в игре есть некоторый баланс: больше денег приходит от тех, кто идет через проект, но их мало и они получают уровень дольше. То есть они больше задействованы в окупании рекламы и меньше в получении уровня. Меньше денег приносят все остальные, однако, те кто воюют, получают уровень быстро, удовлетворяя нашу потребность в быстром достижении целегого действия.\n",
    "- Если уменьшить количество рекламы незначительно, то мы будем выходить в 0. Однако, с учетом того, что часть клиентов перестанет играть из-за рекламы, то это значение будет уже ниже 0. С другой стороны, мы не можем знать, сколько клиентов мы потеряем на первой же рекламе при первой использовании первой модели. При рассмотрении других моделей (например, реклама на определенный тип зданий или на каждую вторую постройку, ROI падает с 1.2 до 0.6 и это без учета оттока клиентов.\n",
    "- Facebook на данный момент не окупается, как источник привлечения клиентов. Возможно, стоит рассмотреть другой объем вложений в рекламу на этом источнике или же другой подход к рекламе.\n",
    "</div>\n"
   ]
  },
  {
   "cell_type": "markdown",
   "id": "f7eb776e",
   "metadata": {},
   "source": [
    "<div class=\"alert alert-info\" style=\"background:rgba(135, 206, 235, 0.05);color:#080808\">\n",
    "    \n",
    "- **Выбор модели:**\n",
    "- Я склоняюсь к тому, что предложенная мной модель более оптимальна. Сравнивая с моделью, предложенной маркетологами:\n",
    "- Ее плюсы:\n",
    "    - Не столь агрессивная, при первом открытии постройки игрока не встречает реклама и он хоть немного успевает познакомится с игрой.\n",
    "    - Есть шанс удержать игроков, которые при первой модели сразу поймут, что реклама будет появлятся каждый раз и быстро покинут игру. При второй модели игроку потребуется несколько построек, чтобы понять, что реклама после 1 постройки гарантирована, а не возникает рандомно / раз в несколько построек.\n",
    "    - Игрок оказывается более вовлечен в игру, прежде, чем сталкивается с первой рекламой. Чем больше в игру вложено времени и сил, тем сложнее ее покинуть. В случае, если первая реклама возникает во время первой постройки, игроку ничего не стоит закрыть игру и забыть про нее, так как в нее не было вложено время, игрок не чувствует что теряет что либо.\n",
    "- Ее минусы:\n",
    "    - Игрок может почувствовать себя обманутым, так как при первой постройке он не получил рекламу, а потом получает ее постоянно и покинет игру.\n",
    "- Дополнительно:\n",
    "    - Если игрока сильно отталкивает реклама и это единственная причина, почему он покидает игру, мы не теряем такие показы. Так как либо он закроет игру после первой постройки (=первой рекламы), либо после второй постройки(=первой рекламы). На таких игроков обе модели действуют одинаково. \n",
    "    - Если игрок, после первой постройки закрывает игру вне зависимости от рекламы, мы теряем такого игрока без какого либо дохода от него. Это может оказаться минусом моей модели. Однако, на мой взгляд, это невелируется тем, что мы сохраним часть игроков как минимум на несколько дополнительных построек из-за плюсов, что я указал выше. \n",
    "</div>\n"
   ]
  },
  {
   "cell_type": "markdown",
   "id": "3cec87e0",
   "metadata": {},
   "source": [
    "## Общие выводы.\n",
    "<a class=\"anchor\" id=\"paragraph6\"></a>"
   ]
  },
  {
   "cell_type": "markdown",
   "id": "13f04a64",
   "metadata": {},
   "source": [
    "<div class=\"alert alert-info\" style=\"background:rgba(135, 206, 235, 0.05);color:#080808\">\n",
    "\n",
    "- На данном этапе, предлагаемая система монетизации имеет смысл. Один показ рекламы на одну постройку окупает рекламу с небольшим профицитом. Предложенная мной модель тоже имеет свои плюсы и минусы относительно первой, часть из которых я описал выше.\n",
    "- Наиболее быстрый переход в целевое действие у тех, кто выигрывает бой. Игроки, выбравшие проект переходят на следующий уровень ощутимо дольше.\n",
    "- Игроков, которые повысили уровень через бой больше, чем через проект.\n",
    "- Несмотря на то, что удержание среди разных источников почти идентично, доходность у них отличается. Таким образом Фейсбук не окупает затраты на рекламу, в то время как Ютьюб и Яндекс являются наиболее доходными источниками.\n",
    "- Удержание игроков через проект значительно выше, чем через бой. Вторые строят (в нашем случае == приносят доход с рекламы), почти столько же, сколько и те, кто не повысил уровень.\n",
    "</div>"
   ]
  },
  {
   "cell_type": "markdown",
   "id": "76365c0a",
   "metadata": {},
   "source": [
    "## Рекомендации."
   ]
  },
  {
   "cell_type": "markdown",
   "id": "75db7a50",
   "metadata": {},
   "source": [
    "<div class=\"alert alert-info\" style=\"background:rgba(135, 206, 235, 0.05);color:#080808\">\n",
    "\n",
    "- Для улучшения конверсиим можно сократить время развития для проекта. Например, сократить время построек, в таком случае игроки будут переходить на следующий уровень быстрее, при этом, количество построек(=рекламы) не уменьшится. Это изменение заденет и всех остальных игроков, так как развитие ускорится для всех. Это может стать фактором, который позволит большему числу игроков переходить на следующий уровень.\n",
    "- Для улучшения окупаемости можно добавить 1 дополнительную постройку, тем, кто получает уровень через победу. Это будет около 10% дополнительного дохода, но повысит риски потери этих игроков. Я бы не рекомендовал эту опцию, но она имеет право на существование.\n",
    "- Для улучшение окупаемости можно уменьшить вложения в рекламу на Фейсбук и в Инстаграме. Или же изменить формат рекламы для этих источников. Оба источника значительно уступают по окупаемости двум другим. Из этого следует вывод, что можно рассмотреть большее вложение в рекламу на Яндекс и Ютьюб.\n",
    "- Для улучения удержания можно использовать предложенную мной модель монетизации, то есть отказаться от показа рекламы при первой постройке. С одной стороны это не будет отталкивать игрока в первые же секунды игры, с другой, может вызвать бОльшую неприязнь, после нескольких следующих построек и осознания, что реклама высвечивается постоянно. Отказ от первой рекламы не приведет к дефициту (потеря дохода около 10%) и затраты на привлечение все еще будут окупаться в ноль или небольшой плюс. Это повысит вероятность большего числа построек на начальном этапе, а это выполняет сразу 2 задачи - приблежение к целевому действию и окупаемость привлечения клиентов. \n",
    "</div>"
   ]
  }
 ],
 "metadata": {
  "ExecuteTimeLog": [
   {
    "duration": 1426,
    "start_time": "2022-09-20T19:35:35.796Z"
   },
   {
    "duration": 163,
    "start_time": "2022-09-20T19:35:37.224Z"
   },
   {
    "duration": 0,
    "start_time": "2022-09-20T19:35:37.389Z"
   },
   {
    "duration": 1459,
    "start_time": "2022-09-21T03:37:49.078Z"
   },
   {
    "duration": 2,
    "start_time": "2022-09-21T03:37:50.539Z"
   },
   {
    "duration": 169,
    "start_time": "2022-09-21T03:37:50.542Z"
   },
   {
    "duration": 0,
    "start_time": "2022-09-21T03:37:50.715Z"
   },
   {
    "duration": 0,
    "start_time": "2022-09-21T03:37:50.722Z"
   },
   {
    "duration": 0,
    "start_time": "2022-09-21T03:37:50.723Z"
   },
   {
    "duration": 0,
    "start_time": "2022-09-21T03:37:50.725Z"
   },
   {
    "duration": 0,
    "start_time": "2022-09-21T03:37:50.726Z"
   },
   {
    "duration": 0,
    "start_time": "2022-09-21T03:37:50.727Z"
   },
   {
    "duration": 0,
    "start_time": "2022-09-21T03:37:50.729Z"
   },
   {
    "duration": 0,
    "start_time": "2022-09-21T03:37:50.730Z"
   },
   {
    "duration": 0,
    "start_time": "2022-09-21T03:37:50.731Z"
   },
   {
    "duration": 0,
    "start_time": "2022-09-21T03:37:50.732Z"
   },
   {
    "duration": 0,
    "start_time": "2022-09-21T03:37:50.735Z"
   },
   {
    "duration": 0,
    "start_time": "2022-09-21T03:37:50.736Z"
   },
   {
    "duration": 0,
    "start_time": "2022-09-21T03:37:50.737Z"
   },
   {
    "duration": 0,
    "start_time": "2022-09-21T03:37:50.738Z"
   },
   {
    "duration": 0,
    "start_time": "2022-09-21T03:37:50.740Z"
   },
   {
    "duration": 0,
    "start_time": "2022-09-21T03:37:50.741Z"
   },
   {
    "duration": 0,
    "start_time": "2022-09-21T03:37:50.742Z"
   },
   {
    "duration": 0,
    "start_time": "2022-09-21T03:37:50.744Z"
   },
   {
    "duration": 1,
    "start_time": "2022-09-21T03:37:50.745Z"
   },
   {
    "duration": 0,
    "start_time": "2022-09-21T03:37:50.747Z"
   },
   {
    "duration": 0,
    "start_time": "2022-09-21T03:37:50.748Z"
   },
   {
    "duration": 0,
    "start_time": "2022-09-21T03:37:50.750Z"
   },
   {
    "duration": 0,
    "start_time": "2022-09-21T03:37:50.750Z"
   },
   {
    "duration": 0,
    "start_time": "2022-09-21T03:37:50.751Z"
   },
   {
    "duration": 0,
    "start_time": "2022-09-21T03:37:50.752Z"
   },
   {
    "duration": 0,
    "start_time": "2022-09-21T03:37:50.754Z"
   },
   {
    "duration": 0,
    "start_time": "2022-09-21T03:37:50.755Z"
   },
   {
    "duration": 0,
    "start_time": "2022-09-21T03:37:50.756Z"
   },
   {
    "duration": 0,
    "start_time": "2022-09-21T03:37:50.757Z"
   },
   {
    "duration": 0,
    "start_time": "2022-09-21T03:37:50.821Z"
   },
   {
    "duration": 0,
    "start_time": "2022-09-21T03:37:50.822Z"
   },
   {
    "duration": 0,
    "start_time": "2022-09-21T03:37:50.823Z"
   },
   {
    "duration": 0,
    "start_time": "2022-09-21T03:37:50.824Z"
   },
   {
    "duration": 0,
    "start_time": "2022-09-21T03:37:50.825Z"
   },
   {
    "duration": 0,
    "start_time": "2022-09-21T03:37:50.826Z"
   },
   {
    "duration": 0,
    "start_time": "2022-09-21T03:37:50.827Z"
   },
   {
    "duration": 0,
    "start_time": "2022-09-21T03:37:50.829Z"
   },
   {
    "duration": 0,
    "start_time": "2022-09-21T03:37:50.830Z"
   },
   {
    "duration": 0,
    "start_time": "2022-09-21T03:37:50.831Z"
   },
   {
    "duration": 0,
    "start_time": "2022-09-21T03:37:50.832Z"
   },
   {
    "duration": 0,
    "start_time": "2022-09-21T03:37:50.833Z"
   },
   {
    "duration": 0,
    "start_time": "2022-09-21T03:37:50.834Z"
   },
   {
    "duration": 0,
    "start_time": "2022-09-21T03:37:50.835Z"
   },
   {
    "duration": 0,
    "start_time": "2022-09-21T03:37:50.836Z"
   },
   {
    "duration": 0,
    "start_time": "2022-09-21T03:37:50.837Z"
   },
   {
    "duration": 0,
    "start_time": "2022-09-21T03:37:50.838Z"
   },
   {
    "duration": 0,
    "start_time": "2022-09-21T03:37:50.839Z"
   },
   {
    "duration": 0,
    "start_time": "2022-09-21T03:37:50.840Z"
   },
   {
    "duration": 0,
    "start_time": "2022-09-21T03:37:50.841Z"
   },
   {
    "duration": 0,
    "start_time": "2022-09-21T03:37:50.842Z"
   },
   {
    "duration": 0,
    "start_time": "2022-09-21T03:37:50.843Z"
   },
   {
    "duration": 0,
    "start_time": "2022-09-21T03:37:50.844Z"
   },
   {
    "duration": 0,
    "start_time": "2022-09-21T03:37:50.845Z"
   },
   {
    "duration": 0,
    "start_time": "2022-09-21T03:37:50.846Z"
   },
   {
    "duration": 0,
    "start_time": "2022-09-21T03:37:50.848Z"
   },
   {
    "duration": 0,
    "start_time": "2022-09-21T03:37:50.849Z"
   },
   {
    "duration": 3,
    "start_time": "2022-09-21T04:08:14.021Z"
   },
   {
    "duration": 1278,
    "start_time": "2022-09-21T04:08:20.643Z"
   },
   {
    "duration": 784,
    "start_time": "2022-09-21T04:08:21.923Z"
   },
   {
    "duration": 2,
    "start_time": "2022-09-21T04:08:22.709Z"
   },
   {
    "duration": 9,
    "start_time": "2022-09-21T04:08:22.714Z"
   },
   {
    "duration": 10,
    "start_time": "2022-09-21T04:08:22.724Z"
   },
   {
    "duration": 8,
    "start_time": "2022-09-21T04:08:22.736Z"
   },
   {
    "duration": 11,
    "start_time": "2022-09-21T04:08:22.746Z"
   },
   {
    "duration": 9,
    "start_time": "2022-09-21T04:08:22.759Z"
   },
   {
    "duration": 14,
    "start_time": "2022-09-21T04:08:22.770Z"
   },
   {
    "duration": 23,
    "start_time": "2022-09-21T04:08:22.786Z"
   },
   {
    "duration": 42,
    "start_time": "2022-09-21T04:08:22.811Z"
   },
   {
    "duration": 36,
    "start_time": "2022-09-21T04:08:22.855Z"
   },
   {
    "duration": 61,
    "start_time": "2022-09-21T04:08:22.894Z"
   },
   {
    "duration": 7,
    "start_time": "2022-09-21T04:08:22.957Z"
   },
   {
    "duration": 10,
    "start_time": "2022-09-21T04:08:22.966Z"
   },
   {
    "duration": 46,
    "start_time": "2022-09-21T04:08:22.978Z"
   },
   {
    "duration": 3,
    "start_time": "2022-09-21T04:08:23.026Z"
   },
   {
    "duration": 47,
    "start_time": "2022-09-21T04:08:23.031Z"
   },
   {
    "duration": 55,
    "start_time": "2022-09-21T04:08:23.080Z"
   },
   {
    "duration": 34,
    "start_time": "2022-09-21T04:08:23.136Z"
   },
   {
    "duration": 89,
    "start_time": "2022-09-21T04:08:23.171Z"
   },
   {
    "duration": 4,
    "start_time": "2022-09-21T04:08:23.262Z"
   },
   {
    "duration": 16,
    "start_time": "2022-09-21T04:08:23.267Z"
   },
   {
    "duration": 21,
    "start_time": "2022-09-21T04:08:23.284Z"
   },
   {
    "duration": 32,
    "start_time": "2022-09-21T04:08:23.307Z"
   },
   {
    "duration": 8,
    "start_time": "2022-09-21T04:08:23.341Z"
   },
   {
    "duration": 16,
    "start_time": "2022-09-21T04:08:23.351Z"
   },
   {
    "duration": 6,
    "start_time": "2022-09-21T04:08:23.369Z"
   },
   {
    "duration": 10,
    "start_time": "2022-09-21T04:08:23.377Z"
   },
   {
    "duration": 35,
    "start_time": "2022-09-21T04:08:23.389Z"
   },
   {
    "duration": 67,
    "start_time": "2022-09-21T04:08:23.425Z"
   },
   {
    "duration": 2,
    "start_time": "2022-09-21T04:08:23.495Z"
   },
   {
    "duration": 45,
    "start_time": "2022-09-21T04:08:23.499Z"
   },
   {
    "duration": 5,
    "start_time": "2022-09-21T04:08:23.546Z"
   },
   {
    "duration": 45,
    "start_time": "2022-09-21T04:08:23.553Z"
   },
   {
    "duration": 82,
    "start_time": "2022-09-21T04:08:23.600Z"
   },
   {
    "duration": 72,
    "start_time": "2022-09-21T04:08:23.684Z"
   },
   {
    "duration": 188,
    "start_time": "2022-09-21T04:08:23.758Z"
   },
   {
    "duration": 28,
    "start_time": "2022-09-21T04:08:23.948Z"
   },
   {
    "duration": 96,
    "start_time": "2022-09-21T04:08:23.980Z"
   },
   {
    "duration": 238,
    "start_time": "2022-09-21T04:08:24.078Z"
   },
   {
    "duration": 9,
    "start_time": "2022-09-21T04:08:24.320Z"
   },
   {
    "duration": 61,
    "start_time": "2022-09-21T04:08:24.331Z"
   },
   {
    "duration": 161,
    "start_time": "2022-09-21T04:08:24.394Z"
   },
   {
    "duration": 224,
    "start_time": "2022-09-21T04:08:24.557Z"
   },
   {
    "duration": 156,
    "start_time": "2022-09-21T04:08:24.783Z"
   },
   {
    "duration": 144,
    "start_time": "2022-09-21T04:08:24.941Z"
   },
   {
    "duration": 5,
    "start_time": "2022-09-21T04:08:25.087Z"
   },
   {
    "duration": 44,
    "start_time": "2022-09-21T04:08:25.094Z"
   },
   {
    "duration": 9,
    "start_time": "2022-09-21T04:08:25.140Z"
   },
   {
    "duration": 8,
    "start_time": "2022-09-21T04:08:25.150Z"
   },
   {
    "duration": 7,
    "start_time": "2022-09-21T04:08:25.160Z"
   },
   {
    "duration": 652,
    "start_time": "2022-09-21T04:08:25.169Z"
   },
   {
    "duration": 552,
    "start_time": "2022-09-21T04:08:25.822Z"
   },
   {
    "duration": 559,
    "start_time": "2022-09-21T04:08:26.375Z"
   },
   {
    "duration": 805,
    "start_time": "2022-09-21T04:08:26.936Z"
   },
   {
    "duration": 964,
    "start_time": "2022-09-21T04:08:27.743Z"
   },
   {
    "duration": 1034,
    "start_time": "2022-09-21T04:08:28.708Z"
   },
   {
    "duration": 892,
    "start_time": "2022-09-21T04:08:29.743Z"
   },
   {
    "duration": 18,
    "start_time": "2022-09-21T04:29:02.373Z"
   },
   {
    "duration": 21,
    "start_time": "2022-09-21T04:29:09.450Z"
   },
   {
    "duration": 12,
    "start_time": "2022-09-21T04:29:46.051Z"
   },
   {
    "duration": 29,
    "start_time": "2022-09-21T04:30:41.193Z"
   },
   {
    "duration": 19,
    "start_time": "2022-09-21T04:30:51.895Z"
   },
   {
    "duration": 1160,
    "start_time": "2022-09-21T04:35:05.209Z"
   },
   {
    "duration": 12,
    "start_time": "2022-09-21T04:35:55.229Z"
   },
   {
    "duration": 15,
    "start_time": "2022-09-21T04:36:09.093Z"
   },
   {
    "duration": 13,
    "start_time": "2022-09-21T04:36:13.166Z"
   },
   {
    "duration": 10,
    "start_time": "2022-09-21T04:36:16.880Z"
   },
   {
    "duration": 13,
    "start_time": "2022-09-21T04:36:19.277Z"
   },
   {
    "duration": 39,
    "start_time": "2022-09-21T04:38:11.842Z"
   },
   {
    "duration": 38,
    "start_time": "2022-09-21T04:40:21.383Z"
   },
   {
    "duration": 35,
    "start_time": "2022-09-21T04:40:25.983Z"
   },
   {
    "duration": 12,
    "start_time": "2022-09-21T04:40:32.808Z"
   },
   {
    "duration": 80,
    "start_time": "2022-09-21T04:41:18.543Z"
   },
   {
    "duration": 12,
    "start_time": "2022-09-21T04:41:20.412Z"
   },
   {
    "duration": 27,
    "start_time": "2022-09-21T04:42:47.239Z"
   },
   {
    "duration": 13,
    "start_time": "2022-09-21T04:43:07.906Z"
   },
   {
    "duration": 25,
    "start_time": "2022-09-21T04:43:16.354Z"
   },
   {
    "duration": 10,
    "start_time": "2022-09-21T04:43:43.325Z"
   },
   {
    "duration": 80,
    "start_time": "2022-09-21T04:43:45.123Z"
   },
   {
    "duration": 13,
    "start_time": "2022-09-21T04:43:45.430Z"
   },
   {
    "duration": 22,
    "start_time": "2022-09-21T04:46:02.003Z"
   },
   {
    "duration": 20,
    "start_time": "2022-09-21T04:46:52.080Z"
   },
   {
    "duration": 13,
    "start_time": "2022-09-21T04:47:14.024Z"
   },
   {
    "duration": 21,
    "start_time": "2022-09-21T04:47:30.534Z"
   },
   {
    "duration": 75,
    "start_time": "2022-09-21T04:47:38.224Z"
   },
   {
    "duration": 34,
    "start_time": "2022-09-21T04:47:41.371Z"
   },
   {
    "duration": 1299,
    "start_time": "2022-09-21T04:49:14.148Z"
   },
   {
    "duration": 276,
    "start_time": "2022-09-21T04:49:15.449Z"
   },
   {
    "duration": 2,
    "start_time": "2022-09-21T04:49:15.727Z"
   },
   {
    "duration": 9,
    "start_time": "2022-09-21T04:49:15.732Z"
   },
   {
    "duration": 12,
    "start_time": "2022-09-21T04:49:15.745Z"
   },
   {
    "duration": 9,
    "start_time": "2022-09-21T04:49:15.760Z"
   },
   {
    "duration": 11,
    "start_time": "2022-09-21T04:49:15.771Z"
   },
   {
    "duration": 8,
    "start_time": "2022-09-21T04:49:15.783Z"
   },
   {
    "duration": 30,
    "start_time": "2022-09-21T04:49:15.793Z"
   },
   {
    "duration": 27,
    "start_time": "2022-09-21T04:49:15.826Z"
   },
   {
    "duration": 37,
    "start_time": "2022-09-21T04:49:15.855Z"
   },
   {
    "duration": 48,
    "start_time": "2022-09-21T04:49:15.894Z"
   },
   {
    "duration": 44,
    "start_time": "2022-09-21T04:49:15.944Z"
   },
   {
    "duration": 30,
    "start_time": "2022-09-21T04:49:15.991Z"
   },
   {
    "duration": 7,
    "start_time": "2022-09-21T04:49:16.023Z"
   },
   {
    "duration": 24,
    "start_time": "2022-09-21T04:49:16.032Z"
   },
   {
    "duration": 4,
    "start_time": "2022-09-21T04:49:16.058Z"
   },
   {
    "duration": 77,
    "start_time": "2022-09-21T04:49:16.065Z"
   },
   {
    "duration": 35,
    "start_time": "2022-09-21T04:49:16.144Z"
   },
   {
    "duration": 49,
    "start_time": "2022-09-21T04:49:16.181Z"
   },
   {
    "duration": 67,
    "start_time": "2022-09-21T04:49:16.232Z"
   },
   {
    "duration": 4,
    "start_time": "2022-09-21T04:49:16.300Z"
   },
   {
    "duration": 6,
    "start_time": "2022-09-21T04:49:16.320Z"
   },
   {
    "duration": 14,
    "start_time": "2022-09-21T04:49:16.328Z"
   },
   {
    "duration": 32,
    "start_time": "2022-09-21T04:49:16.344Z"
   },
   {
    "duration": 9,
    "start_time": "2022-09-21T04:49:16.378Z"
   },
   {
    "duration": 34,
    "start_time": "2022-09-21T04:49:16.388Z"
   },
   {
    "duration": 7,
    "start_time": "2022-09-21T04:49:16.423Z"
   },
   {
    "duration": 17,
    "start_time": "2022-09-21T04:49:16.431Z"
   },
   {
    "duration": 12,
    "start_time": "2022-09-21T04:49:16.450Z"
   },
   {
    "duration": 120,
    "start_time": "2022-09-21T04:49:16.464Z"
   },
   {
    "duration": 3,
    "start_time": "2022-09-21T04:49:16.586Z"
   },
   {
    "duration": 37,
    "start_time": "2022-09-21T04:49:16.590Z"
   },
   {
    "duration": 6,
    "start_time": "2022-09-21T04:49:16.628Z"
   },
   {
    "duration": 44,
    "start_time": "2022-09-21T04:49:16.636Z"
   },
   {
    "duration": 91,
    "start_time": "2022-09-21T04:49:16.681Z"
   },
   {
    "duration": 80,
    "start_time": "2022-09-21T04:49:16.774Z"
   },
   {
    "duration": 189,
    "start_time": "2022-09-21T04:49:16.856Z"
   },
   {
    "duration": 28,
    "start_time": "2022-09-21T04:49:17.047Z"
   },
   {
    "duration": 103,
    "start_time": "2022-09-21T04:49:17.077Z"
   },
   {
    "duration": 258,
    "start_time": "2022-09-21T04:49:17.184Z"
   },
   {
    "duration": 9,
    "start_time": "2022-09-21T04:49:17.444Z"
   },
   {
    "duration": 78,
    "start_time": "2022-09-21T04:49:17.454Z"
   },
   {
    "duration": 145,
    "start_time": "2022-09-21T04:49:17.534Z"
   },
   {
    "duration": 228,
    "start_time": "2022-09-21T04:49:17.680Z"
   },
   {
    "duration": 149,
    "start_time": "2022-09-21T04:49:17.910Z"
   },
   {
    "duration": 145,
    "start_time": "2022-09-21T04:49:18.062Z"
   },
   {
    "duration": 15,
    "start_time": "2022-09-21T04:49:18.209Z"
   },
   {
    "duration": 30,
    "start_time": "2022-09-21T04:49:18.226Z"
   },
   {
    "duration": 11,
    "start_time": "2022-09-21T04:49:18.257Z"
   },
   {
    "duration": 8,
    "start_time": "2022-09-21T04:49:18.269Z"
   },
   {
    "duration": 16,
    "start_time": "2022-09-21T04:49:18.279Z"
   },
   {
    "duration": 628,
    "start_time": "2022-09-21T04:49:18.296Z"
   },
   {
    "duration": 570,
    "start_time": "2022-09-21T04:49:18.926Z"
   },
   {
    "duration": 587,
    "start_time": "2022-09-21T04:49:19.498Z"
   },
   {
    "duration": 789,
    "start_time": "2022-09-21T04:49:20.088Z"
   },
   {
    "duration": 984,
    "start_time": "2022-09-21T04:49:20.879Z"
   },
   {
    "duration": 965,
    "start_time": "2022-09-21T04:49:21.865Z"
   },
   {
    "duration": 889,
    "start_time": "2022-09-21T04:49:22.832Z"
   },
   {
    "duration": 117,
    "start_time": "2022-09-21T04:49:25.675Z"
   },
   {
    "duration": 25,
    "start_time": "2022-09-21T04:49:25.972Z"
   },
   {
    "duration": 7,
    "start_time": "2022-09-21T04:50:14.427Z"
   },
   {
    "duration": 81,
    "start_time": "2022-09-21T04:50:15.030Z"
   },
   {
    "duration": 26,
    "start_time": "2022-09-21T04:50:15.784Z"
   },
   {
    "duration": 131,
    "start_time": "2022-09-21T04:50:18.993Z"
   },
   {
    "duration": 24,
    "start_time": "2022-09-21T04:50:21.030Z"
   },
   {
    "duration": 1268,
    "start_time": "2022-09-21T04:50:34.450Z"
   },
   {
    "duration": 277,
    "start_time": "2022-09-21T04:50:35.720Z"
   },
   {
    "duration": 3,
    "start_time": "2022-09-21T04:50:35.998Z"
   },
   {
    "duration": 7,
    "start_time": "2022-09-21T04:50:36.003Z"
   },
   {
    "duration": 9,
    "start_time": "2022-09-21T04:50:36.011Z"
   },
   {
    "duration": 7,
    "start_time": "2022-09-21T04:50:36.022Z"
   },
   {
    "duration": 10,
    "start_time": "2022-09-21T04:50:36.031Z"
   },
   {
    "duration": 8,
    "start_time": "2022-09-21T04:50:36.043Z"
   },
   {
    "duration": 6,
    "start_time": "2022-09-21T04:50:36.053Z"
   },
   {
    "duration": 17,
    "start_time": "2022-09-21T04:50:36.062Z"
   },
   {
    "duration": 52,
    "start_time": "2022-09-21T04:50:36.081Z"
   },
   {
    "duration": 34,
    "start_time": "2022-09-21T04:50:36.135Z"
   },
   {
    "duration": 63,
    "start_time": "2022-09-21T04:50:36.171Z"
   },
   {
    "duration": 8,
    "start_time": "2022-09-21T04:50:36.236Z"
   },
   {
    "duration": 8,
    "start_time": "2022-09-21T04:50:36.246Z"
   },
   {
    "duration": 20,
    "start_time": "2022-09-21T04:50:36.256Z"
   },
   {
    "duration": 4,
    "start_time": "2022-09-21T04:50:36.278Z"
   },
   {
    "duration": 79,
    "start_time": "2022-09-21T04:50:36.284Z"
   },
   {
    "duration": 34,
    "start_time": "2022-09-21T04:50:36.365Z"
   },
   {
    "duration": 51,
    "start_time": "2022-09-21T04:50:36.401Z"
   },
   {
    "duration": 82,
    "start_time": "2022-09-21T04:50:36.454Z"
   },
   {
    "duration": 4,
    "start_time": "2022-09-21T04:50:36.538Z"
   },
   {
    "duration": 17,
    "start_time": "2022-09-21T04:50:36.544Z"
   },
   {
    "duration": 16,
    "start_time": "2022-09-21T04:50:36.563Z"
   },
   {
    "duration": 39,
    "start_time": "2022-09-21T04:50:36.581Z"
   },
   {
    "duration": 10,
    "start_time": "2022-09-21T04:50:36.622Z"
   },
   {
    "duration": 25,
    "start_time": "2022-09-21T04:50:36.634Z"
   },
   {
    "duration": 5,
    "start_time": "2022-09-21T04:50:36.663Z"
   },
   {
    "duration": 18,
    "start_time": "2022-09-21T04:50:36.670Z"
   },
   {
    "duration": 22,
    "start_time": "2022-09-21T04:50:36.690Z"
   },
   {
    "duration": 90,
    "start_time": "2022-09-21T04:50:36.714Z"
   },
   {
    "duration": 4,
    "start_time": "2022-09-21T04:50:36.806Z"
   },
   {
    "duration": 28,
    "start_time": "2022-09-21T04:50:36.812Z"
   },
   {
    "duration": 5,
    "start_time": "2022-09-21T04:50:36.842Z"
   },
   {
    "duration": 45,
    "start_time": "2022-09-21T04:50:36.849Z"
   },
   {
    "duration": 96,
    "start_time": "2022-09-21T04:50:36.896Z"
   },
   {
    "duration": 81,
    "start_time": "2022-09-21T04:50:36.994Z"
   },
   {
    "duration": 198,
    "start_time": "2022-09-21T04:50:37.077Z"
   },
   {
    "duration": 32,
    "start_time": "2022-09-21T04:50:37.276Z"
   },
   {
    "duration": 99,
    "start_time": "2022-09-21T04:50:37.310Z"
   },
   {
    "duration": 238,
    "start_time": "2022-09-21T04:50:37.421Z"
   },
   {
    "duration": 8,
    "start_time": "2022-09-21T04:50:37.661Z"
   },
   {
    "duration": 82,
    "start_time": "2022-09-21T04:50:37.671Z"
   },
   {
    "duration": 157,
    "start_time": "2022-09-21T04:50:37.755Z"
   },
   {
    "duration": 221,
    "start_time": "2022-09-21T04:50:37.920Z"
   },
   {
    "duration": 155,
    "start_time": "2022-09-21T04:50:38.144Z"
   },
   {
    "duration": 170,
    "start_time": "2022-09-21T04:50:38.301Z"
   },
   {
    "duration": 5,
    "start_time": "2022-09-21T04:50:38.473Z"
   },
   {
    "duration": 42,
    "start_time": "2022-09-21T04:50:38.480Z"
   },
   {
    "duration": 9,
    "start_time": "2022-09-21T04:50:38.523Z"
   },
   {
    "duration": 13,
    "start_time": "2022-09-21T04:50:38.534Z"
   },
   {
    "duration": 8,
    "start_time": "2022-09-21T04:50:38.549Z"
   },
   {
    "duration": 679,
    "start_time": "2022-09-21T04:50:38.559Z"
   },
   {
    "duration": 555,
    "start_time": "2022-09-21T04:50:39.240Z"
   },
   {
    "duration": 600,
    "start_time": "2022-09-21T04:50:39.797Z"
   },
   {
    "duration": 755,
    "start_time": "2022-09-21T04:50:40.399Z"
   },
   {
    "duration": 995,
    "start_time": "2022-09-21T04:50:41.156Z"
   },
   {
    "duration": 998,
    "start_time": "2022-09-21T04:50:42.153Z"
   },
   {
    "duration": 961,
    "start_time": "2022-09-21T04:50:43.152Z"
   },
   {
    "duration": 7,
    "start_time": "2022-09-21T04:50:44.120Z"
   },
   {
    "duration": 84,
    "start_time": "2022-09-21T04:50:44.128Z"
   },
   {
    "duration": 25,
    "start_time": "2022-09-21T04:50:44.221Z"
   },
   {
    "duration": 99,
    "start_time": "2022-09-21T04:50:44.248Z"
   },
   {
    "duration": 76,
    "start_time": "2022-09-21T04:50:52.095Z"
   },
   {
    "duration": 28,
    "start_time": "2022-09-21T04:50:52.495Z"
   },
   {
    "duration": 65,
    "start_time": "2022-09-21T04:51:10.698Z"
   },
   {
    "duration": 27,
    "start_time": "2022-09-21T04:51:11.108Z"
   },
   {
    "duration": 1259,
    "start_time": "2022-09-21T04:51:21.446Z"
   },
   {
    "duration": 274,
    "start_time": "2022-09-21T04:51:22.707Z"
   },
   {
    "duration": 3,
    "start_time": "2022-09-21T04:51:22.982Z"
   },
   {
    "duration": 16,
    "start_time": "2022-09-21T04:51:22.987Z"
   },
   {
    "duration": 11,
    "start_time": "2022-09-21T04:51:23.005Z"
   },
   {
    "duration": 8,
    "start_time": "2022-09-21T04:51:23.018Z"
   },
   {
    "duration": 10,
    "start_time": "2022-09-21T04:51:23.028Z"
   },
   {
    "duration": 11,
    "start_time": "2022-09-21T04:51:23.039Z"
   },
   {
    "duration": 10,
    "start_time": "2022-09-21T04:51:23.052Z"
   },
   {
    "duration": 17,
    "start_time": "2022-09-21T04:51:23.065Z"
   },
   {
    "duration": 44,
    "start_time": "2022-09-21T04:51:23.084Z"
   },
   {
    "duration": 33,
    "start_time": "2022-09-21T04:51:23.130Z"
   },
   {
    "duration": 67,
    "start_time": "2022-09-21T04:51:23.165Z"
   },
   {
    "duration": 7,
    "start_time": "2022-09-21T04:51:23.234Z"
   },
   {
    "duration": 20,
    "start_time": "2022-09-21T04:51:23.243Z"
   },
   {
    "duration": 48,
    "start_time": "2022-09-21T04:51:23.265Z"
   },
   {
    "duration": 22,
    "start_time": "2022-09-21T04:51:23.315Z"
   },
   {
    "duration": 49,
    "start_time": "2022-09-21T04:51:23.339Z"
   },
   {
    "duration": 33,
    "start_time": "2022-09-21T04:51:23.390Z"
   },
   {
    "duration": 33,
    "start_time": "2022-09-21T04:51:23.425Z"
   },
   {
    "duration": 76,
    "start_time": "2022-09-21T04:51:23.460Z"
   },
   {
    "duration": 3,
    "start_time": "2022-09-21T04:51:23.538Z"
   },
   {
    "duration": 20,
    "start_time": "2022-09-21T04:51:23.543Z"
   },
   {
    "duration": 28,
    "start_time": "2022-09-21T04:51:23.564Z"
   },
   {
    "duration": 53,
    "start_time": "2022-09-21T04:51:23.594Z"
   },
   {
    "duration": 7,
    "start_time": "2022-09-21T04:51:23.649Z"
   },
   {
    "duration": 20,
    "start_time": "2022-09-21T04:51:23.658Z"
   },
   {
    "duration": 35,
    "start_time": "2022-09-21T04:51:23.681Z"
   },
   {
    "duration": 21,
    "start_time": "2022-09-21T04:51:23.717Z"
   },
   {
    "duration": 30,
    "start_time": "2022-09-21T04:51:23.739Z"
   },
   {
    "duration": 98,
    "start_time": "2022-09-21T04:51:23.771Z"
   },
   {
    "duration": 3,
    "start_time": "2022-09-21T04:51:23.871Z"
   },
   {
    "duration": 46,
    "start_time": "2022-09-21T04:51:23.876Z"
   },
   {
    "duration": 25,
    "start_time": "2022-09-21T04:51:23.924Z"
   },
   {
    "duration": 45,
    "start_time": "2022-09-21T04:51:23.951Z"
   },
   {
    "duration": 76,
    "start_time": "2022-09-21T04:51:23.998Z"
   },
   {
    "duration": 73,
    "start_time": "2022-09-21T04:51:24.076Z"
   },
   {
    "duration": 186,
    "start_time": "2022-09-21T04:51:24.150Z"
   },
   {
    "duration": 29,
    "start_time": "2022-09-21T04:51:24.337Z"
   },
   {
    "duration": 104,
    "start_time": "2022-09-21T04:51:24.368Z"
   },
   {
    "duration": 243,
    "start_time": "2022-09-21T04:51:24.473Z"
   },
   {
    "duration": 10,
    "start_time": "2022-09-21T04:51:24.717Z"
   },
   {
    "duration": 67,
    "start_time": "2022-09-21T04:51:24.728Z"
   },
   {
    "duration": 153,
    "start_time": "2022-09-21T04:51:24.796Z"
   },
   {
    "duration": 228,
    "start_time": "2022-09-21T04:51:24.951Z"
   },
   {
    "duration": 166,
    "start_time": "2022-09-21T04:51:25.181Z"
   },
   {
    "duration": 143,
    "start_time": "2022-09-21T04:51:25.349Z"
   },
   {
    "duration": 5,
    "start_time": "2022-09-21T04:51:25.494Z"
   },
   {
    "duration": 42,
    "start_time": "2022-09-21T04:51:25.501Z"
   },
   {
    "duration": 8,
    "start_time": "2022-09-21T04:51:25.544Z"
   },
   {
    "duration": 11,
    "start_time": "2022-09-21T04:51:25.554Z"
   },
   {
    "duration": 11,
    "start_time": "2022-09-21T04:51:25.566Z"
   },
   {
    "duration": 605,
    "start_time": "2022-09-21T04:51:25.578Z"
   },
   {
    "duration": 516,
    "start_time": "2022-09-21T04:51:26.184Z"
   },
   {
    "duration": 605,
    "start_time": "2022-09-21T04:51:26.701Z"
   },
   {
    "duration": 750,
    "start_time": "2022-09-21T04:51:27.307Z"
   },
   {
    "duration": 1019,
    "start_time": "2022-09-21T04:51:28.059Z"
   },
   {
    "duration": 998,
    "start_time": "2022-09-21T04:51:29.081Z"
   },
   {
    "duration": 914,
    "start_time": "2022-09-21T04:51:30.081Z"
   },
   {
    "duration": 7,
    "start_time": "2022-09-21T04:51:30.997Z"
   },
   {
    "duration": 116,
    "start_time": "2022-09-21T04:51:31.005Z"
   },
   {
    "duration": 25,
    "start_time": "2022-09-21T04:51:32.333Z"
   },
   {
    "duration": 13,
    "start_time": "2022-09-21T04:51:39.254Z"
   },
   {
    "duration": 8,
    "start_time": "2022-09-21T04:52:14.452Z"
   },
   {
    "duration": 32,
    "start_time": "2022-09-21T04:52:51.872Z"
   },
   {
    "duration": 10,
    "start_time": "2022-09-21T04:52:52.042Z"
   },
   {
    "duration": 1247,
    "start_time": "2022-09-21T04:53:00.461Z"
   },
   {
    "duration": 272,
    "start_time": "2022-09-21T04:53:01.710Z"
   },
   {
    "duration": 3,
    "start_time": "2022-09-21T04:53:01.984Z"
   },
   {
    "duration": 25,
    "start_time": "2022-09-21T04:53:01.989Z"
   },
   {
    "duration": 14,
    "start_time": "2022-09-21T04:53:02.016Z"
   },
   {
    "duration": 23,
    "start_time": "2022-09-21T04:53:02.031Z"
   },
   {
    "duration": 24,
    "start_time": "2022-09-21T04:53:02.056Z"
   },
   {
    "duration": 17,
    "start_time": "2022-09-21T04:53:02.082Z"
   },
   {
    "duration": 34,
    "start_time": "2022-09-21T04:53:02.101Z"
   },
   {
    "duration": 73,
    "start_time": "2022-09-21T04:53:02.138Z"
   },
   {
    "duration": 53,
    "start_time": "2022-09-21T04:53:02.213Z"
   },
   {
    "duration": 54,
    "start_time": "2022-09-21T04:53:02.267Z"
   },
   {
    "duration": 83,
    "start_time": "2022-09-21T04:53:02.322Z"
   },
   {
    "duration": 14,
    "start_time": "2022-09-21T04:53:02.406Z"
   },
   {
    "duration": 22,
    "start_time": "2022-09-21T04:53:02.421Z"
   },
   {
    "duration": 35,
    "start_time": "2022-09-21T04:53:02.444Z"
   },
   {
    "duration": 19,
    "start_time": "2022-09-21T04:53:02.480Z"
   },
   {
    "duration": 71,
    "start_time": "2022-09-21T04:53:02.501Z"
   },
   {
    "duration": 35,
    "start_time": "2022-09-21T04:53:02.574Z"
   },
   {
    "duration": 37,
    "start_time": "2022-09-21T04:53:02.611Z"
   },
   {
    "duration": 88,
    "start_time": "2022-09-21T04:53:02.650Z"
   },
   {
    "duration": 4,
    "start_time": "2022-09-21T04:53:02.740Z"
   },
   {
    "duration": 15,
    "start_time": "2022-09-21T04:53:02.746Z"
   },
   {
    "duration": 10,
    "start_time": "2022-09-21T04:53:02.763Z"
   },
   {
    "duration": 53,
    "start_time": "2022-09-21T04:53:02.775Z"
   },
   {
    "duration": 8,
    "start_time": "2022-09-21T04:53:02.830Z"
   },
   {
    "duration": 13,
    "start_time": "2022-09-21T04:53:02.840Z"
   },
   {
    "duration": 5,
    "start_time": "2022-09-21T04:53:02.857Z"
   },
   {
    "duration": 23,
    "start_time": "2022-09-21T04:53:02.864Z"
   },
   {
    "duration": 13,
    "start_time": "2022-09-21T04:53:02.889Z"
   },
   {
    "duration": 85,
    "start_time": "2022-09-21T04:53:02.904Z"
   },
   {
    "duration": 3,
    "start_time": "2022-09-21T04:53:02.991Z"
   },
   {
    "duration": 40,
    "start_time": "2022-09-21T04:53:02.996Z"
   },
   {
    "duration": 11,
    "start_time": "2022-09-21T04:53:03.038Z"
   },
   {
    "duration": 43,
    "start_time": "2022-09-21T04:53:03.051Z"
   },
   {
    "duration": 94,
    "start_time": "2022-09-21T04:53:03.096Z"
   },
   {
    "duration": 72,
    "start_time": "2022-09-21T04:53:03.192Z"
   },
   {
    "duration": 189,
    "start_time": "2022-09-21T04:53:03.266Z"
   },
   {
    "duration": 27,
    "start_time": "2022-09-21T04:53:03.457Z"
   },
   {
    "duration": 102,
    "start_time": "2022-09-21T04:53:03.486Z"
   },
   {
    "duration": 243,
    "start_time": "2022-09-21T04:53:03.589Z"
   },
   {
    "duration": 10,
    "start_time": "2022-09-21T04:53:03.833Z"
   },
   {
    "duration": 79,
    "start_time": "2022-09-21T04:53:03.844Z"
   },
   {
    "duration": 145,
    "start_time": "2022-09-21T04:53:03.925Z"
   },
   {
    "duration": 224,
    "start_time": "2022-09-21T04:53:04.072Z"
   },
   {
    "duration": 153,
    "start_time": "2022-09-21T04:53:04.298Z"
   },
   {
    "duration": 157,
    "start_time": "2022-09-21T04:53:04.453Z"
   },
   {
    "duration": 11,
    "start_time": "2022-09-21T04:53:04.612Z"
   },
   {
    "duration": 29,
    "start_time": "2022-09-21T04:53:04.626Z"
   },
   {
    "duration": 8,
    "start_time": "2022-09-21T04:53:04.656Z"
   },
   {
    "duration": 15,
    "start_time": "2022-09-21T04:53:04.665Z"
   },
   {
    "duration": 13,
    "start_time": "2022-09-21T04:53:04.681Z"
   },
   {
    "duration": 613,
    "start_time": "2022-09-21T04:53:04.695Z"
   },
   {
    "duration": 572,
    "start_time": "2022-09-21T04:53:05.309Z"
   },
   {
    "duration": 563,
    "start_time": "2022-09-21T04:53:05.883Z"
   },
   {
    "duration": 821,
    "start_time": "2022-09-21T04:53:06.448Z"
   },
   {
    "duration": 960,
    "start_time": "2022-09-21T04:53:07.271Z"
   },
   {
    "duration": 998,
    "start_time": "2022-09-21T04:53:08.233Z"
   },
   {
    "duration": 892,
    "start_time": "2022-09-21T04:53:09.233Z"
   },
   {
    "duration": 31,
    "start_time": "2022-09-21T04:53:10.126Z"
   },
   {
    "duration": 10,
    "start_time": "2022-09-21T04:53:10.159Z"
   },
   {
    "duration": 90,
    "start_time": "2022-09-21T04:53:11.576Z"
   },
   {
    "duration": 25,
    "start_time": "2022-09-21T04:53:12.245Z"
   },
   {
    "duration": 12,
    "start_time": "2022-09-21T04:53:14.825Z"
   },
   {
    "duration": 77,
    "start_time": "2022-09-21T04:53:16.985Z"
   },
   {
    "duration": 21,
    "start_time": "2022-09-21T04:53:17.538Z"
   },
   {
    "duration": 17,
    "start_time": "2022-09-21T04:53:26.221Z"
   },
   {
    "duration": 1279,
    "start_time": "2022-09-21T04:53:42.654Z"
   },
   {
    "duration": 280,
    "start_time": "2022-09-21T04:53:43.935Z"
   },
   {
    "duration": 2,
    "start_time": "2022-09-21T04:53:44.218Z"
   },
   {
    "duration": 9,
    "start_time": "2022-09-21T04:53:44.222Z"
   },
   {
    "duration": 12,
    "start_time": "2022-09-21T04:53:44.234Z"
   },
   {
    "duration": 20,
    "start_time": "2022-09-21T04:53:44.248Z"
   },
   {
    "duration": 16,
    "start_time": "2022-09-21T04:53:44.270Z"
   },
   {
    "duration": 7,
    "start_time": "2022-09-21T04:53:44.288Z"
   },
   {
    "duration": 26,
    "start_time": "2022-09-21T04:53:44.297Z"
   },
   {
    "duration": 22,
    "start_time": "2022-09-21T04:53:44.326Z"
   },
   {
    "duration": 33,
    "start_time": "2022-09-21T04:53:44.350Z"
   },
   {
    "duration": 50,
    "start_time": "2022-09-21T04:53:44.385Z"
   },
   {
    "duration": 58,
    "start_time": "2022-09-21T04:53:44.437Z"
   },
   {
    "duration": 27,
    "start_time": "2022-09-21T04:53:44.498Z"
   },
   {
    "duration": 11,
    "start_time": "2022-09-21T04:53:44.527Z"
   },
   {
    "duration": 30,
    "start_time": "2022-09-21T04:53:44.540Z"
   },
   {
    "duration": 4,
    "start_time": "2022-09-21T04:53:44.572Z"
   },
   {
    "duration": 80,
    "start_time": "2022-09-21T04:53:44.578Z"
   },
   {
    "duration": 38,
    "start_time": "2022-09-21T04:53:44.661Z"
   },
   {
    "duration": 45,
    "start_time": "2022-09-21T04:53:44.701Z"
   },
   {
    "duration": 82,
    "start_time": "2022-09-21T04:53:44.748Z"
   },
   {
    "duration": 4,
    "start_time": "2022-09-21T04:53:44.832Z"
   },
   {
    "duration": 9,
    "start_time": "2022-09-21T04:53:44.838Z"
   },
   {
    "duration": 10,
    "start_time": "2022-09-21T04:53:44.848Z"
   },
   {
    "duration": 33,
    "start_time": "2022-09-21T04:53:44.860Z"
   },
   {
    "duration": 31,
    "start_time": "2022-09-21T04:53:44.895Z"
   },
   {
    "duration": 13,
    "start_time": "2022-09-21T04:53:44.927Z"
   },
   {
    "duration": 6,
    "start_time": "2022-09-21T04:53:44.941Z"
   },
   {
    "duration": 12,
    "start_time": "2022-09-21T04:53:44.949Z"
   },
   {
    "duration": 12,
    "start_time": "2022-09-21T04:53:44.963Z"
   },
   {
    "duration": 102,
    "start_time": "2022-09-21T04:53:44.977Z"
   },
   {
    "duration": 3,
    "start_time": "2022-09-21T04:53:45.081Z"
   },
   {
    "duration": 37,
    "start_time": "2022-09-21T04:53:45.086Z"
   },
   {
    "duration": 5,
    "start_time": "2022-09-21T04:53:45.125Z"
   },
   {
    "duration": 48,
    "start_time": "2022-09-21T04:53:45.132Z"
   },
   {
    "duration": 85,
    "start_time": "2022-09-21T04:53:45.182Z"
   },
   {
    "duration": 75,
    "start_time": "2022-09-21T04:53:45.269Z"
   },
   {
    "duration": 181,
    "start_time": "2022-09-21T04:53:45.346Z"
   },
   {
    "duration": 28,
    "start_time": "2022-09-21T04:53:45.529Z"
   },
   {
    "duration": 111,
    "start_time": "2022-09-21T04:53:45.559Z"
   },
   {
    "duration": 248,
    "start_time": "2022-09-21T04:53:45.675Z"
   },
   {
    "duration": 9,
    "start_time": "2022-09-21T04:53:45.925Z"
   },
   {
    "duration": 62,
    "start_time": "2022-09-21T04:53:45.936Z"
   },
   {
    "duration": 166,
    "start_time": "2022-09-21T04:53:46.001Z"
   },
   {
    "duration": 222,
    "start_time": "2022-09-21T04:53:46.169Z"
   },
   {
    "duration": 156,
    "start_time": "2022-09-21T04:53:46.393Z"
   },
   {
    "duration": 148,
    "start_time": "2022-09-21T04:53:46.551Z"
   },
   {
    "duration": 6,
    "start_time": "2022-09-21T04:53:46.701Z"
   },
   {
    "duration": 25,
    "start_time": "2022-09-21T04:53:46.721Z"
   },
   {
    "duration": 8,
    "start_time": "2022-09-21T04:53:46.748Z"
   },
   {
    "duration": 11,
    "start_time": "2022-09-21T04:53:46.757Z"
   },
   {
    "duration": 9,
    "start_time": "2022-09-21T04:53:46.770Z"
   },
   {
    "duration": 644,
    "start_time": "2022-09-21T04:53:46.781Z"
   },
   {
    "duration": 569,
    "start_time": "2022-09-21T04:53:47.427Z"
   },
   {
    "duration": 596,
    "start_time": "2022-09-21T04:53:47.998Z"
   },
   {
    "duration": 880,
    "start_time": "2022-09-21T04:53:48.596Z"
   },
   {
    "duration": 981,
    "start_time": "2022-09-21T04:53:49.478Z"
   },
   {
    "duration": 919,
    "start_time": "2022-09-21T04:53:50.461Z"
   },
   {
    "duration": 927,
    "start_time": "2022-09-21T04:53:51.382Z"
   },
   {
    "duration": 32,
    "start_time": "2022-09-21T04:53:52.311Z"
   },
   {
    "duration": 12,
    "start_time": "2022-09-21T04:53:52.345Z"
   },
   {
    "duration": 99,
    "start_time": "2022-09-21T04:53:52.359Z"
   },
   {
    "duration": 13,
    "start_time": "2022-09-21T04:54:03.441Z"
   },
   {
    "duration": 16,
    "start_time": "2022-09-21T04:54:14.753Z"
   },
   {
    "duration": 129,
    "start_time": "2022-09-21T04:54:15.872Z"
   },
   {
    "duration": 13,
    "start_time": "2022-09-21T04:54:18.084Z"
   },
   {
    "duration": 98,
    "start_time": "2022-09-21T04:54:19.075Z"
   },
   {
    "duration": 21,
    "start_time": "2022-09-21T04:54:19.493Z"
   },
   {
    "duration": 4,
    "start_time": "2022-09-21T04:54:39.614Z"
   },
   {
    "duration": 22,
    "start_time": "2022-09-21T04:54:42.242Z"
   },
   {
    "duration": 17,
    "start_time": "2022-09-21T04:54:51.332Z"
   },
   {
    "duration": 2,
    "start_time": "2022-09-21T04:55:03.694Z"
   },
   {
    "duration": 1291,
    "start_time": "2022-09-21T04:57:03.221Z"
   },
   {
    "duration": 266,
    "start_time": "2022-09-21T04:57:04.514Z"
   },
   {
    "duration": 2,
    "start_time": "2022-09-21T04:57:04.782Z"
   },
   {
    "duration": 10,
    "start_time": "2022-09-21T04:57:04.786Z"
   },
   {
    "duration": 13,
    "start_time": "2022-09-21T04:57:04.798Z"
   },
   {
    "duration": 15,
    "start_time": "2022-09-21T04:57:04.812Z"
   },
   {
    "duration": 13,
    "start_time": "2022-09-21T04:57:04.830Z"
   },
   {
    "duration": 15,
    "start_time": "2022-09-21T04:57:04.845Z"
   },
   {
    "duration": 7,
    "start_time": "2022-09-21T04:57:04.862Z"
   },
   {
    "duration": 27,
    "start_time": "2022-09-21T04:57:04.871Z"
   },
   {
    "duration": 36,
    "start_time": "2022-09-21T04:57:04.900Z"
   },
   {
    "duration": 34,
    "start_time": "2022-09-21T04:57:04.938Z"
   },
   {
    "duration": 59,
    "start_time": "2022-09-21T04:57:04.974Z"
   },
   {
    "duration": 8,
    "start_time": "2022-09-21T04:57:05.036Z"
   },
   {
    "duration": 21,
    "start_time": "2022-09-21T04:57:05.046Z"
   },
   {
    "duration": 22,
    "start_time": "2022-09-21T04:57:05.068Z"
   },
   {
    "duration": 4,
    "start_time": "2022-09-21T04:57:05.092Z"
   },
   {
    "duration": 72,
    "start_time": "2022-09-21T04:57:05.098Z"
   },
   {
    "duration": 35,
    "start_time": "2022-09-21T04:57:05.171Z"
   },
   {
    "duration": 45,
    "start_time": "2022-09-21T04:57:05.208Z"
   },
   {
    "duration": 82,
    "start_time": "2022-09-21T04:57:05.255Z"
   },
   {
    "duration": 4,
    "start_time": "2022-09-21T04:57:05.339Z"
   },
   {
    "duration": 11,
    "start_time": "2022-09-21T04:57:05.345Z"
   },
   {
    "duration": 11,
    "start_time": "2022-09-21T04:57:05.358Z"
   },
   {
    "duration": 50,
    "start_time": "2022-09-21T04:57:05.371Z"
   },
   {
    "duration": 9,
    "start_time": "2022-09-21T04:57:05.422Z"
   },
   {
    "duration": 12,
    "start_time": "2022-09-21T04:57:05.432Z"
   },
   {
    "duration": 5,
    "start_time": "2022-09-21T04:57:05.446Z"
   },
   {
    "duration": 26,
    "start_time": "2022-09-21T04:57:05.453Z"
   },
   {
    "duration": 26,
    "start_time": "2022-09-21T04:57:05.481Z"
   },
   {
    "duration": 75,
    "start_time": "2022-09-21T04:57:05.509Z"
   },
   {
    "duration": 3,
    "start_time": "2022-09-21T04:57:05.586Z"
   },
   {
    "duration": 52,
    "start_time": "2022-09-21T04:57:05.590Z"
   },
   {
    "duration": 5,
    "start_time": "2022-09-21T04:57:05.644Z"
   },
   {
    "duration": 50,
    "start_time": "2022-09-21T04:57:05.650Z"
   },
   {
    "duration": 76,
    "start_time": "2022-09-21T04:57:05.702Z"
   },
   {
    "duration": 83,
    "start_time": "2022-09-21T04:57:05.780Z"
   },
   {
    "duration": 186,
    "start_time": "2022-09-21T04:57:05.865Z"
   },
   {
    "duration": 28,
    "start_time": "2022-09-21T04:57:06.053Z"
   },
   {
    "duration": 100,
    "start_time": "2022-09-21T04:57:06.082Z"
   },
   {
    "duration": 243,
    "start_time": "2022-09-21T04:57:06.186Z"
   },
   {
    "duration": 9,
    "start_time": "2022-09-21T04:57:06.431Z"
   },
   {
    "duration": 62,
    "start_time": "2022-09-21T04:57:06.442Z"
   },
   {
    "duration": 163,
    "start_time": "2022-09-21T04:57:06.520Z"
   },
   {
    "duration": 236,
    "start_time": "2022-09-21T04:57:06.685Z"
   },
   {
    "duration": 152,
    "start_time": "2022-09-21T04:57:06.922Z"
   },
   {
    "duration": 147,
    "start_time": "2022-09-21T04:57:07.075Z"
   },
   {
    "duration": 5,
    "start_time": "2022-09-21T04:57:07.224Z"
   },
   {
    "duration": 25,
    "start_time": "2022-09-21T04:57:07.231Z"
   },
   {
    "duration": 7,
    "start_time": "2022-09-21T04:57:07.258Z"
   },
   {
    "duration": 10,
    "start_time": "2022-09-21T04:57:07.267Z"
   },
   {
    "duration": 9,
    "start_time": "2022-09-21T04:57:07.279Z"
   },
   {
    "duration": 582,
    "start_time": "2022-09-21T04:57:07.321Z"
   },
   {
    "duration": 562,
    "start_time": "2022-09-21T04:57:07.905Z"
   },
   {
    "duration": 566,
    "start_time": "2022-09-21T04:57:08.469Z"
   },
   {
    "duration": 798,
    "start_time": "2022-09-21T04:57:09.038Z"
   },
   {
    "duration": 905,
    "start_time": "2022-09-21T04:57:09.838Z"
   },
   {
    "duration": 948,
    "start_time": "2022-09-21T04:57:10.745Z"
   },
   {
    "duration": 903,
    "start_time": "2022-09-21T04:57:11.694Z"
   },
   {
    "duration": 36,
    "start_time": "2022-09-21T04:57:12.599Z"
   },
   {
    "duration": 93,
    "start_time": "2022-09-21T04:57:12.637Z"
   },
   {
    "duration": 88,
    "start_time": "2022-09-21T04:57:12.732Z"
   },
   {
    "duration": 180,
    "start_time": "2022-09-21T04:57:15.233Z"
   },
   {
    "duration": 19,
    "start_time": "2022-09-21T04:57:18.723Z"
   },
   {
    "duration": 110,
    "start_time": "2022-09-21T04:57:54.726Z"
   },
   {
    "duration": 176,
    "start_time": "2022-09-21T04:57:57.889Z"
   },
   {
    "duration": 846,
    "start_time": "2022-09-21T04:57:58.118Z"
   },
   {
    "duration": 895,
    "start_time": "2022-09-21T04:58:46.618Z"
   },
   {
    "duration": 1326,
    "start_time": "2022-09-21T04:59:21.386Z"
   },
   {
    "duration": 265,
    "start_time": "2022-09-21T04:59:22.715Z"
   },
   {
    "duration": 2,
    "start_time": "2022-09-21T04:59:22.982Z"
   },
   {
    "duration": 9,
    "start_time": "2022-09-21T04:59:22.987Z"
   },
   {
    "duration": 10,
    "start_time": "2022-09-21T04:59:22.997Z"
   },
   {
    "duration": 16,
    "start_time": "2022-09-21T04:59:23.008Z"
   },
   {
    "duration": 13,
    "start_time": "2022-09-21T04:59:23.025Z"
   },
   {
    "duration": 10,
    "start_time": "2022-09-21T04:59:23.040Z"
   },
   {
    "duration": 7,
    "start_time": "2022-09-21T04:59:23.051Z"
   },
   {
    "duration": 23,
    "start_time": "2022-09-21T04:59:23.059Z"
   },
   {
    "duration": 53,
    "start_time": "2022-09-21T04:59:23.084Z"
   },
   {
    "duration": 34,
    "start_time": "2022-09-21T04:59:23.139Z"
   },
   {
    "duration": 63,
    "start_time": "2022-09-21T04:59:23.176Z"
   },
   {
    "duration": 7,
    "start_time": "2022-09-21T04:59:23.240Z"
   },
   {
    "duration": 12,
    "start_time": "2022-09-21T04:59:23.249Z"
   },
   {
    "duration": 21,
    "start_time": "2022-09-21T04:59:23.262Z"
   },
   {
    "duration": 3,
    "start_time": "2022-09-21T04:59:23.285Z"
   },
   {
    "duration": 74,
    "start_time": "2022-09-21T04:59:23.290Z"
   },
   {
    "duration": 34,
    "start_time": "2022-09-21T04:59:23.366Z"
   },
   {
    "duration": 45,
    "start_time": "2022-09-21T04:59:23.402Z"
   },
   {
    "duration": 74,
    "start_time": "2022-09-21T04:59:23.449Z"
   },
   {
    "duration": 4,
    "start_time": "2022-09-21T04:59:23.525Z"
   },
   {
    "duration": 8,
    "start_time": "2022-09-21T04:59:23.531Z"
   },
   {
    "duration": 15,
    "start_time": "2022-09-21T04:59:23.541Z"
   },
   {
    "duration": 35,
    "start_time": "2022-09-21T04:59:23.557Z"
   },
   {
    "duration": 9,
    "start_time": "2022-09-21T04:59:23.594Z"
   },
   {
    "duration": 10,
    "start_time": "2022-09-21T04:59:23.621Z"
   },
   {
    "duration": 5,
    "start_time": "2022-09-21T04:59:23.633Z"
   },
   {
    "duration": 10,
    "start_time": "2022-09-21T04:59:23.639Z"
   },
   {
    "duration": 13,
    "start_time": "2022-09-21T04:59:23.651Z"
   },
   {
    "duration": 101,
    "start_time": "2022-09-21T04:59:23.666Z"
   },
   {
    "duration": 3,
    "start_time": "2022-09-21T04:59:23.769Z"
   },
   {
    "duration": 24,
    "start_time": "2022-09-21T04:59:23.774Z"
   },
   {
    "duration": 19,
    "start_time": "2022-09-21T04:59:23.800Z"
   },
   {
    "duration": 41,
    "start_time": "2022-09-21T04:59:23.822Z"
   },
   {
    "duration": 96,
    "start_time": "2022-09-21T04:59:23.865Z"
   },
   {
    "duration": 75,
    "start_time": "2022-09-21T04:59:23.963Z"
   },
   {
    "duration": 182,
    "start_time": "2022-09-21T04:59:24.040Z"
   },
   {
    "duration": 28,
    "start_time": "2022-09-21T04:59:24.224Z"
   },
   {
    "duration": 100,
    "start_time": "2022-09-21T04:59:24.256Z"
   },
   {
    "duration": 242,
    "start_time": "2022-09-21T04:59:24.357Z"
   },
   {
    "duration": 8,
    "start_time": "2022-09-21T04:59:24.601Z"
   },
   {
    "duration": 62,
    "start_time": "2022-09-21T04:59:24.621Z"
   },
   {
    "duration": 150,
    "start_time": "2022-09-21T04:59:24.685Z"
   },
   {
    "duration": 215,
    "start_time": "2022-09-21T04:59:24.836Z"
   },
   {
    "duration": 155,
    "start_time": "2022-09-21T04:59:25.053Z"
   },
   {
    "duration": 147,
    "start_time": "2022-09-21T04:59:25.209Z"
   },
   {
    "duration": 5,
    "start_time": "2022-09-21T04:59:25.358Z"
   },
   {
    "duration": 28,
    "start_time": "2022-09-21T04:59:25.365Z"
   },
   {
    "duration": 26,
    "start_time": "2022-09-21T04:59:25.394Z"
   },
   {
    "duration": 8,
    "start_time": "2022-09-21T04:59:25.423Z"
   },
   {
    "duration": 11,
    "start_time": "2022-09-21T04:59:25.432Z"
   },
   {
    "duration": 576,
    "start_time": "2022-09-21T04:59:25.444Z"
   },
   {
    "duration": 573,
    "start_time": "2022-09-21T04:59:26.023Z"
   },
   {
    "duration": 556,
    "start_time": "2022-09-21T04:59:26.598Z"
   },
   {
    "duration": 802,
    "start_time": "2022-09-21T04:59:27.157Z"
   },
   {
    "duration": 1003,
    "start_time": "2022-09-21T04:59:27.960Z"
   },
   {
    "duration": 1012,
    "start_time": "2022-09-21T04:59:28.965Z"
   },
   {
    "duration": 916,
    "start_time": "2022-09-21T04:59:29.979Z"
   },
   {
    "duration": 37,
    "start_time": "2022-09-21T04:59:30.896Z"
   },
   {
    "duration": 85,
    "start_time": "2022-09-21T04:59:30.935Z"
   },
   {
    "duration": 85,
    "start_time": "2022-09-21T04:59:31.022Z"
   },
   {
    "duration": 211,
    "start_time": "2022-09-21T04:59:31.120Z"
   },
   {
    "duration": 806,
    "start_time": "2022-09-21T04:59:31.333Z"
   },
   {
    "duration": 870,
    "start_time": "2022-09-21T04:59:32.141Z"
   },
   {
    "duration": 845,
    "start_time": "2022-09-21T04:59:33.013Z"
   },
   {
    "duration": 839,
    "start_time": "2022-09-21T04:59:33.859Z"
   },
   {
    "duration": 115,
    "start_time": "2022-09-21T05:24:05.655Z"
   },
   {
    "duration": 1226,
    "start_time": "2022-09-21T05:24:49.854Z"
   },
   {
    "duration": 271,
    "start_time": "2022-09-21T05:24:51.081Z"
   },
   {
    "duration": 3,
    "start_time": "2022-09-21T05:24:51.353Z"
   },
   {
    "duration": 12,
    "start_time": "2022-09-21T05:24:51.358Z"
   },
   {
    "duration": 10,
    "start_time": "2022-09-21T05:24:51.371Z"
   },
   {
    "duration": 10,
    "start_time": "2022-09-21T05:24:51.382Z"
   },
   {
    "duration": 12,
    "start_time": "2022-09-21T05:24:51.394Z"
   },
   {
    "duration": 7,
    "start_time": "2022-09-21T05:24:51.408Z"
   },
   {
    "duration": 10,
    "start_time": "2022-09-21T05:24:51.417Z"
   },
   {
    "duration": 22,
    "start_time": "2022-09-21T05:24:51.429Z"
   },
   {
    "duration": 34,
    "start_time": "2022-09-21T05:24:51.453Z"
   },
   {
    "duration": 50,
    "start_time": "2022-09-21T05:24:51.489Z"
   },
   {
    "duration": 43,
    "start_time": "2022-09-21T05:24:51.542Z"
   },
   {
    "duration": 7,
    "start_time": "2022-09-21T05:24:51.586Z"
   },
   {
    "duration": 7,
    "start_time": "2022-09-21T05:24:51.621Z"
   },
   {
    "duration": 39,
    "start_time": "2022-09-21T05:24:51.629Z"
   },
   {
    "duration": 4,
    "start_time": "2022-09-21T05:24:51.669Z"
   },
   {
    "duration": 51,
    "start_time": "2022-09-21T05:24:51.675Z"
   },
   {
    "duration": 34,
    "start_time": "2022-09-21T05:24:51.728Z"
   },
   {
    "duration": 34,
    "start_time": "2022-09-21T05:24:51.764Z"
   },
   {
    "duration": 87,
    "start_time": "2022-09-21T05:24:51.800Z"
   },
   {
    "duration": 3,
    "start_time": "2022-09-21T05:24:51.889Z"
   },
   {
    "duration": 26,
    "start_time": "2022-09-21T05:24:51.894Z"
   },
   {
    "duration": 8,
    "start_time": "2022-09-21T05:24:51.922Z"
   },
   {
    "duration": 53,
    "start_time": "2022-09-21T05:24:51.932Z"
   },
   {
    "duration": 10,
    "start_time": "2022-09-21T05:24:51.987Z"
   },
   {
    "duration": 13,
    "start_time": "2022-09-21T05:24:51.999Z"
   },
   {
    "duration": 8,
    "start_time": "2022-09-21T05:24:52.014Z"
   },
   {
    "duration": 15,
    "start_time": "2022-09-21T05:24:52.024Z"
   },
   {
    "duration": 26,
    "start_time": "2022-09-21T05:24:52.041Z"
   },
   {
    "duration": 81,
    "start_time": "2022-09-21T05:24:52.069Z"
   },
   {
    "duration": 3,
    "start_time": "2022-09-21T05:24:52.152Z"
   },
   {
    "duration": 33,
    "start_time": "2022-09-21T05:24:52.156Z"
   },
   {
    "duration": 5,
    "start_time": "2022-09-21T05:24:52.190Z"
   },
   {
    "duration": 54,
    "start_time": "2022-09-21T05:24:52.197Z"
   },
   {
    "duration": 74,
    "start_time": "2022-09-21T05:24:52.253Z"
   },
   {
    "duration": 69,
    "start_time": "2022-09-21T05:24:52.329Z"
   },
   {
    "duration": 190,
    "start_time": "2022-09-21T05:24:52.400Z"
   },
   {
    "duration": 39,
    "start_time": "2022-09-21T05:24:52.592Z"
   },
   {
    "duration": 108,
    "start_time": "2022-09-21T05:24:52.635Z"
   },
   {
    "duration": 246,
    "start_time": "2022-09-21T05:24:52.746Z"
   },
   {
    "duration": 9,
    "start_time": "2022-09-21T05:24:52.994Z"
   },
   {
    "duration": 72,
    "start_time": "2022-09-21T05:24:53.005Z"
   },
   {
    "duration": 146,
    "start_time": "2022-09-21T05:24:53.078Z"
   },
   {
    "duration": 224,
    "start_time": "2022-09-21T05:24:53.225Z"
   },
   {
    "duration": 155,
    "start_time": "2022-09-21T05:24:53.451Z"
   },
   {
    "duration": 150,
    "start_time": "2022-09-21T05:24:53.608Z"
   },
   {
    "duration": 5,
    "start_time": "2022-09-21T05:24:53.760Z"
   },
   {
    "duration": 27,
    "start_time": "2022-09-21T05:24:53.767Z"
   },
   {
    "duration": 26,
    "start_time": "2022-09-21T05:24:53.795Z"
   },
   {
    "duration": 10,
    "start_time": "2022-09-21T05:24:53.823Z"
   },
   {
    "duration": 8,
    "start_time": "2022-09-21T05:24:53.835Z"
   },
   {
    "duration": 593,
    "start_time": "2022-09-21T05:24:53.845Z"
   },
   {
    "duration": 557,
    "start_time": "2022-09-21T05:24:54.440Z"
   },
   {
    "duration": 600,
    "start_time": "2022-09-21T05:24:54.999Z"
   },
   {
    "duration": 844,
    "start_time": "2022-09-21T05:24:55.601Z"
   },
   {
    "duration": 913,
    "start_time": "2022-09-21T05:24:56.446Z"
   },
   {
    "duration": 908,
    "start_time": "2022-09-21T05:24:57.361Z"
   },
   {
    "duration": 978,
    "start_time": "2022-09-21T05:24:58.271Z"
   },
   {
    "duration": 30,
    "start_time": "2022-09-21T05:24:59.251Z"
   },
   {
    "duration": 91,
    "start_time": "2022-09-21T05:24:59.283Z"
   },
   {
    "duration": 90,
    "start_time": "2022-09-21T05:24:59.376Z"
   },
   {
    "duration": 196,
    "start_time": "2022-09-21T05:24:59.468Z"
   },
   {
    "duration": 834,
    "start_time": "2022-09-21T05:24:59.666Z"
   },
   {
    "duration": 904,
    "start_time": "2022-09-21T05:25:00.502Z"
   },
   {
    "duration": 869,
    "start_time": "2022-09-21T05:25:01.408Z"
   },
   {
    "duration": 924,
    "start_time": "2022-09-21T05:25:02.279Z"
   },
   {
    "duration": 259,
    "start_time": "2022-09-21T09:50:55.406Z"
   },
   {
    "duration": 168,
    "start_time": "2022-09-21T09:51:05.513Z"
   },
   {
    "duration": 276,
    "start_time": "2022-09-21T09:52:40.517Z"
   },
   {
    "duration": 1317,
    "start_time": "2022-09-21T09:53:25.750Z"
   },
   {
    "duration": 276,
    "start_time": "2022-09-21T09:53:27.070Z"
   },
   {
    "duration": 7,
    "start_time": "2022-09-21T09:53:27.348Z"
   },
   {
    "duration": 10,
    "start_time": "2022-09-21T09:53:27.358Z"
   },
   {
    "duration": 9,
    "start_time": "2022-09-21T09:53:27.369Z"
   },
   {
    "duration": 11,
    "start_time": "2022-09-21T09:53:27.380Z"
   },
   {
    "duration": 18,
    "start_time": "2022-09-21T09:53:27.393Z"
   },
   {
    "duration": 12,
    "start_time": "2022-09-21T09:53:27.414Z"
   },
   {
    "duration": 28,
    "start_time": "2022-09-21T09:53:27.428Z"
   },
   {
    "duration": 33,
    "start_time": "2022-09-21T09:53:27.459Z"
   },
   {
    "duration": 48,
    "start_time": "2022-09-21T09:53:27.494Z"
   },
   {
    "duration": 42,
    "start_time": "2022-09-21T09:53:27.543Z"
   },
   {
    "duration": 34,
    "start_time": "2022-09-21T09:53:27.587Z"
   },
   {
    "duration": 7,
    "start_time": "2022-09-21T09:53:27.623Z"
   },
   {
    "duration": 23,
    "start_time": "2022-09-21T09:53:27.631Z"
   },
   {
    "duration": 4,
    "start_time": "2022-09-21T09:53:27.656Z"
   },
   {
    "duration": 77,
    "start_time": "2022-09-21T09:53:27.661Z"
   },
   {
    "duration": 39,
    "start_time": "2022-09-21T09:53:27.740Z"
   },
   {
    "duration": 62,
    "start_time": "2022-09-21T09:53:27.781Z"
   },
   {
    "duration": 98,
    "start_time": "2022-09-21T09:53:27.845Z"
   },
   {
    "duration": 4,
    "start_time": "2022-09-21T09:53:27.945Z"
   },
   {
    "duration": 11,
    "start_time": "2022-09-21T09:53:27.951Z"
   },
   {
    "duration": 11,
    "start_time": "2022-09-21T09:53:27.965Z"
   },
   {
    "duration": 56,
    "start_time": "2022-09-21T09:53:27.978Z"
   },
   {
    "duration": 8,
    "start_time": "2022-09-21T09:53:28.036Z"
   },
   {
    "duration": 25,
    "start_time": "2022-09-21T09:53:28.046Z"
   },
   {
    "duration": 10,
    "start_time": "2022-09-21T09:53:28.073Z"
   },
   {
    "duration": 20,
    "start_time": "2022-09-21T09:53:28.089Z"
   },
   {
    "duration": 18,
    "start_time": "2022-09-21T09:53:28.111Z"
   },
   {
    "duration": 78,
    "start_time": "2022-09-21T09:53:28.131Z"
   },
   {
    "duration": 3,
    "start_time": "2022-09-21T09:53:28.211Z"
   },
   {
    "duration": 59,
    "start_time": "2022-09-21T09:53:28.221Z"
   },
   {
    "duration": 6,
    "start_time": "2022-09-21T09:53:28.283Z"
   },
   {
    "duration": 60,
    "start_time": "2022-09-21T09:53:28.291Z"
   },
   {
    "duration": 82,
    "start_time": "2022-09-21T09:53:28.353Z"
   },
   {
    "duration": 72,
    "start_time": "2022-09-21T09:53:28.437Z"
   },
   {
    "duration": 197,
    "start_time": "2022-09-21T09:53:28.511Z"
   },
   {
    "duration": 32,
    "start_time": "2022-09-21T09:53:28.711Z"
   },
   {
    "duration": 111,
    "start_time": "2022-09-21T09:53:28.745Z"
   },
   {
    "duration": 391,
    "start_time": "2022-09-21T09:53:28.861Z"
   },
   {
    "duration": 9,
    "start_time": "2022-09-21T09:53:29.254Z"
   },
   {
    "duration": 83,
    "start_time": "2022-09-21T09:53:29.265Z"
   },
   {
    "duration": 148,
    "start_time": "2022-09-21T09:53:29.350Z"
   },
   {
    "duration": 226,
    "start_time": "2022-09-21T09:53:29.500Z"
   },
   {
    "duration": 177,
    "start_time": "2022-09-21T09:53:29.728Z"
   },
   {
    "duration": 165,
    "start_time": "2022-09-21T09:53:29.910Z"
   },
   {
    "duration": 7,
    "start_time": "2022-09-21T09:53:30.077Z"
   },
   {
    "duration": 62,
    "start_time": "2022-09-21T09:53:30.086Z"
   },
   {
    "duration": 18,
    "start_time": "2022-09-21T09:53:30.150Z"
   },
   {
    "duration": 42,
    "start_time": "2022-09-21T09:53:30.171Z"
   },
   {
    "duration": 50,
    "start_time": "2022-09-21T09:53:30.215Z"
   },
   {
    "duration": 646,
    "start_time": "2022-09-21T09:53:30.267Z"
   },
   {
    "duration": 588,
    "start_time": "2022-09-21T09:53:30.921Z"
   },
   {
    "duration": 602,
    "start_time": "2022-09-21T09:53:31.521Z"
   },
   {
    "duration": 860,
    "start_time": "2022-09-21T09:53:32.125Z"
   },
   {
    "duration": 987,
    "start_time": "2022-09-21T09:53:32.988Z"
   },
   {
    "duration": 1007,
    "start_time": "2022-09-21T09:53:33.977Z"
   },
   {
    "duration": 1025,
    "start_time": "2022-09-21T09:53:34.987Z"
   },
   {
    "duration": 38,
    "start_time": "2022-09-21T09:53:36.014Z"
   },
   {
    "duration": 100,
    "start_time": "2022-09-21T09:53:36.053Z"
   },
   {
    "duration": 104,
    "start_time": "2022-09-21T09:53:36.155Z"
   },
   {
    "duration": 208,
    "start_time": "2022-09-21T09:53:36.261Z"
   },
   {
    "duration": 811,
    "start_time": "2022-09-21T09:53:36.471Z"
   },
   {
    "duration": 945,
    "start_time": "2022-09-21T09:53:37.285Z"
   },
   {
    "duration": 904,
    "start_time": "2022-09-21T09:53:38.232Z"
   },
   {
    "duration": 950,
    "start_time": "2022-09-21T09:53:39.138Z"
   },
   {
    "duration": 1371,
    "start_time": "2022-09-21T17:25:52.657Z"
   },
   {
    "duration": 659,
    "start_time": "2022-09-21T17:25:54.030Z"
   },
   {
    "duration": 7,
    "start_time": "2022-09-21T17:25:54.690Z"
   },
   {
    "duration": 15,
    "start_time": "2022-09-21T17:25:54.698Z"
   },
   {
    "duration": 17,
    "start_time": "2022-09-21T17:25:54.715Z"
   },
   {
    "duration": 8,
    "start_time": "2022-09-21T17:25:54.734Z"
   },
   {
    "duration": 8,
    "start_time": "2022-09-21T17:25:54.744Z"
   },
   {
    "duration": 5,
    "start_time": "2022-09-21T17:25:54.754Z"
   },
   {
    "duration": 15,
    "start_time": "2022-09-21T17:25:54.760Z"
   },
   {
    "duration": 34,
    "start_time": "2022-09-21T17:25:54.777Z"
   },
   {
    "duration": 33,
    "start_time": "2022-09-21T17:25:54.813Z"
   },
   {
    "duration": 52,
    "start_time": "2022-09-21T17:25:54.848Z"
   },
   {
    "duration": 9,
    "start_time": "2022-09-21T17:25:54.901Z"
   },
   {
    "duration": 21,
    "start_time": "2022-09-21T17:25:54.914Z"
   },
   {
    "duration": 24,
    "start_time": "2022-09-21T17:25:54.936Z"
   },
   {
    "duration": 13,
    "start_time": "2022-09-21T17:25:54.962Z"
   },
   {
    "duration": 53,
    "start_time": "2022-09-21T17:25:54.976Z"
   },
   {
    "duration": 30,
    "start_time": "2022-09-21T17:25:55.031Z"
   },
   {
    "duration": 37,
    "start_time": "2022-09-21T17:25:55.063Z"
   },
   {
    "duration": 63,
    "start_time": "2022-09-21T17:25:55.102Z"
   },
   {
    "duration": 3,
    "start_time": "2022-09-21T17:25:55.166Z"
   },
   {
    "duration": 7,
    "start_time": "2022-09-21T17:25:55.171Z"
   },
   {
    "duration": 24,
    "start_time": "2022-09-21T17:25:55.180Z"
   },
   {
    "duration": 30,
    "start_time": "2022-09-21T17:25:55.205Z"
   },
   {
    "duration": 8,
    "start_time": "2022-09-21T17:25:55.236Z"
   },
   {
    "duration": 11,
    "start_time": "2022-09-21T17:25:55.245Z"
   },
   {
    "duration": 5,
    "start_time": "2022-09-21T17:25:55.257Z"
   },
   {
    "duration": 8,
    "start_time": "2022-09-21T17:25:55.263Z"
   },
   {
    "duration": 38,
    "start_time": "2022-09-21T17:25:55.273Z"
   },
   {
    "duration": 71,
    "start_time": "2022-09-21T17:25:55.313Z"
   },
   {
    "duration": 3,
    "start_time": "2022-09-21T17:25:55.386Z"
   },
   {
    "duration": 31,
    "start_time": "2022-09-21T17:25:55.390Z"
   },
   {
    "duration": 6,
    "start_time": "2022-09-21T17:25:55.423Z"
   },
   {
    "duration": 41,
    "start_time": "2022-09-21T17:25:55.431Z"
   },
   {
    "duration": 85,
    "start_time": "2022-09-21T17:25:55.474Z"
   },
   {
    "duration": 75,
    "start_time": "2022-09-21T17:25:55.561Z"
   },
   {
    "duration": 168,
    "start_time": "2022-09-21T17:25:55.638Z"
   },
   {
    "duration": 30,
    "start_time": "2022-09-21T17:25:55.808Z"
   },
   {
    "duration": 90,
    "start_time": "2022-09-21T17:25:55.840Z"
   },
   {
    "duration": 219,
    "start_time": "2022-09-21T17:25:55.931Z"
   },
   {
    "duration": 7,
    "start_time": "2022-09-21T17:25:56.153Z"
   },
   {
    "duration": 62,
    "start_time": "2022-09-21T17:25:56.162Z"
   },
   {
    "duration": 196,
    "start_time": "2022-09-21T17:25:56.226Z"
   },
   {
    "duration": 126,
    "start_time": "2022-09-21T17:25:56.425Z"
   },
   {
    "duration": 145,
    "start_time": "2022-09-21T17:25:56.553Z"
   },
   {
    "duration": 131,
    "start_time": "2022-09-21T17:25:56.699Z"
   },
   {
    "duration": 4,
    "start_time": "2022-09-21T17:25:56.832Z"
   },
   {
    "duration": 22,
    "start_time": "2022-09-21T17:25:56.837Z"
   },
   {
    "duration": 7,
    "start_time": "2022-09-21T17:25:56.860Z"
   },
   {
    "duration": 6,
    "start_time": "2022-09-21T17:25:56.868Z"
   },
   {
    "duration": 26,
    "start_time": "2022-09-21T17:25:56.876Z"
   },
   {
    "duration": 607,
    "start_time": "2022-09-21T17:25:56.904Z"
   },
   {
    "duration": 538,
    "start_time": "2022-09-21T17:25:57.513Z"
   },
   {
    "duration": 515,
    "start_time": "2022-09-21T17:25:58.053Z"
   },
   {
    "duration": 734,
    "start_time": "2022-09-21T17:25:58.570Z"
   },
   {
    "duration": 868,
    "start_time": "2022-09-21T17:25:59.307Z"
   },
   {
    "duration": 850,
    "start_time": "2022-09-21T17:26:00.177Z"
   },
   {
    "duration": 847,
    "start_time": "2022-09-21T17:26:01.028Z"
   },
   {
    "duration": 34,
    "start_time": "2022-09-21T17:26:01.877Z"
   },
   {
    "duration": 68,
    "start_time": "2022-09-21T17:26:01.912Z"
   },
   {
    "duration": 87,
    "start_time": "2022-09-21T17:26:01.982Z"
   },
   {
    "duration": 177,
    "start_time": "2022-09-21T17:26:02.071Z"
   },
   {
    "duration": 645,
    "start_time": "2022-09-21T17:26:02.249Z"
   },
   {
    "duration": 865,
    "start_time": "2022-09-21T17:26:02.896Z"
   },
   {
    "duration": 789,
    "start_time": "2022-09-21T17:26:03.763Z"
   },
   {
    "duration": 894,
    "start_time": "2022-09-21T17:26:04.554Z"
   },
   {
    "duration": 52,
    "start_time": "2022-11-02T17:12:22.424Z"
   },
   {
    "duration": 1561,
    "start_time": "2022-11-02T17:12:28.493Z"
   },
   {
    "duration": 875,
    "start_time": "2022-11-02T17:12:30.057Z"
   },
   {
    "duration": 7,
    "start_time": "2022-11-02T17:12:30.934Z"
   },
   {
    "duration": 41,
    "start_time": "2022-11-02T17:12:30.945Z"
   },
   {
    "duration": 17,
    "start_time": "2022-11-02T17:12:30.988Z"
   },
   {
    "duration": 22,
    "start_time": "2022-11-02T17:12:31.007Z"
   },
   {
    "duration": 33,
    "start_time": "2022-11-02T17:12:31.031Z"
   },
   {
    "duration": 19,
    "start_time": "2022-11-02T17:12:31.066Z"
   },
   {
    "duration": 25,
    "start_time": "2022-11-02T17:12:31.087Z"
   },
   {
    "duration": 57,
    "start_time": "2022-11-02T17:12:31.116Z"
   },
   {
    "duration": 73,
    "start_time": "2022-11-02T17:12:31.175Z"
   },
   {
    "duration": 87,
    "start_time": "2022-11-02T17:12:31.250Z"
   },
   {
    "duration": 27,
    "start_time": "2022-11-02T17:12:31.339Z"
   },
   {
    "duration": 24,
    "start_time": "2022-11-02T17:12:31.368Z"
   },
   {
    "duration": 55,
    "start_time": "2022-11-02T17:12:31.393Z"
   },
   {
    "duration": 5,
    "start_time": "2022-11-02T17:12:31.450Z"
   },
   {
    "duration": 48,
    "start_time": "2022-11-02T17:12:31.457Z"
   },
   {
    "duration": 46,
    "start_time": "2022-11-02T17:12:31.507Z"
   },
   {
    "duration": 35,
    "start_time": "2022-11-02T17:12:31.554Z"
   },
   {
    "duration": 90,
    "start_time": "2022-11-02T17:12:31.590Z"
   },
   {
    "duration": 4,
    "start_time": "2022-11-02T17:12:31.682Z"
   },
   {
    "duration": 10,
    "start_time": "2022-11-02T17:12:31.688Z"
   },
   {
    "duration": 24,
    "start_time": "2022-11-02T17:12:31.700Z"
   },
   {
    "duration": 36,
    "start_time": "2022-11-02T17:12:31.726Z"
   },
   {
    "duration": 12,
    "start_time": "2022-11-02T17:12:31.764Z"
   },
   {
    "duration": 17,
    "start_time": "2022-11-02T17:12:31.781Z"
   },
   {
    "duration": 5,
    "start_time": "2022-11-02T17:12:31.799Z"
   },
   {
    "duration": 27,
    "start_time": "2022-11-02T17:12:31.807Z"
   },
   {
    "duration": 17,
    "start_time": "2022-11-02T17:12:31.836Z"
   },
   {
    "duration": 142,
    "start_time": "2022-11-02T17:12:31.856Z"
   },
   {
    "duration": 3,
    "start_time": "2022-11-02T17:12:32.001Z"
   },
   {
    "duration": 49,
    "start_time": "2022-11-02T17:12:32.007Z"
   },
   {
    "duration": 8,
    "start_time": "2022-11-02T17:12:32.059Z"
   },
   {
    "duration": 66,
    "start_time": "2022-11-02T17:12:32.069Z"
   },
   {
    "duration": 87,
    "start_time": "2022-11-02T17:12:32.137Z"
   },
   {
    "duration": 70,
    "start_time": "2022-11-02T17:12:32.225Z"
   },
   {
    "duration": 198,
    "start_time": "2022-11-02T17:12:32.297Z"
   },
   {
    "duration": 39,
    "start_time": "2022-11-02T17:12:32.497Z"
   },
   {
    "duration": 94,
    "start_time": "2022-11-02T17:12:33.643Z"
   },
   {
    "duration": 218,
    "start_time": "2022-11-02T17:12:35.649Z"
   },
   {
    "duration": 82,
    "start_time": "2022-11-02T17:12:38.392Z"
   },
   {
    "duration": 108,
    "start_time": "2022-11-02T17:12:41.766Z"
   },
   {
    "duration": 87,
    "start_time": "2022-11-02T17:12:45.125Z"
   },
   {
    "duration": 169,
    "start_time": "2022-11-02T17:12:50.275Z"
   },
   {
    "duration": 82,
    "start_time": "2022-11-02T17:12:53.010Z"
   },
   {
    "duration": 146,
    "start_time": "2022-11-02T17:12:57.064Z"
   },
   {
    "duration": 80,
    "start_time": "2022-11-02T17:12:59.676Z"
   },
   {
    "duration": 83,
    "start_time": "2022-11-02T17:13:08.493Z"
   },
   {
    "duration": 10,
    "start_time": "2022-11-02T17:13:56.129Z"
   },
   {
    "duration": 7,
    "start_time": "2022-11-02T17:14:02.577Z"
   },
   {
    "duration": 91,
    "start_time": "2022-11-02T17:15:15.809Z"
   },
   {
    "duration": 82,
    "start_time": "2022-11-02T17:15:22.932Z"
   },
   {
    "duration": 95,
    "start_time": "2022-11-02T17:16:17.751Z"
   }
  ],
  "kernelspec": {
   "display_name": "Python 3 (ipykernel)",
   "language": "python",
   "name": "python3"
  },
  "language_info": {
   "codemirror_mode": {
    "name": "ipython",
    "version": 3
   },
   "file_extension": ".py",
   "mimetype": "text/x-python",
   "name": "python",
   "nbconvert_exporter": "python",
   "pygments_lexer": "ipython3",
   "version": "3.9.5"
  },
  "toc": {
   "base_numbering": 1,
   "nav_menu": {},
   "number_sections": true,
   "sideBar": true,
   "skip_h1_title": true,
   "title_cell": "Table of Contents",
   "title_sidebar": "Contents",
   "toc_cell": false,
   "toc_position": {},
   "toc_section_display": true,
   "toc_window_display": false
  }
 },
 "nbformat": 4,
 "nbformat_minor": 5
}
